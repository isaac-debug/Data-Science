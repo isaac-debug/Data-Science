{
  "cells": [
    {
      "cell_type": "markdown",
      "metadata": {
        "id": "view-in-github",
        "colab_type": "text"
      },
      "source": [
        "<a href=\"https://colab.research.google.com/github/isaac-debug/Data-Science/blob/main/Clustering_Youtube_Comments.ipynb\" target=\"_parent\"><img src=\"https://colab.research.google.com/assets/colab-badge.svg\" alt=\"Open In Colab\"/></a>"
      ]
    },
    {
      "cell_type": "markdown",
      "id": "20a59d90",
      "metadata": {
        "id": "20a59d90"
      },
      "source": [
        "## Loading youtube data"
      ]
    },
    {
      "cell_type": "markdown",
      "id": "356aa003",
      "metadata": {
        "id": "356aa003"
      },
      "source": [
        "### by colab"
      ]
    },
    {
      "cell_type": "code",
      "execution_count": null,
      "id": "70c82b65",
      "metadata": {
        "id": "70c82b65",
        "outputId": "fd1ebb89-4bbe-40cd-d532-e318ca353c38",
        "colab": {
          "base_uri": "https://localhost:8080/",
          "height": 1000
        }
      },
      "outputs": [
        {
          "output_type": "stream",
          "name": "stdout",
          "text": [
            "--2021-12-19 12:18:24--  https://github.com/P4CSS/PSS/blob/master/data/yt-comment-antiELAB.xlsx?raw=true\n",
            "Resolving github.com (github.com)... 52.69.186.44\n",
            "Connecting to github.com (github.com)|52.69.186.44|:443... connected.\n",
            "HTTP request sent, awaiting response... 302 Found\n",
            "Location: https://github.com/P4CSS/PSS/raw/master/data/yt-comment-antiELAB.xlsx [following]\n",
            "--2021-12-19 12:18:24--  https://github.com/P4CSS/PSS/raw/master/data/yt-comment-antiELAB.xlsx\n",
            "Reusing existing connection to github.com:443.\n",
            "HTTP request sent, awaiting response... 302 Found\n",
            "Location: https://raw.githubusercontent.com/P4CSS/PSS/master/data/yt-comment-antiELAB.xlsx [following]\n",
            "--2021-12-19 12:18:25--  https://raw.githubusercontent.com/P4CSS/PSS/master/data/yt-comment-antiELAB.xlsx\n",
            "Resolving raw.githubusercontent.com (raw.githubusercontent.com)... 185.199.109.133, 185.199.111.133, 185.199.108.133, ...\n",
            "Connecting to raw.githubusercontent.com (raw.githubusercontent.com)|185.199.109.133|:443... connected.\n",
            "HTTP request sent, awaiting response... 200 OK\n",
            "Length: 644405 (629K) [application/octet-stream]\n",
            "Saving to: ‘yt-comment-antiELAB.xlsx’\n",
            "\n",
            "yt-comment-antiELAB 100%[===================>] 629.30K  --.-KB/s    in 0.06s   \n",
            "\n",
            "2021-12-19 12:18:25 (11.0 MB/s) - ‘yt-comment-antiELAB.xlsx’ saved [644405/644405]\n",
            "\n"
          ]
        },
        {
          "output_type": "execute_result",
          "data": {
            "text/html": [
              "\n",
              "  <div id=\"df-da79ba10-fd81-4286-84f9-6ee26354b768\">\n",
              "    <div class=\"colab-df-container\">\n",
              "      <div>\n",
              "<style scoped>\n",
              "    .dataframe tbody tr th:only-of-type {\n",
              "        vertical-align: middle;\n",
              "    }\n",
              "\n",
              "    .dataframe tbody tr th {\n",
              "        vertical-align: top;\n",
              "    }\n",
              "\n",
              "    .dataframe thead th {\n",
              "        text-align: right;\n",
              "    }\n",
              "</style>\n",
              "<table border=\"1\" class=\"dataframe\">\n",
              "  <thead>\n",
              "    <tr style=\"text-align: right;\">\n",
              "      <th></th>\n",
              "      <th>videoId</th>\n",
              "      <th>commentId</th>\n",
              "      <th>parentId</th>\n",
              "      <th>authorDisplayName</th>\n",
              "      <th>textOriginal</th>\n",
              "      <th>likeCount</th>\n",
              "      <th>publishedAt</th>\n",
              "      <th>updatedAt</th>\n",
              "    </tr>\n",
              "  </thead>\n",
              "  <tbody>\n",
              "    <tr>\n",
              "      <th>0</th>\n",
              "      <td>2_tXjqhbe5E</td>\n",
              "      <td>UgwQIF9qNqGydjE2NkN4AaABAg</td>\n",
              "      <td>NaN</td>\n",
              "      <td>CHI-HAU CHEN</td>\n",
              "      <td>鄭大哥和吉雷米的互動很可愛，歡迎加入台灣這個溫馨的家庭喔~~~~</td>\n",
              "      <td>19</td>\n",
              "      <td>2020-04-02T01:40:29Z</td>\n",
              "      <td>2020-04-02T01:40:29Z</td>\n",
              "    </tr>\n",
              "    <tr>\n",
              "      <th>1</th>\n",
              "      <td>2_tXjqhbe5E</td>\n",
              "      <td>UgwuP0Jva-U69xTMaEF4AaABAg</td>\n",
              "      <td>NaN</td>\n",
              "      <td>Funky Duck</td>\n",
              "      <td>牛嘴掩.....\\n這高雄老外的台語能力應該比台北人好</td>\n",
              "      <td>1</td>\n",
              "      <td>2020-04-07T04:36:37Z</td>\n",
              "      <td>2020-04-07T04:36:37Z</td>\n",
              "    </tr>\n",
              "    <tr>\n",
              "      <th>2</th>\n",
              "      <td>2_tXjqhbe5E</td>\n",
              "      <td>UgyVlhx36V2XWLOM9MZ4AaABAg</td>\n",
              "      <td>NaN</td>\n",
              "      <td>Ally</td>\n",
              "      <td>Zoom把客戶資料洩給中國，現在紐約市已不讓學生用這系統視訊上課了!</td>\n",
              "      <td>0</td>\n",
              "      <td>2020-04-06T19:54:04Z</td>\n",
              "      <td>2020-04-06T19:54:04Z</td>\n",
              "    </tr>\n",
              "    <tr>\n",
              "      <th>3</th>\n",
              "      <td>2_tXjqhbe5E</td>\n",
              "      <td>Ugz4v7OudQxaDXYyegZ4AaABAg</td>\n",
              "      <td>NaN</td>\n",
              "      <td>Ally</td>\n",
              "      <td>法國人執行居家避疫比起美國比較確實，外出還要有通行證</td>\n",
              "      <td>0</td>\n",
              "      <td>2020-04-06T19:18:24Z</td>\n",
              "      <td>2020-04-06T19:18:24Z</td>\n",
              "    </tr>\n",
              "    <tr>\n",
              "      <th>4</th>\n",
              "      <td>2_tXjqhbe5E</td>\n",
              "      <td>Ugyb-ogACbZWVewnU-94AaABAg</td>\n",
              "      <td>NaN</td>\n",
              "      <td>Kitty Wong</td>\n",
              "      <td>仆街鄭</td>\n",
              "      <td>0</td>\n",
              "      <td>2020-04-06T15:20:34Z</td>\n",
              "      <td>2020-04-06T15:20:34Z</td>\n",
              "    </tr>\n",
              "    <tr>\n",
              "      <th>...</th>\n",
              "      <td>...</td>\n",
              "      <td>...</td>\n",
              "      <td>...</td>\n",
              "      <td>...</td>\n",
              "      <td>...</td>\n",
              "      <td>...</td>\n",
              "      <td>...</td>\n",
              "      <td>...</td>\n",
              "    </tr>\n",
              "    <tr>\n",
              "      <th>7995</th>\n",
              "      <td>ySMAcMAL6rY</td>\n",
              "      <td>UgzU9oD5I6q1qHLzx_B4AaABAg</td>\n",
              "      <td>NaN</td>\n",
              "      <td>nova lee</td>\n",
              "      <td>自己不是會算嗎</td>\n",
              "      <td>1</td>\n",
              "      <td>2019-08-22T04:00:31Z</td>\n",
              "      <td>2019-08-22T04:00:31Z</td>\n",
              "    </tr>\n",
              "    <tr>\n",
              "      <th>7996</th>\n",
              "      <td>zHlhQoT9OF0</td>\n",
              "      <td>Ugz2ff-Be0yCoEUY-Rd4AaABAg</td>\n",
              "      <td>NaN</td>\n",
              "      <td>the world Rock</td>\n",
              "      <td>常德說的真好</td>\n",
              "      <td>3</td>\n",
              "      <td>2020-04-10T03:21:34Z</td>\n",
              "      <td>2020-04-10T03:21:34Z</td>\n",
              "    </tr>\n",
              "    <tr>\n",
              "      <th>7997</th>\n",
              "      <td>zQWzh4yj_g8</td>\n",
              "      <td>Ugwex9I2lZWa-DgeWrx4AaABAg</td>\n",
              "      <td>NaN</td>\n",
              "      <td>Zoe Su</td>\n",
              "      <td>自私的人多的是，水準就和中國人一樣</td>\n",
              "      <td>1</td>\n",
              "      <td>2020-02-12T22:13:24Z</td>\n",
              "      <td>2020-02-12T22:13:24Z</td>\n",
              "    </tr>\n",
              "    <tr>\n",
              "      <th>7998</th>\n",
              "      <td>zQWzh4yj_g8</td>\n",
              "      <td>UgxpokMr9hHK0Ugcvl94AaABAg</td>\n",
              "      <td>NaN</td>\n",
              "      <td>非也非也</td>\n",
              "      <td>人都自私自利的，適者生存，不適者自己想辦法，沒有人會幫的，靠自己最實在</td>\n",
              "      <td>0</td>\n",
              "      <td>2020-02-12T04:53:28Z</td>\n",
              "      <td>2020-02-12T04:53:28Z</td>\n",
              "    </tr>\n",
              "    <tr>\n",
              "      <th>7999</th>\n",
              "      <td>zQWzh4yj_g8</td>\n",
              "      <td>Ugwhiijo6yStMhOZqVB4AaABAg</td>\n",
              "      <td>NaN</td>\n",
              "      <td>你们是愚民</td>\n",
              "      <td>鑽石公主號我們的同胞22人以及留在大陸我們的同胞救回來了沒有，菜英文民進黨更無情，更自私吧！...</td>\n",
              "      <td>0</td>\n",
              "      <td>2020-02-12T04:25:58Z</td>\n",
              "      <td>2020-02-12T04:25:58Z</td>\n",
              "    </tr>\n",
              "  </tbody>\n",
              "</table>\n",
              "<p>8000 rows × 8 columns</p>\n",
              "</div>\n",
              "      <button class=\"colab-df-convert\" onclick=\"convertToInteractive('df-da79ba10-fd81-4286-84f9-6ee26354b768')\"\n",
              "              title=\"Convert this dataframe to an interactive table.\"\n",
              "              style=\"display:none;\">\n",
              "        \n",
              "  <svg xmlns=\"http://www.w3.org/2000/svg\" height=\"24px\"viewBox=\"0 0 24 24\"\n",
              "       width=\"24px\">\n",
              "    <path d=\"M0 0h24v24H0V0z\" fill=\"none\"/>\n",
              "    <path d=\"M18.56 5.44l.94 2.06.94-2.06 2.06-.94-2.06-.94-.94-2.06-.94 2.06-2.06.94zm-11 1L8.5 8.5l.94-2.06 2.06-.94-2.06-.94L8.5 2.5l-.94 2.06-2.06.94zm10 10l.94 2.06.94-2.06 2.06-.94-2.06-.94-.94-2.06-.94 2.06-2.06.94z\"/><path d=\"M17.41 7.96l-1.37-1.37c-.4-.4-.92-.59-1.43-.59-.52 0-1.04.2-1.43.59L10.3 9.45l-7.72 7.72c-.78.78-.78 2.05 0 2.83L4 21.41c.39.39.9.59 1.41.59.51 0 1.02-.2 1.41-.59l7.78-7.78 2.81-2.81c.8-.78.8-2.07 0-2.86zM5.41 20L4 18.59l7.72-7.72 1.47 1.35L5.41 20z\"/>\n",
              "  </svg>\n",
              "      </button>\n",
              "      \n",
              "  <style>\n",
              "    .colab-df-container {\n",
              "      display:flex;\n",
              "      flex-wrap:wrap;\n",
              "      gap: 12px;\n",
              "    }\n",
              "\n",
              "    .colab-df-convert {\n",
              "      background-color: #E8F0FE;\n",
              "      border: none;\n",
              "      border-radius: 50%;\n",
              "      cursor: pointer;\n",
              "      display: none;\n",
              "      fill: #1967D2;\n",
              "      height: 32px;\n",
              "      padding: 0 0 0 0;\n",
              "      width: 32px;\n",
              "    }\n",
              "\n",
              "    .colab-df-convert:hover {\n",
              "      background-color: #E2EBFA;\n",
              "      box-shadow: 0px 1px 2px rgba(60, 64, 67, 0.3), 0px 1px 3px 1px rgba(60, 64, 67, 0.15);\n",
              "      fill: #174EA6;\n",
              "    }\n",
              "\n",
              "    [theme=dark] .colab-df-convert {\n",
              "      background-color: #3B4455;\n",
              "      fill: #D2E3FC;\n",
              "    }\n",
              "\n",
              "    [theme=dark] .colab-df-convert:hover {\n",
              "      background-color: #434B5C;\n",
              "      box-shadow: 0px 1px 3px 1px rgba(0, 0, 0, 0.15);\n",
              "      filter: drop-shadow(0px 1px 2px rgba(0, 0, 0, 0.3));\n",
              "      fill: #FFFFFF;\n",
              "    }\n",
              "  </style>\n",
              "\n",
              "      <script>\n",
              "        const buttonEl =\n",
              "          document.querySelector('#df-da79ba10-fd81-4286-84f9-6ee26354b768 button.colab-df-convert');\n",
              "        buttonEl.style.display =\n",
              "          google.colab.kernel.accessAllowed ? 'block' : 'none';\n",
              "\n",
              "        async function convertToInteractive(key) {\n",
              "          const element = document.querySelector('#df-da79ba10-fd81-4286-84f9-6ee26354b768');\n",
              "          const dataTable =\n",
              "            await google.colab.kernel.invokeFunction('convertToInteractive',\n",
              "                                                     [key], {});\n",
              "          if (!dataTable) return;\n",
              "\n",
              "          const docLinkHtml = 'Like what you see? Visit the ' +\n",
              "            '<a target=\"_blank\" href=https://colab.research.google.com/notebooks/data_table.ipynb>data table notebook</a>'\n",
              "            + ' to learn more about interactive tables.';\n",
              "          element.innerHTML = '';\n",
              "          dataTable['output_type'] = 'display_data';\n",
              "          await google.colab.output.renderOutput(dataTable, element);\n",
              "          const docLink = document.createElement('div');\n",
              "          docLink.innerHTML = docLinkHtml;\n",
              "          element.appendChild(docLink);\n",
              "        }\n",
              "      </script>\n",
              "    </div>\n",
              "  </div>\n",
              "  "
            ],
            "text/plain": [
              "          videoId  ...             updatedAt\n",
              "0     2_tXjqhbe5E  ...  2020-04-02T01:40:29Z\n",
              "1     2_tXjqhbe5E  ...  2020-04-07T04:36:37Z\n",
              "2     2_tXjqhbe5E  ...  2020-04-06T19:54:04Z\n",
              "3     2_tXjqhbe5E  ...  2020-04-06T19:18:24Z\n",
              "4     2_tXjqhbe5E  ...  2020-04-06T15:20:34Z\n",
              "...           ...  ...                   ...\n",
              "7995  ySMAcMAL6rY  ...  2019-08-22T04:00:31Z\n",
              "7996  zHlhQoT9OF0  ...  2020-04-10T03:21:34Z\n",
              "7997  zQWzh4yj_g8  ...  2020-02-12T22:13:24Z\n",
              "7998  zQWzh4yj_g8  ...  2020-02-12T04:53:28Z\n",
              "7999  zQWzh4yj_g8  ...  2020-02-12T04:25:58Z\n",
              "\n",
              "[8000 rows x 8 columns]"
            ]
          },
          "metadata": {},
          "execution_count": 175
        }
      ],
      "source": [
        "!wget https://github.com/P4CSS/PSS/blob/master/data/yt-comment-antiELAB.xlsx?raw=true -O yt-comment-antiELAB.xlsx\n",
        "import pandas as pd\n",
        "df = pd.read_excel('yt-comment-antiELAB.xlsx') \n",
        "df"
      ]
    },
    {
      "cell_type": "code",
      "execution_count": null,
      "id": "51566c3a",
      "metadata": {
        "id": "51566c3a",
        "outputId": "92d446a1-6af3-446f-9393-c44f1d5864d5"
      },
      "outputs": [
        {
          "data": {
            "text/html": [
              "<div>\n",
              "<style scoped>\n",
              "    .dataframe tbody tr th:only-of-type {\n",
              "        vertical-align: middle;\n",
              "    }\n",
              "\n",
              "    .dataframe tbody tr th {\n",
              "        vertical-align: top;\n",
              "    }\n",
              "\n",
              "    .dataframe thead th {\n",
              "        text-align: right;\n",
              "    }\n",
              "</style>\n",
              "<table border=\"1\" class=\"dataframe\">\n",
              "  <thead>\n",
              "    <tr style=\"text-align: right;\">\n",
              "      <th></th>\n",
              "      <th>videoId</th>\n",
              "      <th>commentId</th>\n",
              "      <th>parentId</th>\n",
              "      <th>authorDisplayName</th>\n",
              "      <th>textOriginal</th>\n",
              "      <th>likeCount</th>\n",
              "      <th>publishedAt</th>\n",
              "      <th>updatedAt</th>\n",
              "    </tr>\n",
              "  </thead>\n",
              "  <tbody>\n",
              "    <tr>\n",
              "      <th>0</th>\n",
              "      <td>2_tXjqhbe5E</td>\n",
              "      <td>UgwQIF9qNqGydjE2NkN4AaABAg</td>\n",
              "      <td>NaN</td>\n",
              "      <td>CHI-HAU CHEN</td>\n",
              "      <td>鄭大哥和吉雷米的互動很可愛，歡迎加入台灣這個溫馨的家庭喔~~~~</td>\n",
              "      <td>19</td>\n",
              "      <td>2020-04-02T01:40:29Z</td>\n",
              "      <td>2020-04-02T01:40:29Z</td>\n",
              "    </tr>\n",
              "    <tr>\n",
              "      <th>1</th>\n",
              "      <td>2_tXjqhbe5E</td>\n",
              "      <td>UgwuP0Jva-U69xTMaEF4AaABAg</td>\n",
              "      <td>NaN</td>\n",
              "      <td>Funky Duck</td>\n",
              "      <td>牛嘴掩.....\\n這高雄老外的台語能力應該比台北人好</td>\n",
              "      <td>1</td>\n",
              "      <td>2020-04-07T04:36:37Z</td>\n",
              "      <td>2020-04-07T04:36:37Z</td>\n",
              "    </tr>\n",
              "    <tr>\n",
              "      <th>2</th>\n",
              "      <td>2_tXjqhbe5E</td>\n",
              "      <td>UgyVlhx36V2XWLOM9MZ4AaABAg</td>\n",
              "      <td>NaN</td>\n",
              "      <td>Ally</td>\n",
              "      <td>Zoom把客戶資料洩給中國，現在紐約市已不讓學生用這系統視訊上課了!</td>\n",
              "      <td>0</td>\n",
              "      <td>2020-04-06T19:54:04Z</td>\n",
              "      <td>2020-04-06T19:54:04Z</td>\n",
              "    </tr>\n",
              "    <tr>\n",
              "      <th>3</th>\n",
              "      <td>2_tXjqhbe5E</td>\n",
              "      <td>Ugz4v7OudQxaDXYyegZ4AaABAg</td>\n",
              "      <td>NaN</td>\n",
              "      <td>Ally</td>\n",
              "      <td>法國人執行居家避疫比起美國比較確實，外出還要有通行證</td>\n",
              "      <td>0</td>\n",
              "      <td>2020-04-06T19:18:24Z</td>\n",
              "      <td>2020-04-06T19:18:24Z</td>\n",
              "    </tr>\n",
              "    <tr>\n",
              "      <th>4</th>\n",
              "      <td>2_tXjqhbe5E</td>\n",
              "      <td>Ugyb-ogACbZWVewnU-94AaABAg</td>\n",
              "      <td>NaN</td>\n",
              "      <td>Kitty Wong</td>\n",
              "      <td>仆街鄭</td>\n",
              "      <td>0</td>\n",
              "      <td>2020-04-06T15:20:34Z</td>\n",
              "      <td>2020-04-06T15:20:34Z</td>\n",
              "    </tr>\n",
              "    <tr>\n",
              "      <th>...</th>\n",
              "      <td>...</td>\n",
              "      <td>...</td>\n",
              "      <td>...</td>\n",
              "      <td>...</td>\n",
              "      <td>...</td>\n",
              "      <td>...</td>\n",
              "      <td>...</td>\n",
              "      <td>...</td>\n",
              "    </tr>\n",
              "    <tr>\n",
              "      <th>7995</th>\n",
              "      <td>ySMAcMAL6rY</td>\n",
              "      <td>UgzU9oD5I6q1qHLzx_B4AaABAg</td>\n",
              "      <td>NaN</td>\n",
              "      <td>nova lee</td>\n",
              "      <td>自己不是會算嗎</td>\n",
              "      <td>1</td>\n",
              "      <td>2019-08-22T04:00:31Z</td>\n",
              "      <td>2019-08-22T04:00:31Z</td>\n",
              "    </tr>\n",
              "    <tr>\n",
              "      <th>7996</th>\n",
              "      <td>zHlhQoT9OF0</td>\n",
              "      <td>Ugz2ff-Be0yCoEUY-Rd4AaABAg</td>\n",
              "      <td>NaN</td>\n",
              "      <td>the world Rock</td>\n",
              "      <td>常德說的真好</td>\n",
              "      <td>3</td>\n",
              "      <td>2020-04-10T03:21:34Z</td>\n",
              "      <td>2020-04-10T03:21:34Z</td>\n",
              "    </tr>\n",
              "    <tr>\n",
              "      <th>7997</th>\n",
              "      <td>zQWzh4yj_g8</td>\n",
              "      <td>Ugwex9I2lZWa-DgeWrx4AaABAg</td>\n",
              "      <td>NaN</td>\n",
              "      <td>Zoe Su</td>\n",
              "      <td>自私的人多的是，水準就和中國人一樣</td>\n",
              "      <td>1</td>\n",
              "      <td>2020-02-12T22:13:24Z</td>\n",
              "      <td>2020-02-12T22:13:24Z</td>\n",
              "    </tr>\n",
              "    <tr>\n",
              "      <th>7998</th>\n",
              "      <td>zQWzh4yj_g8</td>\n",
              "      <td>UgxpokMr9hHK0Ugcvl94AaABAg</td>\n",
              "      <td>NaN</td>\n",
              "      <td>非也非也</td>\n",
              "      <td>人都自私自利的，適者生存，不適者自己想辦法，沒有人會幫的，靠自己最實在</td>\n",
              "      <td>0</td>\n",
              "      <td>2020-02-12T04:53:28Z</td>\n",
              "      <td>2020-02-12T04:53:28Z</td>\n",
              "    </tr>\n",
              "    <tr>\n",
              "      <th>7999</th>\n",
              "      <td>zQWzh4yj_g8</td>\n",
              "      <td>Ugwhiijo6yStMhOZqVB4AaABAg</td>\n",
              "      <td>NaN</td>\n",
              "      <td>你们是愚民</td>\n",
              "      <td>鑽石公主號我們的同胞22人以及留在大陸我們的同胞救回來了沒有，菜英文民進黨更無情，更自私吧！...</td>\n",
              "      <td>0</td>\n",
              "      <td>2020-02-12T04:25:58Z</td>\n",
              "      <td>2020-02-12T04:25:58Z</td>\n",
              "    </tr>\n",
              "  </tbody>\n",
              "</table>\n",
              "<p>8000 rows × 8 columns</p>\n",
              "</div>"
            ],
            "text/plain": [
              "          videoId                   commentId parentId authorDisplayName  \\\n",
              "0     2_tXjqhbe5E  UgwQIF9qNqGydjE2NkN4AaABAg      NaN      CHI-HAU CHEN   \n",
              "1     2_tXjqhbe5E  UgwuP0Jva-U69xTMaEF4AaABAg      NaN        Funky Duck   \n",
              "2     2_tXjqhbe5E  UgyVlhx36V2XWLOM9MZ4AaABAg      NaN              Ally   \n",
              "3     2_tXjqhbe5E  Ugz4v7OudQxaDXYyegZ4AaABAg      NaN              Ally   \n",
              "4     2_tXjqhbe5E  Ugyb-ogACbZWVewnU-94AaABAg      NaN        Kitty Wong   \n",
              "...           ...                         ...      ...               ...   \n",
              "7995  ySMAcMAL6rY  UgzU9oD5I6q1qHLzx_B4AaABAg      NaN          nova lee   \n",
              "7996  zHlhQoT9OF0  Ugz2ff-Be0yCoEUY-Rd4AaABAg      NaN    the world Rock   \n",
              "7997  zQWzh4yj_g8  Ugwex9I2lZWa-DgeWrx4AaABAg      NaN            Zoe Su   \n",
              "7998  zQWzh4yj_g8  UgxpokMr9hHK0Ugcvl94AaABAg      NaN              非也非也   \n",
              "7999  zQWzh4yj_g8  Ugwhiijo6yStMhOZqVB4AaABAg      NaN             你们是愚民   \n",
              "\n",
              "                                           textOriginal  likeCount  \\\n",
              "0                      鄭大哥和吉雷米的互動很可愛，歡迎加入台灣這個溫馨的家庭喔~~~~         19   \n",
              "1                           牛嘴掩.....\\n這高雄老外的台語能力應該比台北人好          1   \n",
              "2                    Zoom把客戶資料洩給中國，現在紐約市已不讓學生用這系統視訊上課了!          0   \n",
              "3                            法國人執行居家避疫比起美國比較確實，外出還要有通行證          0   \n",
              "4                                                   仆街鄭          0   \n",
              "...                                                 ...        ...   \n",
              "7995                                            自己不是會算嗎          1   \n",
              "7996                                             常德說的真好          3   \n",
              "7997                                  自私的人多的是，水準就和中國人一樣          1   \n",
              "7998                人都自私自利的，適者生存，不適者自己想辦法，沒有人會幫的，靠自己最實在          0   \n",
              "7999  鑽石公主號我們的同胞22人以及留在大陸我們的同胞救回來了沒有，菜英文民進黨更無情，更自私吧！...          0   \n",
              "\n",
              "               publishedAt             updatedAt  \n",
              "0     2020-04-02T01:40:29Z  2020-04-02T01:40:29Z  \n",
              "1     2020-04-07T04:36:37Z  2020-04-07T04:36:37Z  \n",
              "2     2020-04-06T19:54:04Z  2020-04-06T19:54:04Z  \n",
              "3     2020-04-06T19:18:24Z  2020-04-06T19:18:24Z  \n",
              "4     2020-04-06T15:20:34Z  2020-04-06T15:20:34Z  \n",
              "...                    ...                   ...  \n",
              "7995  2019-08-22T04:00:31Z  2019-08-22T04:00:31Z  \n",
              "7996  2020-04-10T03:21:34Z  2020-04-10T03:21:34Z  \n",
              "7997  2020-02-12T22:13:24Z  2020-02-12T22:13:24Z  \n",
              "7998  2020-02-12T04:53:28Z  2020-02-12T04:53:28Z  \n",
              "7999  2020-02-12T04:25:58Z  2020-02-12T04:25:58Z  \n",
              "\n",
              "[8000 rows x 8 columns]"
            ]
          },
          "execution_count": 7,
          "metadata": {},
          "output_type": "execute_result"
        }
      ],
      "source": [
        "import pandas as pd\n",
        "df = pd.read_excel('../data/yt-comment-antiELAB.xlsx')\n",
        "df"
      ]
    },
    {
      "cell_type": "markdown",
      "id": "3507a354",
      "metadata": {
        "id": "3507a354"
      },
      "source": [
        "## Data Cleaning"
      ]
    },
    {
      "cell_type": "markdown",
      "source": [
        "### Document filtering strategies"
      ],
      "metadata": {
        "id": "l8GD9p2bTW-v"
      },
      "id": "l8GD9p2bTW-v"
    },
    {
      "cell_type": "code",
      "source": [
        "filter_df = df[df['likeCount'] != 0]\n",
        "# drop useless col\n",
        "filter_df = filter_df.drop(columns=['videoId', 'commentId', 'parentId'])\n",
        "filter_df"
      ],
      "metadata": {
        "id": "No9AhOkVE2GT",
        "colab": {
          "base_uri": "https://localhost:8080/",
          "height": 780
        },
        "outputId": "6d05fdec-a94a-423e-e2cd-daa2a3b9db4f"
      },
      "id": "No9AhOkVE2GT",
      "execution_count": null,
      "outputs": [
        {
          "output_type": "execute_result",
          "data": {
            "text/html": [
              "\n",
              "  <div id=\"df-00e6cb82-ab95-4d8f-8f96-6fc1b8483367\">\n",
              "    <div class=\"colab-df-container\">\n",
              "      <div>\n",
              "<style scoped>\n",
              "    .dataframe tbody tr th:only-of-type {\n",
              "        vertical-align: middle;\n",
              "    }\n",
              "\n",
              "    .dataframe tbody tr th {\n",
              "        vertical-align: top;\n",
              "    }\n",
              "\n",
              "    .dataframe thead th {\n",
              "        text-align: right;\n",
              "    }\n",
              "</style>\n",
              "<table border=\"1\" class=\"dataframe\">\n",
              "  <thead>\n",
              "    <tr style=\"text-align: right;\">\n",
              "      <th></th>\n",
              "      <th>authorDisplayName</th>\n",
              "      <th>textOriginal</th>\n",
              "      <th>likeCount</th>\n",
              "      <th>publishedAt</th>\n",
              "      <th>updatedAt</th>\n",
              "    </tr>\n",
              "  </thead>\n",
              "  <tbody>\n",
              "    <tr>\n",
              "      <th>0</th>\n",
              "      <td>CHI-HAU CHEN</td>\n",
              "      <td>鄭大哥和吉雷米的互動很可愛，歡迎加入台灣這個溫馨的家庭喔~~~~</td>\n",
              "      <td>19</td>\n",
              "      <td>2020-04-02T01:40:29Z</td>\n",
              "      <td>2020-04-02T01:40:29Z</td>\n",
              "    </tr>\n",
              "    <tr>\n",
              "      <th>1</th>\n",
              "      <td>Funky Duck</td>\n",
              "      <td>牛嘴掩.....\\n這高雄老外的台語能力應該比台北人好</td>\n",
              "      <td>1</td>\n",
              "      <td>2020-04-07T04:36:37Z</td>\n",
              "      <td>2020-04-07T04:36:37Z</td>\n",
              "    </tr>\n",
              "    <tr>\n",
              "      <th>6</th>\n",
              "      <td>李珈霈</td>\n",
              "      <td>武漢病毒真的讓人很傷腦筋,無恐不入，目前全世界傳染成這樣讓人感覺不知道如何是好，這個病毒何時...</td>\n",
              "      <td>1</td>\n",
              "      <td>2020-04-06T03:45:08Z</td>\n",
              "      <td>2020-04-06T03:45:08Z</td>\n",
              "    </tr>\n",
              "    <tr>\n",
              "      <th>11</th>\n",
              "      <td>Alonso智真</td>\n",
              "      <td>因為很多人的懦弱、貪婪、無知和長期以來被邪惡無恥的大外宣洗腦，而導致縱容殘暴的獨裁者和一小群...</td>\n",
              "      <td>2</td>\n",
              "      <td>2020-04-04T06:07:49Z</td>\n",
              "      <td>2020-04-04T06:07:49Z</td>\n",
              "    </tr>\n",
              "    <tr>\n",
              "      <th>12</th>\n",
              "      <td>L S</td>\n",
              "      <td>線上會議軟體很多，請大家絕對不要選擇zoom！！！\\n\\n此軟體創辦人所有研發人員皆在中國，...</td>\n",
              "      <td>9</td>\n",
              "      <td>2020-04-03T21:38:46Z</td>\n",
              "      <td>2020-04-03T21:38:46Z</td>\n",
              "    </tr>\n",
              "    <tr>\n",
              "      <th>...</th>\n",
              "      <td>...</td>\n",
              "      <td>...</td>\n",
              "      <td>...</td>\n",
              "      <td>...</td>\n",
              "      <td>...</td>\n",
              "    </tr>\n",
              "    <tr>\n",
              "      <th>7993</th>\n",
              "      <td>陳文</td>\n",
              "      <td>一直在等,57歲了,為什麼總是沒有遇見親眼見證或可以說服自己的所謂靈界事件</td>\n",
              "      <td>1</td>\n",
              "      <td>2019-08-24T05:25:13Z</td>\n",
              "      <td>2019-08-24T05:25:13Z</td>\n",
              "    </tr>\n",
              "    <tr>\n",
              "      <th>7994</th>\n",
              "      <td>nova lee</td>\n",
              "      <td>自己不是會算嗎</td>\n",
              "      <td>1</td>\n",
              "      <td>2019-08-22T04:00:31Z</td>\n",
              "      <td>2019-08-22T04:00:31Z</td>\n",
              "    </tr>\n",
              "    <tr>\n",
              "      <th>7995</th>\n",
              "      <td>nova lee</td>\n",
              "      <td>自己不是會算嗎</td>\n",
              "      <td>1</td>\n",
              "      <td>2019-08-22T04:00:31Z</td>\n",
              "      <td>2019-08-22T04:00:31Z</td>\n",
              "    </tr>\n",
              "    <tr>\n",
              "      <th>7996</th>\n",
              "      <td>the world Rock</td>\n",
              "      <td>常德說的真好</td>\n",
              "      <td>3</td>\n",
              "      <td>2020-04-10T03:21:34Z</td>\n",
              "      <td>2020-04-10T03:21:34Z</td>\n",
              "    </tr>\n",
              "    <tr>\n",
              "      <th>7997</th>\n",
              "      <td>Zoe Su</td>\n",
              "      <td>自私的人多的是，水準就和中國人一樣</td>\n",
              "      <td>1</td>\n",
              "      <td>2020-02-12T22:13:24Z</td>\n",
              "      <td>2020-02-12T22:13:24Z</td>\n",
              "    </tr>\n",
              "  </tbody>\n",
              "</table>\n",
              "<p>4284 rows × 5 columns</p>\n",
              "</div>\n",
              "      <button class=\"colab-df-convert\" onclick=\"convertToInteractive('df-00e6cb82-ab95-4d8f-8f96-6fc1b8483367')\"\n",
              "              title=\"Convert this dataframe to an interactive table.\"\n",
              "              style=\"display:none;\">\n",
              "        \n",
              "  <svg xmlns=\"http://www.w3.org/2000/svg\" height=\"24px\"viewBox=\"0 0 24 24\"\n",
              "       width=\"24px\">\n",
              "    <path d=\"M0 0h24v24H0V0z\" fill=\"none\"/>\n",
              "    <path d=\"M18.56 5.44l.94 2.06.94-2.06 2.06-.94-2.06-.94-.94-2.06-.94 2.06-2.06.94zm-11 1L8.5 8.5l.94-2.06 2.06-.94-2.06-.94L8.5 2.5l-.94 2.06-2.06.94zm10 10l.94 2.06.94-2.06 2.06-.94-2.06-.94-.94-2.06-.94 2.06-2.06.94z\"/><path d=\"M17.41 7.96l-1.37-1.37c-.4-.4-.92-.59-1.43-.59-.52 0-1.04.2-1.43.59L10.3 9.45l-7.72 7.72c-.78.78-.78 2.05 0 2.83L4 21.41c.39.39.9.59 1.41.59.51 0 1.02-.2 1.41-.59l7.78-7.78 2.81-2.81c.8-.78.8-2.07 0-2.86zM5.41 20L4 18.59l7.72-7.72 1.47 1.35L5.41 20z\"/>\n",
              "  </svg>\n",
              "      </button>\n",
              "      \n",
              "  <style>\n",
              "    .colab-df-container {\n",
              "      display:flex;\n",
              "      flex-wrap:wrap;\n",
              "      gap: 12px;\n",
              "    }\n",
              "\n",
              "    .colab-df-convert {\n",
              "      background-color: #E8F0FE;\n",
              "      border: none;\n",
              "      border-radius: 50%;\n",
              "      cursor: pointer;\n",
              "      display: none;\n",
              "      fill: #1967D2;\n",
              "      height: 32px;\n",
              "      padding: 0 0 0 0;\n",
              "      width: 32px;\n",
              "    }\n",
              "\n",
              "    .colab-df-convert:hover {\n",
              "      background-color: #E2EBFA;\n",
              "      box-shadow: 0px 1px 2px rgba(60, 64, 67, 0.3), 0px 1px 3px 1px rgba(60, 64, 67, 0.15);\n",
              "      fill: #174EA6;\n",
              "    }\n",
              "\n",
              "    [theme=dark] .colab-df-convert {\n",
              "      background-color: #3B4455;\n",
              "      fill: #D2E3FC;\n",
              "    }\n",
              "\n",
              "    [theme=dark] .colab-df-convert:hover {\n",
              "      background-color: #434B5C;\n",
              "      box-shadow: 0px 1px 3px 1px rgba(0, 0, 0, 0.15);\n",
              "      filter: drop-shadow(0px 1px 2px rgba(0, 0, 0, 0.3));\n",
              "      fill: #FFFFFF;\n",
              "    }\n",
              "  </style>\n",
              "\n",
              "      <script>\n",
              "        const buttonEl =\n",
              "          document.querySelector('#df-00e6cb82-ab95-4d8f-8f96-6fc1b8483367 button.colab-df-convert');\n",
              "        buttonEl.style.display =\n",
              "          google.colab.kernel.accessAllowed ? 'block' : 'none';\n",
              "\n",
              "        async function convertToInteractive(key) {\n",
              "          const element = document.querySelector('#df-00e6cb82-ab95-4d8f-8f96-6fc1b8483367');\n",
              "          const dataTable =\n",
              "            await google.colab.kernel.invokeFunction('convertToInteractive',\n",
              "                                                     [key], {});\n",
              "          if (!dataTable) return;\n",
              "\n",
              "          const docLinkHtml = 'Like what you see? Visit the ' +\n",
              "            '<a target=\"_blank\" href=https://colab.research.google.com/notebooks/data_table.ipynb>data table notebook</a>'\n",
              "            + ' to learn more about interactive tables.';\n",
              "          element.innerHTML = '';\n",
              "          dataTable['output_type'] = 'display_data';\n",
              "          await google.colab.output.renderOutput(dataTable, element);\n",
              "          const docLink = document.createElement('div');\n",
              "          docLink.innerHTML = docLinkHtml;\n",
              "          element.appendChild(docLink);\n",
              "        }\n",
              "      </script>\n",
              "    </div>\n",
              "  </div>\n",
              "  "
            ],
            "text/plain": [
              "     authorDisplayName  ...             updatedAt\n",
              "0         CHI-HAU CHEN  ...  2020-04-02T01:40:29Z\n",
              "1           Funky Duck  ...  2020-04-07T04:36:37Z\n",
              "6                  李珈霈  ...  2020-04-06T03:45:08Z\n",
              "11            Alonso智真  ...  2020-04-04T06:07:49Z\n",
              "12                 L S  ...  2020-04-03T21:38:46Z\n",
              "...                ...  ...                   ...\n",
              "7993                陳文  ...  2019-08-24T05:25:13Z\n",
              "7994          nova lee  ...  2019-08-22T04:00:31Z\n",
              "7995          nova lee  ...  2019-08-22T04:00:31Z\n",
              "7996    the world Rock  ...  2020-04-10T03:21:34Z\n",
              "7997            Zoe Su  ...  2020-02-12T22:13:24Z\n",
              "\n",
              "[4284 rows x 5 columns]"
            ]
          },
          "metadata": {},
          "execution_count": 176
        }
      ]
    },
    {
      "cell_type": "markdown",
      "source": [
        "### Vocabulary filtering strategies"
      ],
      "metadata": {
        "id": "hhhmjBf3TlZD"
      },
      "id": "hhhmjBf3TlZD"
    },
    {
      "cell_type": "markdown",
      "source": [
        "#### jeiba cut word"
      ],
      "metadata": {
        "id": "dgHeXhUgJ9j3"
      },
      "id": "dgHeXhUgJ9j3"
    },
    {
      "cell_type": "code",
      "source": [
        "# cut word\n",
        "!pip install hanziconv\n",
        "from hanziconv import HanziConv\n",
        "!pip install jieba\n",
        "!pip install zhon\n",
        "import jieba\n",
        "filter_df['tokenized'] = filter_df['textOriginal'].apply(HanziConv.toSimplified)\n",
        "filter_df['tokenized'] = filter_df['tokenized'].apply(lambda x:list(jieba.cut(x)))"
      ],
      "metadata": {
        "id": "plvAXH64Gw_H",
        "outputId": "895a740a-7825-4ffd-eb20-7efddfea650d",
        "colab": {
          "base_uri": "https://localhost:8080/"
        }
      },
      "id": "plvAXH64Gw_H",
      "execution_count": null,
      "outputs": [
        {
          "output_type": "stream",
          "name": "stdout",
          "text": [
            "Requirement already satisfied: hanziconv in /usr/local/lib/python3.7/dist-packages (0.3.2)\n",
            "Requirement already satisfied: jieba in /usr/local/lib/python3.7/dist-packages (0.42.1)\n",
            "Requirement already satisfied: zhon in /usr/local/lib/python3.7/dist-packages (1.1.5)\n"
          ]
        }
      ]
    },
    {
      "cell_type": "markdown",
      "source": [
        "#### Remove Punctuation"
      ],
      "metadata": {
        "id": "tuaQR0aGKCt1"
      },
      "id": "tuaQR0aGKCt1"
    },
    {
      "cell_type": "code",
      "source": [
        "# remove punctuation\n",
        "from zhon.hanzi import punctuation\n",
        "import string\n",
        "from collections import Counter\n",
        "\n",
        "def remove_punc(words):\n",
        "    out = []\n",
        "    for word in words:\n",
        "        if (word not in chi_punc_list) and (word not in en_punc_list):\n",
        "            out.append(word)\n",
        "    return out\n",
        "    \n",
        "chi_punc_list = list(punctuation)\n",
        "chi_punc_list.append(' ')\n",
        "chi_punc_list.append('\\n')\n",
        "en_punc_list = list(string.punctuation)\n",
        "\n",
        "filter_df['tokenized'] = filter_df['tokenized'].apply(remove_punc)\n",
        "dif_words = Counter()\n",
        "filter_df['tokenized'].apply(dif_words.update)\n",
        "\n",
        "print('After punctuatuon removal: ', len(dif_words.most_common()))\n",
        "dif_words.most_common(20)"
      ],
      "metadata": {
        "id": "IoVF5_jbJqOp",
        "outputId": "469783b1-8577-4818-a6ac-3eadc398f71c",
        "colab": {
          "base_uri": "https://localhost:8080/"
        }
      },
      "id": "IoVF5_jbJqOp",
      "execution_count": null,
      "outputs": [
        {
          "output_type": "stream",
          "name": "stdout",
          "text": [
            "After punctuatuon removal:  10252\n"
          ]
        },
        {
          "output_type": "execute_result",
          "data": {
            "text/plain": [
              "[('的', 4831),\n",
              " ('是', 2049),\n",
              " ('了', 1424),\n",
              " ('人', 1189),\n",
              " ('都', 1080),\n",
              " ('香港', 959),\n",
              " ('有', 930),\n",
              " ('不', 908),\n",
              " ('你', 902),\n",
              " ('在', 856),\n",
              " ('也', 845),\n",
              " ('我', 796),\n",
              " ('就', 745),\n",
              " ('台湾', 744),\n",
              " ('自己', 637),\n",
              " ('很', 585),\n",
              " ('要', 566),\n",
              " ('吗', 501),\n",
              " ('说', 486),\n",
              " ('她', 456)]"
            ]
          },
          "metadata": {},
          "execution_count": 178
        }
      ]
    },
    {
      "cell_type": "code",
      "source": [
        "# get chi stopwords data\n",
        "import requests\n",
        "res = requests.get('https://raw.githubusercontent.com/goto456/stopwords/master/cn_stopwords.txt')\n",
        "res.text\n",
        "chi_stop = res.text.split('\\n')\n",
        "print(chi_stop)"
      ],
      "metadata": {
        "colab": {
          "base_uri": "https://localhost:8080/"
        },
        "id": "wWLYu9AvJOT-",
        "outputId": "a1a08ada-17ea-466f-b394-4dbfa48b5cf5"
      },
      "id": "wWLYu9AvJOT-",
      "execution_count": null,
      "outputs": [
        {
          "output_type": "stream",
          "name": "stdout",
          "text": [
            "['$', '0', '1', '2', '3', '4', '5', '6', '7', '8', '9', '?', '_', '“', '”', '、', '。', '《', '》', '一', '一些', '一何', '一切', '一则', '一方面', '一旦', '一来', '一样', '一般', '一转眼', '万一', '上', '上下', '下', '不', '不仅', '不但', '不光', '不单', '不只', '不外乎', '不如', '不妨', '不尽', '不尽然', '不得', '不怕', '不惟', '不成', '不拘', '不料', '不是', '不比', '不然', '不特', '不独', '不管', '不至于', '不若', '不论', '不过', '不问', '与', '与其', '与其说', '与否', '与此同时', '且', '且不说', '且说', '两者', '个', '个别', '临', '为', '为了', '为什么', '为何', '为止', '为此', '为着', '乃', '乃至', '乃至于', '么', '之', '之一', '之所以', '之类', '乌乎', '乎', '乘', '也', '也好', '也罢', '了', '二来', '于', '于是', '于是乎', '云云', '云尔', '些', '亦', '人', '人们', '人家', '什么', '什么样', '今', '介于', '仍', '仍旧', '从', '从此', '从而', '他', '他人', '他们', '以', '以上', '以为', '以便', '以免', '以及', '以故', '以期', '以来', '以至', '以至于', '以致', '们', '任', '任何', '任凭', '似的', '但', '但凡', '但是', '何', '何以', '何况', '何处', '何时', '余外', '作为', '你', '你们', '使', '使得', '例如', '依', '依据', '依照', '便于', '俺', '俺们', '倘', '倘使', '倘或', '倘然', '倘若', '借', '假使', '假如', '假若', '傥然', '像', '儿', '先不先', '光是', '全体', '全部', '兮', '关于', '其', '其一', '其中', '其二', '其他', '其余', '其它', '其次', '具体地说', '具体说来', '兼之', '内', '再', '再其次', '再则', '再有', '再者', '再者说', '再说', '冒', '冲', '况且', '几', '几时', '凡', '凡是', '凭', '凭借', '出于', '出来', '分别', '则', '则甚', '别', '别人', '别处', '别是', '别的', '别管', '别说', '到', '前后', '前此', '前者', '加之', '加以', '即', '即令', '即使', '即便', '即如', '即或', '即若', '却', '去', '又', '又及', '及', '及其', '及至', '反之', '反而', '反过来', '反过来说', '受到', '另', '另一方面', '另外', '另悉', '只', '只当', '只怕', '只是', '只有', '只消', '只要', '只限', '叫', '叮咚', '可', '可以', '可是', '可见', '各', '各个', '各位', '各种', '各自', '同', '同时', '后', '后者', '向', '向使', '向着', '吓', '吗', '否则', '吧', '吧哒', '吱', '呀', '呃', '呕', '呗', '呜', '呜呼', '呢', '呵', '呵呵', '呸', '呼哧', '咋', '和', '咚', '咦', '咧', '咱', '咱们', '咳', '哇', '哈', '哈哈', '哉', '哎', '哎呀', '哎哟', '哗', '哟', '哦', '哩', '哪', '哪个', '哪些', '哪儿', '哪天', '哪年', '哪怕', '哪样', '哪边', '哪里', '哼', '哼唷', '唉', '唯有', '啊', '啐', '啥', '啦', '啪达', '啷当', '喂', '喏', '喔唷', '喽', '嗡', '嗡嗡', '嗬', '嗯', '嗳', '嘎', '嘎登', '嘘', '嘛', '嘻', '嘿', '嘿嘿', '因', '因为', '因了', '因此', '因着', '因而', '固然', '在', '在下', '在于', '地', '基于', '处在', '多', '多么', '多少', '大', '大家', '她', '她们', '好', '如', '如上', '如上所述', '如下', '如何', '如其', '如同', '如是', '如果', '如此', '如若', '始而', '孰料', '孰知', '宁', '宁可', '宁愿', '宁肯', '它', '它们', '对', '对于', '对待', '对方', '对比', '将', '小', '尔', '尔后', '尔尔', '尚且', '就', '就是', '就是了', '就是说', '就算', '就要', '尽', '尽管', '尽管如此', '岂但', '己', '已', '已矣', '巴', '巴巴', '并', '并且', '并非', '庶乎', '庶几', '开外', '开始', '归', '归齐', '当', '当地', '当然', '当着', '彼', '彼时', '彼此', '往', '待', '很', '得', '得了', '怎', '怎么', '怎么办', '怎么样', '怎奈', '怎样', '总之', '总的来看', '总的来说', '总的说来', '总而言之', '恰恰相反', '您', '惟其', '慢说', '我', '我们', '或', '或则', '或是', '或曰', '或者', '截至', '所', '所以', '所在', '所幸', '所有', '才', '才能', '打', '打从', '把', '抑或', '拿', '按', '按照', '换句话说', '换言之', '据', '据此', '接着', '故', '故此', '故而', '旁人', '无', '无宁', '无论', '既', '既往', '既是', '既然', '时候', '是', '是以', '是的', '曾', '替', '替代', '最', '有', '有些', '有关', '有及', '有时', '有的', '望', '朝', '朝着', '本', '本人', '本地', '本着', '本身', '来', '来着', '来自', '来说', '极了', '果然', '果真', '某', '某个', '某些', '某某', '根据', '欤', '正值', '正如', '正巧', '正是', '此', '此地', '此处', '此外', '此时', '此次', '此间', '毋宁', '每', '每当', '比', '比及', '比如', '比方', '没奈何', '沿', '沿着', '漫说', '焉', '然则', '然后', '然而', '照', '照着', '犹且', '犹自', '甚且', '甚么', '甚或', '甚而', '甚至', '甚至于', '用', '用来', '由', '由于', '由是', '由此', '由此可见', '的', '的确', '的话', '直到', '相对而言', '省得', '看', '眨眼', '着', '着呢', '矣', '矣乎', '矣哉', '离', '竟而', '第', '等', '等到', '等等', '简言之', '管', '类如', '紧接着', '纵', '纵令', '纵使', '纵然', '经', '经过', '结果', '给', '继之', '继后', '继而', '综上所述', '罢了', '者', '而', '而且', '而况', '而后', '而外', '而已', '而是', '而言', '能', '能否', '腾', '自', '自个儿', '自从', '自各儿', '自后', '自家', '自己', '自打', '自身', '至', '至于', '至今', '至若', '致', '般的', '若', '若夫', '若是', '若果 ', '若非', '莫不然', '莫如', '莫若', '虽', '虽则', '虽然', '虽说', '被', '要', '要不', '要不是', '要不然', '要么', '要是', '譬喻', '譬如', '让', '许多', '论', '设使', '设或', '设若', '诚如', '诚然', '该', '说来', '诸', '诸位', '诸如', '谁', '谁人', '谁料', '谁知', '贼死', '赖以', '赶', '起', '起见', '趁', '趁着', '越是', '距', '跟', '较', '较之', '边', '过', '还', '还是', '还有', '还要', '这', '这一来', '这个', '这么', '这么些', '这么样', '这么点儿', '这些', '这会儿', '这儿', '这就是说', '这时', '这样', '这次', '这般', '这边', '这里', '进而', '连', '连同', '逐步', '通过', '遵循', '遵照', '那', '那个', '那么', '那么些', '那么样', '那些', '那会儿', '那儿', '那时', '那样', '那般', '那边', '那里', '都', '鄙人', '鉴于', '针对', '阿', '除', '除了', '除外', '除开', '除此之外', '除非', '随', '随后', '随时', '随着', '难道说', '非但', '非徒', '非特', '非独', '靠', '顺', '顺着', '首先', '！', '，', '：', '；', '？', '']\n"
          ]
        }
      ]
    },
    {
      "cell_type": "code",
      "source": [
        "# # remove stopwords\n",
        "# def remove_stopWords(words):\n",
        "#     out = []\n",
        "#     for word in words:\n",
        "#         if word not in chi_stop:\n",
        "#             out.append(word)\n",
        "#     return out\n",
        "# filter_df['tokenized'] = filter_df['tokenized'].apply(remove_stopWords)\n",
        "\n",
        "# dif_words = Counter()\n",
        "# filter_df['tokenized'].apply(dif_words.update)\n",
        "# print('After punctuatuon removal: ', len(dif_words.most_common()))\n",
        "\n",
        "# dif_words.most_common(20)"
      ],
      "metadata": {
        "id": "5F6OZufHNFIM"
      },
      "id": "5F6OZufHNFIM",
      "execution_count": null,
      "outputs": []
    },
    {
      "cell_type": "markdown",
      "source": [
        "## Feature selections - selecting Model"
      ],
      "metadata": {
        "id": "-aXC_ZHtS36p"
      },
      "id": "-aXC_ZHtS36p"
    },
    {
      "cell_type": "markdown",
      "source": [
        "### tfidf vectorization"
      ],
      "metadata": {
        "id": "HUF8ZdYqJgDD"
      },
      "id": "HUF8ZdYqJgDD"
    },
    {
      "cell_type": "code",
      "source": [
        "from sklearn.feature_extraction.text import TfidfVectorizer\n",
        "documents = [\" \".join(doc) for doc in filter_df['tokenized']]\n",
        "documents[:10]"
      ],
      "metadata": {
        "colab": {
          "base_uri": "https://localhost:8080/"
        },
        "id": "iYhLNz33LlhJ",
        "outputId": "d4c13995-698f-4fe7-c3a1-4b0f26810cc1"
      },
      "id": "iYhLNz33LlhJ",
      "execution_count": null,
      "outputs": [
        {
          "output_type": "execute_result",
          "data": {
            "text/plain": [
              "['郑 大哥 和 吉雷米 的 互动 很 可爱 欢迎 加入 台湾 这个 温馨 的 家庭 喔',\n",
              " '牛嘴 掩 ..... 这高雄 老外 的 台语 能力 应该 比 台北人 好',\n",
              " '武汉 病毒 真的 让 人 很 伤脑筋 无恐 不入 目前 全世界 传染 成 这样 让 人 感觉 不 知道 如何是好 这个 病毒 何时 才能 结束 呢 很多 行业 影响 非常 大 如何是好 呢 对 将来 感到 很 担忧 很 害怕 也 担心 孩子 的 将来 因为 目前 都 充满 号 怎么 谈 将来 呢 唉 我 这样 算 很 消沉 吗 其实 我 感觉 武汉 病毒 真的 很 恐怖 ㄟ 大家 要 有 缩衣节食 的 打算 少 出门 多待 在家 唉 怎么 会变 这样 中国 流 串出来 的 武汉 病毒 真的 有够 毒 中国 研究 出 的 病毒 实在 有够 毒',\n",
              " '因为 很多 人 的 懦弱 贪婪 无知 和 长期以来 被 邪恶 无耻 的 大 外宣 洗脑 而 导致 纵容 残暴 的 独裁者 和 一 小群 权贵 糟 老头 们 的 胆大妄为 肆虐 全人类 危害 人类 的 生命 和 财产 的 安全 所以 世界 各国 的 每 一个 人民 都 应该 享有 基本 人权 选举权 罢免权 媒体 有 报导 的 自由 和 健全 的 法治 来 监督 政府 才能 避免 让 任何人 或 团体 拥有 太大 的 权势 而 导致 不停 地 重复 制造 悲惨 的 世界 战争 人类 浩劫 🙏 💛 🌈',\n",
              " '线上 会议 软体 很多 请 大家 绝对 不要 选择 zoom 此 软体 创办人 所有 研发 人员 皆 在 中国 如同 华为 任何 中国 公司 都 无法 摆脱 中共政府 的 掌握 为了 贵 公司 的 机密 请 不要 使用 此 软体',\n",
              " '我 住 在 法国 我 有 在 看 啊',\n",
              " '你 这 数据 哪来 的 是 在 造谣 还是 带 风向 年轻 感染率 高 可能 是因为 留学生 回 台 跟 教育 失败 什么 关系',\n",
              " '吉雷米 开口 第一句 话 卖安咧拉 真的 很台 而且 他 说 台语 是 一种 善意 与 融入 的 表现 不 知道 为什么 郑先生 要 故意 糗 他 让 他 难堪 这样 表示 你 主持人 高人一等 比较 厉害 吗 真的 是 心胸狭窄 没有 气度 与 礼貌',\n",
              " 'lavender farm 这样 你 就 有所不知 他们 两个 就是 很熟 了 这是 一种 幽默 😂',\n",
              " '唉 嫌 口罩 贵 我们 买不到 不是 更惨 大S 最近 怎 不 出来 深情 喊话 了 都 是 皇帝 子孙 为什么 这么 狠 把 我们 的 口罩 都 搜刮 了']"
            ]
          },
          "metadata": {},
          "execution_count": 184
        }
      ]
    },
    {
      "cell_type": "markdown",
      "source": [
        "#### Model 1: Do it derictly"
      ],
      "metadata": {
        "id": "BIXHUaEMJmKx"
      },
      "id": "BIXHUaEMJmKx"
    },
    {
      "cell_type": "code",
      "source": [
        "tfidf_model1 = TfidfVectorizer().fit(documents)\n",
        "sparse_result = tfidf_model.transform(documents)\n",
        "print(len(tfidf_model.vocabulary_))"
      ],
      "metadata": {
        "id": "UU9PI0I4S9Gz",
        "colab": {
          "base_uri": "https://localhost:8080/"
        },
        "outputId": "860d5145-db98-4397-c058-6ba0fef05bc6"
      },
      "id": "UU9PI0I4S9Gz",
      "execution_count": null,
      "outputs": [
        {
          "output_type": "stream",
          "name": "stdout",
          "text": [
            "10654\n"
          ]
        }
      ]
    },
    {
      "cell_type": "markdown",
      "source": [
        "#### Model 2: Do not filter out items only has 1 word"
      ],
      "metadata": {
        "id": "K48QyvPfJzlS"
      },
      "id": "K48QyvPfJzlS"
    },
    {
      "cell_type": "code",
      "source": [
        "tfidf_model2 = TfidfVectorizer(token_pattern=r\"(?u)\\b\\w+\\b\").fit(documents)\n",
        "print(len(tfidf_model2.vocabulary_))"
      ],
      "metadata": {
        "colab": {
          "base_uri": "https://localhost:8080/"
        },
        "id": "tOYarSCyKL33",
        "outputId": "0a1226d9-876c-4e85-91d1-aed90be48ab4"
      },
      "id": "tOYarSCyKL33",
      "execution_count": null,
      "outputs": [
        {
          "output_type": "stream",
          "name": "stdout",
          "text": [
            "10060\n"
          ]
        }
      ]
    },
    {
      "cell_type": "markdown",
      "source": [
        "#### Model 3: Filter out items in other 10% items"
      ],
      "metadata": {
        "id": "OW7FJY_mKMWi"
      },
      "id": "OW7FJY_mKMWi"
    },
    {
      "cell_type": "code",
      "source": [
        "tfidf_model3 = TfidfVectorizer(max_df=0.1).fit(documents)  \n",
        "print(len(tfidf_model3.vocabulary_))"
      ],
      "metadata": {
        "colab": {
          "base_uri": "https://localhost:8080/"
        },
        "id": "C0hH7-xRKg1d",
        "outputId": "23098f04-64e1-42ab-c356-421b26ca595d"
      },
      "id": "C0hH7-xRKg1d",
      "execution_count": null,
      "outputs": [
        {
          "output_type": "stream",
          "name": "stdout",
          "text": [
            "8902\n"
          ]
        }
      ]
    },
    {
      "cell_type": "markdown",
      "source": [
        "#### Model 4: filter out stop words"
      ],
      "metadata": {
        "id": "-E1LAcGfKhV4"
      },
      "id": "-E1LAcGfKhV4"
    },
    {
      "cell_type": "code",
      "source": [
        "tfidf_model4 = TfidfVectorizer(max_df=0.1,stop_words=chi_stop).fit(documents)\n",
        "print(len(tfidf_model4.vocabulary_))"
      ],
      "metadata": {
        "colab": {
          "base_uri": "https://localhost:8080/"
        },
        "id": "OPXh0Fj8KpDw",
        "outputId": "1ec693a5-4ea8-40c8-83de-70ff5de5cdce"
      },
      "id": "OPXh0Fj8KpDw",
      "execution_count": null,
      "outputs": [
        {
          "output_type": "stream",
          "name": "stdout",
          "text": [
            "8675\n"
          ]
        },
        {
          "output_type": "stream",
          "name": "stderr",
          "text": [
            "/usr/local/lib/python3.7/dist-packages/sklearn/feature_extraction/text.py:401: UserWarning: Your stop_words may be inconsistent with your preprocessing. Tokenizing the stop words generated tokens ['若果'] not in stop_words.\n",
            "  % sorted(inconsistent)\n"
          ]
        }
      ]
    },
    {
      "cell_type": "markdown",
      "source": [
        "#### Model 5: remove stopword manually and try model 1"
      ],
      "metadata": {
        "id": "8Cjl01B7ogi0"
      },
      "id": "8Cjl01B7ogi0"
    },
    {
      "cell_type": "code",
      "source": [
        "# remove stopwords\n",
        "def remove_stopWords(words):\n",
        "    out = []\n",
        "    for word in words:\n",
        "        if word not in chi_stop:\n",
        "            out.append(word)\n",
        "    return out\n",
        "filter_df['tokenized'] = filter_df['tokenized'].apply(remove_stopWords)\n",
        "\n",
        "dif_words = Counter()\n",
        "filter_df['tokenized'].apply(dif_words.update)\n",
        "print('After punctuatuon removal: ', len(dif_words.most_common()))\n",
        "\n",
        "tfidf_model5 = TfidfVectorizer().fit(documents)\n",
        "print(len(tfidf_model5.vocabulary_))"
      ],
      "metadata": {
        "colab": {
          "base_uri": "https://localhost:8080/"
        },
        "id": "vvfW4aEpogBv",
        "outputId": "b755cafe-1f5f-4a37-823f-2213f12e9b38"
      },
      "id": "vvfW4aEpogBv",
      "execution_count": null,
      "outputs": [
        {
          "output_type": "stream",
          "name": "stdout",
          "text": [
            "After punctuatuon removal:  9851\n",
            "8905\n"
          ]
        }
      ]
    },
    {
      "cell_type": "markdown",
      "source": [
        "#### Model 6: filter and focus on political words"
      ],
      "metadata": {
        "id": "r9Uq38DiqUZ8"
      },
      "id": "r9Uq38DiqUZ8"
    },
    {
      "cell_type": "code",
      "source": [
        "dif_words.most_common(100)"
      ],
      "metadata": {
        "colab": {
          "base_uri": "https://localhost:8080/"
        },
        "id": "ZaHy1DeyrJe7",
        "outputId": "5b838e4d-3efa-4aa3-bd8a-a2d54a4231c8"
      },
      "id": "ZaHy1DeyrJe7",
      "execution_count": null,
      "outputs": [
        {
          "output_type": "execute_result",
          "data": {
            "text/plain": [
              "[('香港', 959),\n",
              " ('台湾', 744),\n",
              " ('说', 486),\n",
              " ('会', 435),\n",
              " ('没有', 360),\n",
              " ('中国', 351),\n",
              " ('真的', 343),\n",
              " ('没', 293),\n",
              " ('一个', 271),\n",
              " ('节目', 261),\n",
              " ('不要', 252),\n",
              " ('知道', 239),\n",
              " ('做', 232),\n",
              " ('现在', 227),\n",
              " ('医师', 204),\n",
              " ('觉得', 176),\n",
              " ('问题', 172),\n",
              " ('想', 172),\n",
              " ('不会', 169),\n",
              " ('加油', 168),\n",
              " ('一直', 167),\n",
              " ('黄', 165),\n",
              " ('讲', 162),\n",
              " ('大陆', 155),\n",
              " ('太', 154),\n",
              " ('很多', 152),\n",
              " ('台湾人', 146),\n",
              " ('应该', 145),\n",
              " ('已经', 140),\n",
              " ('这种', 140),\n",
              " ('⋯', 139),\n",
              " ('妳', 132),\n",
              " ('喜欢', 126),\n",
              " ('女人', 125),\n",
              " ('可能', 120),\n",
              " ('更', 120),\n",
              " ('爱', 119),\n",
              " ('一定', 116),\n",
              " ('不能', 115),\n",
              " ('中', 114),\n",
              " ('看到', 113),\n",
              " ('生活', 112),\n",
              " ('美国', 112),\n",
              " ('阿娇', 111),\n",
              " ('希望', 109),\n",
              " ('钱', 108),\n",
              " ('父母', 105),\n",
              " ('事', 104),\n",
              " ('男人', 104),\n",
              " ('媒体', 103),\n",
              " ('国家', 103),\n",
              " ('新闻', 103),\n",
              " ('警察', 100),\n",
              " ('支持', 95),\n",
              " ('...', 95),\n",
              " ('政府', 90),\n",
              " ('结婚', 89),\n",
              " ('其实', 88),\n",
              " ('买', 88),\n",
              " ('房价', 87),\n",
              " ('婚姻', 87),\n",
              " ('主持人', 85),\n",
              " ('医生', 85),\n",
              " ('口罩', 83),\n",
              " ('请', 82),\n",
              " ('经济', 82),\n",
              " ('看看', 81),\n",
              " ('社会', 81),\n",
              " ('人民', 80),\n",
              " ('政治', 77),\n",
              " ('找', 77),\n",
              " ('房子', 76),\n",
              " ('男', 76),\n",
              " ('根本', 75),\n",
              " ('真', 75),\n",
              " ('移民', 74),\n",
              " ('运气', 72),\n",
              " ('家庭', 71),\n",
              " ('感觉', 71),\n",
              " ('幸福', 70),\n",
              " ('总统', 70),\n",
              " ('国民党', 70),\n",
              " ('听', 69),\n",
              " ('中共', 68),\n",
              " ('住', 66),\n",
              " ('挖', 66),\n",
              " ('时', 65),\n",
              " ('需要', 65),\n",
              " ('年轻人', 64),\n",
              " ('多谢', 64),\n",
              " ('吃', 62),\n",
              " ('好像', 62),\n",
              " ('年', 61),\n",
              " ('有钱', 61),\n",
              " ('岁', 61),\n",
              " ('喔', 60),\n",
              " ('最后', 60),\n",
              " ('走', 60),\n",
              " ('一点', 60),\n",
              " ('不同', 60)]"
            ]
          },
          "metadata": {},
          "execution_count": 218
        }
      ]
    },
    {
      "cell_type": "code",
      "source": [
        "words = ['香港', '中国', '美国', '台湾人', '台湾',\n",
        "      '大陆', '国家', '警察', '政府', '经济', '社会', '人民', \n",
        "      '政治', '移民', '总统', '国民党', '中共', '年轻人', '生活', '房价', '房子']\n",
        "word_dict = {w:i for i, w in enumerate(words)}\n",
        "\n",
        "# print(word_dict)\n",
        "tfidf_model6 = TfidfVectorizer(token_pattern=r\"(?u)\\b\\w+\\b\",\n",
        "                               vocabulary= word_dict).fit(documents)\n",
        "print(tfidf_model5.vocabulary_)\n",
        "print(tfidf_model5.transform(documents).todense())"
      ],
      "metadata": {
        "colab": {
          "base_uri": "https://localhost:8080/"
        },
        "id": "dkWO9idOqcgX",
        "outputId": "dfea6a3f-73c7-483d-cd8f-cb7e76f5fff9"
      },
      "id": "dkWO9idOqcgX",
      "execution_count": null,
      "outputs": [
        {
          "output_type": "stream",
          "name": "stdout",
          "text": [
            "{'大哥': 3225, '吉雷米': 2702, '互动': 1285, '可爱': 2615, '欢迎': 5659, '加入': 2249, '台湾': 2640, '这个': 8132, '温馨': 6032, '家庭': 3741, '牛嘴': 6225, '这高雄': 8185, '老外': 7128, '台语': 2646, '能力': 7241, '应该': 4067, '台北人': 2633, '武汉': 5703, '病毒': 6453, '真的': 6618, '伤脑筋': 1547, '无恐': 5164, '不入': 817, '目前': 6498, '全世界': 1855, '传染': 1538, '这样': 8161, '感觉': 4529, '知道': 6663, '如何是好': 3507, '何时': 1605, '才能': 4655, '结束': 7006, '很多': 4227, '行业': 7522, '影响': 4204, '非常': 8667, '将来': 3804, '感到': 4519, '担忧': 4773, '害怕': 3723, '担心': 4772, '孩子': 3637, '因为': 2966, '充满': 1809, '怎么': 4361, '消沉': 5983, '其实': 1948, '恐怖': 4419, '大家': 3243, '缩衣节食': 7052, '打算': 4680, '出门': 2101, '多待': 3189, '在家': 3029, '会变': 1518, '中国': 1088, '串出来': 1119, '有够': 5393, '研究': 6674, '实在': 3693, '懦弱': 4548, '贪婪': 7895, '无知': 5184, '长期以来': 8471, '邪恶': 8355, '无耻': 5186, '外宣': 3149, '洗脑': 5934, '导致': 3793, '纵容': 6957, '残暴': 5729, '独裁者': 6278, '小群': 3849, '权贵': 5518, '老头': 7132, '胆大妄为': 7221, '肆虐': 7200, '全人类': 1856, '危害': 2403, '人类': 1397, '生命': 6353, '财产': 7870, '安全': 3644, '所以': 4622, '世界': 1005, '各国': 2679, '一个': 551, '人民': 1381, '享有': 1321, '基本': 3098, '人权': 1377, '选举权': 8243, '罢免权': 7075, '媒体': 3586, '报导': 4754, '自由': 7315, '健全': 1784, '法治': 5915, '监督': 6490, '政府': 5012, '避免': 8324, '任何人': 1496, '团体': 2975, '拥有': 4808, '太大': 3342, '权势': 5516, '不停': 813, '重复': 8396, '制造': 2190, '悲惨': 4452, '战争': 4602, '浩劫': 5968, '线上': 6962, '会议': 1528, '软体': 8047, '绝对': 7018, '不要': 951, '选择': 8246, 'zoom': 545, '创办人': 2144, '所有': 4625, '研发': 6673, '人员': 1357, '如同': 3509, '华为': 2361, '任何': 1495, '公司': 1896, '无法': 5177, '摆脱': 4930, '中共政府': 1082, '掌握': 4863, '为了': 1127, '机密': 5501, '使用': 1650, '法国': 5910, '数据': 5058, '哪来': 2862, '造谣': 8284, '还是': 8121, '风向': 8736, '年轻': 4032, '感染率': 4528, '可能': 2620, '是因为': 5280, '留学生': 6426, '教育': 5041, '失败': 3386, '什么': 1421, '关系': 1934, '开口': 4106, '第一句': 6850, '卖安咧拉': 2379, '很台': 4224, '而且': 7161, '一种': 662, '善意': 2896, '融入': 7513, '表现': 7547, '为什么': 1130, '郑先生': 8359, '故意': 5024, '难堪': 8613, '表示': 7548, '主持人': 1154, '高人一等': 8810, '比较': 5776, '厉害': 2423, '心胸狭窄': 4307, '没有': 5875, '气度': 5807, '礼貌': 6702, 'lavender': 303, 'farm': 191, '有所不知': 5410, '他们': 1456, '两个': 1032, '就是': 3877, '很熟': 4244, '这是': 8159, '幽默': 4050, '口罩': 2567, '我们': 4573, '买不到': 1222, '不是': 904, '更惨': 5335, '大s': 3206, '最近': 5367, '出来': 2089, '深情': 6003, '喊话': 2904, '皇帝': 6485, '子孙': 3605, '这么': 8133, '搜刮': 4913, '我住': 4575, '澳洲': 6090, '大多数': 3233, '不戴': 890, '就算': 3878, '亚洲': 1302, '配服': 8376, '外国人': 3146, '不见棺材不掉泪': 956, '决心': 2021, '认同': 7667, '疑问': 6436, '提出': 4893, '同时': 2720, '质疑': 7891, '别人': 2153, '不然': 917, '何必': 1602, '多加': 3174, '最后': 5349, '一句': 583, '随手': 8591, '一查': 639, '自己': 7298, '动手': 2262, '留言': 6430, '回覆': 2964, '有效率': 5415, '不会': 806, '敏感': 5029, '部分': 8369, '还好': 8117, '毕竟': 5780, '点名': 6122, '算数': 6882, '工作人员': 3931, '不好': 850, '字眼': 3611, '哈哈': 2843, '失业率': 3374, '计算': 7658, '总人口': 4404, '失业': 3373, '人口': 1351, '劳动': 2278, '工作': 3930, '意图': 4504, '排除': 4869, '32': 40, '引用': 4128, 'fed': 192, '奚落': 3415, '之前': 1176, '做点': 1769, '功课': 2246, '何默真': 1609, '小姐': 3821, '一年': 622, '漂亮': 6070, '看到': 6546, '想到': 4481, '家乐福': 3729, '贵会': 7910, '增加': 3114, '疫情': 6439, '出面': 2103, '干预': 4007, '防疫': 8517, '那么': 8333, '台湾人': 2641, '没发': 5860, '佛心': 1618, '医护人员': 2325, '劳心': 2280, '劳力': 2277, '付出': 1462, '深深感动': 6005, '感恩': 4524, '陈时': 8565, '部长': 8371, '团队': 2977, '主导': 1149, '不仅': 804, '控制': 4879, '守住': 3641, '国际': 3008, '一举成名': 557, '身为': 8019, '感动': 4520, '骄傲': 8796, '张依珍': 4132, '觉得': 7628, '现在': 6317, '突然': 6815, '提高': 4902, '标准': 5591, '规定': 7623, '以免': 1479, '扩大': 4697, '上万': 738, '欧美': 5668, '回国': 2949, '一般': 671, '客机': 3710, '量体温': 8414, '台下': 2630, '机后': 5498, '自行': 7325, '回家': 2954, '管理': 6888, '包机': 2305, '当初': 4173, '飞机': 8748, '时候': 5243, '下机': 783, '集中': 8633, '隔离': 8603, '14': 8, '人数': 1375, '200': 22, '不到': 826, '早就': 5223, '可以': 2599, '方舱': 5128, '不算': 934, '不用': 922, '终止': 6972, '一切': 571, '经济': 6984, '活动': 5941, '商店': 2885, '关门': 1940, '一兆元': 566, '无能': 5188, '算盘': 6884, '只能': 2591, '继续': 7026, '吹牛': 2795, '一样': 641, '太好了': 3346, '脱裤': 7264, '米粉': 6890, '以上': 1475, '很贵': 4250, '分享': 2108, '对抗': 3782, '方法': 5127, '各县市': 2676, '分开': 2113, '医疗': 2331, '资源': 7926, '投入': 4721, '该县': 7758, '感染': 4527, '换下': 4851, '慢慢': 4540, '各县': 2675, '各市': 2681, '自然': 7313, '抗体': 4734, '下病': 792, '治本': 5902, '锁国': 8452, '无用': 5183, '自给自足': 7324, '国家': 2993, '不了': 801, '多久': 3164, '先出': 1814, '问题': 8500, '免疫': 1841, '出国': 2084, '带病毒': 3980, '恶梦': 4441, '重新': 8402, '轮回': 8046, '也好': 1206, '喜欢': 2907, '黄轩': 8877, '医师': 2323, '笑容': 6838, '越来越': 7992, '爱看': 6198, '节目': 7370, '谢谢': 7846, '作战': 1630, '卖场': 2378, 'xd': 518, '一粒': 664, '侧面': 1667, '好帅': 3480, '讲到': 7693, '志村健': 4334, '本来': 5488, '留给': 6429, '哥哥': 2851, '添麻烦': 6011, '不像': 814, '有些': 5377, '艺人': 7363, '家人': 3732, '赚钱': 7946, '拼命': 4812, '要钱': 7601, '随时': 8592, '有趣': 5441, '平民百姓': 4019, '了解': 1245, '现实': 6319, '勤洗手': 2291, '群聚': 7107, '基本功': 3100, '郑红姨': 8366, '无聊': 5187, '不妥': 854, '以为': 1476, '好笑': 3492, '笑话': 6841, '完全': 3661, '一直': 658, '调侃': 7825, '朋友': 5454, '很差': 4231, '走钟': 7961, '严重': 1068, '怎么回事': 4363, '败笔': 7887, '未来': 5475, '见面': 7610, '只好': 2585, '装备': 7569, '戴上': 4606, '护目': 4751, '手套': 4635, '少共食': 3854, '亲密': 1328, '注意': 5922, '清洁': 6017, '必要': 4320, '严格': 1064, '适当': 8237, '户外活动': 4610, '灿烂': 6114, '每次': 5756, '讲话': 7706, '风趣': 8742, '一位': 565, '奥地利': 3417, '路上': 8008, '遮住': 8319, '脸部': 7272, '防止': 8516, '恐怖分子': 4420, '有个': 5374, '以前': 1480, '街上': 7532, '只是': 2587, '围巾': 2980, '围得': 2981, '一点': 651, '而已': 7164, '警察': 7652, '25': 34, '欧元': 5664, '罚款': 7071, '英国': 7410, '封城': 3797, '一天': 603, '允许': 1804, '一次': 643, '运动': 8104, '包括': 2303, '遛狗': 8316, '小时': 3837, '今天': 1431, '终于': 6969, '落气': 7457, '不错': 974, '复习': 3135, '谚语': 7840, '屠洁': 3918, '贴切': 7905, '段时间': 5735, '刻苦': 2197, '没关系': 5857, '健康': 1785, '身体': 8023, '平安': 4012, '加油': 2253, '林荣元': 5558, '旅游': 5141, '达人': 8072, '老实': 7136, '休息': 1506, '缓缓': 7045, '频道': 8724, '上些': 740, '知性': 6659, '生活': 6364, '内容': 1971, '讲台': 7694, '语蛮': 7767, '好听': 3468, '发音': 2519, '很道': 4252, '好奇': 3474, '穿针引线': 6812, '今晚': 1435, '挖出': 4834, '话题': 7756, '轻松': 8052, '观赏': 7619, '开心': 4109, '马来西亚人': 8788, '人去': 1350, '一定': 607, '老公': 7124, '只要': 2592, '驾车': 8794, '女儿': 3426, '网友': 7061, '大马': 3291, '特别': 6238, '一户': 626, '外出': 3143, '没限': 5894, '男女': 6404, '加拿大': 2252, '已经': 3954, '星期': 5275, 'vicky': 495, 'dao': 154, 'lin': 312, '自制': 7285, '布囗罩': 3964, '应急': 4063, '这集': 8183, '没想到': 5871, '有关': 5383, '恐慌': 4423, '你们': 1641, '时间': 5257, '很快': 4234, '欢笑声': 5658, '度过': 4081, '超超': 7984, '超赞': 7983, '有人': 5378, '这时候': 8158, '嘻皮笑脸': 2930, '可是': 2614, '打开': 4669, '电视网': 6396, '全部都是': 1875, '新闻': 5114, '日子': 5209, '前线': 2214, '那些': 8334, '捍卫': 4843, '看看': 6567, '听听': 2768, '故事': 5021, '苦中作乐': 7399, '不太能': 849, '消遣': 5987, '凡事': 2064, '懂得': 4546, '肺炎': 7215, '蓝志阳': 7471, '是不是': 5278, '刺耳': 2195, '看来': 6561, '脸挺': 7269, '抢光': 4744, 'lucas': 321, '中共': 1081, '下令': 776, '全球': 1870, '各地': 2680, '中企': 1077, '当地': 4174, '用品': 6380, '反而': 2485, '高价': 8812, '无良': 5190, 'etoile': 182, 'luna': 323, '没错': 5893, '佛罗里达州': 1622, '代购': 1471, '女人': 3423, '扫购': 4699, '一家': 608, '洋洋得意': 5929, '美国': 7089, '真是': 6610, '人性': 1370, '大卫': 3222, '徐甘舒': 4257, '吉米': 2700, '肯定': 7212, '做得好': 1763, '归功于': 4159, 'sars': 423, '经验': 6992, '认为': 7664, '认知': 7672, '疑惑': 6434, '当中': 4166, '蒙骗': 7466, '即时': 2413, '正确': 5689, '出口': 2081, '进口': 8189, '机各大': 5497, '工具机': 3934, '发挥': 2503, '互助': 1286, '精神': 6904, '国人': 2986, '感谢': 4530, '今年': 1432, '年轻人': 4033, '选票': 8251, '执政': 4689, '更好': 5334, '雷米': 8646, '我要': 4590, '检讨': 5628, '受益': 2535, '语言': 7768, '天份': 3303, '真棒': 6615, '亲切': 1326, 'hank': 224, 'ji': 270, '前世': 2203, '必看': 4318, '制作组': 2182, '用心': 6382, '医生': 2329, '开朗': 4113, '那位': 8336, '太密': 3348, 'unusualfeline': 490, '香港': 8770, '观众': 7613, '平时': 4016, '收看': 4968, '而今': 7162, '资料': 7922, '准确': 2035, '十分': 2343, '专业': 990, '充分': 1808, '搜集': 4914, '容易': 3750, '情况': 4456, '希望': 3970, '好好': 3475, '保护': 1686, '一起': 676, 'ruby': 418, 'lah': 300, '哈哈哈': 2844, '猜中': 6281, '贴纸': 7907, 'taiwan': 461, '顺利': 8704, '过境': 8085, '不想': 884, '国有': 3000, '牵扯': 6235, '常识': 4000, '试试': 7748, '低水平': 1569, '中肯': 1110, '精辟': 6910, '公开': 1903, '胡说八道': 7233, '真不知道': 6587, '这些': 8136, '多少': 3185, '手无寸铁': 4640, '尖头': 3864, '激光': 6092, '机场': 5500, '捆绑': 4842, '记者': 7689, '阻碍': 8530, '公共交通': 1891, '地铁': 3058, '公交车': 1888, '损坏': 4849, '公共设施': 1894, '离题': 6755, '简直': 6879, '颠倒黑白': 8733, '是非': 5281, '市侩': 3960, '瞧不起': 6655, '反正': 2483, '接受': 4873, '移民': 6785, '意外': 4505, '作法': 1632, '祈祷': 6714, '记得': 7687, '支持': 4952, '中央': 1095, '杀过来': 5510, '辛苦': 8060, '难道': 8627, '大陆': 3287, '幸福': 4044, '活着': 5948, '房子': 4617, '而活': 7167, '买不起': 1223, '乡下': 1213, '农村': 2007, '买房': 1227, '说白了': 7796, '高不成低不就': 8806, '好房': 3486, '愿意': 4534, '退而求其次': 8231, '从古至今': 1444, '人活': 1384, '外国': 3145, '韩国': 8690, '发达': 2516, '首尔': 8765, '房价': 4613, '超高': 7987, '96': 73, '北上': 2311, '广深': 4057, '但是': 1562, '资产': 7919, '足够': 7996, '总是': 4406, '想活': 4490, '大都市': 3283, '所有人': 4626, '能活': 7246, '那里': 8354, '活不成': 5940, '富人': 3760, '不愿': 887, '乡下人': 1214, '造成': 8281, '今日': 1433, '结果': 7007, '爸妈': 6213, '人家': 1366, '二代': 1266, '干什么': 4002, '报怨': 4757, '而是': 7166, '勤劳': 2289, '发迹': 2517, '或许': 4601, '的话': 6483, '难听': 8612, '现实生活': 6321, '如此': 3512, '残酷无情': 5731, '深知': 6006, '巨婴': 3941, '自立自强': 7323, '正道': 5692, '有播': 5413, '飞机场': 8749, '普通': 5298, '旅游者': 5142, '示威': 6696, '暴打': 5321, '旅人': 5138, '人身自由': 1411, '强行': 4155, '翻看': 7115, '包包': 2295, '还有': 8122, '人士': 1361, '打倒': 4660, '忍无可忍': 4328, '枪支': 5569, '袭警': 7567, '各个': 2671, '罪名': 7079, '认识': 7674, '庆幸': 4060, '度假': 4080, '权利': 5514, '进行': 8193, '抗争': 4732, '勇敢': 2283, '事情': 1258, '争取': 1246, '伤害': 1545, '违法': 8200, '暴徒': 5319, '和平': 2821, '一部分': 686, '好不好': 3455, '全部': 1874, '事实': 1255, '随便': 8588, '高傲': 8814, '年前': 4027, '第一次': 6853, '逛商场': 8271, '还用': 8124, '英文': 7413, '沟通': 5844, '东西': 1025, '中文': 1103, '听懂': 2774, '节奏快': 7369, '完快': 3664, '吹捧': 2793, '别的': 2168, '港人': 6033, '一至': 669, '四月': 2943, '400': 49, '几万人': 2040, '政治': 5015, '相关': 6521, '解释': 7641, '带头': 3978, '国外': 2991, '一群': 666, '英美': 7415, '亲英派': 1337, '利用': 2150, '来宾': 5537, '这里': 8181, '一面倒': 692, '色彩': 7360, '环境': 6309, '不满': 915, '暴动': 5318, '抗议': 4739, '郑月': 8365, '为何': 1131, '下台': 779, '亲中': 1323, '鹰犬': 8856, '只有': 2588, '跟林': 8004, '大众': 3213, '不同': 838, '暴力': 5316, '镇压': 8462, '政客': 5011, '最坏': 5350, '别当': 2161, '牺牲品': 6251, '天佑': 3305, '人命': 1358, '人站': 1396, '游行': 6050, '香港政府': 8773, '不理': 921, '诉求': 7742, '根本': 5603, '发生': 2509, '如果': 3511, '投错': 4731, '投到': 4723, '忍耐': 4331, '爆炸': 6178, '历史': 2419, '胜利者': 7225, '编写': 7047, '一生': 655, '从来': 1449, '爱过': 6202, '民族': 5797, '集体': 8635, '不爱': 918, '德意志': 4268, '法兰西': 5908, '美利坚': 7087, '工人阶级': 3929, '信仰': 1696, '惟一': 4468, '爱人': 6184, '汉娜': 5828, '阿伦特': 8531, '小心': 3836, '逃亡': 8239, '哄抬': 2841, '民众': 5790, '苦不堪言': 7398, '市场': 3961, '开放': 4110, '要来': 7594, '贫富差距': 7899, '好像': 3462, '正常': 5682, '现象': 6322, '当然': 4191, 'zf': 543, '不够': 842, '李嘉诚': 5524, '垄断市场': 3088, '开始': 4107, '领土': 8720, '修订': 1704, '逃犯': 8240, '条例': 5530, '不可': 834, '引渡': 4126, '孟晚': 3621, '需要': 8650, '借口': 1718, '绿媒用': 7039, '一些': 558, '社会': 6703, '资本': 7923, '普遍存在': 5301, '博取': 2387, '眼球': 6631, '实质': 3703, '反中': 2469, '吞并': 2760, '明白': 5267, '相信': 6520, '真相': 6620, '观念': 7616, '思想': 4373, '永远': 5821, '角度': 7631, '根本就是': 5604, '交集': 1314, '作为': 1625, '基本素质': 3102, '学会': 3626, '尊重': 3809, '包容': 2298, '强大': 4150, '富强': 3764, '体现': 1586, '严肃': 1066, '小笑': 3847, '真话': 6625, '现场': 6318, '善良': 2900, '唾弃': 2876, '香港艺人': 8776, '远远': 8198, '甚至': 6346, '可怕': 2604, '臭铜味': 7339, '发言': 2514, '耻辱': 7182, '推黄': 4886, '变成': 2547, '进去': 8188, '联办': 7189, '拜码头': 4804, '那个': 8331, '还会': 8114, '出现': 2090, '中间派': 1113, '总之': 4402, '一步': 645, '不能': 944, '发声': 2498, '一班': 654, '台独': 2645, '主义者': 1144, '评论': 7736, '一集': 690, '以往': 1484, '冷漠': 2027, '自私': 7319, '六月': 1916, '发觉': 2513, '原来': 2437, '毅力': 5743, '何其': 1597, '有幸': 5400, '优秀': 1513, 'really': 408, 'proud': 398, 'of': 372, 'hk': 242, '绿绿': 7040, '拉选票': 4782, '然后': 6156, '声音': 3128, '小编': 3848, '就要': 3881, '封锁': 3800, '怕怕': 4370, '说好': 7786, '表达': 7549, '拒看': 4791, '东方之珠': 1020, 'ccp': 132, '手里': 4654, '东方': 1019, '之猪': 1185, '咬断': 2827, '手指': 4637, '他人': 1455, '眼睛': 6634, '正当': 5684, '自我': 7303, '防御': 8515, '黑警': 8892, '刚好': 2141, '这么久': 8134, '甚么': 6344, '党媒': 1848, '误导': 7773, '独立': 6275, '煽动': 6168, '不明真相': 901, '群众': 7103, '仇恨': 1429, '孤立': 3623, '清楚': 6015, '机会': 5494, '最初': 5347, '容貌': 3753, '可惜': 2609, '太阳': 3365, '打人': 4658, '帅哥': 3967, '中国国民党': 1091, '消灭': 5984, '证据': 7730, '要是': 7593, '繁荣': 6936, '这位': 8141, '郑姓': 8361, '主题': 1162, '开玩笑': 4115, '抱歉': 4766, '过分': 8081, '看不下去': 6535, '素质': 6921, '奇怪': 3402, '奢侈品': 3416, '内地': 1970, 'lyn': 325, 'li': 308, '口水': 2565, '多过': 3201, '浪花': 5971, '林美穗': 5557, '以后': 1482, '不准': 823, '除非': 8582, '承认': 4713, '别以为': 2154, '繁体字': 6935, '几个': 2042, '写字': 1997, '红色': 6945, '滚出': 6059, '谎话': 7839, '连篇': 8210, '真心': 6606, '下去': 778, '收回': 4962, '称之为': 6782, '闪耀': 8490, '发光': 2496, '城市': 3095, '如今': 3505, '执政者': 4691, '竟然': 6833, '命运多舛': 2819, '名字': 2735, '失落': 3383, '好多': 3472, '操作': 4947, '使得': 1648, '民心向背': 5794, '长生不死': 8473, '享尽': 1320, '权力': 5515, '在握': 3033, '快感': 4345, '荼毒': 7435, '百姓生活': 6477, '恐惧': 4422, '失去': 3378, '古有': 2572, '得道多助': 4264, '失道寡助': 3388, '30': 38, '快速': 4349, '发展': 2501, '缘由': 7051, '大多': 3232, '有德': 5403, '品德': 2834, '重要': 8408, '幸灾乐祸': 4043, '救人': 5030, '危难': 2407, '即使': 2408, '对手': 3781, '抹黑': 4768, '等等': 6867, '之地': 1179, '没落': 5889, '不得人心': 875, '告诉': 2800, '某些': 5574, '黑衣人': 8890, '普通话': 5300, '广东话': 4052, '流利': 5957, '英语': 7417, '大陆同胞': 3288, '心情': 4290, '焦急': 6153, '捐款捐物': 4844, '看过': 6579, '坏话': 3068, '有难': 5452, '流传': 5956, '最美': 5362, '恶心': 4438, '口口声声': 2556, '同胞': 2727, '一看': 660, '有点': 5427, '骚乱': 8804, '立马': 6830, '达到': 8073, '性高潮': 4391, '倒霉': 1714, '非常高兴': 8669, '卑劣': 2368, '劲头': 2276, '马上': 8778, '呈现': 2799, '真实': 6603, '消息': 5982, '网络': 7063, '清醒': 6021, '几乎': 2043, '背后': 7222, '搞事': 4919, '贸易战': 7915, '普通人': 5299, '这点': 8167, '良心': 7357, '不痛': 925, '袖手旁观': 7555, '援救': 4910, '斥责': 5095, '落井下石': 7452, '公正': 1906, '你们好': 1642, '同样': 2722, '说话': 7802, '文字': 5081, '太过分': 3363, '港警': 6045, '废青': 4077, '糟糕': 6915, '居高不下': 3909, '建商': 4092, '活命': 5942, '西藏': 7578, '赶紧': 7965, '宣布独立': 3717, '蒙古': 7461, '自救': 7307, '帮不上忙': 3983, '公共电视': 1893, 'pts': 400, '周一': 2804, '周四': 2806, '晚间': 5294, '八点': 1883, '九点': 1204, '有话好说': 5439, '陈信聪': 8558, '讨论': 7681, '网路上': 7067, '影片': 4206, '存档': 3614, '提供': 4892, '资讯': 7927, '借镜': 1721, 'china': 137, '做梦': 1766, '别傻了': 2155, '嘻嘻': 2929, '大好人': 3237, 'if': 253, 'you': 536, 'think': 470, 'hong': 244, 'kong': 295, 'is': 260, 'democracy': 157, 'lost': 318, 'your': 537, 'mind': 348, '行为': 7523, '所在': 4623, '德国': 4266, '直接': 6508, '恐怖袭击': 4421, '处置': 3133, '北美': 2315, '开枪': 4114, '总算': 4409, '我妈': 4578, '反送': 2490, '平常': 4013, '很少': 4230, '那群': 8351, '年青人': 4035, '可怜': 2605, '惠珍': 4471, '无论如何': 5196, '投票': 4726, '等到': 6865, '那样': 8347, '后悔': 2740, '来不及': 5533, '尊贵': 3808, '太美': 3358, '愚昧无知': 4514, '只想': 2586, '占便宜': 2390, '互惠': 1287, '一味': 588, '索取': 6923, '游行示威': 6051, '流血': 5963, '牺牲': 6250, '双方': 2464, '示威者': 6698, '伤人': 1542, '受伤': 2529, '井底之蛙': 1299, '报道': 4761, '人均收入': 1360, '不景气': 905, '有名': 5391, '商人': 2883, '出台': 2082, '会高': 1529, '黑衣': 8889, '所说': 4631, '头部': 3396, '真有假': 6614, '似乎': 1555, '最大': 5352, '不起': 967, '人用': 1392, '接近': 4878, '一半': 579, '薪金': 7487, '很小': 4229, '房间': 4621, '翻转': 7117, '人生': 1388, '体会': 1583, '珍惜': 6324, '妈呀': 3523, '热泪盈眶': 6150, '高贵': 8834, '万一': 700, '变化': 2541, '民主': 5786, '帮助': 3984, '敬佩': 5050, '勇气': 2284, '难逃': 8626, '欺负': 5671, '宿命': 3756, '有种': 5436, '不去': 831, '打川普': 4667, '只会': 2580, '诉愿': 7741, '请愿': 7810, '百姓': 6476, '同学': 2712, '了不起': 1244, '本土': 5483, '意识': 4511, 'excuse': 184, 'me': 339, '留下': 6419, '资格': 7924, '其他': 1945, 'jocelyn': 275, 'cao': 127, '逻辑': 8289, '一捋': 628, '字旁': 3610, '丝丝缕缕': 1026, '提手旁': 4898, '打脸': 4681, '啪啪': 2892, '语文': 7765, '体育老师': 1589, '护照': 4749, '法理': 5916, '属于': 3914, '300': 39, '多个': 3163, '哪个': 2856, '既然': 5206, '万人': 704, '土地': 3018, '上闹个': 773, '哪里': 2863, '数字': 5056, '忍不住': 4326, '700': 63, '万人持': 705, '煞笔': 6158, '过回': 8084, '方式': 5125, '榨菜': 5644, '事件': 1249, '看中': 6542, '媒下': 3585, '标题': 5594, '关键时刻': 1939, '的确': 6482, '夸张': 3398, '效果': 5026, '道歉': 8307, '阐述': 8511, '关于': 1928, '举卖': 1166, '股价': 7203, '直落': 6513, '分析': 2118, '吃不起': 2656, '来说': 5545, '假设': 1737, '原本': 2436, '买菜': 1230, '用来': 6386, '蔬果': 7483, '另外': 2577, '腌菜': 7274, '这类': 8172, '配菜': 8378, '一旦': 632, '10': 0, '可用': 2616, '优先购买': 1510, '消费': 5986, '借此': 1719, '大跌': 3277, '说明': 7790, '看衰': 6573, '不知': 929, '是否': 5279, '理解': 6336, '难看': 8622, '整集': 5072, '除了': 8581, '以外': 1483, 'cnn': 142, '验伤': 8798, '不站': 933, '提告': 4896, '默默无闻': 8897, '被验': 7565, '钢珠': 8440, '打到': 4663, '本事': 5479, '赔偿': 7934, '追求': 8222, '有过': 5442, '人才': 1372, '可贵': 2626, '哇哇': 2842, '姚惠珍': 3552, '个性': 1076, '学学': 3630, '几年': 2055, '发大财': 2499, '60': 58, '笼子': 6862, '大餐': 3290, '钞票': 8437, '垃圾桶': 3086, '谈吐': 7831, '恻隐之心': 4446, '温暖': 6031, '不论': 960, '言论': 7649, '无论是': 5197, '为人处事': 1128, '知识': 6661, '良多': 7355, '年纪轻轻': 4030, '深度': 6001, '真不舍': 6588, '老中青': 7119, '生死': 6362, '嘉宾': 2915, '老笑': 7148, '过年': 8089, '期间': 5468, '老婆': 7135, '小孩': 3825, '打麻将': 4685, '娱乐': 3567, '无伤大雅': 5154, '有何不可': 5382, '特权': 6244, '走私': 7958, '品好': 2833, '太多': 3338, '阿弥陀佛': 8544, '品是': 2836, '历经': 2422, '三任': 720, '总统': 4411, '恶习': 4434, '国安局': 2992, '单位': 2370, '封闭': 3801, '这次': 8164, '改革': 4982, '刘鸿侠': 2139, '模煳': 5647, '焦点': 6154, '自从': 7281, '市长': 3963, '麻将': 8861, '街头': 7533, '暴力事件': 5317, '睁眼': 6646, '说瞎话': 7798, '外星人': 3150, '眼瞎': 6635, '暴民': 5323, '汽油弹': 5835, '视而不见': 7626, 'pony': 393, '你点': 1644, '证明': 7731, '有份': 5379, '参与': 2451, '只信': 2583, '所见': 4629, '笔所伤': 6843, '入院': 1854, '宿舍': 3757, '放火': 5003, '全坏': 1862, '份子': 1501, '乔装': 1199, '削弱': 2201, '正当性': 5685, '请问': 7814, '时能': 5255, '判断': 2147, '一下': 547, 'jason': 264, 'chung': 140, '双重标准': 2468, '每天': 5753, '150': 10, '居住': 3901, '品质': 2839, '房地产': 4615, '富商': 3762, '炒到': 6117, '数一数二': 5052, '剥夺': 2221, '奶粉': 3451, '大妈': 3239, '非洲': 8674, '猪瘟': 6285, '因素': 2971, '受不了': 2528, '应有': 4064, '权益': 5517, '作死': 1631, '不该': 962, '一国两制': 591, '梅子': 5619, '受过': 2540, '高等教育': 8831, '发明': 2505, '公摊面积': 1905, '李先生': 5521, '明日': 5260, '熟悉': 6171, '内情': 1973, '收手': 4964, '跑掉': 7999, '不知不觉': 930, '垫底': 3092, '收拾残局': 4966, '这词': 8178, '别国': 2156, '自愿': 7302, '监牢': 6489, '工作者': 3932, '风尘': 8738, '鬼扯': 8841, '高度': 8823, '五分钟': 1293, '收下': 4956, '倒赞': 1713, '意义': 4503, '关心': 1931, '平行': 4022, '时空': 5254, '令人': 1472, '难受': 8611, '感谢您': 4531, '值得': 1724, '一段': 646, '准备': 2034, '现况': 6315, '讲得': 7697, '谢谢您': 7847, '扯蛋': 4703, '统一': 7019, '2019': 28, '提醒': 4901, '欣赏': 5663, '不光': 815, '民生': 5798, '点滴': 6125, '独特': 6273, '思考': 4377, '一颗': 694, '正直': 5688, '公平': 1902, '伪民': 1549, '一面': 691, '另一面': 2576, '怎样': 4367, '放眼': 5006, '虽然': 7504, '但会': 1558, '参考': 2453, '党外': 1847, '时期': 5251, '看清': 6564, '国民党': 3002, '嘴脸': 2923, '手段': 4647, '老师': 7137, '难得': 8616, '人有': 1376, '一份': 563, '心力': 4276, '催泪瓦斯': 1793, '布袋': 3966, '橡胶': 5651, '子弹': 3606, '根据': 5602, '眼科': 6637, '或者': 4600, '视频': 7627, '女生': 3442, '赚会': 7942, '对得起': 3779, '不暴': 906, '粗口': 6896, '以暴制暴': 1485, '说出': 7783, '附和': 8553, '算是': 6883, '法律': 5913, '评判': 7733, '一环': 653, '爆粗': 6179, '位置': 1567, '特殊性': 6245, '时代': 5240, '主因': 1146, '天堂': 3313, '处理': 3132, '书吧': 1216, '港星': 6039, '享受': 1319, '明星': 5262, '光环': 1834, '粉丝': 6894, '追捧': 8221, '哑吧': 2850, '成龙': 4572, '这群': 8173, '那多': 8340, '沉着': 5839, '住气': 1579, '白痴': 6469, '空口说白话': 6801, '歪曲事实': 5710, '全是': 1867, '到处': 2175, '破坏': 6676, '到底': 2177, '懂不懂': 4543, '分辨': 2122, '黑与白': 8879, '与非': 982, '透过': 8258, '个别': 1075, '欧洲': 5667, '公民': 1907, '服从': 5455, '程度': 6789, '罢工': 7076, '更是': 5336, '有过之而无不及': 5443, '民间': 5804, '上街': 767, '也许': 1207, '有天': 5394, '彼此': 4212, '不管': 935, '认不': 7662, 'estrella': 181, '坏人': 3064, '好人': 3460, 'mike': 345, 'kim': 287, '骗人': 8801, '实话': 3702, 'bunch': 124, 'stirrers': 451, '97': 74, '有没有': 5424, '游客': 6047, '大声': 3231, '喧哗': 2909, '插队': 4906, '随地': 8589, '便溺': 1674, '人物': 1387, '生命诚可贵': 6355, '爱情价更高': 6192, '两者': 1060, '经历': 6979, '体验': 1592, '痛苦': 6459, '一千亿': 577, '回到': 2946, '威权': 3560, '仔细': 1454, '居然': 3906, '奖状': 3411, '一堆': 598, '海外': 5979, '脑中风': 7251, '公物': 1909, '交通灯': 1312, '禁锢': 6739, '攻击': 4984, '平民': 4018, '阻塞': 8528, '道路': 8309, '交通': 1311, '临时演员': 1121, '上演': 760, '一幕': 620, '话剧': 7755, '下班': 791, '忍住': 4327, '忿怒': 4356, '出外': 2085, '吃个': 2657, '日常用品': 5211, '不敢': 894, '野兽': 8412, '死城': 5719, '一时': 633, '高兴': 8815, '拆坏': 4774, '铁闸': 8446, '高音': 8839, '打架': 4675, '粗言秽语': 6897, '挑衅': 4833, '泯灭': 5923, '花生': 7381, '看戏': 6555, '报应': 4755, '可笑': 2618, '穷鬼': 6800, '投资': 4730, '天真': 3328, '无药': 5191, '可救': 2613, '地步': 3049, '现代': 6311, '青年': 8656, '月光族': 5370, '稳定': 6792, '买房子': 1228, '自作孽': 7283, '就让': 3882, '自生自灭': 7314, '孟孟儿': 3620, '为什': 1129, '人要': 1404, '印度': 2400, '专家': 994, '选择性': 8248, '失明': 3380, '亲眼看到': 1334, '绑架': 6994, '郑国豪': 8360, '查出': 5581, '抗住': 4733, '人质': 1407, '盗取': 6495, '信用卡': 1698, 'iphone': 259, '爱港': 6197, '解释一下': 7642, '强盗': 4153, '头目': 3394, '上课': 769, '满嘴': 6064, '辩解': 8069, '罗冠聪': 7069, '这种': 8169, '废青会': 4078, 'google': 217, '简单': 6878, '武器': 5702, '弘仪': 4129, '主持': 1153, '节奏': 7368, '很棒': 4239, '共产': 1920, '制度': 2184, '成为': 4557, '第二': 6859, '自觉': 7327, '上层': 749, '菁英': 7447, '被整': 7560, '世界霸权': 1009, '不佳': 809, '对立': 3786, '卖卖': 2376, '军火': 2004, '打死': 4676, '国力': 2990, '坐等': 3072, '渔翁': 6025, '可悲': 2608, '几天': 2053, '开车': 4117, '经过': 6990, '信义路': 1694, '101': 2, '忽然': 4354, '看见': 6574, '好大': 3473, '五星旗': 1295, '立在': 6826, '那儿': 8337, '停车': 1780, '缓气': 7044, '前去': 2205, '旗子': 5145, '当下': 4164, '坐在': 3069, '塑胶': 3107, '矮凳': 6670, '一脸': 668, '横肉': 5649, '满口': 6063, '金牙': 8425, '大叔': 3223, '起来': 7974, '意见': 4510, '一眼': 661, '德行': 4270, '大吼': 3224, '一声': 599, '录像机': 4196, '跟着': 8005, '直到': 6505, '上车': 771, '罢休': 7074, '拍摄': 4788, '车子': 8035, '一圈': 592, '车牌': 8036, '不让': 958, '中国共产党': 1089, '嚣张': 2932, '恶劣': 4436, '不要脸': 953, '莫明其妙': 7442, '反拍': 2481, '别怕': 2163, '找上门': 4707, '直播': 6509, '出书': 2072, '想象力': 4495, '丰富': 1116, '全方位': 1866, '开讲': 4116, '太强': 3350, '盲忙': 6503, '众生': 1509, '有福': 5435, 'suelien': 456, 'chen': 136, '很久没': 4222, '兴趣': 1942, '好不容易': 3456, '谈点': 7834, '正经': 5691, '进来': 8191, '五蕴': 1296, '宝贵': 3687, '议题': 7684, '条条': 5531, '有理': 5429, 'free': 200, 'always': 91, 'most': 351, 'expensive': 186, 'but': 125, 'freedom': 201, 'priceless': 396, 'youth': 538, 'admired': 84, '偏颇': 1750, '行径': 7528, '翻墙': 7110, '墙外': 3113, '骨感': 8805, '从小': 1446, '接收': 4874, '世界观': 1008, '差别': 3945, '消化': 5980, '回家吧': 2955, '感想': 4526, '国内': 2989, '畅所欲言': 6418, '暴政': 5322, '要说': 7598, '便宜': 1670, '租金': 6774, '最贵': 5365, '上海': 758, '前三名': 2202, '静音': 8662, '笑死人': 6840, '没笑': 5882, 'ideasofmind': 252, '人渣': 1385, '文本': 5085, '脸书': 7266, '点笑': 6126, '缓和': 7043, '气氛': 5808, '酸言酸语': 8384, '大学': 3240, '想念': 4486, '美人姐': 7085, 'jheng': 269, 'rong': 417, 'shen': 431, '很难': 4253, '看起来': 6577, '沉重': 5840, '这段': 8165, '剪掉': 2230, '呜呜': 2803, '看不到': 6538, '镜头': 8463, '难笑': 8623, '紧张': 6925, '玩死': 6305, '烂掉': 6129, '闭嘴': 8492, '掌控': 4862, '终将': 6971, '存在': 3612, '价值': 1491, '至少': 7343, '含金量': 2763, '一场': 593, '受到': 2530, '多数': 3191, '违攻': 8199, '老人': 7122, '非法': 8673, '禁固持': 6737, '政见': 5019, '瘫痪': 6463, '香港机场': 8774, '一一': 546, '下滑': 790, '不但': 807, '更会': 5330, '渐渐': 6024, '这场': 8147, '真正': 6616, '目的': 6501, '明智之举': 5265, '保持': 1687, '宗旨': 3674, '仅聊': 1427, '明显': 5264, '不太': 845, '双胞胎': 2466, '妹妹': 3538, '嫁给': 3597, '讲述': 7708, '印象': 2402, '特质': 6248, '起身': 7976, '重创': 8395, '桌面上': 5616, '一叠': 581, '书面资料': 1221, '不再': 821, '购物': 7902, '原因': 2432, '前后': 2206, '发表': 2512, '妹婿': 3539, '限制': 8579, '深刻': 5998, '谣言': 7850, '传播': 1536, '新闻台': 5115, '中天': 1094, '时共畜': 5246, '色盲': 7361, '建议': 4097, '时共军': 5245, 'yt': 541, '犹如': 6256, '波拉': 5919, '迅速': 8076, '掩盖': 4888, '造假': 8277, '传开': 1535, '万岁': 711, '近期': 8111, '精彩': 6902, 'sui': 457, 'fu': 204, '那壶': 8339, '提提': 4899, '谢小琪': 7842, '婆媳': 3574, '嗅觉': 2913, '分别': 2109, '催泪弹': 1792, '过期': 8094, '兄弟': 1807, '倾向': 1726, '什么样': 1422, '说个': 7780, '安居乐业': 3649, '哈哈哈哈': 2845, 'youtube': 539, '放心': 4998, '东森': 1023, 'tvbs': 482, '适合': 8236, '乖乖': 1200, '嘴里': 2927, '共产党': 1921, '解放军': 7639, '深圳': 5999, '进入': 8186, '戒备状态': 4595, '不顾': 979, '制裁': 2189, '出兵': 2074, '豁出去': 7854, '没事': 5847, '那会': 8335, '顺手': 8706, '攻台': 4985, '疯成': 6440, '两条': 1051, '战线': 4603, '应算': 4065, '一条': 636, '反抗': 2480, '一刚': 573, '确实': 6689, '后来': 2743, '谋杀': 7837, '武力': 5701, '黑道': 8894, '介入': 1437, '无法解释': 5180, '交代': 1306, '漠视': 6084, '安插': 3654, '纷乱': 6958, '逮捕': 8285, '更进一步': 5339, '大规模': 3273, '无法平息': 5178, '无端': 5185, '波及': 5917, '致命': 7345, '作用': 1633, '随意': 8590, '要不是': 7579, '人身': 1409, '严重威胁': 1069, '拿命': 4815, '无视': 5192, '霸凌': 8654, '冷眼旁观': 2028, '伸张': 1554, '个人': 1072, '面对': 8684, '集权': 8639, '用以': 6378, '死明志': 5721, '看在眼里': 6547, '打动': 4664, '离开': 6750, '如何': 3506, 'ps': 399, '40': 48, '过来': 8095, '手软': 4652, '脚软': 7258, '警方': 7653, '驱散': 8792, '人群': 1399, '方向': 5123, '上半身': 744, '做法': 1767, '符合': 6846, '国际标准': 3009, '射盲': 3802, '机率': 5502, '超过': 7986, '80': 67, '守护': 3642, '肉身': 7202, '安逸': 3656, '努力争取': 2274, 'lynn': 326, 'kuo': 297, '一国': 590, '两治': 1055, '口号': 2557, '无所谓': 5171, '回归': 2957, '羡慕': 7102, '本国': 5482, '免税': 1843, '便捷': 1672, '通道': 8270, '想想也是': 4488, '悲哀': 4451, '慈母': 4536, '多败儿': 3200, '利益集团': 2152, '勾结': 2292, '炎黄子孙': 6115, '霸权主义': 8655, '难民': 8620, '第一': 6847, '老二': 7121, '视为': 7625, '眼中钉': 6629, '守法': 3643, '表达意见': 7550, '坐地铁': 3070, '坐飞机': 3073, '商榷': 2886, '无辜': 5198, '执法': 4692, '克制': 1837, '林郑': 5559, 'the': 467, 'bill': 113, 'dead': 156, '举着': 1167, '国旗': 2999, '老母': 7143, '东方明珠': 1021, '早日': 5226, '平静': 4024, '完全同意': 3662, '禁固': 6736, '收身': 4973, '凌虐': 2036, '很想': 4237, '高度民主': 8824, '无条件': 5175, '抱怨': 4765, '出去': 2078, '服务态度': 5459, '不许': 959, '人买': 1342, '都说会': 8374, '得到': 4260, '服务': 5457, '认可': 7666, '洋人': 5926, '对待': 3778, '不必': 878, '优越感': 1515, '媒说': 3587, '因此': 2970, '台媒': 2638, '假新闻': 1731, '遮羞布': 8321, '多一点': 3161, '酸葡萄': 8383, '心里': 4314, '不得': 872, '有钱': 5446, '自卑': 7288, '有时候': 5419, '很烦': 4243, '文明': 5083, '举动': 1165, '近年来': 8110, '进步': 8192, 'annie': 96, 'yang': 527, '好差': 3479, '骂人': 8795, '再装': 1987, '丢脸': 1031, '投给': 4728, '两岸': 1045, '一家亲': 609, '柯文': 5589, '下场': 780, '森茄炸': 5634, '国防': 3006, '自主': 7280, '农渔': 2008, '产品': 1318, '外销': 3159, '哪一点': 2855, '地方': 3047, '赶快': 7964, '快点': 4346, '留在': 6424, '鸡蛋': 8854, '石头': 6671, '碰撞': 6693, '港独': 6041, '几百万': 2057, '同意': 2718, '夏天': 3139, '人们': 1345, '买单': 1224, '黄冠聪': 8866, '耶鲁': 7179, '牛津': 6226, 'lse': 320, '学位': 3627, '一部': 685, '剩下': 2224, '女孩': 3432, '自作自受': 7284, '既得利益者': 5204, '顺便去': 8702, '发起': 2515, '放弃': 4997, '祖国': 6717, '利益': 2151, '香港特区': 8775, '答案': 6870, '我爱猫': 4584, '民主自由': 5787, '付国豪': 1464, '群殴': 7105, '咬掉': 2826, '罢课': 7077, '读书': 7818, '戴眼镜': 4608, '意思': 4508, '见不得人': 7602, '颓废': 8725, '当狗': 4192, '自备': 7291, '粮和牙套': 6898, '坦克': 3079, '耕地': 7172, '眼里': 6639, '吉娃娃': 2699, '执行': 4695, '清场': 6012, '任务': 1499, '不带': 866, '证件': 7728, '公安': 1899, '合法': 2693, '偷偷': 1788, '动作': 2260, '语音': 7769, '辨别': 8068, '歪曲': 5709, 'willni': 509, 'low': 319, 'qjprg': 406, 'bbc': 106, '质问': 7892, '港独头': 6042, '尴尬': 3883, '多谢': 3199, '拥护': 4807, '司法独立': 2653, '关注': 1933, '新疆': 5112, '集中营': 8634, '普选': 5297, '声讨': 3126, '六四': 1915, '屠杀': 3917, '党专政': 1845, '铜锣湾': 8447, '书店': 1217, '天安门': 3315, '母亲': 5744, '上次': 755, '活摘': 5945, '器官': 2931, '重谢': 8410, '少看': 3860, '就够': 3875, '爆打': 6176, '要报': 7590, '忘记': 4336, '治理': 5905, '治国': 5901, '426': 51, '包子': 2297, '习近平': 1212, '丢出': 1030, '一只': 584, 'face': 189, 'poke': 391, '动物': 2265, '之间': 1193, '去年': 2448, '2018': 27, 'oecd': 371, '财富': 7873, 'medium': 342, '平均值': 4011, 'average': 102, 'us': 492, '78177': 65, '16333': 12, '五倍': 1292, '还要': 8127, '陆客': 8555, '赚大钱': 7945, '61667': 60, '65463': 61, '低于': 1568, '高于': 8809, '日本': 5214, '103861': 4, '新加坡': 5103, '91656': 71, '类似': 6891, '挪威': 4839, '意大利': 4506, '爱尔兰': 6187, 'jen': 267, '专词': 998, '错误': 8460, '中值': 1080, '八成': 1881, '指标': 4827, '统计': 7023, '统合': 7020, '现以': 6313, '科技': 6771, '业厂': 1013, '主要': 1158, 'gdp': 207, '来看': 5542, '一项': 693, '强项': 4158, '技能': 4716, '主导权': 1150, '结尾': 7004, '中位数': 1078, '低薪': 1575, '族群': 5143, '薪资': 7486, '经常性': 6982, '月薪': 5373, '奖金': 3412, '两种': 1058, '前者': 2215, '放入': 4990, '曲线': 5329, '张图': 4134, '形节够': 4200, '至于': 7341, '大部份': 3280, '金额': 8432, '几句': 2051, '打破': 4679, '破解': 6680, '常常': 3991, '平均': 4010, '迷思': 8217, '民初': 5793, '至今': 7342, '存钱': 3617, '灌输': 6100, '身边': 8031, '分文': 2116, '怀疑': 4358, '可不是': 2598, '换算': 4856, '台币': 2639, '两百多万': 1057, '数目': 5060, '亲友': 1327, '多太多': 3182, '数千万': 5055, '家产': 3731, '甚或': 6345, '亿元': 1420, '比比皆是': 5772, '办法': 2241, '刚出': 2140, '所得': 4624, '日趋严重': 5216, '房地': 4614, '空房': 6803, '率受': 6289, '人口老化': 1354, '1986': 18, '高点': 8829, '房市': 4619, '黑暗': 8882, '1991': 19, '2013': 26, '其中': 1944, '撑腰': 4939, '地主': 3037, '投客': 4725, '菜篮': 7448, '入资': 1852, '联合': 7190, '涨起': 5990, '路段': 8009, '手法': 4648, '两样': 1052, '真如公': 6602, '之高': 1195, '商业': 2882, '土地改革': 3020, '共移': 1927, '商现': 2887, '2004': 24, '大量': 3285, '人才外流': 1373, '四大': 2939, '房产公司': 4612, '之一': 1173, '考虑': 7157, '收购': 4971, '地段': 3050, '房屋': 4618, '作罢': 1636, '20': 21, '崩盘': 3926, '条件': 5529, '别谈': 2170, '观光': 7614, '产业': 1315, '越南': 7989, '泰国': 5924, '别忘了': 2162, '不大': 843, '很大': 4228, '晚唐': 5292, '败絮其中': 7889, '财政部': 7875, '首先': 8764, '多年': 3188, '生长': 6375, '广州': 4055, '很深': 4240, '无脑': 5189, '主义': 1143, '苗头': 7391, '痛心': 6458, '已非': 3956, '昔比': 5273, '常去': 3988, '1997': 20, '去过': 2450, '二次': 1276, '殖民地': 5733, '统治': 7022, '坚持': 3077, '命三郎': 2816, '经济社会': 6985, '个个': 1071, '敬业': 5049, '有钱赚': 5449, '认真': 7671, '观察': 7615, 'ching': 138, 'lo': 316, '长大': 8466, '奴性': 3446, '多好': 3183, '大腿': 3271, '稀罕': 6788, '一边': 682, '另一边': 2575, '好处': 3471, '英国人': 7411, '双标': 2465, 'andrea': 95, '供给': 1660, '别骂': 2171, '照样': 6163, 'tracy': 477, 'ng': 361, '天上掉': 3295, '馅饼': 8763, '人人': 1343, '压力': 2426, '国门': 3005, '王子': 6293, '早上': 5220, '火车': 6104, '运送': 8108, '新鲜': 5119, '肉类': 7201, '蔬菜': 7484, '老百姓': 7146, '维生': 7032, '民以食为天': 5789, '中国政府': 1093, '天天': 3314, '手滑': 4649, '催泪': 1791, '市民': 3962, '实用': 3699, '实坪': 3695, '唐楼': 2869, '电梯': 6393, '原来如此': 2438, '有匙': 5388, '汤匙': 5832, '惠珍会': 4472, '说谎': 7803, 'live': 315, 'bugo': 122, '劳工': 2279, '讨薪': 7680, '维权': 7030, '律师': 4255, '头发': 3389, '事老': 1261, '招数': 4799, '大革命': 3289, '假扮': 1729, '革命': 8687, '卧底': 2393, '队友': 8512, '理性': 6332, '非暴力': 8672, '看清楚': 6565, '假装': 1736, '激怒': 6095, '其他人': 1946, '生于': 6350, '1973': 16, '心痛': 4302, '能够': 7243, '黑社会': 8885, '合作': 2688, '打压': 4665, '这部分': 8180, '西方': 7575, '再者': 1986, '民意': 5795, '百万': 6473, '银发族': 8449, '示威游行': 6697, '回应': 2956, '死亡': 5715, '暂停': 5307, '撤回': 4944, '所谓': 4632, 'rumor': 419, '路透社': 8012, '技术手段': 4715, '多万': 3162, '水平': 5812, '给出': 7013, '让步': 7682, '中止': 1105, '第三': 6857, '快别': 4342, '居民': 3904, '马甲': 8789, '占领': 2391, '华尔街': 2363, '第四': 6861, '中央政府': 1096, '十四': 2344, '亿人': 1419, 'double': 166, 'standard': 447, '手工': 4636, '看得': 6552, '眼眶': 6633, '希罕': 3971, '中年': 1100, '发现': 2508, '珍贵': 6327, '个人感觉': 1073, '女星': 3440, '姿态': 3559, '例如': 1653, '关芝琳': 1937, '上市公司': 751, '老板': 7142, '不住': 808, '虚荣': 7498, '面子': 8683, 'do': 161, 'right': 414, 'thing': 469, 'yu': 542, '陈美凤': 8569, '阿娇': 8536, '赖弘国': 7938, '阿娇本': 8538, '反对': 2474, '女孩子': 3433, '懵懂': 4549, '纯情': 6952, '恋爱': 4417, '制作': 2181, '情书': 4453, '初恋': 2145, '样子': 5597, '当时': 4186, '美好': 7092, '收到': 4960, '保留': 1688, '下来': 784, '追爱': 8223, '拒绝': 4792, '你好': 1643, '完黄': 3669, '结婚': 7001, '层面': 3900, '心得': 4285, '事实证明': 1257, '爱赖': 6201, '先生': 1821, '通常': 8262, '男人': 6400, '爱情': 6191, '义务': 1170, '反顾': 2493, '奉献给': 3407, '男方': 6411, '夫家': 3371, '文化': 5074, '家去': 3735, '努力': 2272, '现实状况': 6320, '男生': 6413, '衡量': 7534, '说穿': 7799, '三观': 735, '不合': 837, '价值观': 1492, '人生观': 1391, '国际观': 3010, '一对': 611, '各取所需': 2677, '免强': 1839, '结合': 7000, '后果': 2744, '反观': 2486, '16': 11, '放下': 4987, '身段': 8029, '资助': 7920, '飞黄腾达': 8750, '李佳芬': 5520, '颐指气使': 8723, '没钱': 5892, '有钱人': 5447, '当事人': 4167, '退一步说': 8225, '明确': 5268, '想要': 4494, '生小孩': 6358, '空头支票': 6802, '多岁': 3187, '用工': 6381, '做养': 1758, '对方': 3784, '哈啰': 2846, '拜金女': 4806, '实力': 3692, '不行': 950, '感情': 4525, '蔡少芬': 7475, '公婆': 1898, '女强': 3435, '男弱': 6409, '同甘共苦': 2725, '女明星': 3439, '取不起': 2520, '婚姻': 3579, '儿戏': 1802, '祝福': 6720, '两幅': 1046, '照片': 6164, '婚礼': 3583, 'la': 298, '婚前': 3577, '派对': 5954, '后面': 2749, '更多错': 5332, '九岁': 1202, '好意思': 3485, '伤口': 1544, '总题': 4415, '过去': 8082, '关联': 1935, '撒盐': 4942, '同理': 2724, '心好': 4281, '常德': 3993, 'sorry': 444, '娇好': 3562, '变态': 2546, '花真': 7383, '没法': 5877, '爱上': 6181, '人花': 1403, '阿娇花': 8540, '身上': 8018, '不说': 963, '离婚': 6749, '两段': 1054, '难道说': 8628, '大美女': 3267, '表面': 7553, '不看': 927, '价钱': 1494, '在我看来': 3032, '理由': 6334, '这份': 8139, '责任': 7879, '年龄': 4036, '各自': 2686, '妥协': 3531, '量力而行': 8415, '做到': 1760, '千万别': 2350, '轻易': 8051, '许诺': 7719, '损失': 4850, '后知后觉': 2745, '两空': 1059, '呵呵': 2814, '结论': 7008, '屁股': 3897, '洩药': 5937, '阿娇同': 8537, '余文乐': 1612, '好配': 3502, '会结': 1527, '两次': 1053, '代表': 1470, '志伟': 4333, '全在': 1860, '里头': 8392, '晓得': 5290, '一遍': 684, '曾经沧海': 5343, '相处': 6523, '难免': 8608, '显出': 5284, '肤浅': 7207, '曝光': 5327, '疑似': 6433, '自认倒霉': 7329, '年青': 4034, '名牌': 2738, '皮夹': 6486, '说服力': 7792, 'chanel': 133, '好几年': 3464, '学生': 3631, '那种': 8349, '多爽': 3195, '银行': 8450, '不过': 970, '想像': 4479, '误会': 7770, '分离': 2120, '不昏': 902, '无此': 5176, '姻缘': 3556, '最好': 5353, '讲清楚': 7701, '两人': 1033, '合适': 2698, '摆在': 4927, '第一位': 6849, '毕业': 5779, '家世': 3727, '分手': 2115, '三年': 729, '付诸流水': 1465, '决定': 2020, '闯出': 8502, '一番': 656, '天地': 3311, '刮目相看': 2172, '一个个': 552, '对象': 3788, '讶异': 7711, '多人': 3167, '衣着': 7536, '外表': 3156, '收入': 4958, '选择对象': 8247, '相亲': 6518, '交往': 1308, '三个': 719, '约聘': 6948, '即将': 2412, '电话': 6398, '冷言冷语': 2029, '找到': 4709, '下个': 775, '联络': 7193, '当天': 4176, '同事': 2707, '离别': 6747, '单独': 2372, '聊到': 7185, '找我聊': 4711, '生活习惯': 6365, '饮食': 8756, '有了钱': 5375, '宗教': 3672, '父母': 6211, '手足': 4651, '定位': 3679, '梦想': 5622, '一个月': 556, '门口': 8482, '再见': 1988, '跟前': 8002, '有时': 5418, '吵架': 2786, '小孩子': 3826, '成熟': 4569, '家好': 3737, '交流': 1309, '家里': 3745, '丰厚': 1115, '衣食无忧': 7538, '每个': 5749, '很难说': 4254, '结到': 6999, '破产': 6675, '据称': 4857, '五千万': 1294, '但赖弘': 1565, '财力': 7871, '妇产科': 3520, '花费': 7385, '赖弘国出': 7939, '婚后': 3578, '许多': 7714, '综艺节目': 7036, '合资': 2697, '诊所': 7744, '出资者': 2096, '名人': 2732, '名气': 2737, '出资': 2095, '整型': 5067, '开幕': 4108, '免费': 1844, '站台': 6831, '阿娇要': 8541, '婚戒': 3581, '汇款': 5826, '帐户': 3974, '依阿娇': 1665, '採访': 4871, '时秀出': 5253, '对戒': 3780, '百万元': 6474, '夸称': 3399, '费用': 7916, '办完': 2240, '老赖': 7151, '真行': 6623, '阻止': 8529, '住居': 1576, '少来': 3859, '若出': 7395, '传出': 1532, '求证': 5825, '否认': 2762, '方面': 5130, '放出': 4991, '暗示': 5312, '女方': 3438, '拜金': 4805, '极少': 5552, '部份': 8367, '这算': 8171, '嫁人': 3592, '举办': 1164, '结婚典礼': 7002, '相爱': 6529, '夫妻': 3369, '付钱': 1466, '遇到': 8293, '倒楣': 1710, '直爽': 6510, '西亚': 7573, '精子': 6900, '低级': 1573, '讳言': 7710, '老道': 7154, '与此同时': 981, '爱慕者': 6194, '却步': 2415, '贵族': 7912, '来生': 5541, '人养': 1349, '真土': 6597, '能力差': 7242, '差太多': 3947, '棋逢敌手': 5631, '梦幻': 5621, '拿到': 4814, '签字': 6875, '面包': 8682, '不如': 852, '萧亚轩': 7451, '通透': 8268, '小帅哥': 3830, '不在乎': 840, '其它': 1947, '林雪': 5560, '吃软饭': 2668, '顾及': 8711, '宾客': 3755, '红包': 6941, '没少': 5867, '一封': 612, '几十万': 2046, '钱会': 8441, '对错': 3789, '这集里': 8184, '珍珠': 6326, '胸针': 7238, '衣服': 7535, '好看': 3491, '男朋友': 6412, '不买': 800, '大牌': 3263, '刀刃': 2106, '干涉': 4005, '区别': 2319, '花钱': 7386, '日常生活': 5210, '情侣': 4455, '请客': 7809, '常有': 3995, 'aa': 76, '娇身': 3565, '冠痒': 2013, '一大': 600, '年纪': 4029, '连爱': 8209, '分不清': 2107, '帽子': 4001, '治疗': 5906, '咳嗽': 2830, '看得出': 6553, '幼稚': 4048, '小看': 3846, '自身': 7334, '大钱': 3286, '做作': 1756, '虚伪': 7493, '虚情假意': 7495, '贤妻': 7883, '寄生': 3758, '依赖': 1664, '过日子': 8093, '痴情': 6461, '办事': 2239, '亲热': 1331, '女性': 3437, '推荐': 4883, '死活': 5722, '陈冠西': 8561, '刷卡': 2192, '花爽': 7380, '麦浚': 8859, '刷爽': 2193, '同杨': 2721, '反应': 2475, '灵敏': 6109, '访谈': 7726, '演艺圈': 6082, '过惯': 8091, '上流社会': 757, '满足': 6067, '周扬青': 2808, '小猪': 3843, '往上爬': 4214, '原生': 2440, '上流': 756, '计较': 7660, '成功': 4561, '嫁出去': 3594, '不穷': 932, '差距': 3952, '半点': 2359, '勉强': 2286, '把握': 4719, '转换': 8041, '否则': 2761, '天会': 3304, '更大': 5333, '情愿': 4459, '具备': 1956, '实际': 3704, '凑合': 2039, '磨光': 6695, '小小': 3827, '片段': 6218, '毁掉': 5740, '全景': 1868, '局外人': 3894, '做过': 1773, '协议': 2366, '恳谈': 4432, '女子': 3431, '丈夫': 718, '里面': 8393, '额度': 8731, '超支': 7980, '心意': 4291, '四十岁': 2936, '典型': 1957, '过头': 8087, '女人帮': 3424, '女权': 3441, '岐视': 3924, '不刷': 827, '想办': 4482, '三场': 724, '办个': 2238, '豪婚': 7857, '做个': 1752, '豪气': 7859, '娇爷': 3564, '金钱': 8428, '太好': 3345, '合拍': 2692, '后者': 2746, '往往': 4217, '居多': 3903, '本身': 5491, '态度': 4359, '找对象': 4710, '找个': 4708, '超级': 7981, '艳照': 7362, '而赖': 7171, '离过': 6753, '短暂': 6668, '些许': 1303, '一昧': 634, '想通': 4498, '听到': 2766, '淫照': 5995, '不快': 880, '小器': 3816, '阿德': 8545, '独力': 6270, '难忘': 8617, '格局': 5608, '诚实': 7752, '慕强': 4537, '择偶': 4810, '绿卡': 7038, 'alpha': 89, '雄性': 8630, '领袖': 8722, '带领': 3982, 'beta': 111, '供养': 1656, '想想': 4487, '陈冠希': 8560, '极端': 5553, '几任': 2044, '维持': 7029, '冠希': 2010, '放在': 4992, 'd盘': 170, '舍不得': 7350, '两方': 1049, '太天真': 3343, '前提': 2211, '如命': 3510, '调查': 7827, '没什么': 5855, '单纯': 2373, '心机': 4294, 'don': 163, 'understand': 486, 'why': 507, 'we': 502, 'practice': 395, 'silence': 436, 'golden': 216, 'media': 341, 'at': 100, 'large': 302, 'feels': 194, 'obligated': 370, 'talking': 466, 'dissecting': 160, 'relationship': 410, 'know': 294, 'only': 379, 'through': 475, 'gossip': 218, 'credit': 152, 'card': 128, 'concern': 147, 'so': 440, 'she': 430, 'bought': 119, 'gifts': 213, 'using': 493, 'his': 240, 'charge': 135, 'he': 230, 'didn': 159, 'need': 359, 'nor': 365, 'want': 498, 'and': 94, 'somehow': 443, 'should': 434, 'feel': 193, 'excited': 183, 'acknowledge': 81, 'her': 235, 'thoughtfulness': 473, 'wtf': 516, 'women': 512, 'support': 459, 'this': 471, 'type': 484, 'bullshit': 123, 'behavior': 108, 'dumb': 169, 'people': 387, 'who': 505, 'knew': 293, 'nothing': 367, 'about': 77, 'real': 407, 'meanings': 340, 'marriage': 336, 'unions': 487, 'be': 107, 'banned': 104, 'from': 202, 'getting': 210, 'married': 337, 'episode': 177, 'exhausting': 185, 'unnecessary': 488, 'absolutely': 78, 'agree': 85, 'with': 510, 'point': 390, 'view': 496, 'yet': 532, 'without': 511, 'how': 246, 'kind': 289, 'tv': 481, 'program': 397, 'will': 508, 'survive': 460, '主动': 1145, '承担': 4712, '体谅': 1590, '卡乱': 2392, '备孕': 3134, '社经': 6711, '地位': 3041, '呵护': 2815, '宝宝': 3685, '脱离': 7262, '好孩子': 3477, '不切实际': 824, '一针见血': 687, '妆容': 3519, '精致': 6907, '重点': 8404, '宏国': 3671, '养不起': 1960, '完毕': 3666, '批评': 4706, '明明': 5261, '冲动': 2019, '疏忽': 6432, '花到': 7375, '反悔': 2477, '道义': 8296, '爱不爱': 6182, '考量': 7160, '内心': 1972, '陪伴': 8584, '物质': 6234, '太重': 3364, '长久': 8465, '改善': 4976, '不太会': 846, '莫名其妙': 7441, '插嘴': 4903, '整个': 5063, '流程': 5962, '变得': 2545, '顺畅': 8708, '情绪': 4462, '打断': 4674, '之后': 1178, '各花': 2687, '各住': 2674, '复杂': 3138, '可阿娇': 2627, '淫妇': 5994, '标签': 5593, '舆论压力': 7348, '回忆': 2958, '写些': 1995, '陌生人': 8575, 'end': 176, '美到': 7088, '醒醒': 8387, '自贬': 7333, '身价': 8020, '好货': 3497, '何不': 1594, '整妆': 5069, '上路': 770, '多只': 3178, '特显': 6243, '不堪': 841, '自暴': 7308, '健身': 1786, '满意': 6065, '试车': 7750, '曾经': 5342, '试着': 7747, '困难': 2979, '古有明': 2573, '娶妻': 3570, '夫妻间': 3370, '说不清': 7779, '空间': 6810, '整理': 5071, '沈淀': 5837, '从头到尾': 1445, '婆婆': 3573, '夫有': 3372, '怨言': 4397, '穷人': 6797, '公公': 1890, '公主': 1887, '学习': 3625, '丰硕': 1118, '同情': 2716, '钟镇涛': 8439, '麻烦': 8862, '历任': 2418, '供得': 1658, '这座': 8153, '这阿娇': 8182, '高尚': 8821, '穷得': 6798, '经营之道': 6989, '神圣': 6726, '经常': 6981, '糟蹋': 6916, '人连钱': 1415, '再次': 1983, '全心全意': 1865, '年薪': 4031, '贫穷': 7900, '好赚': 3498, '常在': 3990, '看此': 6562, '邀请': 8328, '欣西雅': 5661, '狄志为': 6259, '瑞德': 6339, '常看': 3997, '欣西雅上': 5662, '见解': 7606, '真诚': 6624, '谈话': 7836, '尤其': 3870, '正义': 5676, '发文': 2504, '讨拍': 7679, '玻璃心': 6323, '钟欣潼': 8438, '1981': 17, '21': 31, '水瓶座': 5817, '水瓶': 5816, '光怪陆离': 1827, '特立独行': 6246, '做事': 1753, '迁就': 8074, '理不': 6329, '她们': 3453, '双子': 2463, '嘴甜': 2921, '但心': 1561, '不定': 859, '大脑': 3270, '绝不会': 7016, '此台': 5695, '责任感': 7880, '老祖宗': 7147, '子无义': 3607, '无情': 5165, '压倒': 2425, '一根': 642, '稻草': 6793, '怎能': 4369, 'hold': 243, '阿胶': 8550, '玩过': 6308, '妈妈': 3524, '小屁孩': 3829, '姐姐': 3546, '全场': 1861, '智慧': 5304, '本质': 5490, '想法': 4489, '前女友': 2208, '形象': 4201, '一副': 576, '动机': 2264, '纯粹': 6953, '心态': 4288, '酸民': 8381, '不爽': 920, '搞清楚': 4921, '流言': 5965, '查收': 5582, '此事': 5694, '姐弟恋': 3547, '该是': 7760, '照顾': 6166, '弟弟': 4131, '远大于': 8195, '外人': 3142, '花样': 7379, '短命': 6666, '而由头': 7168, '英皇': 7414, '那为': 8332, '不太爱': 848, '签下': 6872, '真人秀': 6591, '毁约': 5742, '生财': 6373, '富豪': 3767, '看上': 6532, '剩余价值': 2225, '违约': 8202, '可见': 2622, '常人': 3987, '即便': 2410, '负起': 7867, '养家': 1962, '举出': 1163, '妻子': 3540, '牙医': 6221, '讨厌': 7678, '科别': 6769, '搞错': 4923, '千错': 2352, '万错': 717, '要求': 7595, '行动': 7525, '钓大鱼': 8436, '祝赖生': 6721, '吸取教训': 2788, '说真的': 7797, 'coffeover': 144, 'wwater': 517, '单身男女': 2375, '另一半': 2574, '风风雨雨': 8744, '带来': 3979, '匆忙': 2308, '没好': 5866, '谨慎': 7851, '医界': 2330, '爱添': 6196, '灌西': 6099, '香蕉': 8777, '夫人': 3367, '有折': 5411, '钱压': 8443, '很会': 4223, '下次': 786, '听话': 2779, '外籍': 3155, '新娘': 5109, '周迅': 2812, '真是太': 6612, '一辈子': 681, '翻身': 7116, '公布': 1901, '恋情': 4416, '白衣': 6472, '狂嘟': 6257, '倒胃口': 1711, '比手画脚': 5771, '点头': 6123, '嘟嘴': 2916, '作贱自己': 1639, '公共厕所': 1892, '宝贝': 3686, '别说': 2169, '不提': 892, '事儿': 1250, '不自重': 947, '种种': 6768, '何况': 1598, '声名': 3124, '不自量力': 948, '太蠢': 3360, '聪明': 7198, '狡猾': 6268, '狐狸精': 6262, '几句话': 2052, '问题所在': 8501, '难怪': 8619, 'kiki': 286, 'yellow': 529, '取向': 2523, '心智': 4292, '拍手': 4786, '听志': 2772, '伟哥': 1530, '有气无力': 5423, '字幕': 3609, '甘心': 6342, '封信': 3795, '摆明': 4929, '帐单': 3972, '无言': 5193, '大龄': 3293, '急迫': 4380, '多爱': 3194, '通过': 8267, '圆梦': 3012, '太过': 3362, '没多久': 5865, '不愁': 885, '相伴': 6519, '做好': 1761, '只不过': 2578, '综艺秀': 7035, '最亏': 5345, '生存': 6357, '偏要': 1748, '压低': 2424, '眼界': 6632, '光出': 1824, '嘴巴': 2919, '讲爱': 7702, '恕我直言': 4425, '客人': 3707, '节俭': 7366, '生意': 6360, 'rewer': 413, '男女平等': 6406, '月经': 5372, '怀孕': 4357, '潘驴': 6086, '邓小闲': 8329, '优质': 1514, '低能': 1574, '尽管': 3891, '我蛮': 4589, '赞同': 7948, '观点': 7618, '倒果为因': 1709, '养阿娇': 1967, '习惯': 1209, '吃不消': 2655, '赞成': 7950, '牵涉': 6236, '状况': 6254, '评估': 7732, '狂达': 6258, '即使如此': 2409, '有错': 5450, '自尊心': 7295, '其次': 1954, '寒窗': 3769, '苦读': 7406, '打造': 4684, '企业': 1502, '小开': 3833, '或是': 4598, '演艺': 6080, '相比': 6527, '来自': 5543, '辛勤工作': 8059, '养成': 1963, '看扁': 6557, '富有': 3765, '这句': 8144, '前夫': 2207, '一贯性': 675, '这件': 8138, '看法': 6563, '纠纷': 6937, '不足为外人道': 969, '人称': 1394, '天菜': 3332, '如人饮水': 3504, '辛勤': 8058, '换取': 4854, '工资': 3937, '栋梁': 5595, '不论是': 961, '清道夫': 6020, '金融': 8426, '炒作': 6116, '操控': 4949, '继承': 7025, '豪奢': 7856, '寄生虫': 3759, '某个': 5573, '世纪': 1010, '瘟疫': 6462, '看出': 6545, '哪些': 2857, '必须': 4323, '死光': 5718, '缺少': 7056, '多寡': 3184, '记住': 7685, '原则': 2430, '我想': 4583, '出道': 2100, '见多识广': 7604, '有利': 5385, '塑造出': 3109, '受害者': 2533, '角色': 7633, 'risa': 415, 'wang': 497, '直在': 6506, '塑造': 3108, '差太远': 3948, '圈外人': 3015, '网红': 7062, '影迷': 4209, '真不少': 6586, '须要': 8710, '之爱': 1183, '疙瘩': 6437, '残留': 5730, '众多': 1508, '精虫': 6909, '改变': 4975, '思绪': 4374, '原始': 2434, '人格': 1379, '认前': 7665, '听得进': 2771, '有料': 5416, '玩玩': 6306, '八卦': 1878, '详细': 7764, '求婚': 5824, '三斤': 730, '四斤': 2942, '老鼠': 7155, '道理': 8308, '必竟': 4319, '怎么样': 4364, '太虚': 3359, '鼓吹': 8898, '师来馁': 3968, '货色': 7890, '很烂': 4242, '还选': 8129, '脸选': 7271, '清高': 6023, '妳有': 3535, '男性': 6410, '要选': 7599, '妳是': 3534, '说实话': 7787, '看好': 6548, '安全感': 3645, '太小': 3349, 'tsai': 480, 'ya': 525, 'ping': 388, '32y': 42, '20y': 30, '成人': 4558, '片头': 6217, '来讲': 5544, '来龙去脉': 5546, '冗长': 1994, '听志为': 2773, '描述': 4891, '很困': 4225, '旁边': 5137, '快嘴': 4343, '精彩内容': 6903, '介绍': 1441, '小康': 3832, '各种': 2685, '尝试': 3869, '无计可施': 5194, '愤怒': 4532, '不来': 907, '一方': 630, '试试看': 7749, '仍然': 1442, '不见得': 955, '伤到': 1543, 'yinting': 535, 'kang': 282, '贱人': 7903, '矫情': 6664, '美人': 7084, '回来': 2961, '多名': 3179, '怨妇': 4394, '恶毒': 4442, '出轨': 2099, '对不起': 3770, '哪一方面': 2854, '虚荣心': 7499, '名嘴': 2733, '商量': 2888, '不爱结': 919, '鲁蛇': 8849, '型台': 3089, '一天到晚': 605, '台女': 2637, '女和港': 3428, '更受': 5331, '模式': 5646, '蝴蝶': 7512, '眼光': 6630, '交友': 1307, '夜店': 3204, '幻想': 4046, '中间': 1112, '显然': 5285, '林志玲': 5556, '嫁个': 3591, '十倍': 2340, '志玲': 4335, '在于': 3027, '强调': 4156, '合得来': 2690, '两套': 1043, '姓黄': 3550, '土共': 3016, '脸女': 7267, '公开信': 1904, '尖酸刻薄': 3867, '讽刺': 7722, '有厌': 5389, '男症': 6415, '太嫩': 3347, '活在': 5943, '小圈圈': 3817, '数十年': 5054, '戏子': 4554, '自不量力': 7278, '老天爷': 7131, '怜悯': 4372, '这呆胞': 8145, '浪费': 5972, '二婚': 1270, '同一': 2704, '说得好': 7788, '身材': 8028, '怎会': 4365, '傻子': 1797, '硬赛': 6686, '无底洞': 5161, '何妤': 1601, '结局': 7005, '犀利': 6252, '主角': 1161, '对换': 3783, '欠缺': 5654, '结了婚': 6998, '对于': 3771, '福气': 6744, '前男友': 2212, '吃药': 2667, '说不定': 7778, '事过境迁': 1262, '正是': 5687, '承诺': 4714, '诺言': 7817, '自知之明': 7318, '天有': 3320, '最艳': 5363, '放浪': 5002, '伴侣': 1552, '合成': 2691, '事隔': 1263, '依然': 1662, '想结': 4493, '洗白': 5933, '平凡人': 4009, '包作': 2294, '好几个': 3463, '一来': 637, '太贵': 3361, '乱用': 1237, '二来': 1275, '物品': 6230, '大包': 3220, '分层': 2112, '摆放': 4928, 'lv': 324, '旧款': 5218, '虽大': 7501, '一层': 614, '杂七杂八': 5511, '丢入': 1029, '难用': 8621, '早已': 5224, '弃用': 4124, '真皮': 6619, '多层': 3186, '拉链': 4783, '手机': 4644, '车匙': 8034, '各放': 2682, '钱包': 8442, '内有': 1974, '小瓶酒': 3844, '纸包': 6960, '手握': 4639, '紫外线': 6929, '杀菌灯': 5509, '眉笔': 6531, '口红': 2566, '原子笔': 2435, '瑞士刀': 6338, '少量': 3863, '钻戒': 8445, '首饰': 8768, '暗袋': 5314, '格中': 5607, '有配': 5445, '长短': 8475, '调整': 7826, '皮带': 6487, '外面': 3160, '横背': 5650, '身侧': 8024, '方便': 5122, '物时': 6231, '相提并论': 6526, '麦俊龙': 8857, '男人味': 6401, '麦和娇': 8858, '但娇': 1560, '又帅': 2456, '内涵': 1975, '更要': 5338, '加上': 2248, '趣味': 7995, '专情': 995, '梦中': 5620, '完美': 3667, '一篇': 663, '文章': 5086, '上面': 774, '回报': 2959, '单方面': 2371, '赖国': 7937, '弘达': 4130, '高富帅': 8820, '由于': 6390, '颜照': 8729, '想必': 4485, '算了吧': 6881, '赖说': 7941, '一伴': 564, '负担': 7862, '亏了': 1282, '积蓄': 6780, '教训': 5042, '看不上': 6533, '当年': 4182, '嫌弃': 3601, 'juno': 279, '不帅': 865, '高大': 8818, '称赞': 6783, '追女生': 8220, '当成': 4184, '电动': 6392, '攻略': 4986, '究竟': 6796, '心灵': 4295, '等级': 6868, '一再': 568, '合理化': 2695, '想养': 4480, '养育': 1966, '子女': 3604, '逻辑思维': 8290, '左躲右闪': 3940, '不负': 964, '狮子座': 6279, '特性': 6242, '多钱': 3203, '反证': 2487, '至上': 7340, '真情': 6607, '派头': 5953, '有钱出钱': 5448, '大爷': 3262, '说法': 7794, '负责': 7866, '对台': 3774, '一件': 562, '谁错': 7824, '全面': 1877, '客观': 3713, '写出': 1996, '听的歌': 2775, '听许': 2778, '时事': 5239, '演戏': 6079, '演得': 6078, '离离': 6751, '落落': 7458, '男友': 6403, '十年': 2346, '心仪': 4273, '回头草': 2952, '讲完': 7696, 'yes': 531, '还给': 8125, '甜蜜': 6347, '我怕': 4582, '澄清': 6089, '暗恋': 5309, '总结': 4410, '口袋': 2570, '不深': 913, '家伙': 3733, '请勿': 7808, '餵食': 8754, '搞不懂': 4916, '学历': 3628, '满满的': 6066, '鸭子': 8855, '欠奉': 5653, 'natalie': 357, '扣分': 4687, '气质': 5809, '老女': 7133, '小男生': 3845, '职业': 7187, '为主': 1125, '生子': 6356, '歧异': 5706, '趁着': 7977, '青春': 8657, '退出': 8227, '上策': 764, '保障': 1692, '日后': 5208, '笔大': 6842, '人财两空': 1406, '斯坦': 5100, '勉得': 2287, '斤斤计较': 5094, 'wong': 514, '眼神': 6636, '爱意': 6193, '冷淡': 2026, '空洞': 6805, '新婚夫妇': 5110, '热情': 6148, '成分': 4560, '张瓅': 4136, '语无伦次': 7766, '真人': 6590, 'show': 435, '生疏': 6369, '担当': 4771, '男超': 6417, '会用': 1524, '中心': 1102, '面前': 8681, '看似': 6544, '缺点': 7059, '凸显': 2070, '贴心': 7906, '表里不一': 7551, '合约': 2696, '而扮': 7165, '假结婚': 1734, '欺骗': 5672, '玩人': 6303, '玩耍': 6307, '赔约': 7935, '坑人': 3074, '虚浮': 7497, '可靠': 2628, '不务正业': 829, '积极': 6778, '遇上': 8292, '光有': 1833, '样貌': 5599, '却是': 2414, '茫茫': 7420, 'pua': 402, '长期': 8470, '慷慨': 4541, '小气': 3841, '金钱观': 8429, '门当户对': 8484, 'min': 347, 'jko': 274, '冠希在': 2011, '二十出头': 1268, '大手笔': 3252, '斗内': 5091, '神似': 6722, '鲜肉': 8850, '用钱': 6388, '很甜': 4246, '肩膀': 7209, 'karen': 283, '两年': 1047, '无价': 5153, '爱装': 6200, '好亏': 3459, '结就': 7003, '不负责任': 965, '骑驴找马': 8800, '情结': 4461, '点到': 6121, '产值': 1317, '哀个': 2831, '两句': 1040, '合理': 2694, '不口': 833, '恶言': 4443, '某人': 5575, '本人': 5480, '嫁入': 3593, '豪门': 7860, '梦碎': 5623, '跟本': 8003, '两重': 1062, '藤原': 7489, '嘉子': 2914, '可恶': 2607, '眼科医生': 6638, '虽小当': 7502, '脑袋': 7256, 'xx': 522, '脑粉': 7254, '陈徐氏': 8564, '家族': 3743, '边缘': 8071, '听说': 2780, '生活费': 6366, '万元': 706, '等于': 6864, '817': 68, '抠门': 4743, '便当': 1671, '送给': 8235, '礼物': 6701, '回去': 2947, '整天': 5068, '媳妇': 3589, '许氏': 7717, '港币': 6038, '没花': 5888, '死缠烂打': 5724, '皇上': 6484, '天之骄子': 3302, '狄志伟': 6260, '帮赖': 3986, '1019vicky': 3, '多么': 3165, '靠得住': 8677, '独立自主': 6276, '女强人': 3436, '爱钱': 6203, '爱冠': 6185, '没道理': 5891, '一大堆': 601, '稀奇': 6786, '看重': 6581, '臭名昭彰': 7336, '傲娇': 1794, '四周': 2937, '围绕': 2982, '孤芳自赏': 3624, '批论': 4705, '说来说去': 7793, '尽千帆': 3886, '看尽': 6549, '事业': 1248, '桃花': 5611, '毛头小子': 5781, '安安': 3647, 'lol': 317, '无关': 5155, '还斗内': 8120, '19': 15, '39': 46, '亲自': 1336, '搞不清楚': 4917, '之礼': 1187, '对外': 3775, '一段距离': 648, '名星': 2736, '文颖': 5088, '只知': 2590, '李嘉欣': 5523, '关芝林琳': 1936, '比赖': 5774, '深太多': 6000, '很败': 4249, '金想': 8423, '女上位': 3419, '职员': 7188, '22k': 32, '女友': 3427, '看不起': 6540, '没房': 5872, '轿车': 8053, '125cc': 6, '机车': 5503, '穷酸': 6799, '豪宅': 7858, '哭泣': 2865, 'bo': 115, '发好': 2500, '知名度': 6658, '大增': 3230, '固定': 2983, '憧憬': 4542, '免得': 1840, '落差': 7455, '愉快': 4502, '有太大': 5395, '辛西娅': 8061, '睿智': 6650, '坦率': 3081, '合同': 2689, '世人': 1002, '肯娶': 7211, '人气': 1383, '自已': 7299, '医美店': 2334, '宣传': 3714, '不怕': 881, '没人': 5848, '不嫁': 856, '楚瑾': 5636, '年代': 4026, '刘玉玲': 2134, '言极': 7646, '老版': 7145, '软饭': 8049, '真够': 6600, '丢人现眼': 1028, '走入': 7954, '开刀房': 4103, '忙碌': 4337, '飞往': 8747, '以及': 1481, '拚命': 4797, '比不上': 5766, '不差': 864, '全家人': 1864, '按个': 4830, '吃翔': 2665, '嫉妒': 3599, '多到': 3173, '拉稀': 4781, '姑且': 3548, '真傻': 6594, '没得': 5870, '2020': 29, '这边': 8179, '受害人': 2532, '给钱': 7014, '花惯': 7378, '势力': 2281, '干脆': 4006, '金主': 8416, '谈恋爱': 7833, '这一关': 8131, '匹配': 2318, '辣妹': 8066, '绿茶': 7042, '犯傻': 6253, '淫货': 5996, 'fifi': 197, 'chu': 139, '服浅': 5460, '外貌': 3157, '爱帅': 6188, '哄人': 2840, '坏坏': 3066, '历害': 2420, '老老实实': 7149, '很帅': 4232, '拿来': 4819, '配合': 8375, '拍慑': 4785, '服装': 5462, '细数': 6965, '舍得': 7351, '做出': 1759, '麦浚龙': 8860, '爱阿娇': 6205, '太笨': 3357, '大喜': 3226, '网上': 7060, '高调': 8833, '前妻': 2209, '再称': 1984, '王阳明': 6301, 'man': 332, '婚灾': 3582, '6000': 59, 'lili': 311, 'liou': 314, '那边': 8353, '赞助': 7947, '宣称': 3718, '千万': 2349, '周杰伦': 2809, '豪华': 7855, '两千万': 1037, '不肯': 943, '大笔': 3265, '盛大': 6497, '婚宴': 3580, '心肠': 4306, '很坏': 4226, '粗估': 6895, '赖花': 7940, '婚纱': 3584, '嚼舌根': 2934, '可议': 2624, '诉苦': 7743, '评理': 7735, '宋仲基': 3658, '先声夺人': 1815, '被害者': 7558, '天使': 3306, '数不清': 5053, '离过婚': 6754, '破麻': 6681, '执着': 4694, '进门': 8194, '受罪': 2537, '答应': 6869, '弄得好': 4125, '现任': 6314, '坎坷': 3062, '三好': 726, '加一好': 2247, '理论': 6337, '又臭又长': 2457, '俗辣': 1678, '谬论': 7852, '狄讲': 6261, '定义': 3678, '男男女女': 6414, '水性': 5813, '扬话': 4700, '未免太': 5470, '果真': 5566, '小女生': 3820, '未免': 5469, '走向': 7956, '结了': 6997, '累不累': 6930, '不累': 937, '当做': 4170, '游戏': 6048, '没爱过': 5879, '难过': 8625, '挥金如土': 4838, '妇科': 3522, '迟早': 8214, '反省': 2484, '有所': 5408, '助益': 2269, '潜意识': 6088, '证实': 7729, '破瓦': 6678, '保证': 1689, '好事': 3458, '看穿': 6571, 'sasha': 425, '超多': 7979, '甜言蜜语': 6348, '收场': 4963, '透明': 8257, '隔板': 8602, '口不出': 2553, '但赖': 1564, '签了': 6873, '保密': 1684, '条款': 5532, '哭诉': 2866, '文中': 5073, '没品': 5863, '阿娇离': 8539, '脸色': 7270, '执迷': 4696, '买精': 1229, '嫩弟': 3603, '靓仔': 8660, '赢家': 7953, '唾骂': 2878, '老越': 7152, '本钱': 5492, '玩吧': 6304, '刘强': 2133, '几百个': 2058, '几岁': 2054, '娇妻': 3563, '分钟': 2124, '越大性': 7990, '越强': 7991, '单亲家庭': 2369, '没爱': 5878, '精准': 6899, '赌注': 7931, '大输': 3278, '有句': 5390, '某大': 5577, '金交椅': 8417, '妄想': 3517, '降伏': 8577, '欣欣': 5660, '动不动': 2258, '包买': 2293, '生日': 6361, '情人节': 4454, '离一离': 6745, '浪漫': 5970, '耳里会': 7175, '得利': 4259, '光是': 1832, '医美': 2333, '这能': 8175, '大到': 3219, '吓人': 2755, '血本无归': 7519, '回馈': 2965, '少于': 3853, '攀权': 4951, '附贵': 8554, '奋斗': 3409, '贪心不足': 7896, '蛇吞象': 7505, '机关算尽': 5496, '看破': 6570, '之耻': 1190, '跟赖': 8006, '同龄': 2729, 'twins': 483, '翻天': 7111, '一段时间': 647, '发片': 2507, '一两岁': 550, '比较清楚': 5777, '佩服': 1647, '自欺欺人': 7311, '华人': 2362, '估计': 1551, '多次': 3193, '发脾气': 2511, '这才': 8154, '心冷': 4275, '非要': 8675, '东星': 1022, '清流': 6018, '平凡': 4008, '作祟': 1634, '刺激': 2194, 'niki': 363, 'leow': 306, '看不上眼': 6534, '枝头': 5567, '凤凰': 2065, '热脸': 6152, '悲剧': 4450, '认不清': 7663, '熊掌': 6170, '兼得': 1968, '儿子': 1801, '死路': 5727, '蒙头': 7462, 'cocobecky': 143, '7pupu': 66, '致命伤': 7346, '背景': 7223, '说道': 7804, '人眼': 1393, '男主角': 6399, '期待': 5466, '落后': 7454, '大人': 3212, '网路': 7066, '同侪': 2709, '回答': 2963, '不见': 954, '累积': 6933, '世代': 1003, '差异': 3950, '社会风气': 6708, '容许': 3752, '多元化': 3171, '底下': 4068, '新鲜事': 5120, '同性恋': 2715, '类同': 6892, '断袖之癖': 5098, '早已有之': 5225, '非主流': 8663, '爱恋': 6190, '浮上': 5974, '台面': 2647, '罢了': 7073, '万变不离': 708, '回头': 2950, '大部分': 3281, '主流': 1157, '有所不同': 5409, '如此而已': 3513, '跳脱': 8014, '传统': 1541, '束缚': 5528, '过犹不及': 8097, '事务': 1252, '矫枉过正': 6665, '很直': 4247, '政论': 5020, '金兰': 8419, '高声': 8817, '口气': 2564, '阿姨': 8535, '文婉': 5077, '板个': 5550, '脸孔': 7268, '空缺': 6807, '心神不宁': 4303, '开明': 4111, '正面': 5693, '文婉美极': 5080, '请欣': 7813, '忌讳': 4325, '坦白讲': 3082, '早晚都会': 5230, '隐晦': 8596, '避讳': 8326, '欢愉': 5657, '罪恶': 7081, '严禁': 1065, '性生活': 4387, '光顾': 1836, '宝雅好': 3688, '几百次': 2060, '按摩棒': 4831, '文婉姐': 5079, '好美': 3493, '大师': 3248, '讨人厌': 7676, '刻板': 2196, '典雅': 1959, '超美': 7982, '情趣': 4463, '商品': 2884, '保险套': 1691, '例外': 1652, '家长': 3747, '假道学': 1739, '成长': 4570, '过程': 8098, '要命': 7585, '吕文婉': 2756, '绑起来': 6995, '很漂亮': 4241, '不自在': 946, '打扮': 4672, '加强': 2250, 'yenhuila': 530, '吕文婉是': 2757, '公众': 1889, '基本常识': 3101, '显露出': 5288, '庸俗': 4085, '中田英寿': 1107, '成中田': 4556, '妖寿': 3529, '失礼': 3382, '足球界': 7997, '无论': 5195, '可说是': 2625, '举足轻重': 1168, '精障': 6911, '生气': 6363, '懂个': 4544, '楼主': 5637, '失言': 3384, '坐立': 3071, '难安': 8615, '不屑一顾': 863, 'amy': 93, '哀怨': 2832, '上古时代': 746, '很贵气': 4251, '优雅': 1516, '性爱': 4386, '感官': 4522, '有何': 5381, '羞愧': 7099, '生育率': 6372, '太低': 3334, '有位': 5380, '泌尿科': 5907, '真好': 6601, '集变': 8636, '黑色': 8888, '外套': 3147, '激动': 6093, '哌噪': 2848, '不安': 858, '题目': 8726, '年级': 4028, '老身': 7153, '生都': 6374, '异性恋': 4122, '茫茫人海': 7421, '珍爱': 6325, '探索': 4872, '给予': 7011, '强势': 4146, '食古不化': 8751, '自以为是': 7282, '金银': 8430, '欧巴桑': 5666, '会想': 1522, '请教': 7811, '吕文往': 2758, '大一': 3207, '44': 52, '方谈': 5129, '隔阂': 8605, '坦然': 3080, '别扭': 2166, '干嘛': 4004, '一惊': 625, '耳聋': 7174, '黑脸': 8887, '思维混乱': 4376, '最爱': 5360, '天真无邪': 3329, '前卫': 2204, '品牌': 2837, '型销': 3091, '全台': 1858, '一流': 650, '为非作歹': 1141, '同性': 2714, '异性': 4121, '女士': 3429, '展现': 3912, '矛盾': 6657, '自评': 7330, '相对': 6524, '翻时': 7112, '何默': 1608, '理念': 6331, '口条': 2563, '清晰': 6014, '多发': 3177, '文婉姊接': 5078, '漂酿': 6071, '十几年': 2342, '魅力': 8844, '上升': 743, '处女座': 3131, '看齐': 6585, '黄宥': 8871, '上帝保佑': 753, 'de': 155, 'bad': 103, 'society': 442, 'influence': 256, 'just': 280, 'ignore': 254, 'hime': 238, 'considered': 149, 'himself': 239, 'savior': 426, 'for': 199, 'all': 88, 'societal': 441, 'calamity': 126, 'in': 255, 'effect': 173, 'was': 501, 'pompous': 392, 'braggadacio': 121, 'moronic': 350, 'trashy': 478, 'guy': 222, '理会': 6330, '灾难': 6113, '救星': 5036, '实际上': 3705, '自负': 7332, '肮脏': 7210, 'oh': 374, 'hell': 232, 'no': 364, 'great': 220, 'amazing': 92, 'wonderful': 513, 'our': 385, 'to': 476, 'learn': 304, 'him': 237, '故作': 5022, '开明派': 4112, '椰子': 5635, '言语': 7651, '负面': 7868, '能量': 7249, '空气': 6804, '舒服': 7352, '左手': 3939, 'fing': 198, 'josephine': 276, '功能': 2245, '叫做': 2596, '音量': 8698, '谈性': 7832, '未婚': 5473, '怨偶': 4392, '洗澡': 5931, '散发出': 5047, '表露无遗': 7552, '国小': 2994, '性知识': 4389, '从没': 1452, '问过': 8498, '情趣用品': 4464, '场合': 3061, '区域': 2320, '隔开': 8601, '纽约': 6961, '42': 50, '时代广场': 5241, '小店': 3831, '专门': 999, '百货店': 6481, '见到': 7603, '同感': 2719, '到位': 2173, '小s': 3810, '红得': 6943, '惹人厌': 4499, '闪亮': 8489, '姐妹花': 3545, '胸大': 7236, '无波': 5181, '真惨': 6608, '黄宥嘉有': 8873, '看诊': 6576, '通告': 8261, '兇嫌': 1811, '孕妇': 3608, '施暴': 5133, '某位': 5576, '提前': 4894, '恶意': 4440, '嘲笑': 2917, '针对性': 8434, '原谅': 2442, '蔡逼巴': 7479, '美丽': 7083, '活泼': 5946, '郑弘仪': 8363, '真得': 6605, '买边': 1231, '玩乐': 6302, '网美太': 7065, '花心思': 7377, '网美': 7064, '虚像': 7494, '雷噼屎': 8644, 'take': 464, '孝顺': 3618, '李文婉': 5526, '乱讲': 1239, '蔡阿嘎': 7481, '针对': 8433, '蔡桃贵': 7476, '添乱': 6009, '洪维宪': 5939, '有报': 5412, '查证': 5585, '从来不': 1450, '韩货': 8694, '宁可': 3638, '台制': 2631, '制品': 2183, '最高级': 5369, '代工': 1468, 'made': 329, 'korea': 296, 'feng': 196, 'hermes': 236, '迪奥': 8215, 'ysl': 540, 'fendi': 195, '品等': 2838, '制造厂': 2191, '有分': 5384, '义大利': 1171, '同一个': 2705, 'hedy': 231, '服饰': 5463, '每件': 5750, '饰品': 8758, '韩国制': 8691, '百货公司': 6480, 'japan': 263, '2012': 25, '反买': 2470, '从那时起': 1453, '旅店': 5140, '什川': 1423, '电视': 6394, '嚣张气焰': 2933, '活该': 5949, '正义感': 5677, '难能可贵': 8624, '风骨': 8745, '不惜': 883, '婆家': 3575, '拉扯': 4780, '上帝': 752, '赐福': 7933, '惊吓': 4465, '没理由': 5880, '暴徙': 5320, '多月': 3192, '一百': 657, '垃圾': 3084, '不断': 898, '吹嘘': 2792, '你班仆': 1645, '那班': 8348, '打烂': 4677, '打途': 4683, '这班': 8168, '多些': 3166, '日日': 5212, '全家': 1863, '仆街': 1428, '说菜': 7800, '阿嘎': 8534, '颜色': 8730, '全民': 1869, '谴责': 7853, '在意': 3031, '每一': 5747, '本书': 5478, '阅读者': 8510, '看文婉': 6560, '直言': 6515, '水准': 5810, '概念': 5642, '分明': 2117, '口德': 2559, '遗害': 8312, '美女': 7091, '在乎': 3026, '与其': 980, '忌妒': 4324, '烧脑': 6143, '好吃懒做': 3466, '不长脑': 975, '智障': 5305, '许圣梅': 7713, '各有': 2684, '看许': 6575, '圣梅': 3022, '差点': 3951, '蔡波': 7477, '预谋': 8718, '严审': 1063, '此风': 5698, '有点像': 5428, '味道': 2813, '自称': 7320, '医学': 2322, '皮肤': 6488, '白多': 6468, '大话': 3275, '时酸': 5256, '炒房': 6118, '民进党': 5802, '公然': 1908, '酸民是': 8382, '月入': 5371, '四十万': 2935, '台北市': 2634, '问之以': 8495, '而观': 7169, '其志': 1951, '显现出': 5287, '心志': 4286, '第三个': 6858, '蔡米': 7478, '定出': 3680, '行罚': 7531, '37': 45, '博文': 2389, '叶黄素': 2649, '人中': 1339, '太短': 3355, '发洩': 2506, '请别': 7807, '无名': 5157, '揶揄': 4911, '长得': 8468, '很丑': 4219, '丑到': 985, '天下无敌': 3298, '天然': 3323, '无与伦比': 5146, '长相': 8474, '层次': 3899, '放在心上': 4993, '败坏': 7886, '高估': 8813, '大奶': 3236, '社会关系': 6705, '一大群': 602, '人赞': 1408, '期期': 5467, '每一集': 5748, '追看': 8224, '祸福无门': 6734, '惟人': 4469, '自召': 7290, '蔡嘉玲': 7473, '辛酸': 8063, '劝世': 2234, '小李': 3840, '有果': 5421, '必有': 4316, '因必': 2967, '看不见': 6539, '胸部': 7237, '名为': 2731, '就可以看': 3874, '变网': 2550, '忽略': 4355, '业配': 1015, '置入': 7082, '成份': 4559, '听者': 2776, '易使': 5272, '生厌': 6352, '拍摄者': 4789, '取镜': 2527, '入镜': 1853, '宏伟': 3670, '明星脸': 5263, '庾澄庆': 4086, '前面': 2218, '准则': 2033, '总机': 4408, '分子': 2110, '枪击': 5568, '正当防卫': 5686, '假奶': 1728, 'x光': 524, '雾雾': 8647, '大小': 3245, 'lee': 305, '白目': 6470, '一线': 665, '之隔': 1194, '受欢迎': 2534, '讲些': 7692, '奶太大': 3449, 'guts': 221, '愚昧': 4513, '再红': 1985, '社团': 6710, '张贴': 4138, '这则': 8142, '消失': 5981, '特定': 6241, '蒙蔽': 7464, '韩粉': 8692, '绝大部分': 7017, '扭曲': 4701, '是非不分': 5282, '安宁': 3646, '疑虑': 6435, 'erica': 179, 'huang': 249, '红了眼': 6939, '自由心证': 7316, '无凭无据': 5156, '胡扯': 7227, '套用': 3414, '中毒': 1106, '当选': 4194, '抛弃': 4742, '做满': 1768, '惨败': 4475, '高雄市': 8838, '民才': 5796, '诈骗': 7740, '金光党': 8418, '猪狗不如': 6284, '流产': 5955, '如出': 3508, '一辄': 679, '蔡阿嘎红到': 7482, '好来': 3488, '女优': 3425, '言而无信': 7647, '哲跑': 2867, '当上': 4163, '完蛋': 3668, '领导': 8721, '向前走': 2753, '韩说': 8693, '四年': 2941, '秃子': 6766, '水灾': 5815, '作秀': 1635, '积水': 6779, '头脑': 3395, '临场': 1120, '表演': 7546, '硬要': 6685, 'style': 453, '塞子': 3110, '阿伯': 8532, '叉烧包': 2458, '小英': 3851, 'adi': 83, 'chang': 134, '国愚': 2997, '总书记': 4403, '顾守': 8713, '北京': 2312, '高雄': 8837, '顾守南': 8714, '郭董': 8372, '走出': 7955, '混淆不清': 6008, '乱流': 1235, '假文凭': 1730, '专机': 997, '超买': 7978, '拜托': 4803, '薪水': 7485, '中立': 1108, '到极点': 2180, '李丽贞': 5519, 'wants': 499, 'war': 500, 'other': 384, 'countries': 150, 'let': 307, 'it': 261, 'easily': 171, 'economic': 172, 'crisis': 153, 'hit': 241, 'whole': 506, 'world': 515, 'hard': 226, 'stop': 452, 'being': 109, 'naive': 355, 'until': 489, 'now': 368, 'are': 97, 'still': 450, 'spouting': 446, 'invasion': 258, 'threaten': 474, 'taiwanese': 462, 'give': 214, 'up': 491, 'mindset': 349, 'have': 228, 'land': 301, 'shit': 433, 'step': 449, 'on': 377, 'blood': 114, 'bodies': 116, 'order': 383, 'come': 145, 'then': 468, 'mandate': 333, 'country': 151, '圣旨': 3021, '做生意': 1772, '相同': 6522, '价格': 1493, '贵些': 7908, '中华民国': 1086, '华独': 2364, '全送': 1873, '富婆': 3763, '骗钱': 8803, '解决': 7634, '生理需求': 6368, '上勇': 742, '真爱': 6617, '可言': 2623, '颧骨': 8734, '太高': 3366, '岁月如梭': 3922, '被包': 7556, '无中生': 5147, '燕窝': 6173, 'kidsiao': 285, '普罗': 5295, '成问题': 4571, '下午茶': 777, '红衣': 6946, '胶脸': 7234, '好恐': 3483, '晚上': 5291, '见鬼': 7611, '化妆': 2309, '整到': 5066, '假脸': 1735, '宁愿': 3639, '天生丽质': 3327, '扣晒分': 4688, '黑金': 8895, '鳄鱼': 8851, '多肽': 3197, '鞭王': 8689, '增大': 3115, '增粗': 3117, '增硬': 3116, '终结者': 6974, '吸收': 2790, '一分钟': 569, '血液': 7520, '感兴趣': 4517, 'xh99abc': 520, '纯中药': 6951, '重整': 8401, '雄风': 8631, '调理': 7828, '肾虚': 7219, '体质': 1591, '精神百倍': 6906, '有包': 5387, '包换': 2304, '金换': 8424, '老是': 7140, '捐钱': 4846, '公益': 1911, '主播': 1155, '长得帅': 8469, '大肠': 3269, '桿菌': 5617, '品性': 2835, '果然': 5565, '捐给': 4845, '善事': 2893, '踏实': 8016, '快乐': 4341, '胡搞': 7228, '折损': 4740, '后代': 2739, '福报': 6743, '冬瓜': 2017, '数量': 5062, '尸袋': 3885, '军方': 2003, '脑子': 7252, '产业链': 1316, '不用说': 923, '万个': 702, '2000': 23, '疾病': 6444, '尸体': 3884, '存放': 3613, '亲人': 1324, '火葬': 6103, '故弄玄虚': 5023, '傧葬业': 1789, '匪方': 2317, '三千多': 723, '南京大屠杀': 2383, '差不多': 3944, '病情': 6451, '好后': 3467, '因该': 2974, '报复': 4753, '隐瞒': 8597, '惊悚': 4466, '蠢到': 7517, '万尸袋': 710, '无限': 5200, '用户数': 6384, '每月': 5755, '手机用户': 4645, '号码': 2650, '对岸': 3776, '殡葬': 5734, '业者': 1014, '死亡数': 5716, '掩饰': 4889, '安定': 3648, '人心': 1369, '闭居': 8493, '唯一': 2870, '二十万': 1267, '信以为真': 1695, '事物': 1260, '言下之意': 7644, '万具': 707, '遗体': 8311, '境内': 3112, '解封': 7637, '大体': 3216, '人口密度': 1352, '能藏': 7247, '阴谋论': 8525, '编得': 7048, '数最多': 5059, '演好': 6077, '机载': 5504, '坏心': 3067, '人吃人': 1355, 'chunwai3019': 141, '碎碎的': 6691, '依照': 1663, '亲属': 1329, '健保': 1782, '看病': 6566, '保安': 1683, '养老': 1965, '身份证': 8022, '地大': 3045, '有的是': 5432, '老虎': 7150, '再则': 1979, '取得': 2524, '国籍': 3003, '陈明通': 8566, '积德': 6777, '官员': 3675, '不肖': 942, '台商': 2635, '避难所': 8327, '立法': 6829, '居留权': 3907, '一律': 624, '当兵': 4171, '深深': 6004, '思维': 4375, '不怪': 882, '乱象': 1242, '难关': 8609, '祸根': 6733, '若真': 7397, '荒谬': 7428, '容忍': 3749, '为所欲为': 1137, '传染病': 1539, '姿佑赞': 3558, '少年': 3856, '大半夜': 3221, '睡梦中': 6648, '屋外': 3910, '吵杂': 2785, '吵醒': 2787, '陌生': 8574, '聊天': 7186, '被窝': 7562, '聊些': 7184, '窗外': 6819, '黑漆漆': 8884, '大白天': 3264, '似的': 1557, '好久': 3457, '有次': 5422, '起床': 7972, '鼓起勇气': 8899, '窗前': 6818, '那一刻': 8330, '不解': 957, '情形': 4457, '遇过': 8295, '来源': 5540, '长满': 8472, '杂草': 5512, '半夜': 2356, '很玄': 4245, '贩茨': 7894, '建商盖': 4093, '贩卖': 7893, '家暴': 3744, '常态': 3994, '相当': 6525, '18': 13, '大爆': 3261, '药才': 7431, '不懂装懂': 888, '我系': 4587, '中华': 1084, '台北': 2632, '放屁': 4995, '中国台北': 1090, '大野': 3284, '一党独大': 567, '特赦': 6249, '陈水扁': 8567, '钓出': 8435, '恼怒': 4447, '奴才': 3447, '吸引': 2789, '阿共': 8533, '帐号': 3973, '能信': 7239, 'maskai': 338, '吐痰': 2750, '胡编乱造': 7230, '丑态百出': 988, '医院': 2336, '赶走': 7966, '复发': 3136, '抗疫': 4738, '看笑话': 6572, '照抄': 6161, '自认': 7328, '道听途说': 8299, '祖宗': 6718, '美爹': 7096, '井底': 1298, '检查': 5625, '核酸': 5601, '测试': 5966, '不测': 912, '50': 54, '排华': 4864, '留学': 6425, '鬼话连篇': 8843, '确诊': 6690, '不缺': 939, '缺德': 7057, '融资': 7515, '补助': 7541, '余力': 1610, '关怀': 1932, '中低收入者': 1079, '过量': 8101, '黑胡椒': 8886, '姜黄': 3554, '抗炎': 4737, '抗氧化': 4736, '剂量': 2199, '服用': 5461, '素是': 6919, '食用': 8753, '两千年': 1039, '未必': 5474, '见得': 7605, '人如': 1365, '不宜': 860, '伊朗': 1504, '内乱': 1969, '得病': 4262, '可去': 2600, '消炎': 5985, '有效': 5414, '我会': 4574, '牙膏': 6223, '牙齿': 6224, '护理': 4750, '素食': 6922, '杀生': 5508, '减少': 2038, '咖喱': 2825, '阿育王': 8549, '酵素': 8379, '咖啡豆': 2824, '茶叶': 7423, '料理': 5093, '摄取': 4926, '辣椒': 8067, '免疫力': 1842, '早睡': 5235, '比药来': 5773, '食品': 8752, '芬多精': 7372, '负离子': 7864, '提升': 4895, '细菌': 6968, '多去': 3176, '森林': 5633, '走走': 7959, '印尼': 2399, '本地': 5484, '黄姜': 8870, '干加哩': 4003, '白吃': 6467, '吃太多': 2660, '中庸': 1101, '黄大脸': 8869, '倒弹': 1708, '喊救命': 2903, '水表': 5818, '人死': 1380, '不明不白': 900, '某邦': 5578, '宣布': 3716, '刑事案件': 2129, '重视': 8409, '洗手': 5930, '香料': 8769, '印度人': 2401, '常用': 3996, '吃饭': 2669, '卫生': 2397, '素卿': 6918, '衣领': 7537, '隐匿': 8594, '海军': 5976, '一个多月': 554, '军人': 2000, '一片': 652, '还装': 8126, '大方': 3254, '四处': 2938, '筛检': 6871, '传媒': 1534, '匿诈': 2337, '坑害': 3075, '效仿': 5025, '去死吧': 2449, 'bon': 118, 'gen': 208, '缺口': 7055, '如下': 3503, '体插': 1585, '当着': 4193, '下贱': 793, '完整版': 3665, '连结': 8212, '一周': 587, '并且': 4037, '患者': 4448, '上网': 765, '假话': 1738, '脑残': 7253, '几十亿': 2047, '厕所': 2428, '花不起': 7373, '一坨': 595, '本地人': 5485, '发出': 2497, '安排': 3653, '外媒': 3148, '爆发': 6175, '死亡率': 5717, '最高': 5368, '意淫': 4509, '功夫': 2243, '假消息': 1733, '真假': 6593, '瞎说': 6654, '要酸': 7600, '不幸': 869, '全力': 1857, '以付': 1478, '解决问题': 7635, '离谱': 6752, '做假': 1757, '封岛': 3798, '死绝': 5723, '先怪': 1819, '效率': 5027, '到哪去': 2174, '提爆': 4900, '全跑': 1872, '外遇': 3158, '任何借口': 1497, '状态': 6255, '心理': 4296, '冠冕堂皇': 2009, '求取': 5823, '小狄': 3842, '乱造': 1243, '口业': 2554, '地狱': 3052, '舌头': 7349, '激情': 6096, '亲情': 1330, '维系': 7033, '屁话': 3898, '喉咙': 2901, '烦人': 6138, '时不时': 5238, '天下大乱': 3297, '习惯性': 1210, '丝毫': 1027, '听众': 2765, '耳朵': 7173, '外界': 3151, '诱惑': 7775, '崇拜': 3925, '人非圣贤': 1418, '圣经上': 3024, '指出': 4823, '元配': 1806, '此能': 5697, '抗拒': 4735, '许志安': 7715, '倒贴': 1712, '角度看': 7632, '放不下': 4988, '剩像': 2226, '般的': 7354, '人连': 1413, '老一辈': 7118, '恨不得': 4427, '假使': 1727, '太多太多': 3340, '那条': 8346, '翻白眼': 7114, 'line': 313, '暧昧': 5315, '已婚': 3953, '车上': 8033, '游移': 6049, '苦苓': 7405, '苦闷': 7407, '道德': 8303, '框架': 5612, '道德败坏': 8305, '比例': 5767, '难处': 8614, '任何理由': 1498, '身份': 8021, '情感': 4458, '认清': 7670, '佔据': 1593, '书面': 1220, '封住': 3794, '讨伐': 7677, 'sammi': 422, '指责': 4828, '矛头': 6656, '一下子': 548, '转向': 8039, '佐证': 1582, '天内': 3308, '释怀': 8389, '公关': 1895, '大于': 3210, '抽血': 4770, '检验': 5629, '武肺': 5704, '幸运': 4045, '猜测': 6283, '高以翔': 8811, '冠状病毒': 2012, '致死': 7347, '吻合': 2797, '过耶': 8099, '查明': 5583, '逝者': 8275, '大不敬': 3208, '性命': 4381, '科学': 6770, '感性': 4523, '凌驾': 2037, '马后炮': 8782, '收视率': 4970, '死者': 5725, '接触': 4877, '唯恐天下': 2872, '危言耸听': 2405, '已逝': 3955, '点播': 6124, '想红': 4492, '不耻': 941, '染上': 5579, '新冠': 5102, '救护车': 5035, '恐怕': 4418, '看才': 6558, '感冒': 4518, '言论自由': 7650, '乱说话': 1241, '靠北': 8676, '蝙蝠': 7511, '真能': 6622, '点阅': 6127, '百次': 6479, '重灾区': 8403, '妄加': 3516, '揣测': 4907, '关高': 1941, '以翔': 1488, '何事': 1595, '牵连': 6237, '无是': 5174, '出名': 2083, '出席人': 2087, '毫无': 5784, '良知': 7358, '似是而非': 1556, '带入': 3977, '这有': 8160, '所知': 4628, '最新消息': 5358, '11': 5, '过世': 8077, 'ncc': 358, '红而红': 6944, '屁事': 3896, '确定': 6688, '装睡': 7571, '剧组': 2223, '带菌者': 3981, '虞美人': 7500, '偶尔': 1787, '猜想': 6282, '说词': 7801, '失责': 3385, '御责': 4265, '提往': 4897, '不道德': 972, 'godfrey': 215, '扩散': 4698, '逝去': 8274, '亡者': 1305, '挖出来': 4835, '不实': 861, '凭据': 2066, '只靠': 2593, '推测': 4881, '费讲': 7917, '心能安': 4308, '惟恐天下': 4470, '全国': 1859, '乱七八糟': 1232, '胡乱': 7226, '传给': 1540, '不利': 825, '真地': 6598, '别家': 2159, '这家': 8151, '头条新闻': 3391, '罗德岛': 7070, '文明执法': 5084, '应对': 4061, '作出': 1626, '示范': 6699, '热乎': 6145, '上去': 745, '铲子': 8448, '慢半拍': 4538, '甩锅': 6389, '接管': 4876, '窃国': 6816, '70': 62, '归还': 4162, '影集': 4210, '刘真': 2135, '归西': 4161, '冤枉': 2014, '生病': 6370, '最怕': 5356, '恢复健康': 4426, '星星': 5274, '腔室': 7275, '症候群': 6455, '截支': 4605, '装叶克膜': 7568, '吃火锅': 2663, '挺不错': 4841, '医王': 2328, '南无': 2386, '大慈大悲': 3251, '救苦救难': 5038, '广大': 4054, '灵感': 6108, '观世音': 7612, '菩萨': 7449, '摩诃萨': 4934, '常年': 3992, '偏头痛': 1742, '止痛药': 5675, '这会': 8140, '瓣膜': 6341, '闭锁': 8494, '不全': 818, '常吃': 3989, '药性': 7430, '心脏': 4309, '释放': 8390, '多余': 3168, '挤压': 4837, '下方': 782, '血管': 7521, '软化': 8048, '释放出来': 8391, '浓稠': 5967, '脑血管': 7255, '破裂': 6679, '出血': 2092, '开刀': 4102, '血压': 7518, '增高': 3118, '危险': 2406, '西医': 7574, '错是': 8457, '法官': 5911, '台大': 2636, '荣总': 7429, '早日康复': 5227, '核心': 5600, '一同': 585, '心念': 4287, '建康': 4095, '喜悦': 2905, '圆满': 3013, '换心': 4855, '难以置信': 8607, '壮年': 3123, '坏到': 3065, '医治': 2327, '病史': 6448, '有无': 5417, '遗传': 8310, '院方': 8580, '动脉': 2266, '太窄': 3356, '心导管': 4283, '手术': 4641, '停止': 1777, '集善念': 8637, '集气': 8640, '磁场': 6694, '好坏': 3470, '宗教信仰': 3673, '恭请': 4430, '佛法': 1620, '救助': 5031, '诚心': 7753, '活路': 5950, '保佑': 1679, '快快': 4344, '奇迹': 3405, '吃素': 2664, '念佛': 4350, '经会': 6977, '力量': 2233, '存活': 3616, '辛龙': 8065, '佛缘': 1621, '观音': 7620, '正神': 5690, '许愿': 7716, '刘真极': 2138, '度过难关': 4082, '最棒': 5359, '妳爱': 3536, '熬过': 6172, '长庚': 8467, '刘真常': 2137, '跳舞会': 8015, '想不到': 4477, '刘小姐': 2132, 'eq': 178, '姐儿': 3544, '祈求': 6713, '老天': 7130, '奇怪的是': 3403, '在场': 3028, '医药': 2335, '昏倒': 5270, '茶余饭后': 7422, '东猜西': 1024, '专报': 996, '诊断': 7745, '笑掉大牙': 6839, '家属': 3740, '病人': 6446, '何以堪': 1596, '统整': 7021, '广泛': 4056, '综合': 7034, '经验丰富': 6993, '流畅': 5961, '讲错': 7709, '资深': 7925, '高深': 8828, '专业训练': 992, '常规': 3999, '诊治': 7746, '症状': 6457, '事项': 1265, 'lulla': 322, '渡过': 6026, '洪素': 5938, '辛隆': 8064, '当寡夫': 4179, '过度': 8090, '夸大': 3397, '二字': 1271, '解读': 7640, '妙法': 3530, '莲华经': 7445, '可改': 2612, '危机': 2404, '这坎': 8148, '醒来': 8385, '心生': 4300, '愿上昌': 4533, '祝祷': 6719, '天上': 3294, '神佛': 6723, '祸害': 6731, '千年': 2351, '失事': 3375, '参谋总长': 2454, '一枚': 638, '做手术': 1764, '兇手': 1812, 'pattyoyang': 386, '后悔莫及': 2741, '唸经': 2875, '回向': 2948, '康复': 4083, '礼拜': 6700, '计划': 7657, '冒险': 1993, '取消': 2525, '罚钱': 7072, '地待': 3046, '洛杉矶': 5935, '上班': 761, '真可怜': 6596, '油太': 5898, '渣滓': 6028, '正在': 5678, '社裂': 6712, '唿唤': 2881, '快点儿': 4347, '起去': 7969, '狗屁': 6265, '今时': 1434, '废人': 4071, '隔绝': 8604, '唾液': 2877, '光蛋': 1835, '头头是道': 3390, '膀胱': 7276, '却说': 2416, '清水': 6016, '比尔': 5770, '该次': 7762, '援助': 4909, '资金': 7928, '魔鬼': 8846, '半个': 2355, '油太人': 5899, '他妈': 1460, '该死': 7763, '改成': 4979, '肾脏': 7218, '中好': 1099, '水带': 5811, '各器官': 2678, '淫邪': 5997, '互相残杀': 1289, '谋财害命': 7838, '强国': 4148, '人连裤': 1414, '破烂': 6677, '三餐不继': 737, '要化': 7584, '万美元': 716, '武装革命': 5705, '饿死': 8761, '残害': 5728, '害苦': 3725, '毁灭': 5741, '一日': 631, '空谈': 6809, '手上': 4634, '吃全': 2658, '素称': 6920, '唸佛': 2874, '中医': 1083, '听得懂': 2770, '人体': 1347, '五行': 1297, '体内': 1584, '运行': 8107, '之道': 1191, '门派': 8487, '不信': 811, '他种': 1461, '地球': 3053, '瞎掰': 6653, '一通': 683, '共剂': 1923, '毒瘤': 5760, '毒株': 5758, '预言': 8716, 'namoamitabha88': 356, '阿弥陀': 8543, '中美势': 1109, '两利': 1035, '国怕': 2996, '推推拉拉': 4880, '十足': 2348, '士来': 3121, '沙勒': 5841, '欧北贡': 5665, '丹田': 1123, '懂别': 4545, '盖兹': 6492, '末阳期': 5477, '生不带来': 6349, '死不带去': 5713, '空空': 6806, '蓉蓉': 7468, '油太教': 5900, '呆湾': 2798, '跟随': 8007, '主子': 1148, '步伐': 5699, '速去': 8276, '起下': 7967, '虚构': 7496, '末日': 5476, '永恆': 5820, '原罪': 2441, '罪孽深重': 7080, '物种': 6233, '不灭': 916, '天理': 3324, '太痛': 3354, '晒太阳': 5289, '能治好': 7245, '像是': 1799, '药院': 7433, '肾毒': 7216, '狠捞': 6267, '我信': 4576, '心术不正': 4293, '颠倒是非': 8732, '反项': 2492, '摧毁': 4933, '之门': 1192, '迎接': 8103, '世界末日': 1006, '烦心': 6139, '该来': 7761, '客气': 3711, '顾好': 8712, '离去': 6748, '明天': 5259, '暗入': 5308, '明入': 5258, '生态环境': 6359, '湿冷': 6054, '热能': 6151, '阳气': 8519, '不足': 968, '害人': 3719, '太坏': 3337, '神功': 6725, '护体': 4746, '团去': 2976, '绕境': 7009, '用于': 6377, '补肾': 7542, '乱涂': 1236, '水火': 5814, '融合': 7514, '阴阳': 8526, '太极': 3351, '佛家': 1617, '心经': 4305, '道家': 8301, '清静': 6022, '佛说': 1623, '阳神': 8520, '咒经': 2823, '辅助': 8055, '元素': 1805, '并济': 4040, '既济': 5205, '结丹': 6996, '看山': 6550, '原理': 2439, '静坐': 8661, '卯时': 2398, '一刻': 575, '15': 9, '农历': 2006, '十五号': 2339, '相互': 6517, '阳光': 8518, '六点': 1917, '七点': 699, '为宜': 1136, '首重': 8767, '上述': 772, '规律': 7624, '补充': 7540, '人不离': 1338, '动动': 2261, '适时': 8238, '促进': 1675, '不易': 903, '喷门': 2912, '扯淡': 4702, '热气': 6149, '强健': 4145, '保养': 1680, '告诫': 2801, '不妨': 855, '寒性': 3768, '听不懂': 2764, '糖糖': 6912, '政治立场': 5016, '心底': 4284, '小时候': 3838, '安静': 3657, '盘腿': 6496, '任督': 1500, '二脉': 1279, '二气': 1277, '光投': 1829, '公三小': 1886, '瞎扯': 6652, '升发': 2353, '肾气': 7217, '下降': 798, '道听涂说': 8298, '一致': 670, '泥马': 5920, '共济会': 1926, 'new': 360, '到来': 2179, '目标': 6500, '五亿': 1291, 'ai': 86, '代替': 1469, '真神': 6621, '新天': 5108, '地会': 3040, '耶稣基督': 7178, '拯救': 4811, 'ack': 80, '说湾': 7795, '正常人': 5683, '我该': 4593, '耶稣': 7177, '门徒': 8485, '出卖': 2077, '亲兄弟': 1325, '直想': 6507, '抓捕': 4720, '长老': 8476, '哪件': 2858, '傻叉': 1796, '读读': 7820, '圣经': 3023, '指望': 4826, '做人': 1755, '点儿': 6120, '运气': 8106, '政权': 5014, '局势': 3893, '家大业大': 3736, '楼起楼': 5641, '赵少康': 7962, '我生': 4586, '为傲': 1132, '共党': 1922, '同路人': 2728, '决要': 2023, '沦为': 5896, '新党': 5101, '两性': 1048, '财经专家': 7877, '女神': 3443, '难不成': 8606, '数落': 5061, '滚离': 6060, '留着': 6428, '纷扰': 6959, '党执政': 1849, '好惨': 3484, '选到': 8245, '小英当': 3852, '何来': 1606, '一说': 674, '咱倒': 2829, '没倒': 5856, '鱼当': 8848, '第一线': 6855, '值得尊敬': 1725, '执政党': 4690, '靠背': 8680, '选举': 8242, '这办': 8143, '下架': 785, '亡国': 1304, '放进来': 5007, '天助': 3309, '自助': 7287, '狗冥党': 6263, '妒嫉': 3525, '风格': 8739, '当出': 4172, '习大禁': 1208, '事救': 1259, '差劲': 3946, '非常感谢': 8668, '可耻': 2619, '只顾': 2595, '型态': 3090, '不问': 977, '天时': 3319, '地利': 3042, '症和后': 6456, '群才': 7104, '320': 41, '糟烧': 6914, '重庆': 8397, '南京': 2382, '湖南': 6053, '湖北': 6052, '九成': 1203, '优点': 1512, '差好': 3949, '看马': 6582, '英久': 7409, '风爆': 8741, '股市': 7204, '指数': 4825, '3995': 47, '惨惨': 4474, '南向': 2384, '好运': 3500, '受精卵': 2536, '红媒': 6942, '及红统': 2460, '至极': 7344, '人选': 1416, '变好': 2543, '擦屁股': 4950, '四百多': 2944, '政坛': 5010, '真乱': 6589, '方唱': 5124, '登场': 6464, '内耗': 1977, '缺乏': 7054, '远见': 8197, '实例': 3691, '政敌': 5013, '看着': 6568, '教成': 5040, '啥样子': 2890, '井蛙': 1300, '心善': 4277, '选错': 8252, '选症': 8250, '诸君': 7816, '体系': 1587, '望尘莫及': 5464, '流行': 5964, '起头': 7971, '池鱼之殃': 5830, '英政府': 7412, '交给': 1310, '下跪': 795, '往上升': 4213, '这事': 8135, '当机立断': 4187, '我诂': 4592, '那要': 8352, '机运': 5505, '副手': 2231, '候选人': 1716, '延烧': 4091, '时刻': 5247, '有小英': 5399, '方方面面': 5126, '周边国家': 2811, '本省': 5489, '几百倍': 2059, '得以': 4258, '如鹿': 3515, '安然': 3655, '躺卧': 8032, '溪水': 6055, 'kk': 291, '灾报': 6112, '日本政府': 5215, '丑丫头': 983, 'marina': 335, '会签': 1525, '禁令': 6735, '解除': 7643, '人山人海': 1367, '来台': 5536, '暗渡陈仓': 5311, '一发': 580, '不可收拾': 836, '声称': 3125, '支援': 4954, '无须': 5202, '协助': 2365, '放死': 5001, 'stella': 448, 'ker': 284, '高票': 8830, '连任': 8204, '不敢想像': 896, '当政': 4185, 'jin': 271, 'jung': 278, '盲目': 6504, '好运气': 3501, '大家庭': 3244, '自小': 7296, '委屈': 3551, '客客气气': 3709, '一家人': 610, '嘴闭': 2928, '言多必失': 7645, '好客': 3478, '桌菜': 5615, '招待': 4798, '假日': 1732, '大伯': 3215, '小叔': 3815, '小姑': 3822, '怎么办': 4362, '累坏': 6932, '好好笑': 3476, '在职': 3036, '姿佑': 3557, '先讲': 1822, '人唱衰': 1359, '更苦': 5337, '精神病': 6905, '蒙面': 7465, '你系': 1646, '生癌': 6371, '戴个': 4607, '搞个': 4918, '眼镜': 6640, '袭击': 7566, '国度': 2995, '政策': 5017, '一分钱': 570, '还怪': 8119, '澳门': 6091, '以来': 1486, '口音': 2571, '设置': 7725, '地雷': 3059, '爱国': 6186, '紧紧': 6928, '麻痹': 8863, '自大': 7292, '变穷时': 2549, '自悲': 7301, '有心人': 5404, '煽风点火': 6169, '从不': 1443, '近代史': 8109, '火烧': 6102, '圆明园': 3011, '八国联军': 1879, '认贼': 7675, '做父': 1771, '就行了': 3880, '人多苦': 1363, '港人治港': 6034, '殖民': 5732, '当惯': 4183, '四大家族': 2940, '董建华': 7460, '居者': 3908, '其屋': 1949, '地产商': 3039, '最终': 5361, '不成': 889, '降下': 8576, '买得起': 1226, '尽显': 3890, '病态': 6449, '没用': 5881, '扑街': 4656, '社会秩序': 6706, '五万': 1290, '保底': 1685, '迫害': 8216, '妄想症': 3518, '墨镜': 3119, '曾荫权': 5344, '包得': 2301, '婊子': 3576, '要立': 7597, '贞洁': 7861, '牌坊': 6220, '美国佬': 7090, '民脂民膏': 5799, '抬高': 4764, '天网': 3330, '系统': 6917, '露脸': 8653, '记录': 7686, '地点': 3051, '卫星': 2395, '抽到': 4769, '毁容': 5739, '旅居': 5139, '光明正大': 1830, '弯弯': 4140, '国会': 2987, '牛鬼蛇神': 6227, '没人信': 5851, '连脸': 8213, '心中': 4272, '遮遮掩掩': 8323, '心虚': 4311, '大大的': 3235, '欢乐': 5656, '造反': 8278, '人好': 1364, '命苦': 2817, '采访': 8388, '非典': 8664, '地租': 3054, '根源': 5606, '解放': 7638, '一制': 574, '一听': 586, '秦汉': 6775, '明月': 5266, '一口': 582, '好假': 3461, '追剧': 8219, '上瘾': 762, '福中': 6741, '比下有余': 5765, '这帮': 8152, '朝鲜': 5465, '努力奋斗': 2275, '怨天尤人': 4393, '说句': 7784, '实在话': 3694, '送中': 8232, '轮不到': 8045, '废物': 4073, '抬举': 4763, '包脸': 2306, '问心有愧': 8496, '有限': 5451, '上下班': 739, '放假': 4989, '逛街': 8272, '敢出去': 5045, '设立': 7724, '大湾': 3259, '解围': 7636, 'dong': 164, 'lyu': 327, '土匪': 3017, '出动': 2076, '包屁': 2299, '行凶': 7524, '29': 37, '不太好': 847, '全都': 1876, '港英政府': 6044, '广东': 4051, '电视台': 6395, '请来': 7812, '临演': 1122, '讲来讲去': 7699, '高房价': 8825, '自豪': 7331, '房租': 4620, 'jb': 265, '弹丸之地': 4143, '支柱': 4955, '改革开放': 4983, '几十年': 2048, '绿党': 7037, '贪污': 7897, '属猪': 3916, '服务员': 5458, '再说': 1989, '财政收入': 7874, '上交': 741, '中央财政': 1098, '过成': 8092, '还超': 8128, '供电': 1659, '香港岛': 8772, '头盔': 3393, '面见': 8686, '废渣': 4072, '问问': 8499, '人能': 1400, '陪陵': 8585, '新加坡政府': 5105, '为民': 1139, '但光': 1559, '新加坡人': 5104, '不忘本': 879, '祖先': 6716, '李光耀': 5522, '乘以': 1201, '500': 55, '这笔': 8170, '巨款': 3942, '隔壁': 8599, '新北市': 5106, '地区': 3043, '中南部': 1087, '不当': 871, '分成': 2114, '有国': 5392, '那去': 8338, '山顶洞人': 3920, '人滚': 1386, '台湾地区': 2643, '军队': 2005, '香港回归': 8771, '中华人民共和国': 1085, '天公地道': 3307, '无人岛': 5150, '建国': 4094, '别扯': 2167, '下水': 788, '物价': 6229, '饱饱': 8759, '苦日子': 7402, '没来': 5876, '两智': 1050, '查询': 5586, '不至于': 949, '一亿': 560, '26': 35, '平米': 4021, '人民币': 1382, '100': 1, '九龙塘': 1205, '算贵': 6886, '关键': 1938, '被害': 7557, '发作': 2495, '三粒': 734, '改不了': 4974, '吃屎': 2661, '鸟事': 8852, '涨价': 5988, '通缩': 8265, '上涨': 759, '港女': 6037, '一尸两命': 613, '违法犯罪': 8201, '下跌': 794, '背黑锅': 7224, '大法官': 3258, '治港': 5903, '后本': 2742, '封成': 3799, '忍者神龟': 4330, '有意思': 5406, '投票权': 4727, '终国': 6970, '太假': 3335, '陈万雄': 8557, '群组': 7106, '经已': 6980, '部署': 8370, '蒸发': 7467, '如箭在弦': 3514, '这根': 8163, '戒严': 4594, '刚过去': 2143, '周六日': 2805, '黑衫': 8891, '军借': 2001, '之名': 1177, '尽情': 3889, '特区政府': 6239, '一触即发': 673, '海啸': 5977, '掠夺': 4870, '展开': 3911, '施加压力': 5131, '升级': 2354, '绝不': 7015, '跌落': 7998, '陷阱': 8587, '黄丝友': 8864, '教徒': 5039, '彻底': 4211, '懵然': 4550, '买屋': 1225, '去学': 2447, '小人': 3813, '不止': 908, '供需': 1661, '垄断': 3087, '人为': 1340, '稀缺': 6787, '飙涨': 8746, '人稠': 1395, '聚集': 7197, '倒因为果': 1707, '要不然': 7580, '广袤': 4058, '北极': 2313, '撒哈拉': 4941, '不仅仅': 805, '物理': 6232, '人口稠密': 1353, '都市': 8373, 'bb': 105, '还怨': 8118, '怎不讲': 4360, '烟涨': 6136, '戒烟': 4597, '哦哦哦': 2853, '请个': 7806, '智商': 5303, '硬伤': 6682, '可惧': 2610, '没人来': 5853, '排队': 4868, '桌子': 5614, '算算': 6885, '两千多万': 1038, '楼价': 5638, '数学': 5057, '查查': 5584, '85000': 69, '强迫': 4157, 'dollchung': 162, '争辩': 1247, '骗太大': 8802, '乱说': 1240, '遮脸': 8322, '太丑': 3333, '逐步': 8259, '自取灭亡': 7289, '人敢': 1374, '他国': 1459, '再怕': 1980, '廉租房': 4088, '港台': 6036, '撒谎': 4943, '不红': 938, '机关': 5495, '开门': 4120, '警署': 7654, '睡觉': 6649, '揪团': 4908, '郑家': 8362, '为止': 1138, '汇率': 5827, '拿掉': 4818, '外围': 3144, '大约': 3266, '万港': 714, '楼房': 5640, '万左右': 712, '万台': 709, '暴行': 5324, '廉耻': 4089, '包成': 2302, '社会主义': 6704, '拆房': 4776, '补贴': 7543, '旧房': 5217, '改建': 4978, '经适': 6991, 'miao': 344, 'zhang': 544, '强拆': 4151, '拆迁': 4778, '名下': 2730, '套房': 3413, '一切都是': 572, '计算公式': 7659, '一人': 559, '发一': 2494, '本手册': 5486, '老房子': 7139, '居住权': 3902, '上市': 750, '要么': 7581, '拿房': 4816, '几辆': 2062, '大巴': 3247, '邻居们': 8358, '顺其自然': 8703, '理智': 6333, '陈述': 8571, '人身攻击': 1410, '一喊': 589, '被模': 7561, '羞辱': 7101, '内部': 1978, '动乱': 2259, '标点符号': 5592, '强烈': 4152, '大侠': 3217, '多党制': 3172, '忽悠': 4353, '到时候': 2178, '怎是': 4366, '张玛尔': 4135, '懒得': 4547, '看得起': 6554, '石沈大海': 6672, '严逞': 1067, '财阀': 7878, '开发': 4105, '填海': 3111, '造房': 8282, '这样的话': 8162, '每年': 5754, '茶叶蛋': 7424, '一千多万': 578, '吃得起': 2662, '三餐': 736, '着落': 6644, '看高': 6583, '低端': 1571, '审查': 3706, '基本上': 3099, '富即': 3761, '早点': 5232, '获得': 7446, '难到': 8610, '钱进': 8444, '发霉': 2518, '房产': 4611, '动脑': 2267, '人多': 1362, '一个包': 553, '美其名': 7086, '清算': 6019, '事实上': 1256, '节目组': 7371, '其心': 1950, '两制': 1036, '盖房子': 6494, '必然': 4317, '住房问题': 1578, '降低': 8578, '别墅': 2157, '住进': 1580, '盖房': 6493, '缓解': 7046, '不比': 910, '大街': 3272, '上强': 754, '最起码': 5366, '空调': 6808, '组织': 6964, '光复': 1826, '别墅区': 2158, '过节': 8100, '一坪': 597, '大概': 3257, '一平方米': 621, '涨幅': 5989, '所有权': 4627, '十多年': 2345, '局长': 3895, '烂透': 6133, '转型': 8040, '港口': 6035, '贸易': 7914, '斗不过': 5089, '巨资': 3943, '建设': 4098, '港珠澳': 6043, '大桥': 3256, '规划': 7621, '世界级': 1007, '一闹': 688, '觉醒': 7629, '敢讲': 5046, '勤奋': 2290, '吃苦': 2666, '进有': 8190, '企图心': 1503, '市中心': 3959, '加班': 2255, '喝酒': 2908, '週休': 8286, '二日': 1274, '去国': 2446, '总裁': 4414, '几千万': 2050, '上百': 763, '独栋': 6272, '透天': 8255, '没人住': 5850, '变鬼成': 2551, '神明': 6727, '左右': 3938, '真幸福': 6604, '住房': 1577, '较大': 8054, '竞争': 6832, '笼屋': 6863, '乡村': 1215, '大屋': 3246, '人来': 1378, '平平': 4014, '温哥华': 6029, '包装': 2307, '得罪人': 4263, '脱欧': 7261, '川普': 3927, '无日无夜': 5173, '反非': 2491, '白人': 6466, '无处可逃': 5158, '移居': 6784, '同志': 2713, '三百万': 731, '救活': 5037, '楼市': 5639, '小子': 3823, '红利': 6940, '高学历': 8819, '精英': 6908, '若果': 7396, '服兵役': 5456, '收纳': 4969, '一并': 623, '兵源': 1943, '票数': 6728, '比大': 5768, '只佬多': 2582, '鱼好': 8847, '立即': 6825, '使高雄': 1651, '六百万': 1918, '上天': 747, '掉下来': 4860, '二千': 1269, '共同努力': 1924, '黄惠铃': 8874, '丑八怪': 984, '天气': 3321, '丑陋': 989, '风大': 8737, '吹掉': 2794, '不要紧': 952, '贵台会': 7911, '喷粪': 2911, '热天': 6146, '窒息': 6817, '验证': 8799, '利害': 2149, '连去': 8205, '看个': 6541, '演唱会': 6076, '通辑': 8266, '事后': 1254, '秋后算帐': 6767, '早前': 5222, '电讯': 6397, '项目': 8700, '房地产商': 4616, '取缔': 2526, '赚够': 7944, '出路': 2097, '终究': 6973, '阶级': 8527, '基础': 3103, '发展前途': 2502, '蒙着': 7463, '亏心事': 1283, '编造': 7049, '坏事': 3063, '正大光明': 5679, '可带': 2603, '大型': 3229, '金店': 8422, '李雨晓': 5527, '居民区': 3905, '三十年': 722, '对美': 3787, '36': 44, '平方英尺': 4015, '蟑螂': 7516, '几时': 2056, '迁徙': 8075, '爱护': 6195, '重过': 8411, '好日子': 3487, 'sue': 455, 'lady': 299, 'fake': 190, 'av': 101, '做爱': 1770, '剧情': 2222, '不学无术': 857, '烧杀抢掠': 6140, '滥杀无辜': 6069, '各位': 2673, '一帮人': 619, '打着': 4678, '旗号': 5144, '连累': 8211, '民不聊生': 5785, '陷入': 8586, '停滞': 1778, '大言不惭': 3274, '地说': 3055, '尊敬': 3807, '类型': 6893, '啧啧': 2891, '台湾同胞': 2642, '停留': 1779, '官方': 3677, '放送': 5008, '强多': 4149, '想禁': 4491, '通通': 8269, '翻出来': 7109, '逛逛': 8273, '官媒': 3676, '万万': 701, '韭菜': 8695, '有事': 5376, '真有': 6613, '习皇': 1211, '驾崩': 8793, '没救': 5873, '认命': 7669, '斗争': 5090, '光想': 1828, '为首': 1142, '集团': 8638, '灭亡': 6106, '经济繁荣': 6986, '少数': 3857, '负担得起': 7863, '基层': 3097, '员工': 2802, '浴室': 5975, '厨房': 2443, '客厅': 3708, '冬天': 2016, '连床': 8206, '棉被': 5630, '重感冒': 8400, '紧急': 6926, '客用': 3712, '借给': 1720, '对比': 3785, '高级': 8832, '社区': 6709, '停车场': 1781, '跑车': 8000, '展示': 3913, '改善生活': 4977, '痴人说梦': 6460, '没良心': 5887, '祈福': 6715, '听过': 2781, '重症': 8406, '病患': 6450, '想起': 4496, '不离': 931, '不弃': 870, '病痛': 6454, '回事': 2945, '克服': 1838, '险关': 8583, '没到': 5859, '别开': 2160, '我姐': 4580, '导管': 3791, '送命': 8234, '新竹': 5113, '昏迷': 5271, '转送': 8044, '救回': 5032, '妳会': 3533, '渡过难关': 6027, '上苍': 766, '爱美': 6199, '疤痕': 6438, '外科': 3153, '高难度': 8836, '内科手术': 1976, '外科手术': 3154, '胸口': 7235, '开个': 4100, '洞用': 5936, '风险': 8743, '动手术': 2263, '生命安全': 6354, '第一把': 6852, '鞋子': 8688, '卖掉': 2381, '收费': 4972, '多作': 3169, '傻眼': 1798, '隐私': 8598, '弱智': 4141, '说外': 7785, '良好': 7356, '折磨': 4741, '财多': 7872, '身弱': 8026, '时常': 5248, '行善': 7527, '布施': 3965, '治潦才': 5904, '有活': 5425, '娱乐圈': 3568, '大嘴巴': 3227, '热度': 6147, '订阅': 7661, '交际舞': 1313, '没中乐': 5846, '刘真会': 2136, '同情心': 2717, '还酸': 8130, '阿嬷': 8542, '心脏外科': 4310, '那类': 8350, '脱垂': 7260, '焦虑': 6155, '药物': 7432, '叶克膜': 2648, '乐观': 1198, '脱离险境': 7263, '蔡假': 7472, '博士': 2388, '或消': 4599, '阴谋': 8524, '老处女': 7127, '毒辣': 5763, '煎熬': 6157, '周围': 2807, '努力下去': 2273, '拿出': 4813, '精密': 6901, '部位': 8368, '非到': 8665, '紧急情况': 6927, '西药': 7577, '饮食习惯': 8757, '间歇性': 8508, '断食': 5099, '流汗': 5959, '排毒': 4867, '活蹦乱跳': 5951, '毛病': 5782, '而命危': 7163, '切结': 2128, '求助无门': 5822, '陈定南': 8563, '凯泰': 2068, '医死': 2326, '救急': 5034, '慢性病': 4539, '投医': 4724, '有空': 5437, '刘乂': 2131, '陈奕': 8562, '苍老': 7389, '稍微': 6790, '老人家': 7123, '医好': 2321, '出院': 2102, '手术室': 4643, '冷气': 2025, '太冷': 3336, '唿吸': 2880, '加护': 2251, '病房': 6452, '波折': 5918, '看护': 6559, '闯祸': 8503, '撑不下去': 4938, '太多药': 3341, '94': 72, '退化': 8228, '祷告': 6729, '安康': 3650, '好消息': 3490, '好转': 3499, '曝露': 5328, '帮帮忙': 3985, '用念力': 6383, '邵晓玲': 8356, '救回来': 5033, '有用': 5430, '贵人': 7909, 'ggg': 212, 'uuu': 494, '错换': 8456, '家里人': 3746, '大肆': 3268, '禁止': 6738, '北韩': 2316, '谈论': 7835, '纳闷': 6956, '讲叶克膜': 7695, '开过': 4118, '就行': 3879, '盲信': 6502, '白色': 6471, '制服': 2186, '权位': 5513, '鼻水': 8900, '收据': 4967, '二年': 1272, '之痛': 1186, '附加': 8552, '之人会': 1175, '污蔑': 5831, '道具': 8297, '姚立明': 3553, '指控': 4824, '帐目': 3975, '不清': 914, '柯泼': 5590, '病危': 6447, '抢救': 4745, '意志力': 4507, '不人道': 803, 'kiwi': 290, 'fruit': 203, '永不': 5819, '撑过去': 4940, '三姑六婆': 727, '可真多': 2617, '景天': 5302, '这群人': 8174, '黄侑真': 8865, '检举': 5624, 'gc32884666': 206, '歪嘴': 5708, '果报': 5562, '没开': 5869, '执照': 4693, '样样': 5598, 'albert': 87, '协调': 2367, '两句话': 1041, '很瞬畅': 4248, '有序': 5401, '运动神经': 8105, '细腻': 6966, '去作': 2445, '用手': 6385, '手术刀': 4642, '急救': 4378, '路线': 8010, '柯手': 5588, '开刀手术': 4104, '急诊室': 4379, '顺便': 8701, '虽是': 7503, '之父': 1184, '柯何关': 5587, '黑柯': 8883, '无以为继': 5152, 'dpp': 168, '估狗': 1550, '只会用': 2581, '淘宝': 5992, '签订': 6877, '姊妹市': 3542, 'pupu': 404, '郑文灿': 8364, 'yichen': 533, '爆料': 6177, 'https': 248, 'reurl': 412, 'cc': 131, '9zgmby': 75, '反柯': 2482, '错话': 8459, '做错事': 1775, '中枪': 1104, '中风': 1114, '病事': 6445, '知情': 6660, '无风': 5203, '吴终': 2783, '反击': 2473, '默认': 8896, '突刺': 6813, '每件事': 5751, '一有': 635, '事关': 1251, '啥事': 2889, '在政治上': 3034, '一天两天': 604, '公器私用': 1897, '栽赃': 5610, '黑心': 8881, '认证': 7673, 'benjamin': 110, '说文解字': 7789, '做文章': 1765, '两回事': 1042, '范围': 7419, '后遗症': 2747, '譬如': 7656, '错药': 8458, '剪刀': 2229, '纱布': 6954, '取出': 2522, '疏失': 6431, '判定': 2146, '包含': 2296, '同台': 2710, '人证': 1405, '花莲': 7384, '苗栗': 7392, '见谅': 7608, '直白': 6511, '门外': 8483, 'eriol': 180, '金门': 8431, '陈超': 8570, '中央电视台': 1097, '立委': 6828, '真多': 6599, '搞不好': 4915, '苗栗人': 7393, '灭火': 6107, '资历': 7921, '就事论事': 3872, '倚老卖老': 1717, '形容': 4198, '无才': 5172, '淆乱': 5991, '鬼混': 8842, '会学': 1520, '死不认错': 5714, '税金': 6791, '乱花': 1238, '远离': 8196, '蓝丑': 7469, '废老委': 4074, '定时': 3683, '选出': 8244, '看着办': 6569, '民党': 5791, 'ey': 188, '心里有数': 4315, '回收': 2960, '同等': 2726, '看轻': 6578, '问政': 8497, '哥说': 2852, '台上': 2629, 'kmt': 292, '净土': 2032, '不败': 966, '要塞': 7586, '再撑': 1982, '选民': 8249, '不好意思': 851, '当家的': 4178, '充耳不闻': 1810, '耳顺': 7176, '之年': 1181, '顺民': 8707, '自屈': 7297, '作贱': 1638, '自个儿': 7279, '为乐': 1126, '赞美': 7951, '失分': 3376, '丑化': 986, '一身': 678, '主席': 1151, '雅量': 8632, '榜样': 5643, '有志': 5405, '靠着': 8679, '堪虑': 3106, '议员': 7683, '谢龙': 7849, '介有': 1440, '59': 57, '地产': 3038, '介当': 1438, '三笔': 733, '累积到': 6934, '囤积': 2978, '几辈子': 2063, '吃不完': 2654, '陆资来': 8556, '几笔': 2061, '介成': 1439, '颜宽恆': 8727, '拒缴': 4793, '保费': 1690, '阴狗': 8523, '大康': 3249, '之慨': 1182, '纳入': 6955, '黄国昌': 8868, '一席': 618, '口舌': 2569, '蓝委废言': 7470, '选风': 8253, '留不住': 6421, '一摊': 629, '不留': 924, 'emm3861030': 175, '草包': 7425, '坚持下去': 3078, '哈奴曼': 2847, '再接再励': 1981, '往后': 4216, '党派': 1850, '健保用': 1783, '国共': 2988, '最快': 5355, '惨字': 4473, '衷心': 7554, '荒在': 7427, '民代喊': 5788, '国投': 2998, '统领': 7024, '拍手叫好': 4787, '机器': 5499, '膝盖': 7277, '想平样': 4483, '现代化': 6312, '用电': 6387, '汽车': 5836, '工业革命': 3928, '国民': 3001, '南投': 2385, '深思': 6002, '逐渐': 8260, '绊脚石': 6976, '祸患': 6732, '败类': 7888, '改说是': 4981, '海因斯': 5978, '剩蠢': 2228, '十几万': 2341, '哪有': 2861, '赞赏': 7952, '认同感': 7668, '会害': 1521, '害到': 3722, 'spot': 445, '爽领': 6215, '十九万': 2338, '许先生': 7712, '口中': 2555, '不折不扣': 891, '低等': 1572, '投出来': 4722, 'treasure': 479, 'life': 310, '卷入': 2417, '责备': 7881, '患难': 4449, '忠臣': 4338, '奸臣': 3452, '算了': 6880, '当作': 4169, '共业': 1919, '混下去': 6007, '猴子': 6288, '退休': 8226, '浪费资源': 5973, 'my': 354, '息怒': 4431, '激昂': 6097, '关切': 1930, '令人不解': 1473, '物以类聚': 6228, '最多': 5351, '废青想': 4079, '等同': 6866, '股楼': 7205, '百年': 6478, '归老钱': 4160, '报纸': 4759, '黄台之瓜': 8867, '何堪': 1599, '典故': 1958, '唐朝': 2868, '武则天': 5700, '写给': 1999, '害死': 3724, '篡位': 6889, '作品': 1627, '暗指': 5310, '表态': 7544, '广告': 4053, '暗藏': 5313, '藏尾': 7488, '可成': 2611, '每句': 5752, '尾字成': 3892, '因果': 2969, '由国': 6391, '乱局': 1233, '起因': 7970, '定夺': 3682, '容港治己': 3751, '苦口婆心': 7400, '就容': 3876, '实行': 3700, '下款': 787, '以爱之义': 1487, '止息': 5674, '恕愤': 4424, '义愤': 1172, '民诚': 5801, '须然': 8709, '诚恳': 7754, '秘书': 6772, '高超': 8835, '多行不义必自毙': 3198, '佛像': 1616, '文化大革命': 5075, '堆土': 3104, '土地公': 3019, '拆掉': 4777, '地震': 3060, '风灾': 8740, '大灾难': 3260, '来临': 5535, '德政': 4269, '饿肚子': 8762, '饿到': 8760, '烧炭': 6142, '自杀': 7310, '卧轨': 2394, '火车撞': 6105, '跳楼': 8013, '军公教': 2002, '警肥': 7655, '滋滋': 6057, '狗官': 6264, '新型': 5107, '不得好死': 876, '阿鼻地狱': 8551, '杨明璋': 5547, '陈全彦': 8559, '东城': 1018, '供业': 1655, '宣化': 3715, '师父': 3969, '教诲': 5043, '陈铃印': 8572, '会毁': 1523, '老习': 7120, '雕像': 8641, '报应不爽': 4756, '不敬': 897, '历来': 2421, '毁佛': 5736, '富裕': 3766, '温州': 6030, '260': 36, '180': 14, '春运': 5276, '散播': 5048, '潜伏期': 6087, '以致': 1489, '收拾': 4965, '俊勋': 1677, '纪彰': 6950, '切恶': 2127, '切善': 2126, '诸佛': 7815, '及众': 2459, '奉行': 3408, '心诚则灵': 4312, '点香': 6128, '非必要': 8670, '挂碍': 4822, '烧毁': 6141, '杀业': 5506, '招致': 4801, '出佛': 2073, '身血': 8030, '重罪': 8407, '只在乎': 2584, '还乐': 8113, '爪牙': 6180, '对付': 3773, '共机': 1925, '收买': 4957, '德塞': 4267, '秘书长': 6773, '完全正确': 3663, '催毁': 1790, '传到': 1533, '女娲': 3430, '伏义': 1505, '规和矩': 7622, 'hai': 223, 'ying': 534, 'liao': 309, '制止': 2187, '友好': 2461, '家务事': 3734, '插手': 4904, '穆斯林': 6794, '猪肉': 6286, '久久': 1169, '回稳': 2962, '毁佛灭': 5737, '享福': 1322, '拥权': 4809, '贪财': 7898, '受苦': 2539, '推翻': 4882, '党员': 1846, '甘愿': 6343, '奴隶': 3448, '怪不得': 4398, 'xi': 521, 'jinping': 272, 'one': 378, 'get': 209, 'punishment': 403, 'not': 366, 'those': 472, 'innocent': 257, '化掉': 2310, '毒素': 5761, '业力': 1012, '引爆': 4127, '虎烂': 7491, '鬼才': 8840, '宇宙': 3640, '法则': 5909, '万物': 715, '有灵': 5426, '阅读': 8509, '道教': 8306, '佛教': 1619, '经典': 6978, '聆听': 7183, '法师': 5912, '讲经': 7703, '寺庙': 3790, '修行': 1703, '道场': 8300, '持之以恒': 4821, '念诵': 4352, '经文': 6983, '孝顺父母': 3619, '长辈': 8479, '要敬': 7592, '敬神': 5051, '心存': 4282, '善念': 2894, '要生': 7596, '慈悲心': 4535, '猎杀': 6280, '野生动物': 8413, '捕食': 4847, '多多': 3180, '放生': 5005, '忏悔': 4332, '功德': 2244, '日月': 5213, '山川': 3919, '树林': 5596, '十方': 2347, '龙天': 8903, '护法': 4747, '惩罚': 4476, '护法神': 4748, '整人': 5064, '苦难': 7408, '护身': 4752, '拿走': 4820, '扛着': 4686, '菩萨像': 7450, '罪业': 7078, '何念洁': 1603, '无间': 5199, '现前': 6316, '毁坏': 5738, '三宝': 728, '极大': 5551, '恶业': 4433, '反共': 2472, '收取': 4961, '播放': 4946, '恶人': 4435, '好吃好喝': 3465, '时侯': 5242, '未到': 5472, '因缘': 2972, '俱足': 1705, '首恶': 8766, '恶贯满盈': 4444, '拆庙': 4775, '神像': 6724, '之类': 1188, '党的领导': 1851, '高层': 8822, '决策': 2022, '下达': 797, '八竿子打不着': 1884, '人造': 1417, '各人': 2672, '黄茂展': 8876, '天在': 3310, '乌龟': 1197, '王八': 6291, '蜘蛛': 7509, '穿山甲': 6811, '蝎子': 7510, '黄鼠狼': 8878, '虎鞭': 7492, '供应': 1657, '生物': 6367, '过份': 8080, '累世': 6931, '聚会': 7196, '时机成熟': 5252, '显现': 5286, '地外': 3044, '人类文明': 1398, '落伍': 7453, 'fuxlu': 205, 'yan': 526, '心恶': 4289, '庙寺': 4070, '招灾': 4800, '无人': 5149, 'sunny': 458, '专制': 993, '独裁': 6277, '连点': 8208, '现世报': 6310, '作风': 1640, '立修': 6823, '政党': 5009, '敌人': 5028, '莫不': 7439, '助长': 2271, '恶势力': 4437, '变本加厉': 2548, '制是': 2185, '糖衣': 6913, '毒药': 5762, '关他': 1929, '底线': 4069, '取关': 2521, '主权': 1156, '老大': 7129, '近来': 8112, '明说': 5269, '大乱': 3209, '乱扯': 1234, '住院': 1581, '遗言': 8315, '笔照': 6844, '英雄': 7418, '先得': 1818, '奥斯卡': 3418, '金奖': 8421, '留住': 6422, '存款': 3615, '全用': 1871, '高手': 8826, '冷面': 2031, '笑匠': 6837, '笔记': 6845, '算钱': 6887, '烧香': 6144, '拜年': 4802, '摸摸': 4936, '人之出': 1341, '性本善': 4384, '行房': 7529, '次数': 5655, '过多': 8086, '手枪': 4646, '早衰': 5236, '当漏': 4190, '翁灿耀': 7108, '学问好': 3635, 'kady': 281, 'hsia': 247, '婆做': 3572, '反过来': 2489, '特大': 6240, '成年': 4567, '放手': 4999, '时时刻刻': 5250, '嫌东': 3600, '嫌西': 3602, '把儿': 4718, '媳越': 3590, '推越': 4885, '说儿': 7782, '搬出去': 4925, '成家立业': 4565, '不腻': 945, '康晓菁': 4084, '煮饭': 6167, '偏偏': 1740, '夸赞': 3400, '小俩口': 3814, '而言': 7170, '想当': 4484, '谢长廷': 7848, '爸爸': 6214, '硬撑': 6684, '硬逼': 6687, '失望': 3381, '当个': 4165, '自力更生': 7286, '活得': 5944, '平顺': 4025, '况且': 2024, '一届': 615, '赌运': 7932, '彩球': 4202, '版输': 6219, '舒解': 7353, '公审': 1900, '扁家': 4633, '谢家': 7841, '苏家': 7390, '蔡家': 7474, '马家': 8785, '李家': 5525, '司法': 2652, '唿吁': 2879, '包庇': 2300, '掩护': 4887, '遮丑': 8318, '老共': 7125, '政绩': 5018, '最差': 5354, '经理': 6987, '想过': 4497, '维州': 7027, '34': 43, '不争气': 802, '能怪': 7244, '养父母': 1964, '谢维洲': 7845, '出言': 2093, '刻薄': 2198, '留点': 6427, '太爽': 3353, '怎知': 4368, '有完没完': 5398, '早该': 5237, '自立': 7321, '着想': 6643, '万恶': 713, '高利贷': 8816, '联手': 7191, '诱骗': 7776, '维洲': 7031, '误入歧途': 7772, '切割': 2125, '晚年': 5293, '惜福': 4467, '仁兄': 1424, '赌博': 7929, '基因': 3096, '溺爱': 6056, '原名': 2431, '张维洲': 4137, '坦白说': 3083, '耸动': 7181, '遗弃': 8313, 'omg': 376, '还供': 8116, '知足': 6662, '从政': 1448, '断绝': 5097, '父子关系': 6210, '从此': 1451, '谢常停': 7843, '遭报应': 8317, '能过': 7248, '亲生': 1332, '风光': 8735, '财权': 7876, '民选': 5803, '一职': 667, '优渥': 1511, '有谢': 5440, '夫妇': 3368, '一路': 677, '士农工商': 3120, '比起': 5775, '一款': 644, '暸解': 5326, '收养': 4959, '心多痛': 4279, '育幼院': 7214, '领养': 8719, '养子': 1961, '不教': 893, '没人管': 5854, '被遗弃': 7564, '需为': 8648, '司机': 2651, '侵害人': 1669, '靠杯': 8678, '债务': 1723, '前途无量': 2217, '高中毕业': 8808, '奖学金': 3410, '缴税': 7053, '贷款': 7913, '打工': 4668, '大学毕业': 3242, '个体': 1074, '搬出': 4924, '家门': 3748, '要付': 7582, '男妈宝': 6407, '学好': 3629, '恩情': 4429, '惹麻烦': 4500, '先假': 1813, '不长进': 976, '别怪': 2164, '怪地': 4400, '家中': 3728, '一毛': 649, '凯蒂': 2069, '弃养': 4123, '很为': 4220, '圆融': 3014, '私底下': 6759, '截取': 4604, '那年': 8342, '总统大选': 4412, '震撼': 8651, '育儿': 7213, '小朋友': 3839, 'robin': 416, '应尽': 4062, '美忍庄': 7094, '生养': 6351, '吃饱': 2670, '唸书': 2873, '好榜样': 3489, '三十六岁': 721, '咎由自取': 2822, '不需': 978, '好自为之': 3495, '天无绝人之路': 3318, 'heng': 234, '浪子回头金不换': 5969, '艾贞': 7365, '二度': 1273, '节制': 7367, '天坑': 3312, 'xdd': 519, '两层': 1044, '气密': 5806, '漏洞': 6072, '脱下来': 7259, '打喷嚏': 4666, '户外': 4609, '晾干': 5306, '未出': 5471, '何方': 1604, '推论': 4884, '同伴': 2708, '误伤': 7771, '可能性': 2621, '更高': 5340, '新闻宣传': 5117, '打斗': 4673, '脖子': 7257, '眼镜蛇': 6641, '之外': 1180, '毒液': 5759, '喷向': 2910, '大放厥词': 3253, '这女': 8150, '不净': 822, '普过': 5296, '路过': 8011, '港民': 6040, '百分百': 6475, '弹珠': 4144, '弹丫义': 4142, '裤袋': 7572, '雷射': 8645, '杀伤力': 5507, '反弹': 2476, '击到': 2104, '脸上': 7265, '作业': 1624, '事发': 1253, '报警': 4760, '片会': 6216, '暴露': 5325, '看透': 6580, '特色': 6247, '眼中': 6628, '预警': 8717, '看不出': 6536, '看不出来': 6537, '绿色': 7041, '打伤': 4659, '讲评': 7705, '忠贞': 4340, '信任': 1697, '谅解': 7829, '方不诚': 5121, '越轨': 7994, '超越': 7985, '约束': 6947, '违背': 8203, '论理': 7721, '行经': 7530, '正宫': 5681, '马太': 8784, '防卫': 8514, '情有可原': 4460, '王瞳': 6297, '过于': 8078, '有妇之夫': 5397, '最见': 5364, '写照': 1998, '光明磊落': 1831, '无惧': 5166, '贬低': 7901, '醒过来': 8386, '人帮': 1368, '歪理': 5711, '来求': 5539, '吸睛': 2791, '无尺': 5160, '家事': 3730, '那张': 8343, '证书': 7727, '经营': 6988, '始终': 3543, '前进': 2216, '拖累': 4796, '好聚好散': 3494, '忠诚': 4339, '被迫': 7563, '踏进': 8017, '吵吵闹闹': 2784, '不睦': 928, '他会': 1457, '可不可以': 2597, '实施': 3697, '配给制': 8377, '那套': 8341, '反倒': 2471, '八道': 1885, '耸人听闻': 7180, '魔神': 8845, '形同陌路': 4197, '娘家': 3566, '仲介': 1490, '卖房子': 2380, '独子': 6271, '不卖': 830, '半斤八两': 2357, '行同': 7526, '莫路': 7443, '赌场': 7930, '姊妹': 3541, '洋哀帘': 5927, '洋哀贫': 5928, '黄宥嘉是': 8872, '嫁来': 3596, '人依亲': 1348, '就业': 3871, '击败': 2105, '姦夫': 3555, '有高有低': 5453, '重心': 8399, '理直气壮': 6335, '小三小王': 3812, '低潮': 1570, '本是': 5487, '同根': 2723, '何太急': 1600, '真想': 6609, '太太': 3344, '一头': 606, '见钱眼开': 7609, '美貌': 7098, '讲起': 7707, '口才': 2562, '胡言乱语': 7231, '反感': 2478, '比阿翔': 5778, '失败者': 3387, '落幕': 7456, '私事': 6757, 'sasa': 424, '记者会': 7690, '离了婚': 6746, '讲成': 7698, '当事者': 4168, '下断论': 781, '细节': 6967, '批判': 4704, '端正': 6836, '私德': 6760, '可受': 2602, '公评': 1913, '失婚': 3379, '妒忌': 3526, '于是': 1281, '措词': 4890, '童星': 6835, '林青霞': 5561, '胡瓜': 7229, '丁柔安': 696, '透彻': 8256, '嫁错': 3598, '避嫌': 8325, '一个巴掌拍不响': 555, '花痴': 7382, '道德观': 8304, '做错': 1774, '戏内': 4551, '戏外': 4553, '当小三': 4181, '评断': 7734, '上衣': 768, '半边': 2360, '多大': 3181, '庄重': 4059, '聪明人': 7199, '业障': 1016, '加深': 2254, '火上加油': 6101, '论断': 7720, '人会': 1346, '真贱': 6626, '她家': 3454, '赔钱': 7936, '疯狂': 6441, 'gf': 211, '剖析': 2220, '演艺事业': 6081, '小三': 3811, '观感': 7617, '还生': 8123, '撇清': 4937, '维护': 7028, '早早': 5228, '脏乱': 7250, '垃圾堆': 3085, '口味': 2558, '长舌妇': 8478, '长舌': 8477, '马先生': 8781, '其本': 1952, '迷路': 8218, '劝善': 2236, '劝导': 2237, '两全': 1034, '演员': 6075, '人情': 1371, '小声': 3818, 'ok': 375, '母教': 5746, '其母': 1955, '曹淑敏': 5341, '抵制': 4767, '女主持': 3422, '要你管': 7583, '用不着': 6376, '尖酸': 3866, '要害': 7587, '积些': 6776, '口德好': 2561, '万事通': 703, '牙科': 6222, '太烂': 3352, '废话': 4076, '哎呀': 2849, '听得': 2769, '头疼': 3392, '时先': 5244, '检视': 5627, '私生活': 6762, '键盘': 8461, '酸名': 8380, '摇钱树': 4932, '不少': 862, '案例': 5613, '小彬彬': 3835, '彬彬': 4203, '颜正国': 8728, '很久': 4221, '错失': 8453, '歌手': 5673, '张韶涵': 4139, '感受': 4521, '成天': 4563, '只为': 2579, '不得不': 873, '划清界限': 2130, '欧芳婷': 5669, '马俊麟': 8779, '抄作': 4717, '戏剧': 4552, '戏码': 4555, 'kimo': 288, 'jcik': 266, '美容': 7093, '壬家': 3122, '那时': 8344, '影星': 4205, '言行': 7648, '怕热': 4371, '检点': 5626, '妳自己': 3537, '半是': 2358, 'oo': 380, '做些': 1754, '越矩': 7993, '搅得': 4912, '幼小': 4047, '孩儿': 3636, '性病': 4388, '尊就敬': 3806, '没料': 5874, '新闻报导': 5118, '听腻': 2777, '传来传去': 1537, '真是假': 6611, '无从': 5151, '喜望': 2906, '高格': 8827, '影艺圈': 4207, '诽闻': 7821, '同告': 2711, '总归一句': 4405, '心太花': 4280, '艾成': 7364, '当奴才': 4177, '为啥': 1134, '负评': 7865, '大开眼界': 3250, '岁算': 3923, '13': 7, '不大准': 844, '阿扁': 8546, '阿珍': 8547, 'xxx': 523, '芳香': 7388, '要强': 7588, '瓜果': 6340, '伦理': 1548, '廉价': 4087, '没下戏': 5845, '将心比心': 3803, '私下': 6756, 'music': 353, '小胖': 3850, '评语': 7739, '音调': 8697, '人脑': 1401, '声调': 3127, '相由': 6530, '某一方面': 5572, '主观': 1160, '世俗': 1004, '八挂': 1882, '先照': 1820, '照镜子': 6165, '不愧': 886, '眼障': 6642, '这方面': 8156, '地越': 3057, '越会': 7988, '偏离': 1747, '不关': 819, '上将': 748, '私隐': 6765, '地谈': 3056, '级次': 6949, '在座': 3030, '谈人': 7830, '天生': 3326, '八婆': 1880, '转行': 8043, '又关': 2455, '并非': 4042, '实情': 3696, '吃喝': 2659, '妳们': 3532, '王小三': 6294, '王童': 6298, '当小': 4180, '我觉': 4591, '王曈': 6296, '马骏麟': 8791, '天下': 3296, '男女关系': 6405, '拿捏': 4817, '爱错': 6204, '他俩': 1458, '本位': 5481, '谢忻': 7844, '阿翔': 8548, '翻版': 7113, '男童': 6416, '拖下水': 4795, '按烂': 4832, '出身': 2098, '奇特': 3404, '没嘴': 5864, '最佳': 5346, '评论家': 7737, '家丑': 3726, '不得已': 877, '嘴议': 2924, '医德': 2324, '闲着': 8506, '枉费': 5554, 'jj': 273, '遮拦': 8320, '建筑': 4096, '成年人': 4568, '人人平等': 1344, '借题': 1722, '害人不浅': 3720, '定论': 3684, '梁小姐': 5618, '瞎了眼': 6651, '老娼': 7134, '羞耻心': 7100, '花心': 7376, '隐形': 8595, '妓艺': 3527, '常看到': 3998, 'shih': 432, '王粉': 6299, '不相干': 926, '专业性': 991, '评论性': 7738, '徐俊': 4256, '吴淡如': 2782, '但马': 1566, '激烈': 6098, '社会舆论': 6707, '大都': 3282, '偏向': 1741, '一块': 594, '接着': 4875, '娱乐节目': 3569, '肿瘤科': 7220, '身心': 8027, '分析师': 2119, '漏风': 6073, '吹风': 2796, '签约': 6876, '无所不谈': 5170, '快要': 4348, '实证': 3701, '仅供': 1425, '错得': 8454, 'sf': 428, '亲眼见到': 1335, '手边': 4653, '正好': 5680, '讲求': 7700, '说错': 7805, '冷静': 2030, '好怪': 3482, '便是': 1673, '绘声绘影': 7010, '凭论': 2067, 'jenjen': 268, 'meow': 343, '音乐': 8696, '作词': 1637, '捞钱': 4848, '捷径': 4859, '天想': 3317, '通想': 8263, '不可思议': 835, '不管怎样': 936, '该当': 7759, '保守': 1682, '死小三': 5720, '不敢当': 895, '废言': 4075, '讲解': 7704, '日久生情': 5207, '分寸': 2111, '能全': 7240, '错怪': 8455, '手掌': 4638, '拍不响': 4784, '书读': 1219, '逊色': 8254, '一坨拉库': 596, '光听': 1825, '铺陈': 8451, '文华': 5076, '哪儿': 2859, '怪怪的': 4401, '七年之痒': 698, '王妈妈': 6292, '贺尔蒙': 7918, '发痒': 2510, '盒子': 6491, '挡箭牌': 4836, '奉劝': 3406, '马俊麟别': 8780, '自毁前程': 7312, '有远见': 5444, '表明': 7545, '真像': 6595, '果断': 5563, '为难': 1140, '王小姐': 6295, '自知': 7317, '饥渴': 8755, '鸡子': 8853, '圣贤': 3025, '振振有词': 4840, '身历其境': 8025, '单身': 2374, '孤单': 3622, '终老': 6975, '依靠': 1666, '心理医生': 4297, '莫名': 7440, '奇妙': 3401, '女鹅泡': 3445, '再说下去': 1990, '少女': 3855, '青春期': 8658, '目录': 6499, '很怪': 4235, '愚孝': 4512, '主见': 1159, '榻榻米': 5645, '黄河': 8875, '开假': 4101, '爆出': 6174, '助理': 2268, '洗版': 5932, '影视': 4208, 'ptt': 401, '贴出来': 7904, '很惨': 4236, '定型': 3681, '大染缸': 3255, '不沾身': 911, '童年时期': 6834, '命运': 2818, '记错': 7691, '有要': 5438, '成婚': 4564, '前禁': 2213, '一阵子': 689, '说信': 7781, '性行为': 4390, '当场': 4175, '看鬼': 6584, '信不信': 1693, '整条': 5070, '露出': 8652, '长不大': 8464, '最合适': 5348, '吕筠茜': 2759, '王都': 6300, '抨击': 4762, '摩铁': 4935, '拍照': 4790, '世事': 1001, '有得有失': 5402, '坚强': 3076, '小女孩': 3819, '安心': 3651, 'move': 352, '只须': 2594, '修心养性': 1700, '参加': 2452, '心理治疗': 4299, 'bethany': 112, 'huo': 250, '有失': 5396, '伤心': 1546, '流泪': 5960, '并未': 4039, '阴影': 8521, '勇士': 2282, 'dont': 165, 'share': 429, 'same': 421, 'opinion': 381, 'make': 331, 'silly': 437, 'assumptions': 99, 'accuse': 79, '支持者': 4953, '大大': 3234, '安慰': 3652, '先当人': 1817, '再谈': 1991, '先当': 1816, '苦海': 7404, '无涯': 5182, '回头是岸': 2951, '斗死': 5092, '余莓莓': 1614, '叙述': 2552, '父亲': 6207, '转变': 8037, '加诸': 2256, '退步': 8230, '成员': 4562, '队长': 8513, '虎仔': 7490, '偏激': 1745, '气势': 5805, '咄咄逼人': 2820, '莫非': 7444, '双重人格': 2467, '变小': 2544, '造虐': 8283, '嘴太臭': 2918, '起人来': 7968, '咬牙切齿': 2828, '歪眼': 5712, '父女': 6208, '花丛': 7374, '今世': 1430, '去世': 2444, '不依': 810, '留口德': 6423, '眼不见为净': 6627, '为宁': 1135, '最想': 5357, '转台': 8038, '第一名': 6851, '自立更生': 7322, '勇者': 2285, '迈出': 8102, '第一步': 6854, '预期': 8715, '比上不足': 5764, '书本知识': 1218, '读得': 7819, '地标': 3048, '顶端': 8699, '看待': 6551, '人生哲学': 1389, '距离': 8001, '换个': 4852, '过些': 8079, '恶魔': 4445, '沙鱼': 5843, '沙西米': 5842, '烂货': 6132, '排名': 4865, '仅次于': 1426, '肥菊': 7208, '英花': 7416, '造口业': 8279, '哪出': 2860, '人同': 1356, '打退堂鼓': 4682, '卫理': 2396, '非富': 8666, '埋怨': 3093, '责怪': 7882, '少数民族': 3858, '修德': 1699, '此女': 5696, '王世坚': 6290, '我能': 4588, '不平': 868, '偏差': 1743, '余女': 1611, '滚下来': 6058, '那有': 8345, '喉舌': 2902, '是非观': 5283, '罔然': 7068, '之人': 1174, '可恨': 2606, '没口德': 5861, '天理昭彰': 3325, '自食恶果': 7335, '欺压': 5670, '厚道': 2429, '世上': 1000, '没差': 5868, '赞声': 7949, '多劳': 3175, '昧着良心': 5277, '早晚': 5229, '不正': 909, '东东': 1017, '尖牙': 3865, '利嘴': 2148, '平衡': 4023, '宽容': 3754, '口德上': 2560, '少说': 3861, '缺德事': 7058, '女鬼': 3444, '不修口': 812, '心丑': 4271, '口脏': 2568, '臭死': 7337, '人脸': 1402, '不得了': 874, '善感': 2897, '当道': 4195, '处于': 3130, '劣势': 2257, '造就': 8280, '一批': 627, '打手': 4670, '主战': 1152, '杯酒释兵权': 5548, '文官': 5082, '这批': 8155, '分赃': 2121, '起手式': 7973, '乌烟瘴气': 1196, '有眼': 5433, '天不怕': 3300, '苛薄': 7394, '好命': 3469, '死背': 5726, '活用': 5947, '处世': 3129, '灵活': 6110, '手腕': 4650, '反躬自省': 2488, '倔强': 1715, '莓莓': 7436, '这嘴': 8146, '这脸': 8176, '丑女': 987, '作怪': 1629, '愚霉霉': 4516, '其来': 1953, '短短': 6669, '几十载': 2049, '烟商': 6135, '设厂': 7723, '烟农': 6134, '烟草': 6137, '卖台': 2377, '重男轻女': 8405, '家家': 3739, '难念': 8618, '不如意': 853, '过好': 8088, '胡说': 7232, '堕落': 3105, '拔舌': 4794, '脾气': 7273, '汽场': 5834, '助纣为虐': 2270, '害人害己': 3721, '马英九': 8790, '清廉': 6013, '当权': 4188, '必让': 4321, '得势': 4261, '妇人之仁': 3521, '埋没': 3094, '滥情': 6068, '刚愎': 2142, '公理': 1910, '尽失': 3887, '猪鼻': 6287, '国之将亡': 2985, '妖孽': 3528, '林志': 5555, '泼出去': 5925, '性格': 4385, '使然': 1649, '一世': 549, '辛辣': 8062, '输钱': 8057, '性情': 4382, '会大变': 1519, '祸国殃民': 6730, '毒品': 5757, '来换': 5538, '出息': 2088, '高中': 8807, '没考上': 5884, '公立学校': 1912, '私立学校': 6764, '变坏': 2542, '学着': 3632, '向外': 2754, '炫耀': 6119, '放榜': 5000, '巴掌': 3957, '打出': 4661, '原型': 2433, '无憾': 5169, '少造': 3862, '柔软': 5580, '汪笨': 5833, '陈立': 8568, '宋瑞祥': 3660, '指阴粉': 4829, '阴犬': 8522, '禅意': 6740, '廿年': 4099, '黑过': 8893, '宋楚瑜': 3659, '连战': 8207, '朱立伦': 5493, '无中生有': 5148, '心路历程': 4313, '忍气吞声': 4329, '睁一只眼': 6645, '闭一只眼': 8491, 'qaq': 405, '早滥': 5231, '事非': 1264, '748': 64, '夜校': 3205, '美术': 7095, '体育': 1588, '女中': 3420, '演讲比赛': 6083, '练习': 6963, '国语': 3004, '外省': 3152, '自我感觉': 7304, '张嘴': 4133, '黑人': 8880, '成就': 4566, '偏见': 1749, '立于': 6822, '中道': 1111, '愈来愈好': 4501, '世间': 1011, '修正': 1702, '大好机会': 3238, '做好事': 1762, '好话': 3496, '时时': 5249, '走过': 7960, '艰辛': 7359, '向光明': 2752, '放爱于': 5004, '所视': 4630, '怨怼': 4395, '想不开': 4478, '亏欠': 1284, '要怪': 7589, '拉圾': 4779, '淫亵': 5993, '流水': 5958, '早熟': 5234, '早烂': 5233, '看人': 6543, '自家人': 7293, '老爸': 7144, '股票': 7206, '失利': 3377, '赚取': 7943, '学费': 3634, '傲慢': 1795, '心再': 4274, '自褒': 7326, '无意': 5167, '骄纵': 8797, '尖锐': 3868, '烂梅': 6130, '我爸': 4585, '这般': 8177, '突显': 6814, '短处': 6667, '珍重': 6328, '侯选人': 1668, '念心经': 4351, '面相': 8685, '愚楣': 4515, '果是': 5564, '多造业': 3202, '来世': 5534, '嘴贱': 2925, '心坏': 4278, '总有': 4407, '齐豫': 8901, '莓莓算': 7438, '父母亲': 6212, '说不出': 7777, '会做人': 1517, '难顾': 8629, '以事论': 1477, '添油加醋': 6010, '出发点': 2080, '这块': 8149, '不遗余力': 973, '很强': 4233, '学者': 3633, '付合': 1463, '边学': 8070, '遗憾': 8314, '岁月': 3921, '无法挽回': 5179, '需索': 8649, '无度': 5162, '回娘家': 2953, '随风而逝': 8593, '多想': 3190, '看成': 6556, '草莓': 7426, '报恩': 4758, '重儿': 8394, '轻女': 8050, '国中': 2984, '工厂': 3935, '女工': 3434, '输在': 8056, '起跑点': 7975, '栽培': 5609, '私立': 6763, '女中算': 3421, '福利': 6742, '天之娇': 3301, '天下父母': 3299, '余霉霉': 1615, '窝囊': 6820, '心理变态': 4298, '天良': 3331, '没人会': 5849, '人过': 1412, '门面': 8488, '立场': 6827, '三立': 732, '民视': 5800, '周玉蔻': 2810, '摇头晃脑': 4931, '吊来吊去': 2703, '烂死': 6131, '于媚': 1280, '媚烂桃': 3588, '因有': 2968, '留下来': 6420, '记忆': 7688, '实现': 3698, '自有': 7309, '善果': 2898, '心纯': 4304, '就别': 3873, '人生在世': 1390, '善恶': 2895, '下辈子': 796, '投胎': 4729, '伶牙俐齿': 1553, '无非': 5201, '硬拗': 6683, '当柯黑': 4189, '满则': 6062, '必败': 4322, '割舍': 2232, '性情中人': 4383, '何需': 1607, '冥尽': 2015, '用力': 6379, '架构': 5570, '家学渊源': 3738, '很暴': 4238, '演变成': 6074, '莓莓姐': 7437, '放宽心': 4994, '不削': 828, '有本': 5420, '母子': 5745, '因缘际会': 2973, '紧密': 6924, '一齐': 695, '在生活中': 3035, '不免': 816, '恩恩怨怨': 4428, '陋习': 8573, '这代会': 8137, '美美': 7097, '窝心': 6821, '有神': 5434, '嘴越': 2926, '别想': 2165, '太多人': 3339, '有感': 5407, '换位': 4853, '爱乱': 6183, '插话': 4905, '二百五': 1278, '余爸': 1613, '狠心': 6266, '激励': 6094, '往前': 4215, '男尊女卑': 6408, '令人恶心': 1474, '多着呢': 3196, '老来': 7141, '自找': 7306, '操弄': 4948, '龌龊': 8902, '下流': 789, '儿秀': 1803, '没出息': 5858, '登报作废': 6465, '一帆风顺': 616, '并作': 4038, '对人': 3772, '对己': 3777, '大髻': 3292, '週遭': 8287, '做饭': 1776, '打扫': 4671, '出一': 2071, '谁谁谁': 7823, '一代人': 561, '休掉': 1507, '龙眼': 8904, '出头': 2086, '天性': 3316, '男人婆': 6402, '不具': 820, '属性': 3915, '工具': 3933, '遂行': 8291, '只爱': 2589, '私心': 6761, '为名': 1133, '压榨': 2427, '称为': 6781, '形成': 4199, '姑息养奸': 3549, '没胆': 5885, '没骨气': 5895, '实为': 3689, '根深蒂固': 5605, '被忽视': 7559, '平权': 4017, '相煎何': 6528, '杰出': 5549, '这时': 8157, '金刚经': 8420, '金钢': 8427, '自我陶醉': 7305, '逃避': 8241, '勒索': 2288, '照妖镜': 6159, '过点': 8096, '嫁妆': 3595, '疼爱': 6443, '嘴秋': 2922, '一蓝脑': 672, '丧事': 1070, '小弟': 3834, '隔天': 8600, '赶回来': 7963, '尽心': 3888, '办理': 2242, '幽幽': 4049, '潘淑梅': 6085, '七仙女': 697, '带个': 3976, '偏爱': 1746, '三天两头': 725, '大学教授': 3241, '小学老师': 3824, '出生': 2091, '送养': 8233, '我妈生': 4579, '六个': 1914, '苦毒': 7403, '平等': 4020, '放开': 4996, '枷锁': 5571, '代代': 1467, '恶性循环': 4439, '作弊': 1628, '联考': 7195, '考不上': 7156, '家教': 3742, '好强': 3481, '强化': 4147, '心疼': 4301, '向上': 2751, '补偿': 7539, '苦尽甘来': 7401, '爱心': 6189, '这气': 8166, '民净': 5792, '蛤蟆': 7507, '光光': 1823, '大赔': 3276, '自尊': 7294, '道导制': 8302, '儿女': 1800, '互相': 1288, '関心': 8480, '导至': 3792, '冰冷': 2018, '関系': 8481, '应证': 4066, '直觉': 6514, '询问': 7757, '爱面子': 6206, '误解': 7774, '老后': 7126, '老年': 7138, '分配': 2123, '间接': 8507, '比如': 5769, '通知': 8264, '照护': 6162, '开销': 4119, '给付': 7012, '直系': 6512, '受害': 2531, '渴望': 6046, '双亲': 2462, '前往': 2210, '从小到大': 1447, '掌上明珠': 4861, '没向': 5862, '打击': 4662, '早出': 5221, '没说': 5890, '缘分': 7050, '善缘': 2899, '剩恶缘': 2227, '今生': 1436, '受者': 2538, '北海': 2314, '我家': 4581, '但求': 1563, '无愧于心': 5168, '即可': 2411, '大儿子': 3218, '装潢': 7570, '医疗费': 2332, '零头': 8642, '零食': 8643, '直销': 6516, '许秀': 7718, '没缘': 5883, '奶奶': 3450, '排挤': 4866, '毫不犹豫': 5783, '我哥': 4577, '保养品': 1681, '两车': 1061, '一辆': 680, '第一辆': 6856, '旧车': 5219, '第二辆': 6860, '待遇': 4218, '旁人': 5136, '不明': 899, '究理': 6795, '864038swimmer': 70, '自强': 7300, '父子': 6209, '几世': 2041, '修来': 1701, '欠债': 5652, '怨恨': 4396, '纠缠': 6938, '碰到': 6692, '大国': 3228, '据说': 4858, '大亨': 3211, '逸夫': 8288, '施棺': 5134, '延寿': 4090, '戒杀': 4596, '施皆能': 5135, '不适': 971, '怪力乱神': 4399, '可取': 2601, '马来西亚': 8787, '考虑一下': 7158, '天灾人祸': 3322, '有力': 5386, '出力': 2075, '不及': 832, '有病': 5431, '贡献': 7869, '伟大': 1531, '闲去': 8505, '闲事': 8504, '倒不如': 1706, '搞好': 4920, '例子': 1654, '不干': 867, '实事': 3690, '转移': 8042, '课题': 7822, 'id': 251, '台湾省': 2644, '不美': 940, '还伤': 8115, '棒棒': 5632, '模范生': 5648, '整体': 5065, '改观': 4980, '外交部': 3141, '国阵': 3007, '联盟': 7192, '后门': 2748, '私人企业': 6758, '进出口': 8187, '同个': 2706, 'category': 130, '打个比方': 4657, 'region': 409, 'hongkong': 245, 'macau': 328, '一栏': 640, '独中生': 6269, '过后': 8083, '退守': 8229, '偏帮': 1744, '考试': 7159, '文革': 5087, '试题': 7751, '前首相': 2219, 'mahathir': 330, '各方': 2683, '中国崛起': 1092, '多元': 3170, '一带': 617, '工程': 3936, '削减': 2200, '立刻': 6824, '复工': 3137, '总而言之': 4413, '出发': 2079, '荷兰': 7434, '丹麦': 1124, '西班牙': 7576, '到头来': 2176, '法案': 5914, '断交': 5096, '制约': 2188, '沉浸': 5838, '冒犯': 1992, '派兵': 5952, '真会': 6592, '蛮高': 7508, '俄罗斯': 1676, '新闻媒体': 5116, '名国': 2734, 'republic': 411, '下面': 799, '小小的': 3828, '走着瞧': 7957, '播报': 4945, '门槛': 8486, '搞笑': 4922, '嘴炮': 2920, '蔡阴': 7480, '没脑': 5886, '新山人': 5111, '外交政策': 3140, '无奈': 5159, '强硬': 4154, '联署': 7194, '签名': 6874, '邻居': 8357, '两派': 1056, '角力': 7630, '施压': 5132, '几分': 2045, '臭钱': 7338, '没人服': 5852, '反扑': 2479, '歧视': 5707, '注定': 5921, '敢于': 5044, '第一个': 6848, '大选': 3279, 'jackythamgk': 262, 'saya': 427, 'sudah': 454, 'marah': 334, 'dia': 158, 'ni': 362, 'orang': 382, 'tak': 463, 'ada': 82, 'ubat': 485, 'boleh': 117, 'help': 233, 'already': 90, '马来人': 8786, '尊严': 3805, '大会': 3214, '重建': 8398, '花香': 7387, '丰年': 1117, '听取': 2767, '蛙声': 7506, '汉语': 5829, 'boy': 120, '一省': 659, '巴西': 3958, '葡萄牙': 7459, '独独': 6274, 'jun': 277, '沦陷': 5897, '不听话': 839, '封国': 3796, '照常': 6160, '劝告': 2235, '井里': 1301, 'hanson': 225, 'yap': 528, '滚雷': 6061, '马国': 8783, '威胁': 3561, '做不了': 1751, '唯中': 2871, '青蛙': 8659, '顺口': 8705, 'wenfang': 503, '睡不着': 6647, '要放': 7591, '无心': 5163, '出货': 2094, '非愿': 8671, '之罪': 1189, '吉隆坡': 2701, 'talk': 465, 'population': 394, 'size': 439, 'explain': 187, 'singapore': 438, 'has': 227, 'million': 346, 'number': 369, 'confirmed': 148, 'cases': 129, '47': 53, 'as': 98, 'compare': 146, 'having': 229, '23': 33, 'please': 389, 'downplay': 167, 'effort': 174, 'government': 219, 'officials': 373, 'russia': 420, 'what': 504, '疼死': 6442, '贤慧': 7884, '并重': 4041, '哪里找': 2864, '婆佑真': 3571, '贤明': 7885, '主妇': 1147, '57': 56, '遇见': 8294, '亲眼': 1333, '见证': 7607, '说服': 7791, '灵界': 6111, '会算': 1526}\n",
            "[[0. 0. 0. ... 0. 0. 0.]\n",
            " [0. 0. 0. ... 0. 0. 0.]\n",
            " [0. 0. 0. ... 0. 0. 0.]\n",
            " ...\n",
            " [0. 0. 0. ... 0. 0. 0.]\n",
            " [0. 0. 0. ... 0. 0. 0.]\n",
            " [0. 0. 0. ... 0. 0. 0.]]\n"
          ]
        }
      ]
    },
    {
      "cell_type": "markdown",
      "source": [
        "#### Transform"
      ],
      "metadata": {
        "id": "SZcbg8bnN0S9"
      },
      "id": "SZcbg8bnN0S9"
    },
    {
      "cell_type": "code",
      "source": [
        "X = tfidf_model6.transform(documents)\n",
        "print(X.shape)"
      ],
      "metadata": {
        "colab": {
          "base_uri": "https://localhost:8080/"
        },
        "id": "331wCEC4Nz5q",
        "outputId": "55e43d81-a1f6-4513-ec79-8564513729c7"
      },
      "id": "331wCEC4Nz5q",
      "execution_count": null,
      "outputs": [
        {
          "output_type": "stream",
          "name": "stdout",
          "text": [
            "(4284, 21)\n"
          ]
        }
      ]
    },
    {
      "cell_type": "markdown",
      "id": "c9d46e46",
      "metadata": {
        "id": "c9d46e46"
      },
      "source": [
        "## Clustering"
      ]
    },
    {
      "cell_type": "markdown",
      "id": "e9801a71",
      "metadata": {
        "id": "e9801a71"
      },
      "source": [
        "### Evaluating"
      ]
    },
    {
      "cell_type": "code",
      "execution_count": null,
      "id": "970e489b",
      "metadata": {
        "id": "970e489b",
        "colab": {
          "base_uri": "https://localhost:8080/",
          "height": 295
        },
        "outputId": "c5a7a70e-0359-4102-81a1-49305d201282"
      },
      "outputs": [
        {
          "output_type": "display_data",
          "data": {
            "image/png": "[encoded data removed]",
            "text/plain": [
              "<Figure size 432x288 with 1 Axes>"
            ]
          },
          "metadata": {
            "needs_background": "light"
          }
        }
      ],
      "source": [
        "import matplotlib.pyplot as plt\n",
        "from sklearn.cluster import KMeans\n",
        "Sum_of_squared_distances = []\n",
        "K = range(2,20)\n",
        "for k in K:\n",
        "   km = KMeans(n_clusters=k, max_iter=200, n_init=10)\n",
        "   km = km.fit(X)\n",
        "   Sum_of_squared_distances.append(km.inertia_)\n",
        "plt.plot(K, Sum_of_squared_distances, 'bx-')\n",
        "plt.xlabel('k')\n",
        "plt.ylabel('Sum_of_squared_distances')\n",
        "plt.title('Elbow Method For Optimal k')\n",
        "plt.show()"
      ]
    },
    {
      "cell_type": "markdown",
      "id": "d9e182cd",
      "metadata": {
        "id": "d9e182cd"
      },
      "source": [
        "### Final clustering by k=?"
      ]
    },
    {
      "cell_type": "code",
      "execution_count": null,
      "id": "e8eacf19",
      "metadata": {
        "id": "e8eacf19",
        "colab": {
          "base_uri": "https://localhost:8080/"
        },
        "outputId": "352f7fd9-2394-4e9d-f487-e094ecc0a5c5"
      },
      "outputs": [
        {
          "output_type": "execute_result",
          "data": {
            "text/plain": [
              "(4284, 21)"
            ]
          },
          "metadata": {},
          "execution_count": 264
        }
      ],
      "source": [
        "true_k = 4\n",
        "model = KMeans(n_clusters=true_k, init='k-means++', max_iter=200, n_init=10)\n",
        "model.fit(X)\n",
        "labels=model.labels_\n",
        "filter_df['cluster'] = labels\n",
        "filter_df\n",
        "X.shape"
      ]
    },
    {
      "cell_type": "markdown",
      "id": "9a44c49c",
      "metadata": {
        "id": "9a44c49c"
      },
      "source": [
        "## Visualization\n",
        "\n",
        "視覺化是必要選項。"
      ]
    },
    {
      "cell_type": "markdown",
      "source": [
        "### Dimension reduction by TruncatedSVD"
      ],
      "metadata": {
        "id": "m68trAwwOrx_"
      },
      "id": "m68trAwwOrx_"
    },
    {
      "cell_type": "code",
      "source": [
        "from sklearn.decomposition import TruncatedSVD\n",
        "svd = TruncatedSVD(n_components=2, n_iter=7, random_state=42)\n",
        "points = svd.fit_transform(X)"
      ],
      "metadata": {
        "id": "ISAmWWeiOrYQ"
      },
      "id": "ISAmWWeiOrYQ",
      "execution_count": null,
      "outputs": []
    },
    {
      "cell_type": "code",
      "execution_count": null,
      "id": "e6ee0a8f",
      "metadata": {
        "id": "e6ee0a8f",
        "colab": {
          "base_uri": "https://localhost:8080/",
          "height": 1000
        },
        "outputId": "b15bc559-d58d-448b-86c9-52d880059c96"
      },
      "outputs": [
        {
          "output_type": "execute_result",
          "data": {
            "text/html": [
              "\n",
              "  <div id=\"df-6e7e317f-0e4a-4ae2-965f-ae612cf5994f\">\n",
              "    <div class=\"colab-df-container\">\n",
              "      <div>\n",
              "<style scoped>\n",
              "    .dataframe tbody tr th:only-of-type {\n",
              "        vertical-align: middle;\n",
              "    }\n",
              "\n",
              "    .dataframe tbody tr th {\n",
              "        vertical-align: top;\n",
              "    }\n",
              "\n",
              "    .dataframe thead th {\n",
              "        text-align: right;\n",
              "    }\n",
              "</style>\n",
              "<table border=\"1\" class=\"dataframe\">\n",
              "  <thead>\n",
              "    <tr style=\"text-align: right;\">\n",
              "      <th></th>\n",
              "      <th>authorDisplayName</th>\n",
              "      <th>textOriginal</th>\n",
              "      <th>likeCount</th>\n",
              "      <th>publishedAt</th>\n",
              "      <th>updatedAt</th>\n",
              "      <th>tokenized</th>\n",
              "      <th>cluster</th>\n",
              "      <th>x</th>\n",
              "      <th>y</th>\n",
              "    </tr>\n",
              "  </thead>\n",
              "  <tbody>\n",
              "    <tr>\n",
              "      <th>0</th>\n",
              "      <td>CHI-HAU CHEN</td>\n",
              "      <td>鄭大哥和吉雷米的互動很可愛，歡迎加入台灣這個溫馨的家庭喔~~~~</td>\n",
              "      <td>19</td>\n",
              "      <td>2020-04-02T01:40:29Z</td>\n",
              "      <td>2020-04-02T01:40:29Z</td>\n",
              "      <td>[郑, 大哥, 吉雷米, 互动, 可爱, 欢迎, 加入, 台湾, 温馨, 家庭, 喔]</td>\n",
              "      <td>2</td>\n",
              "      <td>0.491155</td>\n",
              "      <td>0.861201</td>\n",
              "    </tr>\n",
              "    <tr>\n",
              "      <th>1</th>\n",
              "      <td>Funky Duck</td>\n",
              "      <td>牛嘴掩.....\\n這高雄老外的台語能力應該比台北人好</td>\n",
              "      <td>1</td>\n",
              "      <td>2020-04-07T04:36:37Z</td>\n",
              "      <td>2020-04-07T04:36:37Z</td>\n",
              "      <td>[牛嘴, 掩, ....., 这高雄, 老外, 台语, 能力, 应该, 台北人]</td>\n",
              "      <td>1</td>\n",
              "      <td>0.000000</td>\n",
              "      <td>0.000000</td>\n",
              "    </tr>\n",
              "    <tr>\n",
              "      <th>2</th>\n",
              "      <td>李珈霈</td>\n",
              "      <td>武漢病毒真的讓人很傷腦筋,無恐不入，目前全世界傳染成這樣讓人感覺不知道如何是好，這個病毒何時...</td>\n",
              "      <td>1</td>\n",
              "      <td>2020-04-06T03:45:08Z</td>\n",
              "      <td>2020-04-06T03:45:08Z</td>\n",
              "      <td>[武汉, 病毒, 真的, 伤脑筋, 无恐, 不入, 目前, 全世界, 传染, 成, 感觉, ...</td>\n",
              "      <td>3</td>\n",
              "      <td>0.113751</td>\n",
              "      <td>0.021887</td>\n",
              "    </tr>\n",
              "    <tr>\n",
              "      <th>3</th>\n",
              "      <td>Alonso智真</td>\n",
              "      <td>因為很多人的懦弱、貪婪、無知和長期以來被邪惡無恥的大外宣洗腦，而導致縱容殘暴的獨裁者和一小群...</td>\n",
              "      <td>2</td>\n",
              "      <td>2020-04-04T06:07:49Z</td>\n",
              "      <td>2020-04-04T06:07:49Z</td>\n",
              "      <td>[很多, 懦弱, 贪婪, 无知, 长期以来, 邪恶, 无耻, 外宣, 洗脑, 导致, 纵容,...</td>\n",
              "      <td>1</td>\n",
              "      <td>0.040161</td>\n",
              "      <td>0.004354</td>\n",
              "    </tr>\n",
              "    <tr>\n",
              "      <th>4</th>\n",
              "      <td>L S</td>\n",
              "      <td>線上會議軟體很多，請大家絕對不要選擇zoom！！！\\n\\n此軟體創辦人所有研發人員皆在中國，...</td>\n",
              "      <td>9</td>\n",
              "      <td>2020-04-03T21:38:46Z</td>\n",
              "      <td>2020-04-03T21:38:46Z</td>\n",
              "      <td>[线上, 会议, 软体, 很多, 请, 绝对, 不要, 选择, zoom, 软体, 创办人,...</td>\n",
              "      <td>3</td>\n",
              "      <td>0.113751</td>\n",
              "      <td>0.021887</td>\n",
              "    </tr>\n",
              "    <tr>\n",
              "      <th>...</th>\n",
              "      <td>...</td>\n",
              "      <td>...</td>\n",
              "      <td>...</td>\n",
              "      <td>...</td>\n",
              "      <td>...</td>\n",
              "      <td>...</td>\n",
              "      <td>...</td>\n",
              "      <td>...</td>\n",
              "      <td>...</td>\n",
              "    </tr>\n",
              "    <tr>\n",
              "      <th>4279</th>\n",
              "      <td>陳文</td>\n",
              "      <td>一直在等,57歲了,為什麼總是沒有遇見親眼見證或可以說服自己的所謂靈界事件</td>\n",
              "      <td>1</td>\n",
              "      <td>2019-08-24T05:25:13Z</td>\n",
              "      <td>2019-08-24T05:25:13Z</td>\n",
              "      <td>[一直, 57, 岁, 总是, 没有, 遇见, 亲眼, 见证, 说服, 所谓, 灵界, 事件]</td>\n",
              "      <td>1</td>\n",
              "      <td>0.000000</td>\n",
              "      <td>0.000000</td>\n",
              "    </tr>\n",
              "    <tr>\n",
              "      <th>4280</th>\n",
              "      <td>nova lee</td>\n",
              "      <td>自己不是會算嗎</td>\n",
              "      <td>1</td>\n",
              "      <td>2019-08-22T04:00:31Z</td>\n",
              "      <td>2019-08-22T04:00:31Z</td>\n",
              "      <td>[会算]</td>\n",
              "      <td>1</td>\n",
              "      <td>0.000000</td>\n",
              "      <td>0.000000</td>\n",
              "    </tr>\n",
              "    <tr>\n",
              "      <th>4281</th>\n",
              "      <td>nova lee</td>\n",
              "      <td>自己不是會算嗎</td>\n",
              "      <td>1</td>\n",
              "      <td>2019-08-22T04:00:31Z</td>\n",
              "      <td>2019-08-22T04:00:31Z</td>\n",
              "      <td>[会算]</td>\n",
              "      <td>1</td>\n",
              "      <td>0.000000</td>\n",
              "      <td>0.000000</td>\n",
              "    </tr>\n",
              "    <tr>\n",
              "      <th>4282</th>\n",
              "      <td>the world Rock</td>\n",
              "      <td>常德說的真好</td>\n",
              "      <td>3</td>\n",
              "      <td>2020-04-10T03:21:34Z</td>\n",
              "      <td>2020-04-10T03:21:34Z</td>\n",
              "      <td>[常德, 说, 真]</td>\n",
              "      <td>1</td>\n",
              "      <td>0.000000</td>\n",
              "      <td>0.000000</td>\n",
              "    </tr>\n",
              "    <tr>\n",
              "      <th>4283</th>\n",
              "      <td>Zoe Su</td>\n",
              "      <td>自私的人多的是，水準就和中國人一樣</td>\n",
              "      <td>1</td>\n",
              "      <td>2020-02-12T22:13:24Z</td>\n",
              "      <td>2020-02-12T22:13:24Z</td>\n",
              "      <td>[自私, 水准, 中国]</td>\n",
              "      <td>3</td>\n",
              "      <td>0.113751</td>\n",
              "      <td>0.021887</td>\n",
              "    </tr>\n",
              "  </tbody>\n",
              "</table>\n",
              "<p>4284 rows × 9 columns</p>\n",
              "</div>\n",
              "      <button class=\"colab-df-convert\" onclick=\"convertToInteractive('df-6e7e317f-0e4a-4ae2-965f-ae612cf5994f')\"\n",
              "              title=\"Convert this dataframe to an interactive table.\"\n",
              "              style=\"display:none;\">\n",
              "        \n",
              "  <svg xmlns=\"http://www.w3.org/2000/svg\" height=\"24px\"viewBox=\"0 0 24 24\"\n",
              "       width=\"24px\">\n",
              "    <path d=\"M0 0h24v24H0V0z\" fill=\"none\"/>\n",
              "    <path d=\"M18.56 5.44l.94 2.06.94-2.06 2.06-.94-2.06-.94-.94-2.06-.94 2.06-2.06.94zm-11 1L8.5 8.5l.94-2.06 2.06-.94-2.06-.94L8.5 2.5l-.94 2.06-2.06.94zm10 10l.94 2.06.94-2.06 2.06-.94-2.06-.94-.94-2.06-.94 2.06-2.06.94z\"/><path d=\"M17.41 7.96l-1.37-1.37c-.4-.4-.92-.59-1.43-.59-.52 0-1.04.2-1.43.59L10.3 9.45l-7.72 7.72c-.78.78-.78 2.05 0 2.83L4 21.41c.39.39.9.59 1.41.59.51 0 1.02-.2 1.41-.59l7.78-7.78 2.81-2.81c.8-.78.8-2.07 0-2.86zM5.41 20L4 18.59l7.72-7.72 1.47 1.35L5.41 20z\"/>\n",
              "  </svg>\n",
              "      </button>\n",
              "      \n",
              "  <style>\n",
              "    .colab-df-container {\n",
              "      display:flex;\n",
              "      flex-wrap:wrap;\n",
              "      gap: 12px;\n",
              "    }\n",
              "\n",
              "    .colab-df-convert {\n",
              "      background-color: #E8F0FE;\n",
              "      border: none;\n",
              "      border-radius: 50%;\n",
              "      cursor: pointer;\n",
              "      display: none;\n",
              "      fill: #1967D2;\n",
              "      height: 32px;\n",
              "      padding: 0 0 0 0;\n",
              "      width: 32px;\n",
              "    }\n",
              "\n",
              "    .colab-df-convert:hover {\n",
              "      background-color: #E2EBFA;\n",
              "      box-shadow: 0px 1px 2px rgba(60, 64, 67, 0.3), 0px 1px 3px 1px rgba(60, 64, 67, 0.15);\n",
              "      fill: #174EA6;\n",
              "    }\n",
              "\n",
              "    [theme=dark] .colab-df-convert {\n",
              "      background-color: #3B4455;\n",
              "      fill: #D2E3FC;\n",
              "    }\n",
              "\n",
              "    [theme=dark] .colab-df-convert:hover {\n",
              "      background-color: #434B5C;\n",
              "      box-shadow: 0px 1px 3px 1px rgba(0, 0, 0, 0.15);\n",
              "      filter: drop-shadow(0px 1px 2px rgba(0, 0, 0, 0.3));\n",
              "      fill: #FFFFFF;\n",
              "    }\n",
              "  </style>\n",
              "\n",
              "      <script>\n",
              "        const buttonEl =\n",
              "          document.querySelector('#df-6e7e317f-0e4a-4ae2-965f-ae612cf5994f button.colab-df-convert');\n",
              "        buttonEl.style.display =\n",
              "          google.colab.kernel.accessAllowed ? 'block' : 'none';\n",
              "\n",
              "        async function convertToInteractive(key) {\n",
              "          const element = document.querySelector('#df-6e7e317f-0e4a-4ae2-965f-ae612cf5994f');\n",
              "          const dataTable =\n",
              "            await google.colab.kernel.invokeFunction('convertToInteractive',\n",
              "                                                     [key], {});\n",
              "          if (!dataTable) return;\n",
              "\n",
              "          const docLinkHtml = 'Like what you see? Visit the ' +\n",
              "            '<a target=\"_blank\" href=https://colab.research.google.com/notebooks/data_table.ipynb>data table notebook</a>'\n",
              "            + ' to learn more about interactive tables.';\n",
              "          element.innerHTML = '';\n",
              "          dataTable['output_type'] = 'display_data';\n",
              "          await google.colab.output.renderOutput(dataTable, element);\n",
              "          const docLink = document.createElement('div');\n",
              "          docLink.innerHTML = docLinkHtml;\n",
              "          element.appendChild(docLink);\n",
              "        }\n",
              "      </script>\n",
              "    </div>\n",
              "  </div>\n",
              "  "
            ],
            "text/plain": [
              "     authorDisplayName  ...         y\n",
              "0         CHI-HAU CHEN  ...  0.861201\n",
              "1           Funky Duck  ...  0.000000\n",
              "2                  李珈霈  ...  0.021887\n",
              "3             Alonso智真  ...  0.004354\n",
              "4                  L S  ...  0.021887\n",
              "...                ...  ...       ...\n",
              "4279                陳文  ...  0.000000\n",
              "4280          nova lee  ...  0.000000\n",
              "4281          nova lee  ...  0.000000\n",
              "4282    the world Rock  ...  0.000000\n",
              "4283            Zoe Su  ...  0.021887\n",
              "\n",
              "[4284 rows x 9 columns]"
            ]
          },
          "metadata": {},
          "execution_count": 286
        }
      ],
      "source": [
        "df_point = pd.DataFrame(points, columns = ['x', 'y'])\n",
        "filter_df.reset_index(drop=True, inplace=True)\n",
        "df_merge = pd.concat([filter_df, df_point], axis='columns')\n",
        "df_merge"
      ]
    },
    {
      "cell_type": "markdown",
      "source": [
        "### Embeddings Plot"
      ],
      "metadata": {
        "id": "cECzKZg0jqZf"
      },
      "id": "cECzKZg0jqZf"
    },
    {
      "cell_type": "code",
      "source": [
        "from bokeh.models import ColumnDataSource, Label, LabelSet, Range1d\n",
        "from bokeh.plotting import figure, output_file, show\n",
        "from bokeh.io import output_notebook\n",
        "output_notebook()"
      ],
      "metadata": {
        "id": "QSixi70pPObv"
      },
      "id": "QSixi70pPObv",
      "execution_count": null,
      "outputs": []
    },
    {
      "cell_type": "code",
      "source": [
        "def generate_color(x, total):\n",
        "    def color_red_blue(ctr, reverse=False):\n",
        "        r = int(ctr*255)\n",
        "        b = 255-int(ctr*255)\n",
        "        if reverse:\n",
        "            return \"#%02x%02x%02x\" % (b, 0, r)\n",
        "        else:\n",
        "            return \"#%02x%02x%02x\" % (r, 0, b)\n",
        "    return color_red_blue(x/total)\n",
        "\n",
        "print(generate_color(1, 6))"
      ],
      "metadata": {
        "colab": {
          "base_uri": "https://localhost:8080/"
        },
        "id": "g2GvMcAAhutS",
        "outputId": "1693858b-d5ca-4b58-f6f1-c3c69654df58"
      },
      "id": "g2GvMcAAhutS",
      "execution_count": null,
      "outputs": [
        {
          "output_type": "stream",
          "name": "stdout",
          "text": [
            "#2a00d5\n"
          ]
        }
      ]
    },
    {
      "cell_type": "code",
      "source": [
        "p = figure(title = \"doc clustering\")\n",
        "\n",
        "\n",
        "colors = df_merge['cluster'].apply(lambda x:generate_color(x, true_k))\n",
        "\n",
        "from bokeh.palettes import Magma, Inferno, Plasma, Viridis, Cividis, d3\n",
        "palletes = d3['Category20'][true_k]\n",
        "colors = [palletes[clu] for clu in df_merge['cluster']]\n",
        "# print(colors)\n",
        "p.circle(df_merge[\"x\"], df_merge[\"y\"], color = colors, fill_alpha=0.2, size=10)\n",
        "show(p)"
      ],
      "metadata": {
        "colab": {
          "base_uri": "https://localhost:8080/",
          "height": 617
        },
        "id": "RlAuZhZoh4x2",
        "outputId": "81f0cd91-b8f0-4bf8-bbe7-5433c5105276"
      },
      "id": "RlAuZhZoh4x2",
      "execution_count": null,
      "outputs": [
        {
          "output_type": "display_data",
          "data": {
            "application/javascript": [
              "\n",
              "(function(root) {\n",
              "  function now() {\n",
              "    return new Date();\n",
              "  }\n",
              "\n",
              "  var force = true;\n",
              "\n",
              "  if (typeof root._bokeh_onload_callbacks === \"undefined\" || force === true) {\n",
              "    root._bokeh_onload_callbacks = [];\n",
              "    root._bokeh_is_loading = undefined;\n",
              "  }\n",
              "\n",
              "  var JS_MIME_TYPE = 'application/javascript';\n",
              "  var HTML_MIME_TYPE = 'text/html';\n",
              "  var EXEC_MIME_TYPE = 'application/vnd.bokehjs_exec.v0+json';\n",
              "  var CLASS_NAME = 'output_bokeh rendered_html';\n",
              "\n",
              "  /**\n",
              "   * Render data to the DOM node\n",
              "   */\n",
              "  function render(props, node) {\n",
              "    var script = document.createElement(\"script\");\n",
              "    node.appendChild(script);\n",
              "  }\n",
              "\n",
              "  /**\n",
              "   * Handle when an output is cleared or removed\n",
              "   */\n",
              "  function handleClearOutput(event, handle) {\n",
              "    var cell = handle.cell;\n",
              "\n",
              "    var id = cell.output_area._bokeh_element_id;\n",
              "    var server_id = cell.output_area._bokeh_server_id;\n",
              "    // Clean up Bokeh references\n",
              "    if (id != null && id in Bokeh.index) {\n",
              "      Bokeh.index[id].model.document.clear();\n",
              "      delete Bokeh.index[id];\n",
              "    }\n",
              "\n",
              "    if (server_id !== undefined) {\n",
              "      // Clean up Bokeh references\n",
              "      var cmd = \"from bokeh.io.state import curstate; print(curstate().uuid_to_server['\" + server_id + \"'].get_sessions()[0].document.roots[0]._id)\";\n",
              "      cell.notebook.kernel.execute(cmd, {\n",
              "        iopub: {\n",
              "          output: function(msg) {\n",
              "            var id = msg.content.text.trim();\n",
              "            if (id in Bokeh.index) {\n",
              "              Bokeh.index[id].model.document.clear();\n",
              "              delete Bokeh.index[id];\n",
              "            }\n",
              "          }\n",
              "        }\n",
              "      });\n",
              "      // Destroy server and session\n",
              "      var cmd = \"import bokeh.io.notebook as ion; ion.destroy_server('\" + server_id + \"')\";\n",
              "      cell.notebook.kernel.execute(cmd);\n",
              "    }\n",
              "  }\n",
              "\n",
              "  /**\n",
              "   * Handle when a new output is added\n",
              "   */\n",
              "  function handleAddOutput(event, handle) {\n",
              "    var output_area = handle.output_area;\n",
              "    var output = handle.output;\n",
              "\n",
              "    // limit handleAddOutput to display_data with EXEC_MIME_TYPE content only\n",
              "    if ((output.output_type != \"display_data\") || (!Object.prototype.hasOwnProperty.call(output.data, EXEC_MIME_TYPE))) {\n",
              "      return\n",
              "    }\n",
              "\n",
              "    var toinsert = output_area.element.find(\".\" + CLASS_NAME.split(' ')[0]);\n",
              "\n",
              "    if (output.metadata[EXEC_MIME_TYPE][\"id\"] !== undefined) {\n",
              "      toinsert[toinsert.length - 1].firstChild.textContent = output.data[JS_MIME_TYPE];\n",
              "      // store reference to embed id on output_area\n",
              "      output_area._bokeh_element_id = output.metadata[EXEC_MIME_TYPE][\"id\"];\n",
              "    }\n",
              "    if (output.metadata[EXEC_MIME_TYPE][\"server_id\"] !== undefined) {\n",
              "      var bk_div = document.createElement(\"div\");\n",
              "      bk_div.innerHTML = output.data[HTML_MIME_TYPE];\n",
              "      var script_attrs = bk_div.children[0].attributes;\n",
              "      for (var i = 0; i < script_attrs.length; i++) {\n",
              "        toinsert[toinsert.length - 1].firstChild.setAttribute(script_attrs[i].name, script_attrs[i].value);\n",
              "        toinsert[toinsert.length - 1].firstChild.textContent = bk_div.children[0].textContent\n",
              "      }\n",
              "      // store reference to server id on output_area\n",
              "      output_area._bokeh_server_id = output.metadata[EXEC_MIME_TYPE][\"server_id\"];\n",
              "    }\n",
              "  }\n",
              "\n",
              "  function register_renderer(events, OutputArea) {\n",
              "\n",
              "    function append_mime(data, metadata, element) {\n",
              "      // create a DOM node to render to\n",
              "      var toinsert = this.create_output_subarea(\n",
              "        metadata,\n",
              "        CLASS_NAME,\n",
              "        EXEC_MIME_TYPE\n",
              "      );\n",
              "      this.keyboard_manager.register_events(toinsert);\n",
              "      // Render to node\n",
              "      var props = {data: data, metadata: metadata[EXEC_MIME_TYPE]};\n",
              "      render(props, toinsert[toinsert.length - 1]);\n",
              "      element.append(toinsert);\n",
              "      return toinsert\n",
              "    }\n",
              "\n",
              "    /* Handle when an output is cleared or removed */\n",
              "    events.on('clear_output.CodeCell', handleClearOutput);\n",
              "    events.on('delete.Cell', handleClearOutput);\n",
              "\n",
              "    /* Handle when a new output is added */\n",
              "    events.on('output_added.OutputArea', handleAddOutput);\n",
              "\n",
              "    /**\n",
              "     * Register the mime type and append_mime function with output_area\n",
              "     */\n",
              "    OutputArea.prototype.register_mime_type(EXEC_MIME_TYPE, append_mime, {\n",
              "      /* Is output safe? */\n",
              "      safe: true,\n",
              "      /* Index of renderer in `output_area.display_order` */\n",
              "      index: 0\n",
              "    });\n",
              "  }\n",
              "\n",
              "  // register the mime type if in Jupyter Notebook environment and previously unregistered\n",
              "  if (root.Jupyter !== undefined) {\n",
              "    var events = require('base/js/events');\n",
              "    var OutputArea = require('notebook/js/outputarea').OutputArea;\n",
              "\n",
              "    if (OutputArea.prototype.mime_types().indexOf(EXEC_MIME_TYPE) == -1) {\n",
              "      register_renderer(events, OutputArea);\n",
              "    }\n",
              "  }\n",
              "\n",
              "  \n",
              "  if (typeof (root._bokeh_timeout) === \"undefined\" || force === true) {\n",
              "    root._bokeh_timeout = Date.now() + 5000;\n",
              "    root._bokeh_failed_load = false;\n",
              "  }\n",
              "\n",
              "  var NB_LOAD_WARNING = {'data': {'text/html':\n",
              "     \"<div style='background-color: #fdd'>\\n\"+\n",
              "     \"<p>\\n\"+\n",
              "     \"BokehJS does not appear to have successfully loaded. If loading BokehJS from CDN, this \\n\"+\n",
              "     \"may be due to a slow or bad network connection. Possible fixes:\\n\"+\n",
              "     \"</p>\\n\"+\n",
              "     \"<ul>\\n\"+\n",
              "     \"<li>re-rerun `output_notebook()` to attempt to load from CDN again, or</li>\\n\"+\n",
              "     \"<li>use INLINE resources instead, as so:</li>\\n\"+\n",
              "     \"</ul>\\n\"+\n",
              "     \"<code>\\n\"+\n",
              "     \"from bokeh.resources import INLINE\\n\"+\n",
              "     \"output_notebook(resources=INLINE)\\n\"+\n",
              "     \"</code>\\n\"+\n",
              "     \"</div>\"}};\n",
              "\n",
              "  function display_loaded() {\n",
              "    var el = document.getElementById(null);\n",
              "    if (el != null) {\n",
              "      el.textContent = \"BokehJS is loading...\";\n",
              "    }\n",
              "    if (root.Bokeh !== undefined) {\n",
              "      if (el != null) {\n",
              "        el.textContent = \"BokehJS \" + root.Bokeh.version + \" successfully loaded.\";\n",
              "      }\n",
              "    } else if (Date.now() < root._bokeh_timeout) {\n",
              "      setTimeout(display_loaded, 100)\n",
              "    }\n",
              "  }\n",
              "\n",
              "\n",
              "  function run_callbacks() {\n",
              "    try {\n",
              "      root._bokeh_onload_callbacks.forEach(function(callback) {\n",
              "        if (callback != null)\n",
              "          callback();\n",
              "      });\n",
              "    } finally {\n",
              "      delete root._bokeh_onload_callbacks\n",
              "    }\n",
              "    console.debug(\"Bokeh: all callbacks have finished\");\n",
              "  }\n",
              "\n",
              "  function load_libs(css_urls, js_urls, callback) {\n",
              "    if (css_urls == null) css_urls = [];\n",
              "    if (js_urls == null) js_urls = [];\n",
              "\n",
              "    root._bokeh_onload_callbacks.push(callback);\n",
              "    if (root._bokeh_is_loading > 0) {\n",
              "      console.debug(\"Bokeh: BokehJS is being loaded, scheduling callback at\", now());\n",
              "      return null;\n",
              "    }\n",
              "    if (js_urls == null || js_urls.length === 0) {\n",
              "      run_callbacks();\n",
              "      return null;\n",
              "    }\n",
              "    console.debug(\"Bokeh: BokehJS not loaded, scheduling load and callback at\", now());\n",
              "    root._bokeh_is_loading = css_urls.length + js_urls.length;\n",
              "\n",
              "    function on_load() {\n",
              "      root._bokeh_is_loading--;\n",
              "      if (root._bokeh_is_loading === 0) {\n",
              "        console.debug(\"Bokeh: all BokehJS libraries/stylesheets loaded\");\n",
              "        run_callbacks()\n",
              "      }\n",
              "    }\n",
              "\n",
              "    function on_error(url) {\n",
              "      console.error(\"failed to load \" + url);\n",
              "    }\n",
              "\n",
              "    for (let i = 0; i < css_urls.length; i++) {\n",
              "      const url = css_urls[i];\n",
              "      const element = document.createElement(\"link\");\n",
              "      element.onload = on_load;\n",
              "      element.onerror = on_error.bind(null, url);\n",
              "      element.rel = \"stylesheet\";\n",
              "      element.type = \"text/css\";\n",
              "      element.href = url;\n",
              "      console.debug(\"Bokeh: injecting link tag for BokehJS stylesheet: \", url);\n",
              "      document.body.appendChild(element);\n",
              "    }\n",
              "\n",
              "    const hashes = {\"https://cdn.bokeh.org/bokeh/release/bokeh-2.3.3.min.js\": \"dM3QQsP+wXdHg42wTqW85BjZQdLNNIXqlPw/BgKoExPmTG7ZLML4EGqLMfqHT6ON\", \"https://cdn.bokeh.org/bokeh/release/bokeh-tables-2.3.3.min.js\": \"8x57I4YuIfu8XyZfFo0XVr2WAT8EK4rh/uDe3wF7YuW2FNUSNEpJbsPaB1nJ2fz2\", \"https://cdn.bokeh.org/bokeh/release/bokeh-widgets-2.3.3.min.js\": \"3QTqdz9LyAm2i0sG5XTePsHec3UHWwVsrOL68SYRoAXsafvfAyqtQ+h440+qIBhS\"};\n",
              "\n",
              "    for (let i = 0; i < js_urls.length; i++) {\n",
              "      const url = js_urls[i];\n",
              "      const element = document.createElement('script');\n",
              "      element.onload = on_load;\n",
              "      element.onerror = on_error.bind(null, url);\n",
              "      element.async = false;\n",
              "      element.src = url;\n",
              "      if (url in hashes) {\n",
              "        element.crossOrigin = \"anonymous\";\n",
              "        element.integrity = \"sha384-\" + hashes[url];\n",
              "      }\n",
              "      console.debug(\"Bokeh: injecting script tag for BokehJS library: \", url);\n",
              "      document.head.appendChild(element);\n",
              "    }\n",
              "  };\n",
              "\n",
              "  function inject_raw_css(css) {\n",
              "    const element = document.createElement(\"style\");\n",
              "    element.appendChild(document.createTextNode(css));\n",
              "    document.body.appendChild(element);\n",
              "  }\n",
              "\n",
              "  \n",
              "  var js_urls = [\"https://cdn.bokeh.org/bokeh/release/bokeh-2.3.3.min.js\", \"https://cdn.bokeh.org/bokeh/release/bokeh-widgets-2.3.3.min.js\", \"https://cdn.bokeh.org/bokeh/release/bokeh-tables-2.3.3.min.js\"];\n",
              "  var css_urls = [];\n",
              "  \n",
              "\n",
              "  var inline_js = [\n",
              "    function(Bokeh) {\n",
              "      Bokeh.set_log_level(\"info\");\n",
              "    },\n",
              "    function(Bokeh) {\n",
              "    \n",
              "    \n",
              "    }\n",
              "  ];\n",
              "\n",
              "  function run_inline_js() {\n",
              "    \n",
              "    if (root.Bokeh !== undefined || force === true) {\n",
              "      \n",
              "    for (var i = 0; i < inline_js.length; i++) {\n",
              "      inline_js[i].call(root, root.Bokeh);\n",
              "    }\n",
              "    } else if (Date.now() < root._bokeh_timeout) {\n",
              "      setTimeout(run_inline_js, 100);\n",
              "    } else if (!root._bokeh_failed_load) {\n",
              "      console.log(\"Bokeh: BokehJS failed to load within specified timeout.\");\n",
              "      root._bokeh_failed_load = true;\n",
              "    } else if (force !== true) {\n",
              "      var cell = $(document.getElementById(null)).parents('.cell').data().cell;\n",
              "      cell.output_area.append_execute_result(NB_LOAD_WARNING)\n",
              "    }\n",
              "\n",
              "  }\n",
              "\n",
              "  if (root._bokeh_is_loading === 0) {\n",
              "    console.debug(\"Bokeh: BokehJS loaded, going straight to plotting\");\n",
              "    run_inline_js();\n",
              "  } else {\n",
              "    load_libs(css_urls, js_urls, function() {\n",
              "      console.debug(\"Bokeh: BokehJS plotting callback run at\", now());\n",
              "      run_inline_js();\n",
              "    });\n",
              "  }\n",
              "}(window));"
            ],
            "application/vnd.bokehjs_load.v0+json": "\n(function(root) {\n  function now() {\n    return new Date();\n  }\n\n  var force = true;\n\n  if (typeof root._bokeh_onload_callbacks === \"undefined\" || force === true) {\n    root._bokeh_onload_callbacks = [];\n    root._bokeh_is_loading = undefined;\n  }\n\n  \n\n  \n  if (typeof (root._bokeh_timeout) === \"undefined\" || force === true) {\n    root._bokeh_timeout = Date.now() + 5000;\n    root._bokeh_failed_load = false;\n  }\n\n  var NB_LOAD_WARNING = {'data': {'text/html':\n     \"<div style='background-color: #fdd'>\\n\"+\n     \"<p>\\n\"+\n     \"BokehJS does not appear to have successfully loaded. If loading BokehJS from CDN, this \\n\"+\n     \"may be due to a slow or bad network connection. Possible fixes:\\n\"+\n     \"</p>\\n\"+\n     \"<ul>\\n\"+\n     \"<li>re-rerun `output_notebook()` to attempt to load from CDN again, or</li>\\n\"+\n     \"<li>use INLINE resources instead, as so:</li>\\n\"+\n     \"</ul>\\n\"+\n     \"<code>\\n\"+\n     \"from bokeh.resources import INLINE\\n\"+\n     \"output_notebook(resources=INLINE)\\n\"+\n     \"</code>\\n\"+\n     \"</div>\"}};\n\n  function display_loaded() {\n    var el = document.getElementById(null);\n    if (el != null) {\n      el.textContent = \"BokehJS is loading...\";\n    }\n    if (root.Bokeh !== undefined) {\n      if (el != null) {\n        el.textContent = \"BokehJS \" + root.Bokeh.version + \" successfully loaded.\";\n      }\n    } else if (Date.now() < root._bokeh_timeout) {\n      setTimeout(display_loaded, 100)\n    }\n  }\n\n\n  function run_callbacks() {\n    try {\n      root._bokeh_onload_callbacks.forEach(function(callback) {\n        if (callback != null)\n          callback();\n      });\n    } finally {\n      delete root._bokeh_onload_callbacks\n    }\n    console.debug(\"Bokeh: all callbacks have finished\");\n  }\n\n  function load_libs(css_urls, js_urls, callback) {\n    if (css_urls == null) css_urls = [];\n    if (js_urls == null) js_urls = [];\n\n    root._bokeh_onload_callbacks.push(callback);\n    if (root._bokeh_is_loading > 0) {\n      console.debug(\"Bokeh: BokehJS is being loaded, scheduling callback at\", now());\n      return null;\n    }\n    if (js_urls == null || js_urls.length === 0) {\n      run_callbacks();\n      return null;\n    }\n    console.debug(\"Bokeh: BokehJS not loaded, scheduling load and callback at\", now());\n    root._bokeh_is_loading = css_urls.length + js_urls.length;\n\n    function on_load() {\n      root._bokeh_is_loading--;\n      if (root._bokeh_is_loading === 0) {\n        console.debug(\"Bokeh: all BokehJS libraries/stylesheets loaded\");\n        run_callbacks()\n      }\n    }\n\n    function on_error(url) {\n      console.error(\"failed to load \" + url);\n    }\n\n    for (let i = 0; i < css_urls.length; i++) {\n      const url = css_urls[i];\n      const element = document.createElement(\"link\");\n      element.onload = on_load;\n      element.onerror = on_error.bind(null, url);\n      element.rel = \"stylesheet\";\n      element.type = \"text/css\";\n      element.href = url;\n      console.debug(\"Bokeh: injecting link tag for BokehJS stylesheet: \", url);\n      document.body.appendChild(element);\n    }\n\n    const hashes = {\"https://cdn.bokeh.org/bokeh/release/bokeh-2.3.3.min.js\": \"dM3QQsP+wXdHg42wTqW85BjZQdLNNIXqlPw/BgKoExPmTG7ZLML4EGqLMfqHT6ON\", \"https://cdn.bokeh.org/bokeh/release/bokeh-tables-2.3.3.min.js\": \"8x57I4YuIfu8XyZfFo0XVr2WAT8EK4rh/uDe3wF7YuW2FNUSNEpJbsPaB1nJ2fz2\", \"https://cdn.bokeh.org/bokeh/release/bokeh-widgets-2.3.3.min.js\": \"3QTqdz9LyAm2i0sG5XTePsHec3UHWwVsrOL68SYRoAXsafvfAyqtQ+h440+qIBhS\"};\n\n    for (let i = 0; i < js_urls.length; i++) {\n      const url = js_urls[i];\n      const element = document.createElement('script');\n      element.onload = on_load;\n      element.onerror = on_error.bind(null, url);\n      element.async = false;\n      element.src = url;\n      if (url in hashes) {\n        element.crossOrigin = \"anonymous\";\n        element.integrity = \"sha384-\" + hashes[url];\n      }\n      console.debug(\"Bokeh: injecting script tag for BokehJS library: \", url);\n      document.head.appendChild(element);\n    }\n  };\n\n  function inject_raw_css(css) {\n    const element = document.createElement(\"style\");\n    element.appendChild(document.createTextNode(css));\n    document.body.appendChild(element);\n  }\n\n  \n  var js_urls = [\"https://cdn.bokeh.org/bokeh/release/bokeh-2.3.3.min.js\", \"https://cdn.bokeh.org/bokeh/release/bokeh-widgets-2.3.3.min.js\", \"https://cdn.bokeh.org/bokeh/release/bokeh-tables-2.3.3.min.js\"];\n  var css_urls = [];\n  \n\n  var inline_js = [\n    function(Bokeh) {\n      Bokeh.set_log_level(\"info\");\n    },\n    function(Bokeh) {\n    \n    \n    }\n  ];\n\n  function run_inline_js() {\n    \n    if (root.Bokeh !== undefined || force === true) {\n      \n    for (var i = 0; i < inline_js.length; i++) {\n      inline_js[i].call(root, root.Bokeh);\n    }\n    } else if (Date.now() < root._bokeh_timeout) {\n      setTimeout(run_inline_js, 100);\n    } else if (!root._bokeh_failed_load) {\n      console.log(\"Bokeh: BokehJS failed to load within specified timeout.\");\n      root._bokeh_failed_load = true;\n    } else if (force !== true) {\n      var cell = $(document.getElementById(null)).parents('.cell').data().cell;\n      cell.output_area.append_execute_result(NB_LOAD_WARNING)\n    }\n\n  }\n\n  if (root._bokeh_is_loading === 0) {\n    console.debug(\"Bokeh: BokehJS loaded, going straight to plotting\");\n    run_inline_js();\n  } else {\n    load_libs(css_urls, js_urls, function() {\n      console.debug(\"Bokeh: BokehJS plotting callback run at\", now());\n      run_inline_js();\n    });\n  }\n}(window));"
          },
          "metadata": {}
        },
        {
          "output_type": "display_data",
          "data": {
            "text/html": [
              "\n",
              "\n",
              "\n",
              "\n",
              "\n",
              "\n",
              "  <div class=\"bk-root\" id=\"12b8c0da-8a5a-4ec5-bb2d-391e7cf34c4f\" data-root-id=\"6750\"></div>\n"
            ]
          },
          "metadata": {}
        },
        {
          "output_type": "display_data",
          "data": {
            "application/javascript": [
              "(function(root) {\n",
              "  function embed_document(root) {\n",
              "    \n",
              "  var docs_json = {\"d10429d6-67e2-4773-9c4d-251d85845cfc\":{\"defs\":[],\"roots\":{\"references\":[{\"attributes\":{\"below\":[{\"id\":\"6761\"}],\"center\":[{\"id\":\"6764\"},{\"id\":\"6768\"}],\"left\":[{\"id\":\"6765\"}],\"renderers\":[{\"id\":\"6786\"}],\"title\":{\"id\":\"6751\"},\"toolbar\":{\"id\":\"6776\"},\"x_range\":{\"id\":\"6753\"},\"x_scale\":{\"id\":\"6757\"},\"y_range\":{\"id\":\"6755\"},\"y_scale\":{\"id\":\"6759\"}},\"id\":\"6750\",\"subtype\":\"Figure\",\"type\":\"Plot\"},{\"attributes\":{},\"id\":\"6769\",\"type\":\"PanTool\"},{\"attributes\":{},\"id\":\"6762\",\"type\":\"BasicTicker\"},{\"attributes\":{\"axis\":{\"id\":\"6761\"},\"ticker\":null},\"id\":\"6764\",\"type\":\"Grid\"},{\"attributes\":{\"data_source\":{\"id\":\"6783\"},\"glyph\":{\"id\":\"6784\"},\"hover_glyph\":null,\"muted_glyph\":null,\"nonselection_glyph\":{\"id\":\"6785\"},\"view\":{\"id\":\"6787\"}},\"id\":\"6786\",\"type\":\"GlyphRenderer\"},{\"attributes\":{},\"id\":\"6770\",\"type\":\"WheelZoomTool\"},{\"attributes\":{\"fill_alpha\":{\"value\":0.2},\"fill_color\":{\"field\":\"fill_color\"},\"line_color\":{\"field\":\"line_color\"},\"size\":{\"value\":10},\"x\":{\"field\":\"x\"},\"y\":{\"field\":\"y\"}},\"id\":\"6784\",\"type\":\"Circle\"},{\"attributes\":{\"bottom_units\":\"screen\",\"fill_alpha\":0.5,\"fill_color\":\"lightgrey\",\"left_units\":\"screen\",\"level\":\"overlay\",\"line_alpha\":1.0,\"line_color\":\"black\",\"line_dash\":[4,4],\"line_width\":2,\"right_units\":\"screen\",\"syncable\":false,\"top_units\":\"screen\"},\"id\":\"6775\",\"type\":\"BoxAnnotation\"},{\"attributes\":{},\"id\":\"6774\",\"type\":\"HelpTool\"},{\"attributes\":{},\"id\":\"6759\",\"type\":\"LinearScale\"},{\"attributes\":{\"formatter\":{\"id\":\"7050\"},\"major_label_policy\":{\"id\":\"7051\"},\"ticker\":{\"id\":\"6766\"}},\"id\":\"6765\",\"type\":\"LinearAxis\"},{\"attributes\":{\"data\":{\"fill_color\":[\"#ff7f0e\",\"#aec7e8\",\"#ffbb78\",\"#aec7e8\",\"#ffbb78\",\"#aec7e8\",\"#aec7e8\",\"#aec7e8\",\"#aec7e8\",\"#aec7e8\",\"#aec7e8\",\"#aec7e8\",\"#aec7e8\",\"#aec7e8\",\"#ff7f0e\",\"#aec7e8\",\"#aec7e8\",\"#aec7e8\",\"#aec7e8\",\"#ff7f0e\",\"#ff7f0e\",\"#aec7e8\",\"#aec7e8\",\"#ff7f0e\",\"#aec7e8\",\"#aec7e8\",\"#aec7e8\",\"#aec7e8\",\"#aec7e8\",\"#aec7e8\",\"#aec7e8\",\"#aec7e8\",\"#aec7e8\",\"#aec7e8\",\"#aec7e8\",\"#aec7e8\",\"#aec7e8\",\"#aec7e8\",\"#aec7e8\",\"#aec7e8\",\"#ff7f0e\",\"#ff7f0e\",\"#aec7e8\",\"#aec7e8\",\"#aec7e8\",\"#aec7e8\",\"#aec7e8\",\"#aec7e8\",\"#aec7e8\",\"#aec7e8\",\"#aec7e8\",\"#ffbb78\",\"#aec7e8\",\"#aec7e8\",\"#ff7f0e\",\"#ffbb78\",\"#aec7e8\",\"#ff7f0e\",\"#ff7f0e\",\"#aec7e8\",\"#aec7e8\",\"#aec7e8\",\"#aec7e8\",\"#aec7e8\",\"#aec7e8\",\"#aec7e8\",\"#1f77b4\",\"#aec7e8\",\"#aec7e8\",\"#aec7e8\",\"#aec7e8\",\"#aec7e8\",\"#aec7e8\",\"#1f77b4\",\"#aec7e8\",\"#1f77b4\",\"#1f77b4\",\"#1f77b4\",\"#1f77b4\",\"#1f77b4\",\"#ff7f0e\",\"#1f77b4\",\"#1f77b4\",\"#aec7e8\",\"#aec7e8\",\"#aec7e8\",\"#1f77b4\",\"#ff7f0e\",\"#1f77b4\",\"#aec7e8\",\"#aec7e8\",\"#ffbb78\",\"#aec7e8\",\"#aec7e8\",\"#1f77b4\",\"#ff7f0e\",\"#ff7f0e\",\"#ff7f0e\",\"#1f77b4\",\"#aec7e8\",\"#1f77b4\",\"#aec7e8\",\"#aec7e8\",\"#aec7e8\",\"#aec7e8\",\"#aec7e8\",\"#1f77b4\",\"#1f77b4\",\"#aec7e8\",\"#aec7e8\",\"#1f77b4\",\"#aec7e8\",\"#aec7e8\",\"#ffbb78\",\"#aec7e8\",\"#ffbb78\",\"#ff7f0e\",\"#ff7f0e\",\"#aec7e8\",\"#1f77b4\",\"#aec7e8\",\"#ff7f0e\",\"#ffbb78\",\"#aec7e8\",\"#ff7f0e\",\"#aec7e8\",\"#1f77b4\",\"#ff7f0e\",\"#1f77b4\",\"#aec7e8\",\"#1f77b4\",\"#1f77b4\",\"#1f77b4\",\"#aec7e8\",\"#aec7e8\",\"#aec7e8\",\"#aec7e8\",\"#aec7e8\",\"#aec7e8\",\"#1f77b4\",\"#1f77b4\",\"#aec7e8\",\"#ffbb78\",\"#aec7e8\",\"#1f77b4\",\"#1f77b4\",\"#ffbb78\",\"#1f77b4\",\"#1f77b4\",\"#aec7e8\",\"#ffbb78\",\"#1f77b4\",\"#1f77b4\",\"#aec7e8\",\"#1f77b4\",\"#aec7e8\",\"#1f77b4\",\"#aec7e8\",\"#1f77b4\",\"#aec7e8\",\"#aec7e8\",\"#aec7e8\",\"#aec7e8\",\"#aec7e8\",\"#1f77b4\",\"#1f77b4\",\"#aec7e8\",\"#aec7e8\",\"#aec7e8\",\"#aec7e8\",\"#ffbb78\",\"#1f77b4\",\"#aec7e8\",\"#1f77b4\",\"#aec7e8\",\"#aec7e8\",\"#aec7e8\",\"#1f77b4\",\"#aec7e8\",\"#aec7e8\",\"#1f77b4\",\"#aec7e8\",\"#ff7f0e\",\"#aec7e8\",\"#aec7e8\",\"#aec7e8\",\"#aec7e8\",\"#aec7e8\",\"#1f77b4\",\"#aec7e8\",\"#aec7e8\",\"#aec7e8\",\"#aec7e8\",\"#1f77b4\",\"#ffbb78\",\"#aec7e8\",\"#1f77b4\",\"#aec7e8\",\"#aec7e8\",\"#aec7e8\",\"#aec7e8\",\"#aec7e8\",\"#ffbb78\",\"#aec7e8\",\"#ffbb78\",\"#aec7e8\",\"#aec7e8\",\"#1f77b4\",\"#1f77b4\",\"#aec7e8\",\"#aec7e8\",\"#1f77b4\",\"#aec7e8\",\"#aec7e8\",\"#aec7e8\",\"#1f77b4\",\"#aec7e8\",\"#aec7e8\",\"#aec7e8\",\"#aec7e8\",\"#aec7e8\",\"#aec7e8\",\"#aec7e8\",\"#aec7e8\",\"#aec7e8\",\"#1f77b4\",\"#ff7f0e\",\"#1f77b4\",\"#aec7e8\",\"#aec7e8\",\"#aec7e8\",\"#aec7e8\",\"#aec7e8\",\"#1f77b4\",\"#1f77b4\",\"#aec7e8\",\"#aec7e8\",\"#aec7e8\",\"#aec7e8\",\"#aec7e8\",\"#aec7e8\",\"#aec7e8\",\"#aec7e8\",\"#aec7e8\",\"#aec7e8\",\"#ff7f0e\",\"#aec7e8\",\"#1f77b4\",\"#aec7e8\",\"#1f77b4\",\"#1f77b4\",\"#aec7e8\",\"#1f77b4\",\"#aec7e8\",\"#aec7e8\",\"#ff7f0e\",\"#aec7e8\",\"#aec7e8\",\"#aec7e8\",\"#ff7f0e\",\"#aec7e8\",\"#aec7e8\",\"#ffbb78\",\"#aec7e8\",\"#aec7e8\",\"#1f77b4\",\"#aec7e8\",\"#1f77b4\",\"#aec7e8\",\"#ff7f0e\",\"#aec7e8\",\"#ff7f0e\",\"#ff7f0e\",\"#ffbb78\",\"#aec7e8\",\"#aec7e8\",\"#aec7e8\",\"#ffbb78\",\"#aec7e8\",\"#ff7f0e\",\"#1f77b4\",\"#ff7f0e\",\"#aec7e8\",\"#1f77b4\",\"#ff7f0e\",\"#ff7f0e\",\"#1f77b4\",\"#aec7e8\",\"#ffbb78\",\"#aec7e8\",\"#ffbb78\",\"#1f77b4\",\"#aec7e8\",\"#ff7f0e\",\"#1f77b4\",\"#aec7e8\",\"#aec7e8\",\"#aec7e8\",\"#ff7f0e\",\"#aec7e8\",\"#aec7e8\",\"#1f77b4\",\"#aec7e8\",\"#aec7e8\",\"#aec7e8\",\"#ff7f0e\",\"#ff7f0e\",\"#aec7e8\",\"#ff7f0e\",\"#1f77b4\",\"#1f77b4\",\"#1f77b4\",\"#aec7e8\",\"#aec7e8\",\"#1f77b4\",\"#1f77b4\",\"#aec7e8\",\"#aec7e8\",\"#1f77b4\",\"#aec7e8\",\"#aec7e8\",\"#aec7e8\",\"#aec7e8\",\"#aec7e8\",\"#aec7e8\",\"#aec7e8\",\"#aec7e8\",\"#1f77b4\",\"#aec7e8\",\"#aec7e8\",\"#aec7e8\",\"#aec7e8\",\"#1f77b4\",\"#aec7e8\",\"#aec7e8\",\"#aec7e8\",\"#aec7e8\",\"#aec7e8\",\"#aec7e8\",\"#1f77b4\",\"#aec7e8\",\"#1f77b4\",\"#1f77b4\",\"#1f77b4\",\"#1f77b4\",\"#1f77b4\",\"#ff7f0e\",\"#1f77b4\",\"#1f77b4\",\"#aec7e8\",\"#aec7e8\",\"#aec7e8\",\"#1f77b4\",\"#ff7f0e\",\"#1f77b4\",\"#aec7e8\",\"#aec7e8\",\"#ffbb78\",\"#aec7e8\",\"#aec7e8\",\"#1f77b4\",\"#ff7f0e\",\"#ff7f0e\",\"#ff7f0e\",\"#1f77b4\",\"#aec7e8\",\"#1f77b4\",\"#aec7e8\",\"#aec7e8\",\"#aec7e8\",\"#aec7e8\",\"#aec7e8\",\"#1f77b4\",\"#1f77b4\",\"#aec7e8\",\"#aec7e8\",\"#1f77b4\",\"#aec7e8\",\"#aec7e8\",\"#ffbb78\",\"#aec7e8\",\"#ffbb78\",\"#ff7f0e\",\"#ff7f0e\",\"#aec7e8\",\"#1f77b4\",\"#aec7e8\",\"#ff7f0e\",\"#ffbb78\",\"#aec7e8\",\"#ff7f0e\",\"#aec7e8\",\"#1f77b4\",\"#ff7f0e\",\"#1f77b4\",\"#aec7e8\",\"#1f77b4\",\"#1f77b4\",\"#1f77b4\",\"#aec7e8\",\"#aec7e8\",\"#aec7e8\",\"#aec7e8\",\"#aec7e8\",\"#aec7e8\",\"#1f77b4\",\"#1f77b4\",\"#aec7e8\",\"#ffbb78\",\"#aec7e8\",\"#1f77b4\",\"#1f77b4\",\"#ffbb78\",\"#1f77b4\",\"#1f77b4\",\"#aec7e8\",\"#ffbb78\",\"#1f77b4\",\"#1f77b4\",\"#aec7e8\",\"#1f77b4\",\"#aec7e8\",\"#1f77b4\",\"#aec7e8\",\"#1f77b4\",\"#aec7e8\",\"#aec7e8\",\"#aec7e8\",\"#aec7e8\",\"#aec7e8\",\"#1f77b4\",\"#1f77b4\",\"#aec7e8\",\"#aec7e8\",\"#aec7e8\",\"#aec7e8\",\"#ffbb78\",\"#1f77b4\",\"#aec7e8\",\"#1f77b4\",\"#aec7e8\",\"#aec7e8\",\"#aec7e8\",\"#1f77b4\",\"#aec7e8\",\"#aec7e8\",\"#1f77b4\",\"#aec7e8\",\"#ff7f0e\",\"#aec7e8\",\"#aec7e8\",\"#aec7e8\",\"#aec7e8\",\"#aec7e8\",\"#1f77b4\",\"#aec7e8\",\"#aec7e8\",\"#aec7e8\",\"#aec7e8\",\"#1f77b4\",\"#ffbb78\",\"#aec7e8\",\"#1f77b4\",\"#aec7e8\",\"#aec7e8\",\"#aec7e8\",\"#aec7e8\",\"#aec7e8\",\"#ffbb78\",\"#aec7e8\",\"#ffbb78\",\"#aec7e8\",\"#aec7e8\",\"#1f77b4\",\"#1f77b4\",\"#aec7e8\",\"#aec7e8\",\"#1f77b4\",\"#aec7e8\",\"#aec7e8\",\"#aec7e8\",\"#1f77b4\",\"#aec7e8\",\"#aec7e8\",\"#aec7e8\",\"#aec7e8\",\"#aec7e8\",\"#aec7e8\",\"#aec7e8\",\"#aec7e8\",\"#aec7e8\",\"#1f77b4\",\"#ff7f0e\",\"#1f77b4\",\"#aec7e8\",\"#aec7e8\",\"#aec7e8\",\"#aec7e8\",\"#aec7e8\",\"#1f77b4\",\"#1f77b4\",\"#aec7e8\",\"#aec7e8\",\"#aec7e8\",\"#aec7e8\",\"#aec7e8\",\"#aec7e8\",\"#aec7e8\",\"#aec7e8\",\"#aec7e8\",\"#aec7e8\",\"#ff7f0e\",\"#aec7e8\",\"#1f77b4\",\"#aec7e8\",\"#1f77b4\",\"#1f77b4\",\"#aec7e8\",\"#1f77b4\",\"#aec7e8\",\"#aec7e8\",\"#ff7f0e\",\"#aec7e8\",\"#aec7e8\",\"#aec7e8\",\"#ff7f0e\",\"#aec7e8\",\"#aec7e8\",\"#ffbb78\",\"#aec7e8\",\"#aec7e8\",\"#1f77b4\",\"#aec7e8\",\"#1f77b4\",\"#aec7e8\",\"#ff7f0e\",\"#aec7e8\",\"#ff7f0e\",\"#ff7f0e\",\"#ffbb78\",\"#aec7e8\",\"#aec7e8\",\"#aec7e8\",\"#ffbb78\",\"#aec7e8\",\"#ff7f0e\",\"#1f77b4\",\"#ff7f0e\",\"#aec7e8\",\"#1f77b4\",\"#ff7f0e\",\"#ff7f0e\",\"#1f77b4\",\"#aec7e8\",\"#ffbb78\",\"#aec7e8\",\"#ffbb78\",\"#1f77b4\",\"#aec7e8\",\"#ff7f0e\",\"#1f77b4\",\"#aec7e8\",\"#aec7e8\",\"#aec7e8\",\"#ff7f0e\",\"#aec7e8\",\"#aec7e8\",\"#1f77b4\",\"#aec7e8\",\"#aec7e8\",\"#aec7e8\",\"#ff7f0e\",\"#ff7f0e\",\"#aec7e8\",\"#ff7f0e\",\"#1f77b4\",\"#1f77b4\",\"#1f77b4\",\"#aec7e8\",\"#aec7e8\",\"#1f77b4\",\"#1f77b4\",\"#aec7e8\",\"#aec7e8\",\"#1f77b4\",\"#aec7e8\",\"#aec7e8\",\"#aec7e8\",\"#aec7e8\",\"#aec7e8\",\"#aec7e8\",\"#aec7e8\",\"#aec7e8\",\"#1f77b4\",\"#aec7e8\",\"#aec7e8\",\"#aec7e8\",\"#aec7e8\",\"#1f77b4\",\"#aec7e8\",\"#aec7e8\",\"#aec7e8\",\"#aec7e8\",\"#aec7e8\",\"#aec7e8\",\"#1f77b4\",\"#aec7e8\",\"#1f77b4\",\"#1f77b4\",\"#1f77b4\",\"#1f77b4\",\"#1f77b4\",\"#ff7f0e\",\"#1f77b4\",\"#1f77b4\",\"#aec7e8\",\"#aec7e8\",\"#aec7e8\",\"#1f77b4\",\"#ff7f0e\",\"#1f77b4\",\"#aec7e8\",\"#aec7e8\",\"#ffbb78\",\"#aec7e8\",\"#aec7e8\",\"#1f77b4\",\"#ff7f0e\",\"#ff7f0e\",\"#ff7f0e\",\"#1f77b4\",\"#aec7e8\",\"#1f77b4\",\"#aec7e8\",\"#aec7e8\",\"#aec7e8\",\"#aec7e8\",\"#aec7e8\",\"#1f77b4\",\"#1f77b4\",\"#aec7e8\",\"#aec7e8\",\"#1f77b4\",\"#aec7e8\",\"#aec7e8\",\"#ffbb78\",\"#aec7e8\",\"#ffbb78\",\"#ff7f0e\",\"#ff7f0e\",\"#aec7e8\",\"#1f77b4\",\"#aec7e8\",\"#ff7f0e\",\"#ffbb78\",\"#aec7e8\",\"#ff7f0e\",\"#aec7e8\",\"#1f77b4\",\"#ff7f0e\",\"#1f77b4\",\"#aec7e8\",\"#1f77b4\",\"#1f77b4\",\"#1f77b4\",\"#aec7e8\",\"#aec7e8\",\"#aec7e8\",\"#aec7e8\",\"#aec7e8\",\"#aec7e8\",\"#1f77b4\",\"#1f77b4\",\"#aec7e8\",\"#ffbb78\",\"#aec7e8\",\"#1f77b4\",\"#1f77b4\",\"#ffbb78\",\"#1f77b4\",\"#1f77b4\",\"#aec7e8\",\"#ffbb78\",\"#1f77b4\",\"#1f77b4\",\"#aec7e8\",\"#1f77b4\",\"#aec7e8\",\"#1f77b4\",\"#aec7e8\",\"#1f77b4\",\"#aec7e8\",\"#aec7e8\",\"#aec7e8\",\"#aec7e8\",\"#aec7e8\",\"#1f77b4\",\"#1f77b4\",\"#aec7e8\",\"#aec7e8\",\"#aec7e8\",\"#aec7e8\",\"#ffbb78\",\"#1f77b4\",\"#aec7e8\",\"#1f77b4\",\"#aec7e8\",\"#aec7e8\",\"#aec7e8\",\"#1f77b4\",\"#aec7e8\",\"#aec7e8\",\"#1f77b4\",\"#aec7e8\",\"#ff7f0e\",\"#aec7e8\",\"#aec7e8\",\"#aec7e8\",\"#aec7e8\",\"#aec7e8\",\"#1f77b4\",\"#aec7e8\",\"#aec7e8\",\"#aec7e8\",\"#aec7e8\",\"#1f77b4\",\"#ffbb78\",\"#aec7e8\",\"#1f77b4\",\"#aec7e8\",\"#aec7e8\",\"#aec7e8\",\"#aec7e8\",\"#aec7e8\",\"#ffbb78\",\"#aec7e8\",\"#ffbb78\",\"#aec7e8\",\"#aec7e8\",\"#1f77b4\",\"#1f77b4\",\"#aec7e8\",\"#aec7e8\",\"#1f77b4\",\"#aec7e8\",\"#aec7e8\",\"#aec7e8\",\"#1f77b4\",\"#aec7e8\",\"#aec7e8\",\"#aec7e8\",\"#aec7e8\",\"#aec7e8\",\"#aec7e8\",\"#aec7e8\",\"#aec7e8\",\"#aec7e8\",\"#1f77b4\",\"#ff7f0e\",\"#1f77b4\",\"#aec7e8\",\"#aec7e8\",\"#aec7e8\",\"#aec7e8\",\"#aec7e8\",\"#1f77b4\",\"#1f77b4\",\"#aec7e8\",\"#aec7e8\",\"#aec7e8\",\"#aec7e8\",\"#aec7e8\",\"#aec7e8\",\"#aec7e8\",\"#aec7e8\",\"#aec7e8\",\"#aec7e8\",\"#ff7f0e\",\"#aec7e8\",\"#1f77b4\",\"#aec7e8\",\"#1f77b4\",\"#1f77b4\",\"#aec7e8\",\"#1f77b4\",\"#aec7e8\",\"#aec7e8\",\"#ff7f0e\",\"#aec7e8\",\"#aec7e8\",\"#aec7e8\",\"#ff7f0e\",\"#aec7e8\",\"#aec7e8\",\"#ffbb78\",\"#aec7e8\",\"#aec7e8\",\"#1f77b4\",\"#aec7e8\",\"#1f77b4\",\"#aec7e8\",\"#ff7f0e\",\"#aec7e8\",\"#ff7f0e\",\"#ff7f0e\",\"#ffbb78\",\"#aec7e8\",\"#aec7e8\",\"#aec7e8\",\"#ffbb78\",\"#aec7e8\",\"#ff7f0e\",\"#1f77b4\",\"#ff7f0e\",\"#aec7e8\",\"#1f77b4\",\"#ff7f0e\",\"#ff7f0e\",\"#1f77b4\",\"#aec7e8\",\"#ffbb78\",\"#aec7e8\",\"#ffbb78\",\"#1f77b4\",\"#aec7e8\",\"#ff7f0e\",\"#1f77b4\",\"#aec7e8\",\"#aec7e8\",\"#aec7e8\",\"#ff7f0e\",\"#aec7e8\",\"#aec7e8\",\"#1f77b4\",\"#aec7e8\",\"#aec7e8\",\"#aec7e8\",\"#ff7f0e\",\"#ff7f0e\",\"#aec7e8\",\"#ff7f0e\",\"#1f77b4\",\"#1f77b4\",\"#1f77b4\",\"#aec7e8\",\"#aec7e8\",\"#1f77b4\",\"#1f77b4\",\"#aec7e8\",\"#aec7e8\",\"#1f77b4\",\"#aec7e8\",\"#aec7e8\",\"#aec7e8\",\"#aec7e8\",\"#aec7e8\",\"#aec7e8\",\"#aec7e8\",\"#aec7e8\",\"#1f77b4\",\"#aec7e8\",\"#aec7e8\",\"#aec7e8\",\"#aec7e8\",\"#1f77b4\",\"#ff7f0e\",\"#aec7e8\",\"#aec7e8\",\"#ff7f0e\",\"#aec7e8\",\"#aec7e8\",\"#aec7e8\",\"#aec7e8\",\"#aec7e8\",\"#aec7e8\",\"#aec7e8\",\"#aec7e8\",\"#aec7e8\",\"#1f77b4\",\"#aec7e8\",\"#aec7e8\",\"#aec7e8\",\"#aec7e8\",\"#aec7e8\",\"#aec7e8\",\"#aec7e8\",\"#aec7e8\",\"#aec7e8\",\"#aec7e8\",\"#aec7e8\",\"#aec7e8\",\"#aec7e8\",\"#aec7e8\",\"#aec7e8\",\"#aec7e8\",\"#aec7e8\",\"#ff7f0e\",\"#aec7e8\",\"#aec7e8\",\"#aec7e8\",\"#aec7e8\",\"#aec7e8\",\"#aec7e8\",\"#aec7e8\",\"#aec7e8\",\"#aec7e8\",\"#aec7e8\",\"#aec7e8\",\"#aec7e8\",\"#aec7e8\",\"#aec7e8\",\"#ff7f0e\",\"#aec7e8\",\"#aec7e8\",\"#aec7e8\",\"#aec7e8\",\"#aec7e8\",\"#aec7e8\",\"#aec7e8\",\"#aec7e8\",\"#aec7e8\",\"#aec7e8\",\"#aec7e8\",\"#aec7e8\",\"#aec7e8\",\"#aec7e8\",\"#aec7e8\",\"#aec7e8\",\"#aec7e8\",\"#ffbb78\",\"#aec7e8\",\"#aec7e8\",\"#aec7e8\",\"#aec7e8\",\"#aec7e8\",\"#aec7e8\",\"#aec7e8\",\"#aec7e8\",\"#aec7e8\",\"#aec7e8\",\"#aec7e8\",\"#aec7e8\",\"#aec7e8\",\"#ff7f0e\",\"#aec7e8\",\"#aec7e8\",\"#aec7e8\",\"#aec7e8\",\"#aec7e8\",\"#aec7e8\",\"#aec7e8\",\"#aec7e8\",\"#aec7e8\",\"#aec7e8\",\"#aec7e8\",\"#aec7e8\",\"#aec7e8\",\"#aec7e8\",\"#aec7e8\",\"#1f77b4\",\"#aec7e8\",\"#aec7e8\",\"#aec7e8\",\"#aec7e8\",\"#aec7e8\",\"#aec7e8\",\"#aec7e8\",\"#aec7e8\",\"#aec7e8\",\"#aec7e8\",\"#aec7e8\",\"#aec7e8\",\"#aec7e8\",\"#aec7e8\",\"#1f77b4\",\"#aec7e8\",\"#aec7e8\",\"#aec7e8\",\"#aec7e8\",\"#aec7e8\",\"#aec7e8\",\"#aec7e8\",\"#aec7e8\",\"#aec7e8\",\"#aec7e8\",\"#aec7e8\",\"#aec7e8\",\"#aec7e8\",\"#aec7e8\",\"#aec7e8\",\"#aec7e8\",\"#aec7e8\",\"#aec7e8\",\"#aec7e8\",\"#aec7e8\",\"#aec7e8\",\"#aec7e8\",\"#aec7e8\",\"#aec7e8\",\"#ffbb78\",\"#aec7e8\",\"#ffbb78\",\"#aec7e8\",\"#aec7e8\",\"#aec7e8\",\"#aec7e8\",\"#aec7e8\",\"#aec7e8\",\"#aec7e8\",\"#aec7e8\",\"#aec7e8\",\"#aec7e8\",\"#aec7e8\",\"#aec7e8\",\"#aec7e8\",\"#aec7e8\",\"#aec7e8\",\"#aec7e8\",\"#aec7e8\",\"#aec7e8\",\"#aec7e8\",\"#aec7e8\",\"#aec7e8\",\"#aec7e8\",\"#aec7e8\",\"#aec7e8\",\"#aec7e8\",\"#aec7e8\",\"#ff7f0e\",\"#ff7f0e\",\"#aec7e8\",\"#aec7e8\",\"#aec7e8\",\"#aec7e8\",\"#aec7e8\",\"#aec7e8\",\"#aec7e8\",\"#aec7e8\",\"#aec7e8\",\"#aec7e8\",\"#aec7e8\",\"#aec7e8\",\"#aec7e8\",\"#aec7e8\",\"#aec7e8\",\"#aec7e8\",\"#aec7e8\",\"#aec7e8\",\"#aec7e8\",\"#aec7e8\",\"#aec7e8\",\"#aec7e8\",\"#aec7e8\",\"#aec7e8\",\"#ff7f0e\",\"#aec7e8\",\"#aec7e8\",\"#aec7e8\",\"#aec7e8\",\"#aec7e8\",\"#aec7e8\",\"#aec7e8\",\"#aec7e8\",\"#aec7e8\",\"#ffbb78\",\"#aec7e8\",\"#aec7e8\",\"#aec7e8\",\"#aec7e8\",\"#aec7e8\",\"#ffbb78\",\"#aec7e8\",\"#aec7e8\",\"#aec7e8\",\"#aec7e8\",\"#aec7e8\",\"#aec7e8\",\"#aec7e8\",\"#aec7e8\",\"#aec7e8\",\"#aec7e8\",\"#aec7e8\",\"#aec7e8\",\"#aec7e8\",\"#aec7e8\",\"#aec7e8\",\"#aec7e8\",\"#aec7e8\",\"#aec7e8\",\"#aec7e8\",\"#aec7e8\",\"#1f77b4\",\"#aec7e8\",\"#aec7e8\",\"#aec7e8\",\"#aec7e8\",\"#aec7e8\",\"#aec7e8\",\"#aec7e8\",\"#aec7e8\",\"#aec7e8\",\"#aec7e8\",\"#aec7e8\",\"#aec7e8\",\"#aec7e8\",\"#aec7e8\",\"#aec7e8\",\"#aec7e8\",\"#aec7e8\",\"#aec7e8\",\"#aec7e8\",\"#aec7e8\",\"#aec7e8\",\"#aec7e8\",\"#1f77b4\",\"#aec7e8\",\"#aec7e8\",\"#aec7e8\",\"#aec7e8\",\"#aec7e8\",\"#aec7e8\",\"#aec7e8\",\"#aec7e8\",\"#aec7e8\",\"#1f77b4\",\"#aec7e8\",\"#aec7e8\",\"#aec7e8\",\"#aec7e8\",\"#aec7e8\",\"#aec7e8\",\"#aec7e8\",\"#aec7e8\",\"#aec7e8\",\"#aec7e8\",\"#aec7e8\",\"#aec7e8\",\"#aec7e8\",\"#aec7e8\",\"#aec7e8\",\"#aec7e8\",\"#aec7e8\",\"#aec7e8\",\"#aec7e8\",\"#aec7e8\",\"#aec7e8\",\"#aec7e8\",\"#1f77b4\",\"#aec7e8\",\"#aec7e8\",\"#aec7e8\",\"#ff7f0e\",\"#aec7e8\",\"#ff7f0e\",\"#aec7e8\",\"#aec7e8\",\"#ff7f0e\",\"#aec7e8\",\"#aec7e8\",\"#aec7e8\",\"#aec7e8\",\"#aec7e8\",\"#aec7e8\",\"#aec7e8\",\"#aec7e8\",\"#aec7e8\",\"#aec7e8\",\"#aec7e8\",\"#aec7e8\",\"#aec7e8\",\"#aec7e8\",\"#aec7e8\",\"#aec7e8\",\"#aec7e8\",\"#1f77b4\",\"#1f77b4\",\"#aec7e8\",\"#aec7e8\",\"#aec7e8\",\"#aec7e8\",\"#aec7e8\",\"#aec7e8\",\"#aec7e8\",\"#aec7e8\",\"#aec7e8\",\"#aec7e8\",\"#aec7e8\",\"#aec7e8\",\"#aec7e8\",\"#aec7e8\",\"#aec7e8\",\"#ff7f0e\",\"#aec7e8\",\"#aec7e8\",\"#1f77b4\",\"#aec7e8\",\"#aec7e8\",\"#aec7e8\",\"#aec7e8\",\"#aec7e8\",\"#aec7e8\",\"#aec7e8\",\"#aec7e8\",\"#aec7e8\",\"#aec7e8\",\"#aec7e8\",\"#aec7e8\",\"#aec7e8\",\"#aec7e8\",\"#aec7e8\",\"#aec7e8\",\"#aec7e8\",\"#aec7e8\",\"#aec7e8\",\"#aec7e8\",\"#aec7e8\",\"#aec7e8\",\"#aec7e8\",\"#aec7e8\",\"#aec7e8\",\"#aec7e8\",\"#aec7e8\",\"#aec7e8\",\"#aec7e8\",\"#aec7e8\",\"#aec7e8\",\"#aec7e8\",\"#aec7e8\",\"#aec7e8\",\"#aec7e8\",\"#aec7e8\",\"#aec7e8\",\"#aec7e8\",\"#aec7e8\",\"#aec7e8\",\"#aec7e8\",\"#aec7e8\",\"#aec7e8\",\"#aec7e8\",\"#aec7e8\",\"#aec7e8\",\"#1f77b4\",\"#aec7e8\",\"#aec7e8\",\"#aec7e8\",\"#aec7e8\",\"#aec7e8\",\"#aec7e8\",\"#aec7e8\",\"#aec7e8\",\"#aec7e8\",\"#aec7e8\",\"#aec7e8\",\"#aec7e8\",\"#aec7e8\",\"#aec7e8\",\"#aec7e8\",\"#aec7e8\",\"#aec7e8\",\"#aec7e8\",\"#aec7e8\",\"#aec7e8\",\"#aec7e8\",\"#aec7e8\",\"#aec7e8\",\"#aec7e8\",\"#aec7e8\",\"#aec7e8\",\"#aec7e8\",\"#aec7e8\",\"#aec7e8\",\"#aec7e8\",\"#aec7e8\",\"#aec7e8\",\"#aec7e8\",\"#aec7e8\",\"#aec7e8\",\"#aec7e8\",\"#aec7e8\",\"#aec7e8\",\"#aec7e8\",\"#aec7e8\",\"#aec7e8\",\"#aec7e8\",\"#aec7e8\",\"#aec7e8\",\"#aec7e8\",\"#aec7e8\",\"#aec7e8\",\"#aec7e8\",\"#aec7e8\",\"#aec7e8\",\"#aec7e8\",\"#aec7e8\",\"#ff7f0e\",\"#aec7e8\",\"#aec7e8\",\"#aec7e8\",\"#aec7e8\",\"#aec7e8\",\"#ff7f0e\",\"#aec7e8\",\"#aec7e8\",\"#aec7e8\",\"#aec7e8\",\"#aec7e8\",\"#aec7e8\",\"#aec7e8\",\"#aec7e8\",\"#aec7e8\",\"#aec7e8\",\"#aec7e8\",\"#aec7e8\",\"#ff7f0e\",\"#aec7e8\",\"#aec7e8\",\"#aec7e8\",\"#aec7e8\",\"#aec7e8\",\"#aec7e8\",\"#aec7e8\",\"#aec7e8\",\"#aec7e8\",\"#aec7e8\",\"#aec7e8\",\"#ff7f0e\",\"#aec7e8\",\"#aec7e8\",\"#aec7e8\",\"#aec7e8\",\"#aec7e8\",\"#aec7e8\",\"#aec7e8\",\"#aec7e8\",\"#aec7e8\",\"#aec7e8\",\"#aec7e8\",\"#aec7e8\",\"#aec7e8\",\"#ff7f0e\",\"#aec7e8\",\"#aec7e8\",\"#aec7e8\",\"#aec7e8\",\"#aec7e8\",\"#aec7e8\",\"#aec7e8\",\"#aec7e8\",\"#aec7e8\",\"#aec7e8\",\"#aec7e8\",\"#aec7e8\",\"#aec7e8\",\"#aec7e8\",\"#aec7e8\",\"#aec7e8\",\"#aec7e8\",\"#aec7e8\",\"#aec7e8\",\"#aec7e8\",\"#aec7e8\",\"#aec7e8\",\"#aec7e8\",\"#aec7e8\",\"#aec7e8\",\"#ff7f0e\",\"#aec7e8\",\"#aec7e8\",\"#ffbb78\",\"#ffbb78\",\"#ffbb78\",\"#ffbb78\",\"#aec7e8\",\"#aec7e8\",\"#aec7e8\",\"#aec7e8\",\"#1f77b4\",\"#aec7e8\",\"#aec7e8\",\"#aec7e8\",\"#aec7e8\",\"#aec7e8\",\"#aec7e8\",\"#aec7e8\",\"#aec7e8\",\"#aec7e8\",\"#aec7e8\",\"#aec7e8\",\"#aec7e8\",\"#aec7e8\",\"#aec7e8\",\"#aec7e8\",\"#aec7e8\",\"#aec7e8\",\"#aec7e8\",\"#aec7e8\",\"#ff7f0e\",\"#aec7e8\",\"#aec7e8\",\"#aec7e8\",\"#aec7e8\",\"#aec7e8\",\"#aec7e8\",\"#aec7e8\",\"#aec7e8\",\"#aec7e8\",\"#aec7e8\",\"#aec7e8\",\"#aec7e8\",\"#aec7e8\",\"#aec7e8\",\"#aec7e8\",\"#aec7e8\",\"#ff7f0e\",\"#aec7e8\",\"#aec7e8\",\"#aec7e8\",\"#aec7e8\",\"#aec7e8\",\"#aec7e8\",\"#aec7e8\",\"#aec7e8\",\"#aec7e8\",\"#aec7e8\",\"#aec7e8\",\"#aec7e8\",\"#aec7e8\",\"#aec7e8\",\"#1f77b4\",\"#aec7e8\",\"#ffbb78\",\"#ff7f0e\",\"#aec7e8\",\"#aec7e8\",\"#aec7e8\",\"#aec7e8\",\"#ffbb78\",\"#ff7f0e\",\"#ff7f0e\",\"#aec7e8\",\"#ffbb78\",\"#ff7f0e\",\"#aec7e8\",\"#aec7e8\",\"#aec7e8\",\"#aec7e8\",\"#ffbb78\",\"#ff7f0e\",\"#ff7f0e\",\"#aec7e8\",\"#ffbb78\",\"#ff7f0e\",\"#aec7e8\",\"#aec7e8\",\"#aec7e8\",\"#aec7e8\",\"#ffbb78\",\"#ff7f0e\",\"#ff7f0e\",\"#aec7e8\",\"#aec7e8\",\"#aec7e8\",\"#aec7e8\",\"#aec7e8\",\"#1f77b4\",\"#aec7e8\",\"#1f77b4\",\"#aec7e8\",\"#1f77b4\",\"#aec7e8\",\"#aec7e8\",\"#aec7e8\",\"#aec7e8\",\"#aec7e8\",\"#aec7e8\",\"#aec7e8\",\"#aec7e8\",\"#1f77b4\",\"#aec7e8\",\"#aec7e8\",\"#aec7e8\",\"#aec7e8\",\"#aec7e8\",\"#aec7e8\",\"#aec7e8\",\"#aec7e8\",\"#aec7e8\",\"#aec7e8\",\"#aec7e8\",\"#aec7e8\",\"#aec7e8\",\"#aec7e8\",\"#aec7e8\",\"#aec7e8\",\"#aec7e8\",\"#aec7e8\",\"#aec7e8\",\"#1f77b4\",\"#aec7e8\",\"#aec7e8\",\"#aec7e8\",\"#aec7e8\",\"#aec7e8\",\"#aec7e8\",\"#aec7e8\",\"#aec7e8\",\"#aec7e8\",\"#aec7e8\",\"#aec7e8\",\"#aec7e8\",\"#aec7e8\",\"#aec7e8\",\"#aec7e8\",\"#aec7e8\",\"#aec7e8\",\"#aec7e8\",\"#ffbb78\",\"#aec7e8\",\"#ff7f0e\",\"#aec7e8\",\"#ffbb78\",\"#aec7e8\",\"#aec7e8\",\"#aec7e8\",\"#ffbb78\",\"#aec7e8\",\"#aec7e8\",\"#aec7e8\",\"#ffbb78\",\"#aec7e8\",\"#aec7e8\",\"#1f77b4\",\"#ffbb78\",\"#ffbb78\",\"#1f77b4\",\"#ffbb78\",\"#ffbb78\",\"#ff7f0e\",\"#aec7e8\",\"#ff7f0e\",\"#ff7f0e\",\"#aec7e8\",\"#ff7f0e\",\"#ff7f0e\",\"#aec7e8\",\"#ff7f0e\",\"#ffbb78\",\"#aec7e8\",\"#aec7e8\",\"#ffbb78\",\"#aec7e8\",\"#aec7e8\",\"#ffbb78\",\"#aec7e8\",\"#aec7e8\",\"#aec7e8\",\"#aec7e8\",\"#aec7e8\",\"#aec7e8\",\"#aec7e8\",\"#aec7e8\",\"#aec7e8\",\"#aec7e8\",\"#aec7e8\",\"#aec7e8\",\"#aec7e8\",\"#aec7e8\",\"#1f77b4\",\"#aec7e8\",\"#aec7e8\",\"#aec7e8\",\"#1f77b4\",\"#aec7e8\",\"#ff7f0e\",\"#aec7e8\",\"#aec7e8\",\"#aec7e8\",\"#ffbb78\",\"#aec7e8\",\"#aec7e8\",\"#aec7e8\",\"#aec7e8\",\"#aec7e8\",\"#ffbb78\",\"#aec7e8\",\"#aec7e8\",\"#aec7e8\",\"#aec7e8\",\"#aec7e8\",\"#aec7e8\",\"#aec7e8\",\"#aec7e8\",\"#aec7e8\",\"#aec7e8\",\"#aec7e8\",\"#aec7e8\",\"#aec7e8\",\"#aec7e8\",\"#aec7e8\",\"#aec7e8\",\"#aec7e8\",\"#aec7e8\",\"#aec7e8\",\"#aec7e8\",\"#aec7e8\",\"#aec7e8\",\"#aec7e8\",\"#aec7e8\",\"#aec7e8\",\"#aec7e8\",\"#aec7e8\",\"#aec7e8\",\"#aec7e8\",\"#aec7e8\",\"#aec7e8\",\"#aec7e8\",\"#aec7e8\",\"#aec7e8\",\"#aec7e8\",\"#aec7e8\",\"#aec7e8\",\"#aec7e8\",\"#aec7e8\",\"#aec7e8\",\"#aec7e8\",\"#aec7e8\",\"#aec7e8\",\"#aec7e8\",\"#aec7e8\",\"#1f77b4\",\"#1f77b4\",\"#1f77b4\",\"#1f77b4\",\"#ff7f0e\",\"#aec7e8\",\"#aec7e8\",\"#aec7e8\",\"#aec7e8\",\"#aec7e8\",\"#ff7f0e\",\"#aec7e8\",\"#ff7f0e\",\"#aec7e8\",\"#aec7e8\",\"#aec7e8\",\"#aec7e8\",\"#ff7f0e\",\"#ffbb78\",\"#ff7f0e\",\"#aec7e8\",\"#aec7e8\",\"#ff7f0e\",\"#aec7e8\",\"#aec7e8\",\"#ff7f0e\",\"#aec7e8\",\"#ff7f0e\",\"#aec7e8\",\"#aec7e8\",\"#aec7e8\",\"#aec7e8\",\"#ff7f0e\",\"#ffbb78\",\"#ff7f0e\",\"#aec7e8\",\"#aec7e8\",\"#ff7f0e\",\"#aec7e8\",\"#aec7e8\",\"#ff7f0e\",\"#aec7e8\",\"#ff7f0e\",\"#aec7e8\",\"#aec7e8\",\"#aec7e8\",\"#aec7e8\",\"#ff7f0e\",\"#ffbb78\",\"#ff7f0e\",\"#aec7e8\",\"#aec7e8\",\"#ff7f0e\",\"#aec7e8\",\"#aec7e8\",\"#aec7e8\",\"#aec7e8\",\"#aec7e8\",\"#aec7e8\",\"#aec7e8\",\"#aec7e8\",\"#aec7e8\",\"#aec7e8\",\"#aec7e8\",\"#aec7e8\",\"#aec7e8\",\"#aec7e8\",\"#aec7e8\",\"#aec7e8\",\"#aec7e8\",\"#aec7e8\",\"#aec7e8\",\"#aec7e8\",\"#aec7e8\",\"#aec7e8\",\"#aec7e8\",\"#aec7e8\",\"#aec7e8\",\"#aec7e8\",\"#aec7e8\",\"#aec7e8\",\"#aec7e8\",\"#aec7e8\",\"#aec7e8\",\"#aec7e8\",\"#aec7e8\",\"#aec7e8\",\"#aec7e8\",\"#aec7e8\",\"#aec7e8\",\"#aec7e8\",\"#aec7e8\",\"#aec7e8\",\"#aec7e8\",\"#aec7e8\",\"#aec7e8\",\"#aec7e8\",\"#aec7e8\",\"#aec7e8\",\"#aec7e8\",\"#aec7e8\",\"#aec7e8\",\"#aec7e8\",\"#aec7e8\",\"#aec7e8\",\"#aec7e8\",\"#aec7e8\",\"#aec7e8\",\"#aec7e8\",\"#aec7e8\",\"#aec7e8\",\"#aec7e8\",\"#aec7e8\",\"#aec7e8\",\"#aec7e8\",\"#aec7e8\",\"#ff7f0e\",\"#aec7e8\",\"#aec7e8\",\"#aec7e8\",\"#aec7e8\",\"#aec7e8\",\"#ff7f0e\",\"#aec7e8\",\"#aec7e8\",\"#aec7e8\",\"#aec7e8\",\"#aec7e8\",\"#aec7e8\",\"#aec7e8\",\"#aec7e8\",\"#aec7e8\",\"#aec7e8\",\"#aec7e8\",\"#aec7e8\",\"#aec7e8\",\"#aec7e8\",\"#aec7e8\",\"#aec7e8\",\"#aec7e8\",\"#aec7e8\",\"#aec7e8\",\"#aec7e8\",\"#aec7e8\",\"#aec7e8\",\"#aec7e8\",\"#aec7e8\",\"#aec7e8\",\"#aec7e8\",\"#aec7e8\",\"#aec7e8\",\"#aec7e8\",\"#ff7f0e\",\"#aec7e8\",\"#aec7e8\",\"#aec7e8\",\"#aec7e8\",\"#aec7e8\",\"#ff7f0e\",\"#aec7e8\",\"#aec7e8\",\"#aec7e8\",\"#aec7e8\",\"#aec7e8\",\"#aec7e8\",\"#aec7e8\",\"#aec7e8\",\"#aec7e8\",\"#aec7e8\",\"#aec7e8\",\"#aec7e8\",\"#aec7e8\",\"#aec7e8\",\"#aec7e8\",\"#aec7e8\",\"#aec7e8\",\"#aec7e8\",\"#aec7e8\",\"#aec7e8\",\"#aec7e8\",\"#aec7e8\",\"#aec7e8\",\"#aec7e8\",\"#aec7e8\",\"#aec7e8\",\"#aec7e8\",\"#aec7e8\",\"#aec7e8\",\"#ff7f0e\",\"#ff7f0e\",\"#ff7f0e\",\"#aec7e8\",\"#aec7e8\",\"#aec7e8\",\"#aec7e8\",\"#aec7e8\",\"#aec7e8\",\"#aec7e8\",\"#aec7e8\",\"#aec7e8\",\"#aec7e8\",\"#aec7e8\",\"#aec7e8\",\"#aec7e8\",\"#aec7e8\",\"#aec7e8\",\"#aec7e8\",\"#aec7e8\",\"#aec7e8\",\"#aec7e8\",\"#aec7e8\",\"#aec7e8\",\"#aec7e8\",\"#aec7e8\",\"#aec7e8\",\"#aec7e8\",\"#aec7e8\",\"#aec7e8\",\"#aec7e8\",\"#aec7e8\",\"#aec7e8\",\"#aec7e8\",\"#aec7e8\",\"#aec7e8\",\"#aec7e8\",\"#aec7e8\",\"#aec7e8\",\"#aec7e8\",\"#aec7e8\",\"#aec7e8\",\"#aec7e8\",\"#aec7e8\",\"#aec7e8\",\"#aec7e8\",\"#aec7e8\",\"#aec7e8\",\"#aec7e8\",\"#aec7e8\",\"#aec7e8\",\"#aec7e8\",\"#aec7e8\",\"#aec7e8\",\"#aec7e8\",\"#aec7e8\",\"#aec7e8\",\"#aec7e8\",\"#aec7e8\",\"#aec7e8\",\"#aec7e8\",\"#aec7e8\",\"#aec7e8\",\"#aec7e8\",\"#aec7e8\",\"#aec7e8\",\"#aec7e8\",\"#aec7e8\",\"#aec7e8\",\"#aec7e8\",\"#aec7e8\",\"#aec7e8\",\"#aec7e8\",\"#aec7e8\",\"#aec7e8\",\"#aec7e8\",\"#aec7e8\",\"#aec7e8\",\"#aec7e8\",\"#aec7e8\",\"#aec7e8\",\"#aec7e8\",\"#aec7e8\",\"#aec7e8\",\"#aec7e8\",\"#aec7e8\",\"#aec7e8\",\"#aec7e8\",\"#aec7e8\",\"#aec7e8\",\"#aec7e8\",\"#aec7e8\",\"#aec7e8\",\"#aec7e8\",\"#aec7e8\",\"#aec7e8\",\"#aec7e8\",\"#aec7e8\",\"#ff7f0e\",\"#aec7e8\",\"#aec7e8\",\"#aec7e8\",\"#aec7e8\",\"#aec7e8\",\"#aec7e8\",\"#aec7e8\",\"#aec7e8\",\"#aec7e8\",\"#aec7e8\",\"#aec7e8\",\"#ff7f0e\",\"#aec7e8\",\"#aec7e8\",\"#aec7e8\",\"#aec7e8\",\"#aec7e8\",\"#aec7e8\",\"#aec7e8\",\"#aec7e8\",\"#aec7e8\",\"#aec7e8\",\"#aec7e8\",\"#aec7e8\",\"#aec7e8\",\"#aec7e8\",\"#aec7e8\",\"#aec7e8\",\"#aec7e8\",\"#aec7e8\",\"#aec7e8\",\"#aec7e8\",\"#aec7e8\",\"#aec7e8\",\"#aec7e8\",\"#aec7e8\",\"#aec7e8\",\"#aec7e8\",\"#aec7e8\",\"#aec7e8\",\"#ffbb78\",\"#aec7e8\",\"#aec7e8\",\"#aec7e8\",\"#aec7e8\",\"#aec7e8\",\"#aec7e8\",\"#aec7e8\",\"#aec7e8\",\"#aec7e8\",\"#aec7e8\",\"#aec7e8\",\"#aec7e8\",\"#aec7e8\",\"#aec7e8\",\"#aec7e8\",\"#aec7e8\",\"#aec7e8\",\"#aec7e8\",\"#aec7e8\",\"#aec7e8\",\"#aec7e8\",\"#aec7e8\",\"#aec7e8\",\"#aec7e8\",\"#aec7e8\",\"#aec7e8\",\"#ff7f0e\",\"#aec7e8\",\"#aec7e8\",\"#aec7e8\",\"#aec7e8\",\"#aec7e8\",\"#aec7e8\",\"#aec7e8\",\"#aec7e8\",\"#aec7e8\",\"#aec7e8\",\"#aec7e8\",\"#ff7f0e\",\"#aec7e8\",\"#aec7e8\",\"#aec7e8\",\"#aec7e8\",\"#aec7e8\",\"#aec7e8\",\"#aec7e8\",\"#aec7e8\",\"#aec7e8\",\"#aec7e8\",\"#aec7e8\",\"#aec7e8\",\"#aec7e8\",\"#aec7e8\",\"#aec7e8\",\"#aec7e8\",\"#aec7e8\",\"#aec7e8\",\"#aec7e8\",\"#aec7e8\",\"#aec7e8\",\"#aec7e8\",\"#aec7e8\",\"#aec7e8\",\"#aec7e8\",\"#aec7e8\",\"#aec7e8\",\"#aec7e8\",\"#ffbb78\",\"#aec7e8\",\"#aec7e8\",\"#aec7e8\",\"#aec7e8\",\"#aec7e8\",\"#aec7e8\",\"#aec7e8\",\"#aec7e8\",\"#aec7e8\",\"#aec7e8\",\"#aec7e8\",\"#aec7e8\",\"#aec7e8\",\"#aec7e8\",\"#aec7e8\",\"#aec7e8\",\"#aec7e8\",\"#aec7e8\",\"#aec7e8\",\"#aec7e8\",\"#aec7e8\",\"#aec7e8\",\"#aec7e8\",\"#aec7e8\",\"#aec7e8\",\"#ff7f0e\",\"#aec7e8\",\"#ff7f0e\",\"#aec7e8\",\"#aec7e8\",\"#aec7e8\",\"#aec7e8\",\"#ff7f0e\",\"#aec7e8\",\"#ff7f0e\",\"#aec7e8\",\"#aec7e8\",\"#aec7e8\",\"#ff7f0e\",\"#aec7e8\",\"#ff7f0e\",\"#aec7e8\",\"#ff7f0e\",\"#aec7e8\",\"#aec7e8\",\"#aec7e8\",\"#aec7e8\",\"#aec7e8\",\"#aec7e8\",\"#1f77b4\",\"#ff7f0e\",\"#ff7f0e\",\"#aec7e8\",\"#ff7f0e\",\"#aec7e8\",\"#aec7e8\",\"#aec7e8\",\"#aec7e8\",\"#aec7e8\",\"#ff7f0e\",\"#ffbb78\",\"#ff7f0e\",\"#aec7e8\",\"#ff7f0e\",\"#aec7e8\",\"#aec7e8\",\"#ff7f0e\",\"#ff7f0e\",\"#aec7e8\",\"#aec7e8\",\"#aec7e8\",\"#ff7f0e\",\"#ff7f0e\",\"#aec7e8\",\"#aec7e8\",\"#aec7e8\",\"#ff7f0e\",\"#aec7e8\",\"#aec7e8\",\"#ffbb78\",\"#aec7e8\",\"#ff7f0e\",\"#aec7e8\",\"#aec7e8\",\"#ff7f0e\",\"#aec7e8\",\"#ff7f0e\",\"#aec7e8\",\"#aec7e8\",\"#aec7e8\",\"#aec7e8\",\"#ff7f0e\",\"#aec7e8\",\"#ff7f0e\",\"#aec7e8\",\"#aec7e8\",\"#aec7e8\",\"#ff7f0e\",\"#aec7e8\",\"#ff7f0e\",\"#aec7e8\",\"#ff7f0e\",\"#aec7e8\",\"#aec7e8\",\"#aec7e8\",\"#aec7e8\",\"#aec7e8\",\"#aec7e8\",\"#1f77b4\",\"#ff7f0e\",\"#ff7f0e\",\"#aec7e8\",\"#ff7f0e\",\"#aec7e8\",\"#aec7e8\",\"#aec7e8\",\"#aec7e8\",\"#aec7e8\",\"#ff7f0e\",\"#ffbb78\",\"#ff7f0e\",\"#aec7e8\",\"#ff7f0e\",\"#aec7e8\",\"#aec7e8\",\"#ff7f0e\",\"#ff7f0e\",\"#aec7e8\",\"#aec7e8\",\"#aec7e8\",\"#ff7f0e\",\"#ff7f0e\",\"#aec7e8\",\"#aec7e8\",\"#aec7e8\",\"#ff7f0e\",\"#aec7e8\",\"#aec7e8\",\"#ffbb78\",\"#aec7e8\",\"#ff7f0e\",\"#aec7e8\",\"#aec7e8\",\"#ff7f0e\",\"#aec7e8\",\"#ff7f0e\",\"#aec7e8\",\"#aec7e8\",\"#aec7e8\",\"#aec7e8\",\"#ff7f0e\",\"#aec7e8\",\"#ff7f0e\",\"#aec7e8\",\"#aec7e8\",\"#aec7e8\",\"#ff7f0e\",\"#aec7e8\",\"#ff7f0e\",\"#aec7e8\",\"#ff7f0e\",\"#aec7e8\",\"#aec7e8\",\"#aec7e8\",\"#aec7e8\",\"#aec7e8\",\"#aec7e8\",\"#1f77b4\",\"#ff7f0e\",\"#ff7f0e\",\"#aec7e8\",\"#ff7f0e\",\"#aec7e8\",\"#aec7e8\",\"#aec7e8\",\"#aec7e8\",\"#aec7e8\",\"#ff7f0e\",\"#ffbb78\",\"#ff7f0e\",\"#aec7e8\",\"#ff7f0e\",\"#aec7e8\",\"#aec7e8\",\"#ff7f0e\",\"#ff7f0e\",\"#aec7e8\",\"#aec7e8\",\"#aec7e8\",\"#ff7f0e\",\"#ff7f0e\",\"#aec7e8\",\"#aec7e8\",\"#aec7e8\",\"#ff7f0e\",\"#aec7e8\",\"#aec7e8\",\"#ffbb78\",\"#aec7e8\",\"#ff7f0e\",\"#aec7e8\",\"#aec7e8\",\"#aec7e8\",\"#aec7e8\",\"#aec7e8\",\"#aec7e8\",\"#aec7e8\",\"#aec7e8\",\"#aec7e8\",\"#aec7e8\",\"#aec7e8\",\"#aec7e8\",\"#aec7e8\",\"#1f77b4\",\"#1f77b4\",\"#aec7e8\",\"#aec7e8\",\"#aec7e8\",\"#1f77b4\",\"#aec7e8\",\"#aec7e8\",\"#aec7e8\",\"#1f77b4\",\"#aec7e8\",\"#1f77b4\",\"#aec7e8\",\"#aec7e8\",\"#aec7e8\",\"#1f77b4\",\"#aec7e8\",\"#aec7e8\",\"#aec7e8\",\"#aec7e8\",\"#aec7e8\",\"#aec7e8\",\"#aec7e8\",\"#1f77b4\",\"#aec7e8\",\"#aec7e8\",\"#ff7f0e\",\"#1f77b4\",\"#aec7e8\",\"#aec7e8\",\"#ff7f0e\",\"#aec7e8\",\"#1f77b4\",\"#1f77b4\",\"#aec7e8\",\"#ffbb78\",\"#aec7e8\",\"#ff7f0e\",\"#aec7e8\",\"#1f77b4\",\"#1f77b4\",\"#aec7e8\",\"#1f77b4\",\"#aec7e8\",\"#1f77b4\",\"#1f77b4\",\"#ffbb78\",\"#aec7e8\",\"#aec7e8\",\"#aec7e8\",\"#ff7f0e\",\"#aec7e8\",\"#aec7e8\",\"#1f77b4\",\"#1f77b4\",\"#aec7e8\",\"#1f77b4\",\"#1f77b4\",\"#aec7e8\",\"#ff7f0e\",\"#ff7f0e\",\"#1f77b4\",\"#aec7e8\",\"#1f77b4\",\"#aec7e8\",\"#1f77b4\",\"#aec7e8\",\"#1f77b4\",\"#aec7e8\",\"#aec7e8\",\"#ff7f0e\",\"#ff7f0e\",\"#aec7e8\",\"#1f77b4\",\"#ff7f0e\",\"#aec7e8\",\"#ff7f0e\",\"#ffbb78\",\"#aec7e8\",\"#1f77b4\",\"#aec7e8\",\"#aec7e8\",\"#aec7e8\",\"#aec7e8\",\"#aec7e8\",\"#aec7e8\",\"#1f77b4\",\"#aec7e8\",\"#aec7e8\",\"#1f77b4\",\"#aec7e8\",\"#aec7e8\",\"#1f77b4\",\"#1f77b4\",\"#aec7e8\",\"#aec7e8\",\"#aec7e8\",\"#aec7e8\",\"#ff7f0e\",\"#aec7e8\",\"#aec7e8\",\"#aec7e8\",\"#1f77b4\",\"#ff7f0e\",\"#1f77b4\",\"#aec7e8\",\"#1f77b4\",\"#aec7e8\",\"#aec7e8\",\"#aec7e8\",\"#aec7e8\",\"#ff7f0e\",\"#aec7e8\",\"#aec7e8\",\"#aec7e8\",\"#aec7e8\",\"#aec7e8\",\"#aec7e8\",\"#aec7e8\",\"#ff7f0e\",\"#1f77b4\",\"#aec7e8\",\"#aec7e8\",\"#aec7e8\",\"#1f77b4\",\"#aec7e8\",\"#aec7e8\",\"#aec7e8\",\"#1f77b4\",\"#aec7e8\",\"#1f77b4\",\"#aec7e8\",\"#1f77b4\",\"#aec7e8\",\"#ffbb78\",\"#1f77b4\",\"#aec7e8\",\"#1f77b4\",\"#1f77b4\",\"#aec7e8\",\"#aec7e8\",\"#1f77b4\",\"#ff7f0e\",\"#ff7f0e\",\"#aec7e8\",\"#aec7e8\",\"#ff7f0e\",\"#1f77b4\",\"#1f77b4\",\"#1f77b4\",\"#aec7e8\",\"#ff7f0e\",\"#aec7e8\",\"#ffbb78\",\"#aec7e8\",\"#aec7e8\",\"#ffbb78\",\"#aec7e8\",\"#1f77b4\",\"#1f77b4\",\"#ffbb78\",\"#aec7e8\",\"#1f77b4\",\"#ff7f0e\",\"#ff7f0e\",\"#aec7e8\",\"#1f77b4\",\"#aec7e8\",\"#aec7e8\",\"#aec7e8\",\"#1f77b4\",\"#1f77b4\",\"#aec7e8\",\"#aec7e8\",\"#aec7e8\",\"#1f77b4\",\"#aec7e8\",\"#aec7e8\",\"#aec7e8\",\"#1f77b4\",\"#aec7e8\",\"#1f77b4\",\"#aec7e8\",\"#aec7e8\",\"#aec7e8\",\"#1f77b4\",\"#aec7e8\",\"#aec7e8\",\"#aec7e8\",\"#aec7e8\",\"#aec7e8\",\"#aec7e8\",\"#aec7e8\",\"#1f77b4\",\"#aec7e8\",\"#aec7e8\",\"#ff7f0e\",\"#1f77b4\",\"#aec7e8\",\"#aec7e8\",\"#ff7f0e\",\"#aec7e8\",\"#1f77b4\",\"#1f77b4\",\"#aec7e8\",\"#ffbb78\",\"#aec7e8\",\"#ff7f0e\",\"#aec7e8\",\"#1f77b4\",\"#1f77b4\",\"#aec7e8\",\"#1f77b4\",\"#aec7e8\",\"#1f77b4\",\"#1f77b4\",\"#ffbb78\",\"#aec7e8\",\"#aec7e8\",\"#aec7e8\",\"#ff7f0e\",\"#aec7e8\",\"#aec7e8\",\"#1f77b4\",\"#1f77b4\",\"#aec7e8\",\"#1f77b4\",\"#1f77b4\",\"#aec7e8\",\"#ff7f0e\",\"#ff7f0e\",\"#1f77b4\",\"#aec7e8\",\"#1f77b4\",\"#aec7e8\",\"#1f77b4\",\"#aec7e8\",\"#1f77b4\",\"#aec7e8\",\"#aec7e8\",\"#ff7f0e\",\"#ff7f0e\",\"#aec7e8\",\"#1f77b4\",\"#ff7f0e\",\"#aec7e8\",\"#ff7f0e\",\"#ffbb78\",\"#aec7e8\",\"#1f77b4\",\"#aec7e8\",\"#aec7e8\",\"#aec7e8\",\"#aec7e8\",\"#aec7e8\",\"#aec7e8\",\"#1f77b4\",\"#aec7e8\",\"#aec7e8\",\"#1f77b4\",\"#aec7e8\",\"#aec7e8\",\"#1f77b4\",\"#1f77b4\",\"#aec7e8\",\"#aec7e8\",\"#aec7e8\",\"#aec7e8\",\"#ff7f0e\",\"#aec7e8\",\"#aec7e8\",\"#aec7e8\",\"#1f77b4\",\"#ff7f0e\",\"#1f77b4\",\"#aec7e8\",\"#1f77b4\",\"#aec7e8\",\"#aec7e8\",\"#aec7e8\",\"#aec7e8\",\"#ff7f0e\",\"#aec7e8\",\"#aec7e8\",\"#aec7e8\",\"#aec7e8\",\"#aec7e8\",\"#aec7e8\",\"#aec7e8\",\"#ff7f0e\",\"#1f77b4\",\"#aec7e8\",\"#aec7e8\",\"#aec7e8\",\"#1f77b4\",\"#aec7e8\",\"#aec7e8\",\"#aec7e8\",\"#1f77b4\",\"#aec7e8\",\"#1f77b4\",\"#aec7e8\",\"#1f77b4\",\"#aec7e8\",\"#ffbb78\",\"#1f77b4\",\"#aec7e8\",\"#1f77b4\",\"#1f77b4\",\"#aec7e8\",\"#aec7e8\",\"#1f77b4\",\"#ff7f0e\",\"#ff7f0e\",\"#aec7e8\",\"#aec7e8\",\"#ff7f0e\",\"#1f77b4\",\"#1f77b4\",\"#1f77b4\",\"#aec7e8\",\"#ff7f0e\",\"#aec7e8\",\"#ffbb78\",\"#aec7e8\",\"#aec7e8\",\"#ffbb78\",\"#aec7e8\",\"#1f77b4\",\"#1f77b4\",\"#ffbb78\",\"#aec7e8\",\"#1f77b4\",\"#ff7f0e\",\"#ff7f0e\",\"#aec7e8\",\"#1f77b4\",\"#aec7e8\",\"#aec7e8\",\"#aec7e8\",\"#1f77b4\",\"#1f77b4\",\"#aec7e8\",\"#aec7e8\",\"#aec7e8\",\"#1f77b4\",\"#aec7e8\",\"#aec7e8\",\"#aec7e8\",\"#1f77b4\",\"#aec7e8\",\"#1f77b4\",\"#aec7e8\",\"#aec7e8\",\"#aec7e8\",\"#1f77b4\",\"#aec7e8\",\"#aec7e8\",\"#aec7e8\",\"#aec7e8\",\"#aec7e8\",\"#aec7e8\",\"#aec7e8\",\"#1f77b4\",\"#aec7e8\",\"#aec7e8\",\"#ff7f0e\",\"#1f77b4\",\"#aec7e8\",\"#aec7e8\",\"#ff7f0e\",\"#aec7e8\",\"#1f77b4\",\"#1f77b4\",\"#aec7e8\",\"#ffbb78\",\"#aec7e8\",\"#ff7f0e\",\"#aec7e8\",\"#1f77b4\",\"#1f77b4\",\"#aec7e8\",\"#1f77b4\",\"#aec7e8\",\"#1f77b4\",\"#1f77b4\",\"#ffbb78\",\"#aec7e8\",\"#aec7e8\",\"#aec7e8\",\"#ff7f0e\",\"#aec7e8\",\"#aec7e8\",\"#1f77b4\",\"#1f77b4\",\"#aec7e8\",\"#1f77b4\",\"#1f77b4\",\"#aec7e8\",\"#ff7f0e\",\"#ff7f0e\",\"#1f77b4\",\"#aec7e8\",\"#1f77b4\",\"#aec7e8\",\"#1f77b4\",\"#aec7e8\",\"#1f77b4\",\"#aec7e8\",\"#aec7e8\",\"#ff7f0e\",\"#ff7f0e\",\"#aec7e8\",\"#1f77b4\",\"#ff7f0e\",\"#aec7e8\",\"#ff7f0e\",\"#ffbb78\",\"#aec7e8\",\"#1f77b4\",\"#aec7e8\",\"#aec7e8\",\"#aec7e8\",\"#aec7e8\",\"#aec7e8\",\"#aec7e8\",\"#1f77b4\",\"#aec7e8\",\"#aec7e8\",\"#1f77b4\",\"#aec7e8\",\"#aec7e8\",\"#1f77b4\",\"#1f77b4\",\"#aec7e8\",\"#aec7e8\",\"#aec7e8\",\"#aec7e8\",\"#ff7f0e\",\"#aec7e8\",\"#aec7e8\",\"#aec7e8\",\"#1f77b4\",\"#ff7f0e\",\"#1f77b4\",\"#aec7e8\",\"#1f77b4\",\"#aec7e8\",\"#aec7e8\",\"#aec7e8\",\"#aec7e8\",\"#ff7f0e\",\"#aec7e8\",\"#aec7e8\",\"#aec7e8\",\"#aec7e8\",\"#aec7e8\",\"#aec7e8\",\"#aec7e8\",\"#ff7f0e\",\"#1f77b4\",\"#aec7e8\",\"#aec7e8\",\"#aec7e8\",\"#1f77b4\",\"#aec7e8\",\"#aec7e8\",\"#aec7e8\",\"#1f77b4\",\"#aec7e8\",\"#1f77b4\",\"#aec7e8\",\"#1f77b4\",\"#aec7e8\",\"#ffbb78\",\"#1f77b4\",\"#aec7e8\",\"#1f77b4\",\"#1f77b4\",\"#aec7e8\",\"#aec7e8\",\"#1f77b4\",\"#ff7f0e\",\"#ff7f0e\",\"#aec7e8\",\"#aec7e8\",\"#ff7f0e\",\"#1f77b4\",\"#1f77b4\",\"#1f77b4\",\"#aec7e8\",\"#ff7f0e\",\"#aec7e8\",\"#ffbb78\",\"#aec7e8\",\"#aec7e8\",\"#ffbb78\",\"#aec7e8\",\"#1f77b4\",\"#1f77b4\",\"#ffbb78\",\"#aec7e8\",\"#1f77b4\",\"#ff7f0e\",\"#ff7f0e\",\"#aec7e8\",\"#1f77b4\",\"#aec7e8\",\"#aec7e8\",\"#ff7f0e\",\"#aec7e8\",\"#ffbb78\",\"#aec7e8\",\"#1f77b4\",\"#ffbb78\",\"#aec7e8\",\"#ff7f0e\",\"#ffbb78\",\"#ffbb78\",\"#ff7f0e\",\"#aec7e8\",\"#ffbb78\",\"#aec7e8\",\"#1f77b4\",\"#ffbb78\",\"#aec7e8\",\"#ff7f0e\",\"#ffbb78\",\"#ffbb78\",\"#ff7f0e\",\"#aec7e8\",\"#ffbb78\",\"#aec7e8\",\"#1f77b4\",\"#ffbb78\",\"#aec7e8\",\"#ff7f0e\",\"#ffbb78\",\"#ffbb78\",\"#aec7e8\",\"#aec7e8\",\"#aec7e8\",\"#aec7e8\",\"#aec7e8\",\"#aec7e8\",\"#aec7e8\",\"#aec7e8\",\"#aec7e8\",\"#ff7f0e\",\"#aec7e8\",\"#aec7e8\",\"#aec7e8\",\"#aec7e8\",\"#aec7e8\",\"#aec7e8\",\"#aec7e8\",\"#ff7f0e\",\"#aec7e8\",\"#aec7e8\",\"#aec7e8\",\"#aec7e8\",\"#ff7f0e\",\"#aec7e8\",\"#aec7e8\",\"#aec7e8\",\"#aec7e8\",\"#aec7e8\",\"#aec7e8\",\"#aec7e8\",\"#aec7e8\",\"#aec7e8\",\"#aec7e8\",\"#aec7e8\",\"#aec7e8\",\"#aec7e8\",\"#aec7e8\",\"#aec7e8\",\"#aec7e8\",\"#ff7f0e\",\"#aec7e8\",\"#aec7e8\",\"#aec7e8\",\"#aec7e8\",\"#aec7e8\",\"#aec7e8\",\"#aec7e8\",\"#aec7e8\",\"#aec7e8\",\"#aec7e8\",\"#aec7e8\",\"#aec7e8\",\"#aec7e8\",\"#aec7e8\",\"#aec7e8\",\"#aec7e8\",\"#aec7e8\",\"#aec7e8\",\"#aec7e8\",\"#aec7e8\",\"#aec7e8\",\"#aec7e8\",\"#aec7e8\",\"#aec7e8\",\"#aec7e8\",\"#aec7e8\",\"#aec7e8\",\"#aec7e8\",\"#aec7e8\",\"#aec7e8\",\"#aec7e8\",\"#aec7e8\",\"#aec7e8\",\"#aec7e8\",\"#aec7e8\",\"#aec7e8\",\"#aec7e8\",\"#aec7e8\",\"#aec7e8\",\"#aec7e8\",\"#aec7e8\",\"#aec7e8\",\"#aec7e8\",\"#aec7e8\",\"#ffbb78\",\"#aec7e8\",\"#aec7e8\",\"#aec7e8\",\"#aec7e8\",\"#aec7e8\",\"#aec7e8\",\"#aec7e8\",\"#aec7e8\",\"#aec7e8\",\"#aec7e8\",\"#aec7e8\",\"#aec7e8\",\"#aec7e8\",\"#aec7e8\",\"#aec7e8\",\"#aec7e8\",\"#aec7e8\",\"#aec7e8\",\"#aec7e8\",\"#aec7e8\",\"#aec7e8\",\"#aec7e8\",\"#aec7e8\",\"#aec7e8\",\"#aec7e8\",\"#aec7e8\",\"#aec7e8\",\"#aec7e8\",\"#aec7e8\",\"#aec7e8\",\"#ff7f0e\",\"#aec7e8\",\"#aec7e8\",\"#aec7e8\",\"#aec7e8\",\"#aec7e8\",\"#aec7e8\",\"#aec7e8\",\"#ff7f0e\",\"#aec7e8\",\"#aec7e8\",\"#aec7e8\",\"#aec7e8\",\"#ff7f0e\",\"#aec7e8\",\"#aec7e8\",\"#aec7e8\",\"#aec7e8\",\"#aec7e8\",\"#aec7e8\",\"#aec7e8\",\"#aec7e8\",\"#aec7e8\",\"#aec7e8\",\"#aec7e8\",\"#aec7e8\",\"#aec7e8\",\"#aec7e8\",\"#aec7e8\",\"#aec7e8\",\"#ff7f0e\",\"#aec7e8\",\"#aec7e8\",\"#aec7e8\",\"#aec7e8\",\"#aec7e8\",\"#aec7e8\",\"#aec7e8\",\"#aec7e8\",\"#aec7e8\",\"#aec7e8\",\"#aec7e8\",\"#aec7e8\",\"#aec7e8\",\"#aec7e8\",\"#aec7e8\",\"#aec7e8\",\"#aec7e8\",\"#aec7e8\",\"#aec7e8\",\"#aec7e8\",\"#aec7e8\",\"#aec7e8\",\"#aec7e8\",\"#aec7e8\",\"#aec7e8\",\"#aec7e8\",\"#aec7e8\",\"#aec7e8\",\"#aec7e8\",\"#aec7e8\",\"#aec7e8\",\"#aec7e8\",\"#aec7e8\",\"#aec7e8\",\"#aec7e8\",\"#aec7e8\",\"#aec7e8\",\"#aec7e8\",\"#aec7e8\",\"#aec7e8\",\"#aec7e8\",\"#aec7e8\",\"#aec7e8\",\"#aec7e8\",\"#ffbb78\",\"#aec7e8\",\"#aec7e8\",\"#aec7e8\",\"#aec7e8\",\"#aec7e8\",\"#aec7e8\",\"#aec7e8\",\"#aec7e8\",\"#aec7e8\",\"#aec7e8\",\"#aec7e8\",\"#aec7e8\",\"#aec7e8\",\"#aec7e8\",\"#aec7e8\",\"#aec7e8\",\"#aec7e8\",\"#aec7e8\",\"#aec7e8\",\"#aec7e8\",\"#aec7e8\",\"#aec7e8\",\"#aec7e8\",\"#aec7e8\",\"#aec7e8\",\"#aec7e8\",\"#aec7e8\",\"#aec7e8\",\"#aec7e8\",\"#aec7e8\",\"#aec7e8\",\"#aec7e8\",\"#aec7e8\",\"#aec7e8\",\"#aec7e8\",\"#aec7e8\",\"#aec7e8\",\"#aec7e8\",\"#aec7e8\",\"#aec7e8\",\"#aec7e8\",\"#aec7e8\",\"#aec7e8\",\"#aec7e8\",\"#aec7e8\",\"#aec7e8\",\"#aec7e8\",\"#aec7e8\",\"#aec7e8\",\"#aec7e8\",\"#aec7e8\",\"#aec7e8\",\"#ff7f0e\",\"#aec7e8\",\"#aec7e8\",\"#aec7e8\",\"#aec7e8\",\"#aec7e8\",\"#aec7e8\",\"#aec7e8\",\"#aec7e8\",\"#aec7e8\",\"#aec7e8\",\"#ff7f0e\",\"#aec7e8\",\"#aec7e8\",\"#aec7e8\",\"#aec7e8\",\"#aec7e8\",\"#ff7f0e\",\"#aec7e8\",\"#aec7e8\",\"#aec7e8\",\"#ff7f0e\",\"#ffbb78\",\"#ff7f0e\",\"#ff7f0e\",\"#aec7e8\",\"#aec7e8\",\"#aec7e8\",\"#aec7e8\",\"#aec7e8\",\"#aec7e8\",\"#ff7f0e\",\"#aec7e8\",\"#aec7e8\",\"#aec7e8\",\"#aec7e8\",\"#aec7e8\",\"#aec7e8\",\"#aec7e8\",\"#ff7f0e\",\"#aec7e8\",\"#aec7e8\",\"#aec7e8\",\"#aec7e8\",\"#aec7e8\",\"#aec7e8\",\"#aec7e8\",\"#aec7e8\",\"#aec7e8\",\"#aec7e8\",\"#ff7f0e\",\"#aec7e8\",\"#aec7e8\",\"#aec7e8\",\"#aec7e8\",\"#1f77b4\",\"#1f77b4\",\"#ffbb78\",\"#aec7e8\",\"#aec7e8\",\"#1f77b4\",\"#1f77b4\",\"#ffbb78\",\"#aec7e8\",\"#aec7e8\",\"#1f77b4\",\"#1f77b4\",\"#ffbb78\",\"#aec7e8\",\"#aec7e8\",\"#aec7e8\",\"#aec7e8\",\"#aec7e8\",\"#aec7e8\",\"#aec7e8\",\"#aec7e8\",\"#ffbb78\",\"#aec7e8\",\"#aec7e8\",\"#aec7e8\",\"#aec7e8\",\"#ffbb78\",\"#aec7e8\",\"#aec7e8\",\"#aec7e8\",\"#aec7e8\",\"#ffbb78\",\"#aec7e8\",\"#ffbb78\",\"#aec7e8\",\"#ffbb78\",\"#aec7e8\",\"#aec7e8\",\"#aec7e8\",\"#aec7e8\",\"#aec7e8\",\"#aec7e8\",\"#aec7e8\",\"#aec7e8\",\"#aec7e8\",\"#aec7e8\",\"#aec7e8\",\"#aec7e8\",\"#aec7e8\",\"#aec7e8\",\"#aec7e8\",\"#aec7e8\",\"#aec7e8\",\"#aec7e8\",\"#aec7e8\",\"#aec7e8\",\"#aec7e8\",\"#aec7e8\",\"#aec7e8\",\"#aec7e8\",\"#aec7e8\",\"#aec7e8\",\"#aec7e8\",\"#aec7e8\",\"#aec7e8\",\"#aec7e8\",\"#aec7e8\",\"#aec7e8\",\"#aec7e8\",\"#aec7e8\",\"#ff7f0e\",\"#aec7e8\",\"#aec7e8\",\"#aec7e8\",\"#1f77b4\",\"#aec7e8\",\"#1f77b4\",\"#1f77b4\",\"#aec7e8\",\"#aec7e8\",\"#1f77b4\",\"#aec7e8\",\"#1f77b4\",\"#1f77b4\",\"#aec7e8\",\"#aec7e8\",\"#1f77b4\",\"#aec7e8\",\"#1f77b4\",\"#1f77b4\",\"#aec7e8\",\"#aec7e8\",\"#1f77b4\",\"#aec7e8\",\"#1f77b4\",\"#1f77b4\",\"#aec7e8\",\"#aec7e8\",\"#1f77b4\",\"#aec7e8\",\"#1f77b4\",\"#1f77b4\",\"#aec7e8\",\"#aec7e8\",\"#aec7e8\",\"#aec7e8\",\"#aec7e8\",\"#aec7e8\",\"#aec7e8\",\"#aec7e8\",\"#aec7e8\",\"#aec7e8\",\"#aec7e8\",\"#aec7e8\",\"#aec7e8\",\"#aec7e8\",\"#aec7e8\",\"#aec7e8\",\"#aec7e8\",\"#aec7e8\",\"#aec7e8\",\"#aec7e8\",\"#aec7e8\",\"#aec7e8\",\"#aec7e8\",\"#aec7e8\",\"#aec7e8\",\"#aec7e8\",\"#aec7e8\",\"#aec7e8\",\"#aec7e8\",\"#aec7e8\",\"#aec7e8\",\"#aec7e8\",\"#aec7e8\",\"#aec7e8\",\"#aec7e8\",\"#aec7e8\",\"#aec7e8\",\"#aec7e8\",\"#aec7e8\",\"#aec7e8\",\"#aec7e8\",\"#aec7e8\",\"#aec7e8\",\"#aec7e8\",\"#aec7e8\",\"#aec7e8\",\"#aec7e8\",\"#aec7e8\",\"#aec7e8\",\"#ff7f0e\",\"#aec7e8\",\"#aec7e8\",\"#aec7e8\",\"#aec7e8\",\"#aec7e8\",\"#aec7e8\",\"#aec7e8\",\"#aec7e8\",\"#aec7e8\",\"#aec7e8\",\"#aec7e8\",\"#aec7e8\",\"#aec7e8\",\"#aec7e8\",\"#aec7e8\",\"#aec7e8\",\"#aec7e8\",\"#aec7e8\",\"#aec7e8\",\"#aec7e8\",\"#aec7e8\",\"#aec7e8\",\"#aec7e8\",\"#aec7e8\",\"#aec7e8\",\"#aec7e8\",\"#aec7e8\",\"#aec7e8\",\"#aec7e8\",\"#aec7e8\",\"#aec7e8\",\"#ff7f0e\",\"#aec7e8\",\"#aec7e8\",\"#aec7e8\",\"#aec7e8\",\"#aec7e8\",\"#aec7e8\",\"#aec7e8\",\"#aec7e8\",\"#aec7e8\",\"#aec7e8\",\"#aec7e8\",\"#aec7e8\",\"#aec7e8\",\"#aec7e8\",\"#aec7e8\",\"#aec7e8\",\"#aec7e8\",\"#aec7e8\",\"#aec7e8\",\"#aec7e8\",\"#aec7e8\",\"#aec7e8\",\"#ff7f0e\",\"#aec7e8\",\"#aec7e8\",\"#aec7e8\",\"#aec7e8\",\"#aec7e8\",\"#aec7e8\",\"#aec7e8\",\"#aec7e8\",\"#aec7e8\",\"#aec7e8\",\"#aec7e8\",\"#aec7e8\",\"#aec7e8\",\"#aec7e8\",\"#aec7e8\",\"#aec7e8\",\"#aec7e8\",\"#aec7e8\",\"#aec7e8\",\"#aec7e8\",\"#aec7e8\",\"#aec7e8\",\"#aec7e8\",\"#aec7e8\",\"#aec7e8\",\"#aec7e8\",\"#aec7e8\",\"#aec7e8\",\"#aec7e8\",\"#aec7e8\",\"#aec7e8\",\"#ff7f0e\",\"#aec7e8\",\"#aec7e8\",\"#aec7e8\",\"#aec7e8\",\"#aec7e8\",\"#aec7e8\",\"#aec7e8\",\"#aec7e8\",\"#aec7e8\",\"#aec7e8\",\"#aec7e8\",\"#aec7e8\",\"#aec7e8\",\"#aec7e8\",\"#aec7e8\",\"#aec7e8\",\"#aec7e8\",\"#aec7e8\",\"#aec7e8\",\"#aec7e8\",\"#aec7e8\",\"#ff7f0e\",\"#aec7e8\",\"#aec7e8\",\"#aec7e8\",\"#aec7e8\",\"#ff7f0e\",\"#ff7f0e\",\"#aec7e8\",\"#aec7e8\",\"#aec7e8\",\"#aec7e8\",\"#ff7f0e\",\"#ff7f0e\",\"#aec7e8\",\"#aec7e8\",\"#aec7e8\",\"#aec7e8\",\"#ff7f0e\",\"#aec7e8\",\"#aec7e8\",\"#aec7e8\",\"#aec7e8\",\"#aec7e8\",\"#aec7e8\",\"#aec7e8\",\"#aec7e8\",\"#aec7e8\",\"#aec7e8\",\"#aec7e8\",\"#aec7e8\",\"#aec7e8\",\"#aec7e8\",\"#aec7e8\",\"#aec7e8\",\"#aec7e8\",\"#aec7e8\",\"#ffbb78\",\"#aec7e8\",\"#aec7e8\",\"#aec7e8\",\"#aec7e8\",\"#aec7e8\",\"#aec7e8\",\"#aec7e8\",\"#aec7e8\",\"#aec7e8\",\"#aec7e8\",\"#aec7e8\",\"#aec7e8\",\"#aec7e8\",\"#aec7e8\",\"#aec7e8\",\"#aec7e8\",\"#aec7e8\",\"#aec7e8\",\"#aec7e8\",\"#aec7e8\",\"#aec7e8\",\"#aec7e8\",\"#aec7e8\",\"#aec7e8\",\"#aec7e8\",\"#aec7e8\",\"#aec7e8\",\"#aec7e8\",\"#aec7e8\",\"#aec7e8\",\"#aec7e8\",\"#aec7e8\",\"#aec7e8\",\"#aec7e8\",\"#aec7e8\",\"#aec7e8\",\"#aec7e8\",\"#aec7e8\",\"#aec7e8\",\"#aec7e8\",\"#aec7e8\",\"#aec7e8\",\"#aec7e8\",\"#aec7e8\",\"#aec7e8\",\"#aec7e8\",\"#aec7e8\",\"#aec7e8\",\"#aec7e8\",\"#aec7e8\",\"#aec7e8\",\"#aec7e8\",\"#aec7e8\",\"#aec7e8\",\"#aec7e8\",\"#aec7e8\",\"#aec7e8\",\"#aec7e8\",\"#aec7e8\",\"#aec7e8\",\"#ff7f0e\",\"#aec7e8\",\"#aec7e8\",\"#aec7e8\",\"#aec7e8\",\"#aec7e8\",\"#aec7e8\",\"#aec7e8\",\"#aec7e8\",\"#aec7e8\",\"#aec7e8\",\"#aec7e8\",\"#aec7e8\",\"#aec7e8\",\"#aec7e8\",\"#aec7e8\",\"#aec7e8\",\"#aec7e8\",\"#aec7e8\",\"#ff7f0e\",\"#aec7e8\",\"#ff7f0e\",\"#aec7e8\",\"#aec7e8\",\"#aec7e8\",\"#aec7e8\",\"#aec7e8\",\"#aec7e8\",\"#aec7e8\",\"#aec7e8\",\"#aec7e8\",\"#aec7e8\",\"#aec7e8\",\"#aec7e8\",\"#aec7e8\",\"#aec7e8\",\"#aec7e8\",\"#aec7e8\",\"#aec7e8\",\"#aec7e8\",\"#aec7e8\",\"#aec7e8\",\"#aec7e8\",\"#aec7e8\",\"#aec7e8\",\"#aec7e8\",\"#aec7e8\",\"#aec7e8\",\"#aec7e8\",\"#aec7e8\",\"#aec7e8\",\"#aec7e8\",\"#aec7e8\",\"#aec7e8\",\"#aec7e8\",\"#aec7e8\",\"#aec7e8\",\"#aec7e8\",\"#aec7e8\",\"#aec7e8\",\"#aec7e8\",\"#aec7e8\",\"#aec7e8\",\"#aec7e8\",\"#aec7e8\",\"#aec7e8\",\"#aec7e8\",\"#aec7e8\",\"#aec7e8\",\"#aec7e8\",\"#aec7e8\",\"#aec7e8\",\"#aec7e8\",\"#aec7e8\",\"#aec7e8\",\"#ff7f0e\",\"#ff7f0e\",\"#aec7e8\",\"#aec7e8\",\"#aec7e8\",\"#aec7e8\",\"#aec7e8\",\"#aec7e8\",\"#aec7e8\",\"#aec7e8\",\"#aec7e8\",\"#aec7e8\",\"#aec7e8\",\"#aec7e8\",\"#aec7e8\",\"#aec7e8\",\"#aec7e8\",\"#aec7e8\",\"#aec7e8\",\"#aec7e8\",\"#aec7e8\",\"#aec7e8\",\"#aec7e8\",\"#aec7e8\",\"#aec7e8\",\"#aec7e8\",\"#aec7e8\",\"#aec7e8\",\"#aec7e8\",\"#aec7e8\",\"#aec7e8\",\"#aec7e8\",\"#aec7e8\",\"#aec7e8\",\"#aec7e8\",\"#aec7e8\",\"#aec7e8\",\"#aec7e8\",\"#aec7e8\",\"#aec7e8\",\"#aec7e8\",\"#aec7e8\",\"#aec7e8\",\"#aec7e8\",\"#aec7e8\",\"#aec7e8\",\"#aec7e8\",\"#aec7e8\",\"#aec7e8\",\"#aec7e8\",\"#aec7e8\",\"#aec7e8\",\"#aec7e8\",\"#aec7e8\",\"#aec7e8\",\"#aec7e8\",\"#aec7e8\",\"#aec7e8\",\"#aec7e8\",\"#aec7e8\",\"#aec7e8\",\"#aec7e8\",\"#aec7e8\",\"#aec7e8\",\"#aec7e8\",\"#aec7e8\",\"#aec7e8\",\"#aec7e8\",\"#aec7e8\",\"#aec7e8\",\"#aec7e8\",\"#aec7e8\",\"#aec7e8\",\"#aec7e8\",\"#aec7e8\",\"#aec7e8\",\"#aec7e8\",\"#aec7e8\",\"#aec7e8\",\"#aec7e8\",\"#aec7e8\",\"#aec7e8\",\"#aec7e8\",\"#aec7e8\",\"#aec7e8\",\"#aec7e8\",\"#aec7e8\",\"#aec7e8\",\"#aec7e8\",\"#aec7e8\",\"#aec7e8\",\"#aec7e8\",\"#aec7e8\",\"#aec7e8\",\"#aec7e8\",\"#aec7e8\",\"#aec7e8\",\"#aec7e8\",\"#aec7e8\",\"#aec7e8\",\"#aec7e8\",\"#ff7f0e\",\"#aec7e8\",\"#aec7e8\",\"#aec7e8\",\"#aec7e8\",\"#aec7e8\",\"#aec7e8\",\"#aec7e8\",\"#aec7e8\",\"#aec7e8\",\"#aec7e8\",\"#aec7e8\",\"#aec7e8\",\"#aec7e8\",\"#aec7e8\",\"#aec7e8\",\"#aec7e8\",\"#aec7e8\",\"#aec7e8\",\"#ff7f0e\",\"#aec7e8\",\"#ff7f0e\",\"#aec7e8\",\"#aec7e8\",\"#aec7e8\",\"#aec7e8\",\"#aec7e8\",\"#aec7e8\",\"#aec7e8\",\"#aec7e8\",\"#aec7e8\",\"#aec7e8\",\"#aec7e8\",\"#aec7e8\",\"#aec7e8\",\"#aec7e8\",\"#aec7e8\",\"#aec7e8\",\"#aec7e8\",\"#aec7e8\",\"#aec7e8\",\"#aec7e8\",\"#aec7e8\",\"#aec7e8\",\"#aec7e8\",\"#aec7e8\",\"#aec7e8\",\"#aec7e8\",\"#aec7e8\",\"#aec7e8\",\"#aec7e8\",\"#aec7e8\",\"#aec7e8\",\"#aec7e8\",\"#aec7e8\",\"#aec7e8\",\"#aec7e8\",\"#aec7e8\",\"#aec7e8\",\"#aec7e8\",\"#aec7e8\",\"#aec7e8\",\"#aec7e8\",\"#aec7e8\",\"#aec7e8\",\"#aec7e8\",\"#aec7e8\",\"#aec7e8\",\"#aec7e8\",\"#aec7e8\",\"#aec7e8\",\"#aec7e8\",\"#aec7e8\",\"#aec7e8\",\"#aec7e8\",\"#ff7f0e\",\"#ff7f0e\",\"#aec7e8\",\"#aec7e8\",\"#aec7e8\",\"#aec7e8\",\"#aec7e8\",\"#aec7e8\",\"#aec7e8\",\"#aec7e8\",\"#aec7e8\",\"#aec7e8\",\"#aec7e8\",\"#aec7e8\",\"#aec7e8\",\"#aec7e8\",\"#aec7e8\",\"#aec7e8\",\"#aec7e8\",\"#aec7e8\",\"#aec7e8\",\"#aec7e8\",\"#aec7e8\",\"#aec7e8\",\"#aec7e8\",\"#aec7e8\",\"#aec7e8\",\"#aec7e8\",\"#aec7e8\",\"#aec7e8\",\"#aec7e8\",\"#aec7e8\",\"#aec7e8\",\"#aec7e8\",\"#aec7e8\",\"#aec7e8\",\"#aec7e8\",\"#aec7e8\",\"#aec7e8\",\"#aec7e8\",\"#aec7e8\",\"#aec7e8\",\"#aec7e8\",\"#aec7e8\",\"#aec7e8\",\"#aec7e8\",\"#aec7e8\",\"#aec7e8\",\"#aec7e8\",\"#aec7e8\",\"#aec7e8\",\"#aec7e8\",\"#aec7e8\",\"#aec7e8\",\"#aec7e8\",\"#aec7e8\",\"#aec7e8\",\"#aec7e8\",\"#aec7e8\",\"#aec7e8\",\"#aec7e8\",\"#aec7e8\",\"#aec7e8\",\"#aec7e8\",\"#aec7e8\",\"#aec7e8\",\"#aec7e8\",\"#aec7e8\",\"#aec7e8\",\"#aec7e8\",\"#aec7e8\",\"#aec7e8\",\"#aec7e8\",\"#aec7e8\",\"#ff7f0e\",\"#aec7e8\",\"#aec7e8\",\"#aec7e8\",\"#aec7e8\",\"#aec7e8\",\"#aec7e8\",\"#aec7e8\",\"#aec7e8\",\"#ff7f0e\",\"#aec7e8\",\"#aec7e8\",\"#aec7e8\",\"#aec7e8\",\"#aec7e8\",\"#aec7e8\",\"#aec7e8\",\"#aec7e8\",\"#aec7e8\",\"#aec7e8\",\"#aec7e8\",\"#aec7e8\",\"#aec7e8\",\"#aec7e8\",\"#aec7e8\",\"#aec7e8\",\"#aec7e8\",\"#aec7e8\",\"#aec7e8\",\"#aec7e8\",\"#aec7e8\",\"#aec7e8\",\"#aec7e8\",\"#aec7e8\",\"#aec7e8\",\"#aec7e8\",\"#aec7e8\",\"#aec7e8\",\"#aec7e8\",\"#aec7e8\",\"#aec7e8\",\"#aec7e8\",\"#aec7e8\",\"#aec7e8\",\"#ff7f0e\",\"#aec7e8\",\"#aec7e8\",\"#aec7e8\",\"#aec7e8\",\"#aec7e8\",\"#ff7f0e\",\"#aec7e8\",\"#aec7e8\",\"#aec7e8\",\"#aec7e8\",\"#aec7e8\",\"#aec7e8\",\"#aec7e8\",\"#aec7e8\",\"#aec7e8\",\"#aec7e8\",\"#aec7e8\",\"#aec7e8\",\"#aec7e8\",\"#aec7e8\",\"#aec7e8\",\"#aec7e8\",\"#aec7e8\",\"#aec7e8\",\"#aec7e8\",\"#aec7e8\",\"#aec7e8\",\"#aec7e8\",\"#aec7e8\",\"#aec7e8\",\"#aec7e8\",\"#aec7e8\",\"#aec7e8\",\"#aec7e8\",\"#aec7e8\",\"#aec7e8\",\"#aec7e8\",\"#aec7e8\",\"#aec7e8\",\"#aec7e8\",\"#aec7e8\",\"#aec7e8\",\"#aec7e8\",\"#aec7e8\",\"#aec7e8\",\"#aec7e8\",\"#aec7e8\",\"#aec7e8\",\"#aec7e8\",\"#aec7e8\",\"#aec7e8\",\"#aec7e8\",\"#aec7e8\",\"#aec7e8\",\"#aec7e8\",\"#aec7e8\",\"#aec7e8\",\"#aec7e8\",\"#aec7e8\",\"#aec7e8\",\"#aec7e8\",\"#aec7e8\",\"#ff7f0e\",\"#aec7e8\",\"#aec7e8\",\"#aec7e8\",\"#aec7e8\",\"#aec7e8\",\"#aec7e8\",\"#aec7e8\",\"#aec7e8\",\"#aec7e8\",\"#aec7e8\",\"#aec7e8\",\"#aec7e8\",\"#aec7e8\",\"#aec7e8\",\"#aec7e8\",\"#aec7e8\",\"#aec7e8\",\"#aec7e8\",\"#aec7e8\",\"#aec7e8\",\"#aec7e8\",\"#aec7e8\",\"#aec7e8\",\"#aec7e8\",\"#aec7e8\",\"#aec7e8\",\"#aec7e8\",\"#aec7e8\",\"#aec7e8\",\"#aec7e8\",\"#aec7e8\",\"#aec7e8\",\"#aec7e8\",\"#aec7e8\",\"#aec7e8\",\"#ff7f0e\",\"#aec7e8\",\"#aec7e8\",\"#aec7e8\",\"#aec7e8\",\"#aec7e8\",\"#aec7e8\",\"#aec7e8\",\"#aec7e8\",\"#aec7e8\",\"#aec7e8\",\"#aec7e8\",\"#aec7e8\",\"#aec7e8\",\"#aec7e8\",\"#aec7e8\",\"#aec7e8\",\"#aec7e8\",\"#aec7e8\",\"#aec7e8\",\"#ff7f0e\",\"#aec7e8\",\"#aec7e8\",\"#aec7e8\",\"#aec7e8\",\"#aec7e8\",\"#aec7e8\",\"#aec7e8\",\"#aec7e8\",\"#ff7f0e\",\"#aec7e8\",\"#aec7e8\",\"#aec7e8\",\"#aec7e8\",\"#aec7e8\",\"#aec7e8\",\"#aec7e8\",\"#aec7e8\",\"#aec7e8\",\"#ff7f0e\",\"#ff7f0e\",\"#aec7e8\",\"#aec7e8\",\"#aec7e8\",\"#aec7e8\",\"#aec7e8\",\"#ff7f0e\",\"#aec7e8\",\"#aec7e8\",\"#aec7e8\",\"#aec7e8\",\"#aec7e8\",\"#aec7e8\",\"#aec7e8\",\"#aec7e8\",\"#aec7e8\",\"#aec7e8\",\"#aec7e8\",\"#aec7e8\",\"#aec7e8\",\"#aec7e8\",\"#aec7e8\",\"#ff7f0e\",\"#aec7e8\",\"#aec7e8\",\"#aec7e8\",\"#aec7e8\",\"#aec7e8\",\"#aec7e8\",\"#aec7e8\",\"#aec7e8\",\"#aec7e8\",\"#aec7e8\",\"#aec7e8\",\"#aec7e8\",\"#aec7e8\",\"#aec7e8\",\"#aec7e8\",\"#aec7e8\",\"#aec7e8\",\"#aec7e8\",\"#aec7e8\",\"#aec7e8\",\"#aec7e8\",\"#aec7e8\",\"#aec7e8\",\"#aec7e8\",\"#aec7e8\",\"#aec7e8\",\"#aec7e8\",\"#aec7e8\",\"#aec7e8\",\"#aec7e8\",\"#ff7f0e\",\"#aec7e8\",\"#aec7e8\",\"#aec7e8\",\"#aec7e8\",\"#aec7e8\",\"#aec7e8\",\"#aec7e8\",\"#aec7e8\",\"#ff7f0e\",\"#aec7e8\",\"#aec7e8\",\"#aec7e8\",\"#aec7e8\",\"#aec7e8\",\"#aec7e8\",\"#aec7e8\",\"#aec7e8\",\"#aec7e8\",\"#aec7e8\",\"#aec7e8\",\"#aec7e8\",\"#aec7e8\",\"#aec7e8\",\"#aec7e8\",\"#aec7e8\",\"#aec7e8\",\"#aec7e8\",\"#aec7e8\",\"#aec7e8\",\"#aec7e8\",\"#aec7e8\",\"#aec7e8\",\"#aec7e8\",\"#aec7e8\",\"#aec7e8\",\"#aec7e8\",\"#aec7e8\",\"#aec7e8\",\"#aec7e8\",\"#aec7e8\",\"#aec7e8\",\"#aec7e8\",\"#aec7e8\",\"#ff7f0e\",\"#aec7e8\",\"#aec7e8\",\"#aec7e8\",\"#aec7e8\",\"#aec7e8\",\"#ff7f0e\",\"#aec7e8\",\"#aec7e8\",\"#aec7e8\",\"#aec7e8\",\"#aec7e8\",\"#aec7e8\",\"#aec7e8\",\"#aec7e8\",\"#aec7e8\",\"#aec7e8\",\"#aec7e8\",\"#aec7e8\",\"#aec7e8\",\"#aec7e8\",\"#aec7e8\",\"#aec7e8\",\"#aec7e8\",\"#aec7e8\",\"#aec7e8\",\"#aec7e8\",\"#aec7e8\",\"#aec7e8\",\"#aec7e8\",\"#aec7e8\",\"#aec7e8\",\"#aec7e8\",\"#aec7e8\",\"#aec7e8\",\"#aec7e8\",\"#aec7e8\",\"#aec7e8\",\"#aec7e8\",\"#aec7e8\",\"#aec7e8\",\"#aec7e8\",\"#aec7e8\",\"#aec7e8\",\"#aec7e8\",\"#aec7e8\",\"#aec7e8\",\"#aec7e8\",\"#aec7e8\",\"#aec7e8\",\"#aec7e8\",\"#aec7e8\",\"#aec7e8\",\"#aec7e8\",\"#aec7e8\",\"#aec7e8\",\"#aec7e8\",\"#aec7e8\",\"#aec7e8\",\"#aec7e8\",\"#aec7e8\",\"#aec7e8\",\"#aec7e8\",\"#ff7f0e\",\"#aec7e8\",\"#aec7e8\",\"#aec7e8\",\"#aec7e8\",\"#aec7e8\",\"#aec7e8\",\"#aec7e8\",\"#aec7e8\",\"#aec7e8\",\"#aec7e8\",\"#aec7e8\",\"#aec7e8\",\"#aec7e8\",\"#aec7e8\",\"#aec7e8\",\"#aec7e8\",\"#aec7e8\",\"#aec7e8\",\"#aec7e8\",\"#aec7e8\",\"#aec7e8\",\"#aec7e8\",\"#aec7e8\",\"#aec7e8\",\"#aec7e8\",\"#aec7e8\",\"#aec7e8\",\"#aec7e8\",\"#aec7e8\",\"#aec7e8\",\"#aec7e8\",\"#aec7e8\",\"#aec7e8\",\"#aec7e8\",\"#aec7e8\",\"#ff7f0e\",\"#aec7e8\",\"#aec7e8\",\"#aec7e8\",\"#aec7e8\",\"#aec7e8\",\"#aec7e8\",\"#aec7e8\",\"#aec7e8\",\"#aec7e8\",\"#aec7e8\",\"#aec7e8\",\"#aec7e8\",\"#aec7e8\",\"#aec7e8\",\"#aec7e8\",\"#aec7e8\",\"#aec7e8\",\"#aec7e8\",\"#aec7e8\",\"#ff7f0e\",\"#aec7e8\",\"#aec7e8\",\"#aec7e8\",\"#aec7e8\",\"#aec7e8\",\"#aec7e8\",\"#aec7e8\",\"#aec7e8\",\"#ff7f0e\",\"#aec7e8\",\"#aec7e8\",\"#aec7e8\",\"#aec7e8\",\"#aec7e8\",\"#aec7e8\",\"#aec7e8\",\"#aec7e8\",\"#aec7e8\",\"#ff7f0e\",\"#ff7f0e\",\"#aec7e8\",\"#aec7e8\",\"#aec7e8\",\"#aec7e8\",\"#aec7e8\",\"#ff7f0e\",\"#aec7e8\",\"#aec7e8\",\"#aec7e8\",\"#aec7e8\",\"#aec7e8\",\"#aec7e8\",\"#aec7e8\",\"#aec7e8\",\"#aec7e8\",\"#aec7e8\",\"#aec7e8\",\"#aec7e8\",\"#aec7e8\",\"#aec7e8\",\"#aec7e8\",\"#ff7f0e\",\"#aec7e8\",\"#aec7e8\",\"#aec7e8\",\"#aec7e8\",\"#aec7e8\",\"#aec7e8\",\"#aec7e8\",\"#aec7e8\",\"#aec7e8\",\"#ff7f0e\",\"#ff7f0e\",\"#aec7e8\",\"#aec7e8\",\"#aec7e8\",\"#aec7e8\",\"#aec7e8\",\"#aec7e8\",\"#aec7e8\",\"#aec7e8\",\"#aec7e8\",\"#aec7e8\",\"#aec7e8\",\"#aec7e8\",\"#aec7e8\",\"#aec7e8\",\"#aec7e8\",\"#ffbb78\",\"#aec7e8\",\"#aec7e8\",\"#ff7f0e\",\"#aec7e8\",\"#ff7f0e\",\"#ff7f0e\",\"#ffbb78\",\"#ff7f0e\",\"#ffbb78\",\"#ffbb78\",\"#ffbb78\",\"#aec7e8\",\"#ff7f0e\",\"#ff7f0e\",\"#aec7e8\",\"#ff7f0e\",\"#aec7e8\",\"#ff7f0e\",\"#ff7f0e\",\"#ffbb78\",\"#aec7e8\",\"#aec7e8\",\"#aec7e8\",\"#ff7f0e\",\"#ffbb78\",\"#aec7e8\",\"#ffbb78\",\"#ff7f0e\",\"#aec7e8\",\"#aec7e8\",\"#aec7e8\",\"#ff7f0e\",\"#aec7e8\",\"#aec7e8\",\"#ffbb78\",\"#aec7e8\",\"#ffbb78\",\"#aec7e8\",\"#aec7e8\",\"#ffbb78\",\"#aec7e8\",\"#aec7e8\",\"#ffbb78\",\"#aec7e8\",\"#aec7e8\",\"#aec7e8\",\"#aec7e8\",\"#aec7e8\",\"#aec7e8\",\"#aec7e8\",\"#aec7e8\",\"#aec7e8\",\"#aec7e8\",\"#aec7e8\",\"#aec7e8\",\"#aec7e8\",\"#aec7e8\",\"#ffbb78\"],\"line_color\":[\"#ff7f0e\",\"#aec7e8\",\"#ffbb78\",\"#aec7e8\",\"#ffbb78\",\"#aec7e8\",\"#aec7e8\",\"#aec7e8\",\"#aec7e8\",\"#aec7e8\",\"#aec7e8\",\"#aec7e8\",\"#aec7e8\",\"#aec7e8\",\"#ff7f0e\",\"#aec7e8\",\"#aec7e8\",\"#aec7e8\",\"#aec7e8\",\"#ff7f0e\",\"#ff7f0e\",\"#aec7e8\",\"#aec7e8\",\"#ff7f0e\",\"#aec7e8\",\"#aec7e8\",\"#aec7e8\",\"#aec7e8\",\"#aec7e8\",\"#aec7e8\",\"#aec7e8\",\"#aec7e8\",\"#aec7e8\",\"#aec7e8\",\"#aec7e8\",\"#aec7e8\",\"#aec7e8\",\"#aec7e8\",\"#aec7e8\",\"#aec7e8\",\"#ff7f0e\",\"#ff7f0e\",\"#aec7e8\",\"#aec7e8\",\"#aec7e8\",\"#aec7e8\",\"#aec7e8\",\"#aec7e8\",\"#aec7e8\",\"#aec7e8\",\"#aec7e8\",\"#ffbb78\",\"#aec7e8\",\"#aec7e8\",\"#ff7f0e\",\"#ffbb78\",\"#aec7e8\",\"#ff7f0e\",\"#ff7f0e\",\"#aec7e8\",\"#aec7e8\",\"#aec7e8\",\"#aec7e8\",\"#aec7e8\",\"#aec7e8\",\"#aec7e8\",\"#1f77b4\",\"#aec7e8\",\"#aec7e8\",\"#aec7e8\",\"#aec7e8\",\"#aec7e8\",\"#aec7e8\",\"#1f77b4\",\"#aec7e8\",\"#1f77b4\",\"#1f77b4\",\"#1f77b4\",\"#1f77b4\",\"#1f77b4\",\"#ff7f0e\",\"#1f77b4\",\"#1f77b4\",\"#aec7e8\",\"#aec7e8\",\"#aec7e8\",\"#1f77b4\",\"#ff7f0e\",\"#1f77b4\",\"#aec7e8\",\"#aec7e8\",\"#ffbb78\",\"#aec7e8\",\"#aec7e8\",\"#1f77b4\",\"#ff7f0e\",\"#ff7f0e\",\"#ff7f0e\",\"#1f77b4\",\"#aec7e8\",\"#1f77b4\",\"#aec7e8\",\"#aec7e8\",\"#aec7e8\",\"#aec7e8\",\"#aec7e8\",\"#1f77b4\",\"#1f77b4\",\"#aec7e8\",\"#aec7e8\",\"#1f77b4\",\"#aec7e8\",\"#aec7e8\",\"#ffbb78\",\"#aec7e8\",\"#ffbb78\",\"#ff7f0e\",\"#ff7f0e\",\"#aec7e8\",\"#1f77b4\",\"#aec7e8\",\"#ff7f0e\",\"#ffbb78\",\"#aec7e8\",\"#ff7f0e\",\"#aec7e8\",\"#1f77b4\",\"#ff7f0e\",\"#1f77b4\",\"#aec7e8\",\"#1f77b4\",\"#1f77b4\",\"#1f77b4\",\"#aec7e8\",\"#aec7e8\",\"#aec7e8\",\"#aec7e8\",\"#aec7e8\",\"#aec7e8\",\"#1f77b4\",\"#1f77b4\",\"#aec7e8\",\"#ffbb78\",\"#aec7e8\",\"#1f77b4\",\"#1f77b4\",\"#ffbb78\",\"#1f77b4\",\"#1f77b4\",\"#aec7e8\",\"#ffbb78\",\"#1f77b4\",\"#1f77b4\",\"#aec7e8\",\"#1f77b4\",\"#aec7e8\",\"#1f77b4\",\"#aec7e8\",\"#1f77b4\",\"#aec7e8\",\"#aec7e8\",\"#aec7e8\",\"#aec7e8\",\"#aec7e8\",\"#1f77b4\",\"#1f77b4\",\"#aec7e8\",\"#aec7e8\",\"#aec7e8\",\"#aec7e8\",\"#ffbb78\",\"#1f77b4\",\"#aec7e8\",\"#1f77b4\",\"#aec7e8\",\"#aec7e8\",\"#aec7e8\",\"#1f77b4\",\"#aec7e8\",\"#aec7e8\",\"#1f77b4\",\"#aec7e8\",\"#ff7f0e\",\"#aec7e8\",\"#aec7e8\",\"#aec7e8\",\"#aec7e8\",\"#aec7e8\",\"#1f77b4\",\"#aec7e8\",\"#aec7e8\",\"#aec7e8\",\"#aec7e8\",\"#1f77b4\",\"#ffbb78\",\"#aec7e8\",\"#1f77b4\",\"#aec7e8\",\"#aec7e8\",\"#aec7e8\",\"#aec7e8\",\"#aec7e8\",\"#ffbb78\",\"#aec7e8\",\"#ffbb78\",\"#aec7e8\",\"#aec7e8\",\"#1f77b4\",\"#1f77b4\",\"#aec7e8\",\"#aec7e8\",\"#1f77b4\",\"#aec7e8\",\"#aec7e8\",\"#aec7e8\",\"#1f77b4\",\"#aec7e8\",\"#aec7e8\",\"#aec7e8\",\"#aec7e8\",\"#aec7e8\",\"#aec7e8\",\"#aec7e8\",\"#aec7e8\",\"#aec7e8\",\"#1f77b4\",\"#ff7f0e\",\"#1f77b4\",\"#aec7e8\",\"#aec7e8\",\"#aec7e8\",\"#aec7e8\",\"#aec7e8\",\"#1f77b4\",\"#1f77b4\",\"#aec7e8\",\"#aec7e8\",\"#aec7e8\",\"#aec7e8\",\"#aec7e8\",\"#aec7e8\",\"#aec7e8\",\"#aec7e8\",\"#aec7e8\",\"#aec7e8\",\"#ff7f0e\",\"#aec7e8\",\"#1f77b4\",\"#aec7e8\",\"#1f77b4\",\"#1f77b4\",\"#aec7e8\",\"#1f77b4\",\"#aec7e8\",\"#aec7e8\",\"#ff7f0e\",\"#aec7e8\",\"#aec7e8\",\"#aec7e8\",\"#ff7f0e\",\"#aec7e8\",\"#aec7e8\",\"#ffbb78\",\"#aec7e8\",\"#aec7e8\",\"#1f77b4\",\"#aec7e8\",\"#1f77b4\",\"#aec7e8\",\"#ff7f0e\",\"#aec7e8\",\"#ff7f0e\",\"#ff7f0e\",\"#ffbb78\",\"#aec7e8\",\"#aec7e8\",\"#aec7e8\",\"#ffbb78\",\"#aec7e8\",\"#ff7f0e\",\"#1f77b4\",\"#ff7f0e\",\"#aec7e8\",\"#1f77b4\",\"#ff7f0e\",\"#ff7f0e\",\"#1f77b4\",\"#aec7e8\",\"#ffbb78\",\"#aec7e8\",\"#ffbb78\",\"#1f77b4\",\"#aec7e8\",\"#ff7f0e\",\"#1f77b4\",\"#aec7e8\",\"#aec7e8\",\"#aec7e8\",\"#ff7f0e\",\"#aec7e8\",\"#aec7e8\",\"#1f77b4\",\"#aec7e8\",\"#aec7e8\",\"#aec7e8\",\"#ff7f0e\",\"#ff7f0e\",\"#aec7e8\",\"#ff7f0e\",\"#1f77b4\",\"#1f77b4\",\"#1f77b4\",\"#aec7e8\",\"#aec7e8\",\"#1f77b4\",\"#1f77b4\",\"#aec7e8\",\"#aec7e8\",\"#1f77b4\",\"#aec7e8\",\"#aec7e8\",\"#aec7e8\",\"#aec7e8\",\"#aec7e8\",\"#aec7e8\",\"#aec7e8\",\"#aec7e8\",\"#1f77b4\",\"#aec7e8\",\"#aec7e8\",\"#aec7e8\",\"#aec7e8\",\"#1f77b4\",\"#aec7e8\",\"#aec7e8\",\"#aec7e8\",\"#aec7e8\",\"#aec7e8\",\"#aec7e8\",\"#1f77b4\",\"#aec7e8\",\"#1f77b4\",\"#1f77b4\",\"#1f77b4\",\"#1f77b4\",\"#1f77b4\",\"#ff7f0e\",\"#1f77b4\",\"#1f77b4\",\"#aec7e8\",\"#aec7e8\",\"#aec7e8\",\"#1f77b4\",\"#ff7f0e\",\"#1f77b4\",\"#aec7e8\",\"#aec7e8\",\"#ffbb78\",\"#aec7e8\",\"#aec7e8\",\"#1f77b4\",\"#ff7f0e\",\"#ff7f0e\",\"#ff7f0e\",\"#1f77b4\",\"#aec7e8\",\"#1f77b4\",\"#aec7e8\",\"#aec7e8\",\"#aec7e8\",\"#aec7e8\",\"#aec7e8\",\"#1f77b4\",\"#1f77b4\",\"#aec7e8\",\"#aec7e8\",\"#1f77b4\",\"#aec7e8\",\"#aec7e8\",\"#ffbb78\",\"#aec7e8\",\"#ffbb78\",\"#ff7f0e\",\"#ff7f0e\",\"#aec7e8\",\"#1f77b4\",\"#aec7e8\",\"#ff7f0e\",\"#ffbb78\",\"#aec7e8\",\"#ff7f0e\",\"#aec7e8\",\"#1f77b4\",\"#ff7f0e\",\"#1f77b4\",\"#aec7e8\",\"#1f77b4\",\"#1f77b4\",\"#1f77b4\",\"#aec7e8\",\"#aec7e8\",\"#aec7e8\",\"#aec7e8\",\"#aec7e8\",\"#aec7e8\",\"#1f77b4\",\"#1f77b4\",\"#aec7e8\",\"#ffbb78\",\"#aec7e8\",\"#1f77b4\",\"#1f77b4\",\"#ffbb78\",\"#1f77b4\",\"#1f77b4\",\"#aec7e8\",\"#ffbb78\",\"#1f77b4\",\"#1f77b4\",\"#aec7e8\",\"#1f77b4\",\"#aec7e8\",\"#1f77b4\",\"#aec7e8\",\"#1f77b4\",\"#aec7e8\",\"#aec7e8\",\"#aec7e8\",\"#aec7e8\",\"#aec7e8\",\"#1f77b4\",\"#1f77b4\",\"#aec7e8\",\"#aec7e8\",\"#aec7e8\",\"#aec7e8\",\"#ffbb78\",\"#1f77b4\",\"#aec7e8\",\"#1f77b4\",\"#aec7e8\",\"#aec7e8\",\"#aec7e8\",\"#1f77b4\",\"#aec7e8\",\"#aec7e8\",\"#1f77b4\",\"#aec7e8\",\"#ff7f0e\",\"#aec7e8\",\"#aec7e8\",\"#aec7e8\",\"#aec7e8\",\"#aec7e8\",\"#1f77b4\",\"#aec7e8\",\"#aec7e8\",\"#aec7e8\",\"#aec7e8\",\"#1f77b4\",\"#ffbb78\",\"#aec7e8\",\"#1f77b4\",\"#aec7e8\",\"#aec7e8\",\"#aec7e8\",\"#aec7e8\",\"#aec7e8\",\"#ffbb78\",\"#aec7e8\",\"#ffbb78\",\"#aec7e8\",\"#aec7e8\",\"#1f77b4\",\"#1f77b4\",\"#aec7e8\",\"#aec7e8\",\"#1f77b4\",\"#aec7e8\",\"#aec7e8\",\"#aec7e8\",\"#1f77b4\",\"#aec7e8\",\"#aec7e8\",\"#aec7e8\",\"#aec7e8\",\"#aec7e8\",\"#aec7e8\",\"#aec7e8\",\"#aec7e8\",\"#aec7e8\",\"#1f77b4\",\"#ff7f0e\",\"#1f77b4\",\"#aec7e8\",\"#aec7e8\",\"#aec7e8\",\"#aec7e8\",\"#aec7e8\",\"#1f77b4\",\"#1f77b4\",\"#aec7e8\",\"#aec7e8\",\"#aec7e8\",\"#aec7e8\",\"#aec7e8\",\"#aec7e8\",\"#aec7e8\",\"#aec7e8\",\"#aec7e8\",\"#aec7e8\",\"#ff7f0e\",\"#aec7e8\",\"#1f77b4\",\"#aec7e8\",\"#1f77b4\",\"#1f77b4\",\"#aec7e8\",\"#1f77b4\",\"#aec7e8\",\"#aec7e8\",\"#ff7f0e\",\"#aec7e8\",\"#aec7e8\",\"#aec7e8\",\"#ff7f0e\",\"#aec7e8\",\"#aec7e8\",\"#ffbb78\",\"#aec7e8\",\"#aec7e8\",\"#1f77b4\",\"#aec7e8\",\"#1f77b4\",\"#aec7e8\",\"#ff7f0e\",\"#aec7e8\",\"#ff7f0e\",\"#ff7f0e\",\"#ffbb78\",\"#aec7e8\",\"#aec7e8\",\"#aec7e8\",\"#ffbb78\",\"#aec7e8\",\"#ff7f0e\",\"#1f77b4\",\"#ff7f0e\",\"#aec7e8\",\"#1f77b4\",\"#ff7f0e\",\"#ff7f0e\",\"#1f77b4\",\"#aec7e8\",\"#ffbb78\",\"#aec7e8\",\"#ffbb78\",\"#1f77b4\",\"#aec7e8\",\"#ff7f0e\",\"#1f77b4\",\"#aec7e8\",\"#aec7e8\",\"#aec7e8\",\"#ff7f0e\",\"#aec7e8\",\"#aec7e8\",\"#1f77b4\",\"#aec7e8\",\"#aec7e8\",\"#aec7e8\",\"#ff7f0e\",\"#ff7f0e\",\"#aec7e8\",\"#ff7f0e\",\"#1f77b4\",\"#1f77b4\",\"#1f77b4\",\"#aec7e8\",\"#aec7e8\",\"#1f77b4\",\"#1f77b4\",\"#aec7e8\",\"#aec7e8\",\"#1f77b4\",\"#aec7e8\",\"#aec7e8\",\"#aec7e8\",\"#aec7e8\",\"#aec7e8\",\"#aec7e8\",\"#aec7e8\",\"#aec7e8\",\"#1f77b4\",\"#aec7e8\",\"#aec7e8\",\"#aec7e8\",\"#aec7e8\",\"#1f77b4\",\"#aec7e8\",\"#aec7e8\",\"#aec7e8\",\"#aec7e8\",\"#aec7e8\",\"#aec7e8\",\"#1f77b4\",\"#aec7e8\",\"#1f77b4\",\"#1f77b4\",\"#1f77b4\",\"#1f77b4\",\"#1f77b4\",\"#ff7f0e\",\"#1f77b4\",\"#1f77b4\",\"#aec7e8\",\"#aec7e8\",\"#aec7e8\",\"#1f77b4\",\"#ff7f0e\",\"#1f77b4\",\"#aec7e8\",\"#aec7e8\",\"#ffbb78\",\"#aec7e8\",\"#aec7e8\",\"#1f77b4\",\"#ff7f0e\",\"#ff7f0e\",\"#ff7f0e\",\"#1f77b4\",\"#aec7e8\",\"#1f77b4\",\"#aec7e8\",\"#aec7e8\",\"#aec7e8\",\"#aec7e8\",\"#aec7e8\",\"#1f77b4\",\"#1f77b4\",\"#aec7e8\",\"#aec7e8\",\"#1f77b4\",\"#aec7e8\",\"#aec7e8\",\"#ffbb78\",\"#aec7e8\",\"#ffbb78\",\"#ff7f0e\",\"#ff7f0e\",\"#aec7e8\",\"#1f77b4\",\"#aec7e8\",\"#ff7f0e\",\"#ffbb78\",\"#aec7e8\",\"#ff7f0e\",\"#aec7e8\",\"#1f77b4\",\"#ff7f0e\",\"#1f77b4\",\"#aec7e8\",\"#1f77b4\",\"#1f77b4\",\"#1f77b4\",\"#aec7e8\",\"#aec7e8\",\"#aec7e8\",\"#aec7e8\",\"#aec7e8\",\"#aec7e8\",\"#1f77b4\",\"#1f77b4\",\"#aec7e8\",\"#ffbb78\",\"#aec7e8\",\"#1f77b4\",\"#1f77b4\",\"#ffbb78\",\"#1f77b4\",\"#1f77b4\",\"#aec7e8\",\"#ffbb78\",\"#1f77b4\",\"#1f77b4\",\"#aec7e8\",\"#1f77b4\",\"#aec7e8\",\"#1f77b4\",\"#aec7e8\",\"#1f77b4\",\"#aec7e8\",\"#aec7e8\",\"#aec7e8\",\"#aec7e8\",\"#aec7e8\",\"#1f77b4\",\"#1f77b4\",\"#aec7e8\",\"#aec7e8\",\"#aec7e8\",\"#aec7e8\",\"#ffbb78\",\"#1f77b4\",\"#aec7e8\",\"#1f77b4\",\"#aec7e8\",\"#aec7e8\",\"#aec7e8\",\"#1f77b4\",\"#aec7e8\",\"#aec7e8\",\"#1f77b4\",\"#aec7e8\",\"#ff7f0e\",\"#aec7e8\",\"#aec7e8\",\"#aec7e8\",\"#aec7e8\",\"#aec7e8\",\"#1f77b4\",\"#aec7e8\",\"#aec7e8\",\"#aec7e8\",\"#aec7e8\",\"#1f77b4\",\"#ffbb78\",\"#aec7e8\",\"#1f77b4\",\"#aec7e8\",\"#aec7e8\",\"#aec7e8\",\"#aec7e8\",\"#aec7e8\",\"#ffbb78\",\"#aec7e8\",\"#ffbb78\",\"#aec7e8\",\"#aec7e8\",\"#1f77b4\",\"#1f77b4\",\"#aec7e8\",\"#aec7e8\",\"#1f77b4\",\"#aec7e8\",\"#aec7e8\",\"#aec7e8\",\"#1f77b4\",\"#aec7e8\",\"#aec7e8\",\"#aec7e8\",\"#aec7e8\",\"#aec7e8\",\"#aec7e8\",\"#aec7e8\",\"#aec7e8\",\"#aec7e8\",\"#1f77b4\",\"#ff7f0e\",\"#1f77b4\",\"#aec7e8\",\"#aec7e8\",\"#aec7e8\",\"#aec7e8\",\"#aec7e8\",\"#1f77b4\",\"#1f77b4\",\"#aec7e8\",\"#aec7e8\",\"#aec7e8\",\"#aec7e8\",\"#aec7e8\",\"#aec7e8\",\"#aec7e8\",\"#aec7e8\",\"#aec7e8\",\"#aec7e8\",\"#ff7f0e\",\"#aec7e8\",\"#1f77b4\",\"#aec7e8\",\"#1f77b4\",\"#1f77b4\",\"#aec7e8\",\"#1f77b4\",\"#aec7e8\",\"#aec7e8\",\"#ff7f0e\",\"#aec7e8\",\"#aec7e8\",\"#aec7e8\",\"#ff7f0e\",\"#aec7e8\",\"#aec7e8\",\"#ffbb78\",\"#aec7e8\",\"#aec7e8\",\"#1f77b4\",\"#aec7e8\",\"#1f77b4\",\"#aec7e8\",\"#ff7f0e\",\"#aec7e8\",\"#ff7f0e\",\"#ff7f0e\",\"#ffbb78\",\"#aec7e8\",\"#aec7e8\",\"#aec7e8\",\"#ffbb78\",\"#aec7e8\",\"#ff7f0e\",\"#1f77b4\",\"#ff7f0e\",\"#aec7e8\",\"#1f77b4\",\"#ff7f0e\",\"#ff7f0e\",\"#1f77b4\",\"#aec7e8\",\"#ffbb78\",\"#aec7e8\",\"#ffbb78\",\"#1f77b4\",\"#aec7e8\",\"#ff7f0e\",\"#1f77b4\",\"#aec7e8\",\"#aec7e8\",\"#aec7e8\",\"#ff7f0e\",\"#aec7e8\",\"#aec7e8\",\"#1f77b4\",\"#aec7e8\",\"#aec7e8\",\"#aec7e8\",\"#ff7f0e\",\"#ff7f0e\",\"#aec7e8\",\"#ff7f0e\",\"#1f77b4\",\"#1f77b4\",\"#1f77b4\",\"#aec7e8\",\"#aec7e8\",\"#1f77b4\",\"#1f77b4\",\"#aec7e8\",\"#aec7e8\",\"#1f77b4\",\"#aec7e8\",\"#aec7e8\",\"#aec7e8\",\"#aec7e8\",\"#aec7e8\",\"#aec7e8\",\"#aec7e8\",\"#aec7e8\",\"#1f77b4\",\"#aec7e8\",\"#aec7e8\",\"#aec7e8\",\"#aec7e8\",\"#1f77b4\",\"#ff7f0e\",\"#aec7e8\",\"#aec7e8\",\"#ff7f0e\",\"#aec7e8\",\"#aec7e8\",\"#aec7e8\",\"#aec7e8\",\"#aec7e8\",\"#aec7e8\",\"#aec7e8\",\"#aec7e8\",\"#aec7e8\",\"#1f77b4\",\"#aec7e8\",\"#aec7e8\",\"#aec7e8\",\"#aec7e8\",\"#aec7e8\",\"#aec7e8\",\"#aec7e8\",\"#aec7e8\",\"#aec7e8\",\"#aec7e8\",\"#aec7e8\",\"#aec7e8\",\"#aec7e8\",\"#aec7e8\",\"#aec7e8\",\"#aec7e8\",\"#aec7e8\",\"#ff7f0e\",\"#aec7e8\",\"#aec7e8\",\"#aec7e8\",\"#aec7e8\",\"#aec7e8\",\"#aec7e8\",\"#aec7e8\",\"#aec7e8\",\"#aec7e8\",\"#aec7e8\",\"#aec7e8\",\"#aec7e8\",\"#aec7e8\",\"#aec7e8\",\"#ff7f0e\",\"#aec7e8\",\"#aec7e8\",\"#aec7e8\",\"#aec7e8\",\"#aec7e8\",\"#aec7e8\",\"#aec7e8\",\"#aec7e8\",\"#aec7e8\",\"#aec7e8\",\"#aec7e8\",\"#aec7e8\",\"#aec7e8\",\"#aec7e8\",\"#aec7e8\",\"#aec7e8\",\"#aec7e8\",\"#ffbb78\",\"#aec7e8\",\"#aec7e8\",\"#aec7e8\",\"#aec7e8\",\"#aec7e8\",\"#aec7e8\",\"#aec7e8\",\"#aec7e8\",\"#aec7e8\",\"#aec7e8\",\"#aec7e8\",\"#aec7e8\",\"#aec7e8\",\"#ff7f0e\",\"#aec7e8\",\"#aec7e8\",\"#aec7e8\",\"#aec7e8\",\"#aec7e8\",\"#aec7e8\",\"#aec7e8\",\"#aec7e8\",\"#aec7e8\",\"#aec7e8\",\"#aec7e8\",\"#aec7e8\",\"#aec7e8\",\"#aec7e8\",\"#aec7e8\",\"#1f77b4\",\"#aec7e8\",\"#aec7e8\",\"#aec7e8\",\"#aec7e8\",\"#aec7e8\",\"#aec7e8\",\"#aec7e8\",\"#aec7e8\",\"#aec7e8\",\"#aec7e8\",\"#aec7e8\",\"#aec7e8\",\"#aec7e8\",\"#aec7e8\",\"#1f77b4\",\"#aec7e8\",\"#aec7e8\",\"#aec7e8\",\"#aec7e8\",\"#aec7e8\",\"#aec7e8\",\"#aec7e8\",\"#aec7e8\",\"#aec7e8\",\"#aec7e8\",\"#aec7e8\",\"#aec7e8\",\"#aec7e8\",\"#aec7e8\",\"#aec7e8\",\"#aec7e8\",\"#aec7e8\",\"#aec7e8\",\"#aec7e8\",\"#aec7e8\",\"#aec7e8\",\"#aec7e8\",\"#aec7e8\",\"#aec7e8\",\"#ffbb78\",\"#aec7e8\",\"#ffbb78\",\"#aec7e8\",\"#aec7e8\",\"#aec7e8\",\"#aec7e8\",\"#aec7e8\",\"#aec7e8\",\"#aec7e8\",\"#aec7e8\",\"#aec7e8\",\"#aec7e8\",\"#aec7e8\",\"#aec7e8\",\"#aec7e8\",\"#aec7e8\",\"#aec7e8\",\"#aec7e8\",\"#aec7e8\",\"#aec7e8\",\"#aec7e8\",\"#aec7e8\",\"#aec7e8\",\"#aec7e8\",\"#aec7e8\",\"#aec7e8\",\"#aec7e8\",\"#aec7e8\",\"#ff7f0e\",\"#ff7f0e\",\"#aec7e8\",\"#aec7e8\",\"#aec7e8\",\"#aec7e8\",\"#aec7e8\",\"#aec7e8\",\"#aec7e8\",\"#aec7e8\",\"#aec7e8\",\"#aec7e8\",\"#aec7e8\",\"#aec7e8\",\"#aec7e8\",\"#aec7e8\",\"#aec7e8\",\"#aec7e8\",\"#aec7e8\",\"#aec7e8\",\"#aec7e8\",\"#aec7e8\",\"#aec7e8\",\"#aec7e8\",\"#aec7e8\",\"#aec7e8\",\"#ff7f0e\",\"#aec7e8\",\"#aec7e8\",\"#aec7e8\",\"#aec7e8\",\"#aec7e8\",\"#aec7e8\",\"#aec7e8\",\"#aec7e8\",\"#aec7e8\",\"#ffbb78\",\"#aec7e8\",\"#aec7e8\",\"#aec7e8\",\"#aec7e8\",\"#aec7e8\",\"#ffbb78\",\"#aec7e8\",\"#aec7e8\",\"#aec7e8\",\"#aec7e8\",\"#aec7e8\",\"#aec7e8\",\"#aec7e8\",\"#aec7e8\",\"#aec7e8\",\"#aec7e8\",\"#aec7e8\",\"#aec7e8\",\"#aec7e8\",\"#aec7e8\",\"#aec7e8\",\"#aec7e8\",\"#aec7e8\",\"#aec7e8\",\"#aec7e8\",\"#aec7e8\",\"#1f77b4\",\"#aec7e8\",\"#aec7e8\",\"#aec7e8\",\"#aec7e8\",\"#aec7e8\",\"#aec7e8\",\"#aec7e8\",\"#aec7e8\",\"#aec7e8\",\"#aec7e8\",\"#aec7e8\",\"#aec7e8\",\"#aec7e8\",\"#aec7e8\",\"#aec7e8\",\"#aec7e8\",\"#aec7e8\",\"#aec7e8\",\"#aec7e8\",\"#aec7e8\",\"#aec7e8\",\"#aec7e8\",\"#1f77b4\",\"#aec7e8\",\"#aec7e8\",\"#aec7e8\",\"#aec7e8\",\"#aec7e8\",\"#aec7e8\",\"#aec7e8\",\"#aec7e8\",\"#aec7e8\",\"#1f77b4\",\"#aec7e8\",\"#aec7e8\",\"#aec7e8\",\"#aec7e8\",\"#aec7e8\",\"#aec7e8\",\"#aec7e8\",\"#aec7e8\",\"#aec7e8\",\"#aec7e8\",\"#aec7e8\",\"#aec7e8\",\"#aec7e8\",\"#aec7e8\",\"#aec7e8\",\"#aec7e8\",\"#aec7e8\",\"#aec7e8\",\"#aec7e8\",\"#aec7e8\",\"#aec7e8\",\"#aec7e8\",\"#1f77b4\",\"#aec7e8\",\"#aec7e8\",\"#aec7e8\",\"#ff7f0e\",\"#aec7e8\",\"#ff7f0e\",\"#aec7e8\",\"#aec7e8\",\"#ff7f0e\",\"#aec7e8\",\"#aec7e8\",\"#aec7e8\",\"#aec7e8\",\"#aec7e8\",\"#aec7e8\",\"#aec7e8\",\"#aec7e8\",\"#aec7e8\",\"#aec7e8\",\"#aec7e8\",\"#aec7e8\",\"#aec7e8\",\"#aec7e8\",\"#aec7e8\",\"#aec7e8\",\"#aec7e8\",\"#1f77b4\",\"#1f77b4\",\"#aec7e8\",\"#aec7e8\",\"#aec7e8\",\"#aec7e8\",\"#aec7e8\",\"#aec7e8\",\"#aec7e8\",\"#aec7e8\",\"#aec7e8\",\"#aec7e8\",\"#aec7e8\",\"#aec7e8\",\"#aec7e8\",\"#aec7e8\",\"#aec7e8\",\"#ff7f0e\",\"#aec7e8\",\"#aec7e8\",\"#1f77b4\",\"#aec7e8\",\"#aec7e8\",\"#aec7e8\",\"#aec7e8\",\"#aec7e8\",\"#aec7e8\",\"#aec7e8\",\"#aec7e8\",\"#aec7e8\",\"#aec7e8\",\"#aec7e8\",\"#aec7e8\",\"#aec7e8\",\"#aec7e8\",\"#aec7e8\",\"#aec7e8\",\"#aec7e8\",\"#aec7e8\",\"#aec7e8\",\"#aec7e8\",\"#aec7e8\",\"#aec7e8\",\"#aec7e8\",\"#aec7e8\",\"#aec7e8\",\"#aec7e8\",\"#aec7e8\",\"#aec7e8\",\"#aec7e8\",\"#aec7e8\",\"#aec7e8\",\"#aec7e8\",\"#aec7e8\",\"#aec7e8\",\"#aec7e8\",\"#aec7e8\",\"#aec7e8\",\"#aec7e8\",\"#aec7e8\",\"#aec7e8\",\"#aec7e8\",\"#aec7e8\",\"#aec7e8\",\"#aec7e8\",\"#aec7e8\",\"#aec7e8\",\"#1f77b4\",\"#aec7e8\",\"#aec7e8\",\"#aec7e8\",\"#aec7e8\",\"#aec7e8\",\"#aec7e8\",\"#aec7e8\",\"#aec7e8\",\"#aec7e8\",\"#aec7e8\",\"#aec7e8\",\"#aec7e8\",\"#aec7e8\",\"#aec7e8\",\"#aec7e8\",\"#aec7e8\",\"#aec7e8\",\"#aec7e8\",\"#aec7e8\",\"#aec7e8\",\"#aec7e8\",\"#aec7e8\",\"#aec7e8\",\"#aec7e8\",\"#aec7e8\",\"#aec7e8\",\"#aec7e8\",\"#aec7e8\",\"#aec7e8\",\"#aec7e8\",\"#aec7e8\",\"#aec7e8\",\"#aec7e8\",\"#aec7e8\",\"#aec7e8\",\"#aec7e8\",\"#aec7e8\",\"#aec7e8\",\"#aec7e8\",\"#aec7e8\",\"#aec7e8\",\"#aec7e8\",\"#aec7e8\",\"#aec7e8\",\"#aec7e8\",\"#aec7e8\",\"#aec7e8\",\"#aec7e8\",\"#aec7e8\",\"#aec7e8\",\"#aec7e8\",\"#aec7e8\",\"#ff7f0e\",\"#aec7e8\",\"#aec7e8\",\"#aec7e8\",\"#aec7e8\",\"#aec7e8\",\"#ff7f0e\",\"#aec7e8\",\"#aec7e8\",\"#aec7e8\",\"#aec7e8\",\"#aec7e8\",\"#aec7e8\",\"#aec7e8\",\"#aec7e8\",\"#aec7e8\",\"#aec7e8\",\"#aec7e8\",\"#aec7e8\",\"#ff7f0e\",\"#aec7e8\",\"#aec7e8\",\"#aec7e8\",\"#aec7e8\",\"#aec7e8\",\"#aec7e8\",\"#aec7e8\",\"#aec7e8\",\"#aec7e8\",\"#aec7e8\",\"#aec7e8\",\"#ff7f0e\",\"#aec7e8\",\"#aec7e8\",\"#aec7e8\",\"#aec7e8\",\"#aec7e8\",\"#aec7e8\",\"#aec7e8\",\"#aec7e8\",\"#aec7e8\",\"#aec7e8\",\"#aec7e8\",\"#aec7e8\",\"#aec7e8\",\"#ff7f0e\",\"#aec7e8\",\"#aec7e8\",\"#aec7e8\",\"#aec7e8\",\"#aec7e8\",\"#aec7e8\",\"#aec7e8\",\"#aec7e8\",\"#aec7e8\",\"#aec7e8\",\"#aec7e8\",\"#aec7e8\",\"#aec7e8\",\"#aec7e8\",\"#aec7e8\",\"#aec7e8\",\"#aec7e8\",\"#aec7e8\",\"#aec7e8\",\"#aec7e8\",\"#aec7e8\",\"#aec7e8\",\"#aec7e8\",\"#aec7e8\",\"#aec7e8\",\"#ff7f0e\",\"#aec7e8\",\"#aec7e8\",\"#ffbb78\",\"#ffbb78\",\"#ffbb78\",\"#ffbb78\",\"#aec7e8\",\"#aec7e8\",\"#aec7e8\",\"#aec7e8\",\"#1f77b4\",\"#aec7e8\",\"#aec7e8\",\"#aec7e8\",\"#aec7e8\",\"#aec7e8\",\"#aec7e8\",\"#aec7e8\",\"#aec7e8\",\"#aec7e8\",\"#aec7e8\",\"#aec7e8\",\"#aec7e8\",\"#aec7e8\",\"#aec7e8\",\"#aec7e8\",\"#aec7e8\",\"#aec7e8\",\"#aec7e8\",\"#aec7e8\",\"#ff7f0e\",\"#aec7e8\",\"#aec7e8\",\"#aec7e8\",\"#aec7e8\",\"#aec7e8\",\"#aec7e8\",\"#aec7e8\",\"#aec7e8\",\"#aec7e8\",\"#aec7e8\",\"#aec7e8\",\"#aec7e8\",\"#aec7e8\",\"#aec7e8\",\"#aec7e8\",\"#aec7e8\",\"#ff7f0e\",\"#aec7e8\",\"#aec7e8\",\"#aec7e8\",\"#aec7e8\",\"#aec7e8\",\"#aec7e8\",\"#aec7e8\",\"#aec7e8\",\"#aec7e8\",\"#aec7e8\",\"#aec7e8\",\"#aec7e8\",\"#aec7e8\",\"#aec7e8\",\"#1f77b4\",\"#aec7e8\",\"#ffbb78\",\"#ff7f0e\",\"#aec7e8\",\"#aec7e8\",\"#aec7e8\",\"#aec7e8\",\"#ffbb78\",\"#ff7f0e\",\"#ff7f0e\",\"#aec7e8\",\"#ffbb78\",\"#ff7f0e\",\"#aec7e8\",\"#aec7e8\",\"#aec7e8\",\"#aec7e8\",\"#ffbb78\",\"#ff7f0e\",\"#ff7f0e\",\"#aec7e8\",\"#ffbb78\",\"#ff7f0e\",\"#aec7e8\",\"#aec7e8\",\"#aec7e8\",\"#aec7e8\",\"#ffbb78\",\"#ff7f0e\",\"#ff7f0e\",\"#aec7e8\",\"#aec7e8\",\"#aec7e8\",\"#aec7e8\",\"#aec7e8\",\"#1f77b4\",\"#aec7e8\",\"#1f77b4\",\"#aec7e8\",\"#1f77b4\",\"#aec7e8\",\"#aec7e8\",\"#aec7e8\",\"#aec7e8\",\"#aec7e8\",\"#aec7e8\",\"#aec7e8\",\"#aec7e8\",\"#1f77b4\",\"#aec7e8\",\"#aec7e8\",\"#aec7e8\",\"#aec7e8\",\"#aec7e8\",\"#aec7e8\",\"#aec7e8\",\"#aec7e8\",\"#aec7e8\",\"#aec7e8\",\"#aec7e8\",\"#aec7e8\",\"#aec7e8\",\"#aec7e8\",\"#aec7e8\",\"#aec7e8\",\"#aec7e8\",\"#aec7e8\",\"#aec7e8\",\"#1f77b4\",\"#aec7e8\",\"#aec7e8\",\"#aec7e8\",\"#aec7e8\",\"#aec7e8\",\"#aec7e8\",\"#aec7e8\",\"#aec7e8\",\"#aec7e8\",\"#aec7e8\",\"#aec7e8\",\"#aec7e8\",\"#aec7e8\",\"#aec7e8\",\"#aec7e8\",\"#aec7e8\",\"#aec7e8\",\"#aec7e8\",\"#ffbb78\",\"#aec7e8\",\"#ff7f0e\",\"#aec7e8\",\"#ffbb78\",\"#aec7e8\",\"#aec7e8\",\"#aec7e8\",\"#ffbb78\",\"#aec7e8\",\"#aec7e8\",\"#aec7e8\",\"#ffbb78\",\"#aec7e8\",\"#aec7e8\",\"#1f77b4\",\"#ffbb78\",\"#ffbb78\",\"#1f77b4\",\"#ffbb78\",\"#ffbb78\",\"#ff7f0e\",\"#aec7e8\",\"#ff7f0e\",\"#ff7f0e\",\"#aec7e8\",\"#ff7f0e\",\"#ff7f0e\",\"#aec7e8\",\"#ff7f0e\",\"#ffbb78\",\"#aec7e8\",\"#aec7e8\",\"#ffbb78\",\"#aec7e8\",\"#aec7e8\",\"#ffbb78\",\"#aec7e8\",\"#aec7e8\",\"#aec7e8\",\"#aec7e8\",\"#aec7e8\",\"#aec7e8\",\"#aec7e8\",\"#aec7e8\",\"#aec7e8\",\"#aec7e8\",\"#aec7e8\",\"#aec7e8\",\"#aec7e8\",\"#aec7e8\",\"#1f77b4\",\"#aec7e8\",\"#aec7e8\",\"#aec7e8\",\"#1f77b4\",\"#aec7e8\",\"#ff7f0e\",\"#aec7e8\",\"#aec7e8\",\"#aec7e8\",\"#ffbb78\",\"#aec7e8\",\"#aec7e8\",\"#aec7e8\",\"#aec7e8\",\"#aec7e8\",\"#ffbb78\",\"#aec7e8\",\"#aec7e8\",\"#aec7e8\",\"#aec7e8\",\"#aec7e8\",\"#aec7e8\",\"#aec7e8\",\"#aec7e8\",\"#aec7e8\",\"#aec7e8\",\"#aec7e8\",\"#aec7e8\",\"#aec7e8\",\"#aec7e8\",\"#aec7e8\",\"#aec7e8\",\"#aec7e8\",\"#aec7e8\",\"#aec7e8\",\"#aec7e8\",\"#aec7e8\",\"#aec7e8\",\"#aec7e8\",\"#aec7e8\",\"#aec7e8\",\"#aec7e8\",\"#aec7e8\",\"#aec7e8\",\"#aec7e8\",\"#aec7e8\",\"#aec7e8\",\"#aec7e8\",\"#aec7e8\",\"#aec7e8\",\"#aec7e8\",\"#aec7e8\",\"#aec7e8\",\"#aec7e8\",\"#aec7e8\",\"#aec7e8\",\"#aec7e8\",\"#aec7e8\",\"#aec7e8\",\"#aec7e8\",\"#aec7e8\",\"#1f77b4\",\"#1f77b4\",\"#1f77b4\",\"#1f77b4\",\"#ff7f0e\",\"#aec7e8\",\"#aec7e8\",\"#aec7e8\",\"#aec7e8\",\"#aec7e8\",\"#ff7f0e\",\"#aec7e8\",\"#ff7f0e\",\"#aec7e8\",\"#aec7e8\",\"#aec7e8\",\"#aec7e8\",\"#ff7f0e\",\"#ffbb78\",\"#ff7f0e\",\"#aec7e8\",\"#aec7e8\",\"#ff7f0e\",\"#aec7e8\",\"#aec7e8\",\"#ff7f0e\",\"#aec7e8\",\"#ff7f0e\",\"#aec7e8\",\"#aec7e8\",\"#aec7e8\",\"#aec7e8\",\"#ff7f0e\",\"#ffbb78\",\"#ff7f0e\",\"#aec7e8\",\"#aec7e8\",\"#ff7f0e\",\"#aec7e8\",\"#aec7e8\",\"#ff7f0e\",\"#aec7e8\",\"#ff7f0e\",\"#aec7e8\",\"#aec7e8\",\"#aec7e8\",\"#aec7e8\",\"#ff7f0e\",\"#ffbb78\",\"#ff7f0e\",\"#aec7e8\",\"#aec7e8\",\"#ff7f0e\",\"#aec7e8\",\"#aec7e8\",\"#aec7e8\",\"#aec7e8\",\"#aec7e8\",\"#aec7e8\",\"#aec7e8\",\"#aec7e8\",\"#aec7e8\",\"#aec7e8\",\"#aec7e8\",\"#aec7e8\",\"#aec7e8\",\"#aec7e8\",\"#aec7e8\",\"#aec7e8\",\"#aec7e8\",\"#aec7e8\",\"#aec7e8\",\"#aec7e8\",\"#aec7e8\",\"#aec7e8\",\"#aec7e8\",\"#aec7e8\",\"#aec7e8\",\"#aec7e8\",\"#aec7e8\",\"#aec7e8\",\"#aec7e8\",\"#aec7e8\",\"#aec7e8\",\"#aec7e8\",\"#aec7e8\",\"#aec7e8\",\"#aec7e8\",\"#aec7e8\",\"#aec7e8\",\"#aec7e8\",\"#aec7e8\",\"#aec7e8\",\"#aec7e8\",\"#aec7e8\",\"#aec7e8\",\"#aec7e8\",\"#aec7e8\",\"#aec7e8\",\"#aec7e8\",\"#aec7e8\",\"#aec7e8\",\"#aec7e8\",\"#aec7e8\",\"#aec7e8\",\"#aec7e8\",\"#aec7e8\",\"#aec7e8\",\"#aec7e8\",\"#aec7e8\",\"#aec7e8\",\"#aec7e8\",\"#aec7e8\",\"#aec7e8\",\"#aec7e8\",\"#aec7e8\",\"#ff7f0e\",\"#aec7e8\",\"#aec7e8\",\"#aec7e8\",\"#aec7e8\",\"#aec7e8\",\"#ff7f0e\",\"#aec7e8\",\"#aec7e8\",\"#aec7e8\",\"#aec7e8\",\"#aec7e8\",\"#aec7e8\",\"#aec7e8\",\"#aec7e8\",\"#aec7e8\",\"#aec7e8\",\"#aec7e8\",\"#aec7e8\",\"#aec7e8\",\"#aec7e8\",\"#aec7e8\",\"#aec7e8\",\"#aec7e8\",\"#aec7e8\",\"#aec7e8\",\"#aec7e8\",\"#aec7e8\",\"#aec7e8\",\"#aec7e8\",\"#aec7e8\",\"#aec7e8\",\"#aec7e8\",\"#aec7e8\",\"#aec7e8\",\"#aec7e8\",\"#ff7f0e\",\"#aec7e8\",\"#aec7e8\",\"#aec7e8\",\"#aec7e8\",\"#aec7e8\",\"#ff7f0e\",\"#aec7e8\",\"#aec7e8\",\"#aec7e8\",\"#aec7e8\",\"#aec7e8\",\"#aec7e8\",\"#aec7e8\",\"#aec7e8\",\"#aec7e8\",\"#aec7e8\",\"#aec7e8\",\"#aec7e8\",\"#aec7e8\",\"#aec7e8\",\"#aec7e8\",\"#aec7e8\",\"#aec7e8\",\"#aec7e8\",\"#aec7e8\",\"#aec7e8\",\"#aec7e8\",\"#aec7e8\",\"#aec7e8\",\"#aec7e8\",\"#aec7e8\",\"#aec7e8\",\"#aec7e8\",\"#aec7e8\",\"#aec7e8\",\"#ff7f0e\",\"#ff7f0e\",\"#ff7f0e\",\"#aec7e8\",\"#aec7e8\",\"#aec7e8\",\"#aec7e8\",\"#aec7e8\",\"#aec7e8\",\"#aec7e8\",\"#aec7e8\",\"#aec7e8\",\"#aec7e8\",\"#aec7e8\",\"#aec7e8\",\"#aec7e8\",\"#aec7e8\",\"#aec7e8\",\"#aec7e8\",\"#aec7e8\",\"#aec7e8\",\"#aec7e8\",\"#aec7e8\",\"#aec7e8\",\"#aec7e8\",\"#aec7e8\",\"#aec7e8\",\"#aec7e8\",\"#aec7e8\",\"#aec7e8\",\"#aec7e8\",\"#aec7e8\",\"#aec7e8\",\"#aec7e8\",\"#aec7e8\",\"#aec7e8\",\"#aec7e8\",\"#aec7e8\",\"#aec7e8\",\"#aec7e8\",\"#aec7e8\",\"#aec7e8\",\"#aec7e8\",\"#aec7e8\",\"#aec7e8\",\"#aec7e8\",\"#aec7e8\",\"#aec7e8\",\"#aec7e8\",\"#aec7e8\",\"#aec7e8\",\"#aec7e8\",\"#aec7e8\",\"#aec7e8\",\"#aec7e8\",\"#aec7e8\",\"#aec7e8\",\"#aec7e8\",\"#aec7e8\",\"#aec7e8\",\"#aec7e8\",\"#aec7e8\",\"#aec7e8\",\"#aec7e8\",\"#aec7e8\",\"#aec7e8\",\"#aec7e8\",\"#aec7e8\",\"#aec7e8\",\"#aec7e8\",\"#aec7e8\",\"#aec7e8\",\"#aec7e8\",\"#aec7e8\",\"#aec7e8\",\"#aec7e8\",\"#aec7e8\",\"#aec7e8\",\"#aec7e8\",\"#aec7e8\",\"#aec7e8\",\"#aec7e8\",\"#aec7e8\",\"#aec7e8\",\"#aec7e8\",\"#aec7e8\",\"#aec7e8\",\"#aec7e8\",\"#aec7e8\",\"#aec7e8\",\"#aec7e8\",\"#aec7e8\",\"#aec7e8\",\"#aec7e8\",\"#aec7e8\",\"#aec7e8\",\"#aec7e8\",\"#aec7e8\",\"#ff7f0e\",\"#aec7e8\",\"#aec7e8\",\"#aec7e8\",\"#aec7e8\",\"#aec7e8\",\"#aec7e8\",\"#aec7e8\",\"#aec7e8\",\"#aec7e8\",\"#aec7e8\",\"#aec7e8\",\"#ff7f0e\",\"#aec7e8\",\"#aec7e8\",\"#aec7e8\",\"#aec7e8\",\"#aec7e8\",\"#aec7e8\",\"#aec7e8\",\"#aec7e8\",\"#aec7e8\",\"#aec7e8\",\"#aec7e8\",\"#aec7e8\",\"#aec7e8\",\"#aec7e8\",\"#aec7e8\",\"#aec7e8\",\"#aec7e8\",\"#aec7e8\",\"#aec7e8\",\"#aec7e8\",\"#aec7e8\",\"#aec7e8\",\"#aec7e8\",\"#aec7e8\",\"#aec7e8\",\"#aec7e8\",\"#aec7e8\",\"#aec7e8\",\"#ffbb78\",\"#aec7e8\",\"#aec7e8\",\"#aec7e8\",\"#aec7e8\",\"#aec7e8\",\"#aec7e8\",\"#aec7e8\",\"#aec7e8\",\"#aec7e8\",\"#aec7e8\",\"#aec7e8\",\"#aec7e8\",\"#aec7e8\",\"#aec7e8\",\"#aec7e8\",\"#aec7e8\",\"#aec7e8\",\"#aec7e8\",\"#aec7e8\",\"#aec7e8\",\"#aec7e8\",\"#aec7e8\",\"#aec7e8\",\"#aec7e8\",\"#aec7e8\",\"#aec7e8\",\"#ff7f0e\",\"#aec7e8\",\"#aec7e8\",\"#aec7e8\",\"#aec7e8\",\"#aec7e8\",\"#aec7e8\",\"#aec7e8\",\"#aec7e8\",\"#aec7e8\",\"#aec7e8\",\"#aec7e8\",\"#ff7f0e\",\"#aec7e8\",\"#aec7e8\",\"#aec7e8\",\"#aec7e8\",\"#aec7e8\",\"#aec7e8\",\"#aec7e8\",\"#aec7e8\",\"#aec7e8\",\"#aec7e8\",\"#aec7e8\",\"#aec7e8\",\"#aec7e8\",\"#aec7e8\",\"#aec7e8\",\"#aec7e8\",\"#aec7e8\",\"#aec7e8\",\"#aec7e8\",\"#aec7e8\",\"#aec7e8\",\"#aec7e8\",\"#aec7e8\",\"#aec7e8\",\"#aec7e8\",\"#aec7e8\",\"#aec7e8\",\"#aec7e8\",\"#ffbb78\",\"#aec7e8\",\"#aec7e8\",\"#aec7e8\",\"#aec7e8\",\"#aec7e8\",\"#aec7e8\",\"#aec7e8\",\"#aec7e8\",\"#aec7e8\",\"#aec7e8\",\"#aec7e8\",\"#aec7e8\",\"#aec7e8\",\"#aec7e8\",\"#aec7e8\",\"#aec7e8\",\"#aec7e8\",\"#aec7e8\",\"#aec7e8\",\"#aec7e8\",\"#aec7e8\",\"#aec7e8\",\"#aec7e8\",\"#aec7e8\",\"#aec7e8\",\"#ff7f0e\",\"#aec7e8\",\"#ff7f0e\",\"#aec7e8\",\"#aec7e8\",\"#aec7e8\",\"#aec7e8\",\"#ff7f0e\",\"#aec7e8\",\"#ff7f0e\",\"#aec7e8\",\"#aec7e8\",\"#aec7e8\",\"#ff7f0e\",\"#aec7e8\",\"#ff7f0e\",\"#aec7e8\",\"#ff7f0e\",\"#aec7e8\",\"#aec7e8\",\"#aec7e8\",\"#aec7e8\",\"#aec7e8\",\"#aec7e8\",\"#1f77b4\",\"#ff7f0e\",\"#ff7f0e\",\"#aec7e8\",\"#ff7f0e\",\"#aec7e8\",\"#aec7e8\",\"#aec7e8\",\"#aec7e8\",\"#aec7e8\",\"#ff7f0e\",\"#ffbb78\",\"#ff7f0e\",\"#aec7e8\",\"#ff7f0e\",\"#aec7e8\",\"#aec7e8\",\"#ff7f0e\",\"#ff7f0e\",\"#aec7e8\",\"#aec7e8\",\"#aec7e8\",\"#ff7f0e\",\"#ff7f0e\",\"#aec7e8\",\"#aec7e8\",\"#aec7e8\",\"#ff7f0e\",\"#aec7e8\",\"#aec7e8\",\"#ffbb78\",\"#aec7e8\",\"#ff7f0e\",\"#aec7e8\",\"#aec7e8\",\"#ff7f0e\",\"#aec7e8\",\"#ff7f0e\",\"#aec7e8\",\"#aec7e8\",\"#aec7e8\",\"#aec7e8\",\"#ff7f0e\",\"#aec7e8\",\"#ff7f0e\",\"#aec7e8\",\"#aec7e8\",\"#aec7e8\",\"#ff7f0e\",\"#aec7e8\",\"#ff7f0e\",\"#aec7e8\",\"#ff7f0e\",\"#aec7e8\",\"#aec7e8\",\"#aec7e8\",\"#aec7e8\",\"#aec7e8\",\"#aec7e8\",\"#1f77b4\",\"#ff7f0e\",\"#ff7f0e\",\"#aec7e8\",\"#ff7f0e\",\"#aec7e8\",\"#aec7e8\",\"#aec7e8\",\"#aec7e8\",\"#aec7e8\",\"#ff7f0e\",\"#ffbb78\",\"#ff7f0e\",\"#aec7e8\",\"#ff7f0e\",\"#aec7e8\",\"#aec7e8\",\"#ff7f0e\",\"#ff7f0e\",\"#aec7e8\",\"#aec7e8\",\"#aec7e8\",\"#ff7f0e\",\"#ff7f0e\",\"#aec7e8\",\"#aec7e8\",\"#aec7e8\",\"#ff7f0e\",\"#aec7e8\",\"#aec7e8\",\"#ffbb78\",\"#aec7e8\",\"#ff7f0e\",\"#aec7e8\",\"#aec7e8\",\"#ff7f0e\",\"#aec7e8\",\"#ff7f0e\",\"#aec7e8\",\"#aec7e8\",\"#aec7e8\",\"#aec7e8\",\"#ff7f0e\",\"#aec7e8\",\"#ff7f0e\",\"#aec7e8\",\"#aec7e8\",\"#aec7e8\",\"#ff7f0e\",\"#aec7e8\",\"#ff7f0e\",\"#aec7e8\",\"#ff7f0e\",\"#aec7e8\",\"#aec7e8\",\"#aec7e8\",\"#aec7e8\",\"#aec7e8\",\"#aec7e8\",\"#1f77b4\",\"#ff7f0e\",\"#ff7f0e\",\"#aec7e8\",\"#ff7f0e\",\"#aec7e8\",\"#aec7e8\",\"#aec7e8\",\"#aec7e8\",\"#aec7e8\",\"#ff7f0e\",\"#ffbb78\",\"#ff7f0e\",\"#aec7e8\",\"#ff7f0e\",\"#aec7e8\",\"#aec7e8\",\"#ff7f0e\",\"#ff7f0e\",\"#aec7e8\",\"#aec7e8\",\"#aec7e8\",\"#ff7f0e\",\"#ff7f0e\",\"#aec7e8\",\"#aec7e8\",\"#aec7e8\",\"#ff7f0e\",\"#aec7e8\",\"#aec7e8\",\"#ffbb78\",\"#aec7e8\",\"#ff7f0e\",\"#aec7e8\",\"#aec7e8\",\"#aec7e8\",\"#aec7e8\",\"#aec7e8\",\"#aec7e8\",\"#aec7e8\",\"#aec7e8\",\"#aec7e8\",\"#aec7e8\",\"#aec7e8\",\"#aec7e8\",\"#aec7e8\",\"#1f77b4\",\"#1f77b4\",\"#aec7e8\",\"#aec7e8\",\"#aec7e8\",\"#1f77b4\",\"#aec7e8\",\"#aec7e8\",\"#aec7e8\",\"#1f77b4\",\"#aec7e8\",\"#1f77b4\",\"#aec7e8\",\"#aec7e8\",\"#aec7e8\",\"#1f77b4\",\"#aec7e8\",\"#aec7e8\",\"#aec7e8\",\"#aec7e8\",\"#aec7e8\",\"#aec7e8\",\"#aec7e8\",\"#1f77b4\",\"#aec7e8\",\"#aec7e8\",\"#ff7f0e\",\"#1f77b4\",\"#aec7e8\",\"#aec7e8\",\"#ff7f0e\",\"#aec7e8\",\"#1f77b4\",\"#1f77b4\",\"#aec7e8\",\"#ffbb78\",\"#aec7e8\",\"#ff7f0e\",\"#aec7e8\",\"#1f77b4\",\"#1f77b4\",\"#aec7e8\",\"#1f77b4\",\"#aec7e8\",\"#1f77b4\",\"#1f77b4\",\"#ffbb78\",\"#aec7e8\",\"#aec7e8\",\"#aec7e8\",\"#ff7f0e\",\"#aec7e8\",\"#aec7e8\",\"#1f77b4\",\"#1f77b4\",\"#aec7e8\",\"#1f77b4\",\"#1f77b4\",\"#aec7e8\",\"#ff7f0e\",\"#ff7f0e\",\"#1f77b4\",\"#aec7e8\",\"#1f77b4\",\"#aec7e8\",\"#1f77b4\",\"#aec7e8\",\"#1f77b4\",\"#aec7e8\",\"#aec7e8\",\"#ff7f0e\",\"#ff7f0e\",\"#aec7e8\",\"#1f77b4\",\"#ff7f0e\",\"#aec7e8\",\"#ff7f0e\",\"#ffbb78\",\"#aec7e8\",\"#1f77b4\",\"#aec7e8\",\"#aec7e8\",\"#aec7e8\",\"#aec7e8\",\"#aec7e8\",\"#aec7e8\",\"#1f77b4\",\"#aec7e8\",\"#aec7e8\",\"#1f77b4\",\"#aec7e8\",\"#aec7e8\",\"#1f77b4\",\"#1f77b4\",\"#aec7e8\",\"#aec7e8\",\"#aec7e8\",\"#aec7e8\",\"#ff7f0e\",\"#aec7e8\",\"#aec7e8\",\"#aec7e8\",\"#1f77b4\",\"#ff7f0e\",\"#1f77b4\",\"#aec7e8\",\"#1f77b4\",\"#aec7e8\",\"#aec7e8\",\"#aec7e8\",\"#aec7e8\",\"#ff7f0e\",\"#aec7e8\",\"#aec7e8\",\"#aec7e8\",\"#aec7e8\",\"#aec7e8\",\"#aec7e8\",\"#aec7e8\",\"#ff7f0e\",\"#1f77b4\",\"#aec7e8\",\"#aec7e8\",\"#aec7e8\",\"#1f77b4\",\"#aec7e8\",\"#aec7e8\",\"#aec7e8\",\"#1f77b4\",\"#aec7e8\",\"#1f77b4\",\"#aec7e8\",\"#1f77b4\",\"#aec7e8\",\"#ffbb78\",\"#1f77b4\",\"#aec7e8\",\"#1f77b4\",\"#1f77b4\",\"#aec7e8\",\"#aec7e8\",\"#1f77b4\",\"#ff7f0e\",\"#ff7f0e\",\"#aec7e8\",\"#aec7e8\",\"#ff7f0e\",\"#1f77b4\",\"#1f77b4\",\"#1f77b4\",\"#aec7e8\",\"#ff7f0e\",\"#aec7e8\",\"#ffbb78\",\"#aec7e8\",\"#aec7e8\",\"#ffbb78\",\"#aec7e8\",\"#1f77b4\",\"#1f77b4\",\"#ffbb78\",\"#aec7e8\",\"#1f77b4\",\"#ff7f0e\",\"#ff7f0e\",\"#aec7e8\",\"#1f77b4\",\"#aec7e8\",\"#aec7e8\",\"#aec7e8\",\"#1f77b4\",\"#1f77b4\",\"#aec7e8\",\"#aec7e8\",\"#aec7e8\",\"#1f77b4\",\"#aec7e8\",\"#aec7e8\",\"#aec7e8\",\"#1f77b4\",\"#aec7e8\",\"#1f77b4\",\"#aec7e8\",\"#aec7e8\",\"#aec7e8\",\"#1f77b4\",\"#aec7e8\",\"#aec7e8\",\"#aec7e8\",\"#aec7e8\",\"#aec7e8\",\"#aec7e8\",\"#aec7e8\",\"#1f77b4\",\"#aec7e8\",\"#aec7e8\",\"#ff7f0e\",\"#1f77b4\",\"#aec7e8\",\"#aec7e8\",\"#ff7f0e\",\"#aec7e8\",\"#1f77b4\",\"#1f77b4\",\"#aec7e8\",\"#ffbb78\",\"#aec7e8\",\"#ff7f0e\",\"#aec7e8\",\"#1f77b4\",\"#1f77b4\",\"#aec7e8\",\"#1f77b4\",\"#aec7e8\",\"#1f77b4\",\"#1f77b4\",\"#ffbb78\",\"#aec7e8\",\"#aec7e8\",\"#aec7e8\",\"#ff7f0e\",\"#aec7e8\",\"#aec7e8\",\"#1f77b4\",\"#1f77b4\",\"#aec7e8\",\"#1f77b4\",\"#1f77b4\",\"#aec7e8\",\"#ff7f0e\",\"#ff7f0e\",\"#1f77b4\",\"#aec7e8\",\"#1f77b4\",\"#aec7e8\",\"#1f77b4\",\"#aec7e8\",\"#1f77b4\",\"#aec7e8\",\"#aec7e8\",\"#ff7f0e\",\"#ff7f0e\",\"#aec7e8\",\"#1f77b4\",\"#ff7f0e\",\"#aec7e8\",\"#ff7f0e\",\"#ffbb78\",\"#aec7e8\",\"#1f77b4\",\"#aec7e8\",\"#aec7e8\",\"#aec7e8\",\"#aec7e8\",\"#aec7e8\",\"#aec7e8\",\"#1f77b4\",\"#aec7e8\",\"#aec7e8\",\"#1f77b4\",\"#aec7e8\",\"#aec7e8\",\"#1f77b4\",\"#1f77b4\",\"#aec7e8\",\"#aec7e8\",\"#aec7e8\",\"#aec7e8\",\"#ff7f0e\",\"#aec7e8\",\"#aec7e8\",\"#aec7e8\",\"#1f77b4\",\"#ff7f0e\",\"#1f77b4\",\"#aec7e8\",\"#1f77b4\",\"#aec7e8\",\"#aec7e8\",\"#aec7e8\",\"#aec7e8\",\"#ff7f0e\",\"#aec7e8\",\"#aec7e8\",\"#aec7e8\",\"#aec7e8\",\"#aec7e8\",\"#aec7e8\",\"#aec7e8\",\"#ff7f0e\",\"#1f77b4\",\"#aec7e8\",\"#aec7e8\",\"#aec7e8\",\"#1f77b4\",\"#aec7e8\",\"#aec7e8\",\"#aec7e8\",\"#1f77b4\",\"#aec7e8\",\"#1f77b4\",\"#aec7e8\",\"#1f77b4\",\"#aec7e8\",\"#ffbb78\",\"#1f77b4\",\"#aec7e8\",\"#1f77b4\",\"#1f77b4\",\"#aec7e8\",\"#aec7e8\",\"#1f77b4\",\"#ff7f0e\",\"#ff7f0e\",\"#aec7e8\",\"#aec7e8\",\"#ff7f0e\",\"#1f77b4\",\"#1f77b4\",\"#1f77b4\",\"#aec7e8\",\"#ff7f0e\",\"#aec7e8\",\"#ffbb78\",\"#aec7e8\",\"#aec7e8\",\"#ffbb78\",\"#aec7e8\",\"#1f77b4\",\"#1f77b4\",\"#ffbb78\",\"#aec7e8\",\"#1f77b4\",\"#ff7f0e\",\"#ff7f0e\",\"#aec7e8\",\"#1f77b4\",\"#aec7e8\",\"#aec7e8\",\"#aec7e8\",\"#1f77b4\",\"#1f77b4\",\"#aec7e8\",\"#aec7e8\",\"#aec7e8\",\"#1f77b4\",\"#aec7e8\",\"#aec7e8\",\"#aec7e8\",\"#1f77b4\",\"#aec7e8\",\"#1f77b4\",\"#aec7e8\",\"#aec7e8\",\"#aec7e8\",\"#1f77b4\",\"#aec7e8\",\"#aec7e8\",\"#aec7e8\",\"#aec7e8\",\"#aec7e8\",\"#aec7e8\",\"#aec7e8\",\"#1f77b4\",\"#aec7e8\",\"#aec7e8\",\"#ff7f0e\",\"#1f77b4\",\"#aec7e8\",\"#aec7e8\",\"#ff7f0e\",\"#aec7e8\",\"#1f77b4\",\"#1f77b4\",\"#aec7e8\",\"#ffbb78\",\"#aec7e8\",\"#ff7f0e\",\"#aec7e8\",\"#1f77b4\",\"#1f77b4\",\"#aec7e8\",\"#1f77b4\",\"#aec7e8\",\"#1f77b4\",\"#1f77b4\",\"#ffbb78\",\"#aec7e8\",\"#aec7e8\",\"#aec7e8\",\"#ff7f0e\",\"#aec7e8\",\"#aec7e8\",\"#1f77b4\",\"#1f77b4\",\"#aec7e8\",\"#1f77b4\",\"#1f77b4\",\"#aec7e8\",\"#ff7f0e\",\"#ff7f0e\",\"#1f77b4\",\"#aec7e8\",\"#1f77b4\",\"#aec7e8\",\"#1f77b4\",\"#aec7e8\",\"#1f77b4\",\"#aec7e8\",\"#aec7e8\",\"#ff7f0e\",\"#ff7f0e\",\"#aec7e8\",\"#1f77b4\",\"#ff7f0e\",\"#aec7e8\",\"#ff7f0e\",\"#ffbb78\",\"#aec7e8\",\"#1f77b4\",\"#aec7e8\",\"#aec7e8\",\"#aec7e8\",\"#aec7e8\",\"#aec7e8\",\"#aec7e8\",\"#1f77b4\",\"#aec7e8\",\"#aec7e8\",\"#1f77b4\",\"#aec7e8\",\"#aec7e8\",\"#1f77b4\",\"#1f77b4\",\"#aec7e8\",\"#aec7e8\",\"#aec7e8\",\"#aec7e8\",\"#ff7f0e\",\"#aec7e8\",\"#aec7e8\",\"#aec7e8\",\"#1f77b4\",\"#ff7f0e\",\"#1f77b4\",\"#aec7e8\",\"#1f77b4\",\"#aec7e8\",\"#aec7e8\",\"#aec7e8\",\"#aec7e8\",\"#ff7f0e\",\"#aec7e8\",\"#aec7e8\",\"#aec7e8\",\"#aec7e8\",\"#aec7e8\",\"#aec7e8\",\"#aec7e8\",\"#ff7f0e\",\"#1f77b4\",\"#aec7e8\",\"#aec7e8\",\"#aec7e8\",\"#1f77b4\",\"#aec7e8\",\"#aec7e8\",\"#aec7e8\",\"#1f77b4\",\"#aec7e8\",\"#1f77b4\",\"#aec7e8\",\"#1f77b4\",\"#aec7e8\",\"#ffbb78\",\"#1f77b4\",\"#aec7e8\",\"#1f77b4\",\"#1f77b4\",\"#aec7e8\",\"#aec7e8\",\"#1f77b4\",\"#ff7f0e\",\"#ff7f0e\",\"#aec7e8\",\"#aec7e8\",\"#ff7f0e\",\"#1f77b4\",\"#1f77b4\",\"#1f77b4\",\"#aec7e8\",\"#ff7f0e\",\"#aec7e8\",\"#ffbb78\",\"#aec7e8\",\"#aec7e8\",\"#ffbb78\",\"#aec7e8\",\"#1f77b4\",\"#1f77b4\",\"#ffbb78\",\"#aec7e8\",\"#1f77b4\",\"#ff7f0e\",\"#ff7f0e\",\"#aec7e8\",\"#1f77b4\",\"#aec7e8\",\"#aec7e8\",\"#ff7f0e\",\"#aec7e8\",\"#ffbb78\",\"#aec7e8\",\"#1f77b4\",\"#ffbb78\",\"#aec7e8\",\"#ff7f0e\",\"#ffbb78\",\"#ffbb78\",\"#ff7f0e\",\"#aec7e8\",\"#ffbb78\",\"#aec7e8\",\"#1f77b4\",\"#ffbb78\",\"#aec7e8\",\"#ff7f0e\",\"#ffbb78\",\"#ffbb78\",\"#ff7f0e\",\"#aec7e8\",\"#ffbb78\",\"#aec7e8\",\"#1f77b4\",\"#ffbb78\",\"#aec7e8\",\"#ff7f0e\",\"#ffbb78\",\"#ffbb78\",\"#aec7e8\",\"#aec7e8\",\"#aec7e8\",\"#aec7e8\",\"#aec7e8\",\"#aec7e8\",\"#aec7e8\",\"#aec7e8\",\"#aec7e8\",\"#ff7f0e\",\"#aec7e8\",\"#aec7e8\",\"#aec7e8\",\"#aec7e8\",\"#aec7e8\",\"#aec7e8\",\"#aec7e8\",\"#ff7f0e\",\"#aec7e8\",\"#aec7e8\",\"#aec7e8\",\"#aec7e8\",\"#ff7f0e\",\"#aec7e8\",\"#aec7e8\",\"#aec7e8\",\"#aec7e8\",\"#aec7e8\",\"#aec7e8\",\"#aec7e8\",\"#aec7e8\",\"#aec7e8\",\"#aec7e8\",\"#aec7e8\",\"#aec7e8\",\"#aec7e8\",\"#aec7e8\",\"#aec7e8\",\"#aec7e8\",\"#ff7f0e\",\"#aec7e8\",\"#aec7e8\",\"#aec7e8\",\"#aec7e8\",\"#aec7e8\",\"#aec7e8\",\"#aec7e8\",\"#aec7e8\",\"#aec7e8\",\"#aec7e8\",\"#aec7e8\",\"#aec7e8\",\"#aec7e8\",\"#aec7e8\",\"#aec7e8\",\"#aec7e8\",\"#aec7e8\",\"#aec7e8\",\"#aec7e8\",\"#aec7e8\",\"#aec7e8\",\"#aec7e8\",\"#aec7e8\",\"#aec7e8\",\"#aec7e8\",\"#aec7e8\",\"#aec7e8\",\"#aec7e8\",\"#aec7e8\",\"#aec7e8\",\"#aec7e8\",\"#aec7e8\",\"#aec7e8\",\"#aec7e8\",\"#aec7e8\",\"#aec7e8\",\"#aec7e8\",\"#aec7e8\",\"#aec7e8\",\"#aec7e8\",\"#aec7e8\",\"#aec7e8\",\"#aec7e8\",\"#aec7e8\",\"#ffbb78\",\"#aec7e8\",\"#aec7e8\",\"#aec7e8\",\"#aec7e8\",\"#aec7e8\",\"#aec7e8\",\"#aec7e8\",\"#aec7e8\",\"#aec7e8\",\"#aec7e8\",\"#aec7e8\",\"#aec7e8\",\"#aec7e8\",\"#aec7e8\",\"#aec7e8\",\"#aec7e8\",\"#aec7e8\",\"#aec7e8\",\"#aec7e8\",\"#aec7e8\",\"#aec7e8\",\"#aec7e8\",\"#aec7e8\",\"#aec7e8\",\"#aec7e8\",\"#aec7e8\",\"#aec7e8\",\"#aec7e8\",\"#aec7e8\",\"#aec7e8\",\"#ff7f0e\",\"#aec7e8\",\"#aec7e8\",\"#aec7e8\",\"#aec7e8\",\"#aec7e8\",\"#aec7e8\",\"#aec7e8\",\"#ff7f0e\",\"#aec7e8\",\"#aec7e8\",\"#aec7e8\",\"#aec7e8\",\"#ff7f0e\",\"#aec7e8\",\"#aec7e8\",\"#aec7e8\",\"#aec7e8\",\"#aec7e8\",\"#aec7e8\",\"#aec7e8\",\"#aec7e8\",\"#aec7e8\",\"#aec7e8\",\"#aec7e8\",\"#aec7e8\",\"#aec7e8\",\"#aec7e8\",\"#aec7e8\",\"#aec7e8\",\"#ff7f0e\",\"#aec7e8\",\"#aec7e8\",\"#aec7e8\",\"#aec7e8\",\"#aec7e8\",\"#aec7e8\",\"#aec7e8\",\"#aec7e8\",\"#aec7e8\",\"#aec7e8\",\"#aec7e8\",\"#aec7e8\",\"#aec7e8\",\"#aec7e8\",\"#aec7e8\",\"#aec7e8\",\"#aec7e8\",\"#aec7e8\",\"#aec7e8\",\"#aec7e8\",\"#aec7e8\",\"#aec7e8\",\"#aec7e8\",\"#aec7e8\",\"#aec7e8\",\"#aec7e8\",\"#aec7e8\",\"#aec7e8\",\"#aec7e8\",\"#aec7e8\",\"#aec7e8\",\"#aec7e8\",\"#aec7e8\",\"#aec7e8\",\"#aec7e8\",\"#aec7e8\",\"#aec7e8\",\"#aec7e8\",\"#aec7e8\",\"#aec7e8\",\"#aec7e8\",\"#aec7e8\",\"#aec7e8\",\"#aec7e8\",\"#ffbb78\",\"#aec7e8\",\"#aec7e8\",\"#aec7e8\",\"#aec7e8\",\"#aec7e8\",\"#aec7e8\",\"#aec7e8\",\"#aec7e8\",\"#aec7e8\",\"#aec7e8\",\"#aec7e8\",\"#aec7e8\",\"#aec7e8\",\"#aec7e8\",\"#aec7e8\",\"#aec7e8\",\"#aec7e8\",\"#aec7e8\",\"#aec7e8\",\"#aec7e8\",\"#aec7e8\",\"#aec7e8\",\"#aec7e8\",\"#aec7e8\",\"#aec7e8\",\"#aec7e8\",\"#aec7e8\",\"#aec7e8\",\"#aec7e8\",\"#aec7e8\",\"#aec7e8\",\"#aec7e8\",\"#aec7e8\",\"#aec7e8\",\"#aec7e8\",\"#aec7e8\",\"#aec7e8\",\"#aec7e8\",\"#aec7e8\",\"#aec7e8\",\"#aec7e8\",\"#aec7e8\",\"#aec7e8\",\"#aec7e8\",\"#aec7e8\",\"#aec7e8\",\"#aec7e8\",\"#aec7e8\",\"#aec7e8\",\"#aec7e8\",\"#aec7e8\",\"#aec7e8\",\"#ff7f0e\",\"#aec7e8\",\"#aec7e8\",\"#aec7e8\",\"#aec7e8\",\"#aec7e8\",\"#aec7e8\",\"#aec7e8\",\"#aec7e8\",\"#aec7e8\",\"#aec7e8\",\"#ff7f0e\",\"#aec7e8\",\"#aec7e8\",\"#aec7e8\",\"#aec7e8\",\"#aec7e8\",\"#ff7f0e\",\"#aec7e8\",\"#aec7e8\",\"#aec7e8\",\"#ff7f0e\",\"#ffbb78\",\"#ff7f0e\",\"#ff7f0e\",\"#aec7e8\",\"#aec7e8\",\"#aec7e8\",\"#aec7e8\",\"#aec7e8\",\"#aec7e8\",\"#ff7f0e\",\"#aec7e8\",\"#aec7e8\",\"#aec7e8\",\"#aec7e8\",\"#aec7e8\",\"#aec7e8\",\"#aec7e8\",\"#ff7f0e\",\"#aec7e8\",\"#aec7e8\",\"#aec7e8\",\"#aec7e8\",\"#aec7e8\",\"#aec7e8\",\"#aec7e8\",\"#aec7e8\",\"#aec7e8\",\"#aec7e8\",\"#ff7f0e\",\"#aec7e8\",\"#aec7e8\",\"#aec7e8\",\"#aec7e8\",\"#1f77b4\",\"#1f77b4\",\"#ffbb78\",\"#aec7e8\",\"#aec7e8\",\"#1f77b4\",\"#1f77b4\",\"#ffbb78\",\"#aec7e8\",\"#aec7e8\",\"#1f77b4\",\"#1f77b4\",\"#ffbb78\",\"#aec7e8\",\"#aec7e8\",\"#aec7e8\",\"#aec7e8\",\"#aec7e8\",\"#aec7e8\",\"#aec7e8\",\"#aec7e8\",\"#ffbb78\",\"#aec7e8\",\"#aec7e8\",\"#aec7e8\",\"#aec7e8\",\"#ffbb78\",\"#aec7e8\",\"#aec7e8\",\"#aec7e8\",\"#aec7e8\",\"#ffbb78\",\"#aec7e8\",\"#ffbb78\",\"#aec7e8\",\"#ffbb78\",\"#aec7e8\",\"#aec7e8\",\"#aec7e8\",\"#aec7e8\",\"#aec7e8\",\"#aec7e8\",\"#aec7e8\",\"#aec7e8\",\"#aec7e8\",\"#aec7e8\",\"#aec7e8\",\"#aec7e8\",\"#aec7e8\",\"#aec7e8\",\"#aec7e8\",\"#aec7e8\",\"#aec7e8\",\"#aec7e8\",\"#aec7e8\",\"#aec7e8\",\"#aec7e8\",\"#aec7e8\",\"#aec7e8\",\"#aec7e8\",\"#aec7e8\",\"#aec7e8\",\"#aec7e8\",\"#aec7e8\",\"#aec7e8\",\"#aec7e8\",\"#aec7e8\",\"#aec7e8\",\"#aec7e8\",\"#aec7e8\",\"#ff7f0e\",\"#aec7e8\",\"#aec7e8\",\"#aec7e8\",\"#1f77b4\",\"#aec7e8\",\"#1f77b4\",\"#1f77b4\",\"#aec7e8\",\"#aec7e8\",\"#1f77b4\",\"#aec7e8\",\"#1f77b4\",\"#1f77b4\",\"#aec7e8\",\"#aec7e8\",\"#1f77b4\",\"#aec7e8\",\"#1f77b4\",\"#1f77b4\",\"#aec7e8\",\"#aec7e8\",\"#1f77b4\",\"#aec7e8\",\"#1f77b4\",\"#1f77b4\",\"#aec7e8\",\"#aec7e8\",\"#1f77b4\",\"#aec7e8\",\"#1f77b4\",\"#1f77b4\",\"#aec7e8\",\"#aec7e8\",\"#aec7e8\",\"#aec7e8\",\"#aec7e8\",\"#aec7e8\",\"#aec7e8\",\"#aec7e8\",\"#aec7e8\",\"#aec7e8\",\"#aec7e8\",\"#aec7e8\",\"#aec7e8\",\"#aec7e8\",\"#aec7e8\",\"#aec7e8\",\"#aec7e8\",\"#aec7e8\",\"#aec7e8\",\"#aec7e8\",\"#aec7e8\",\"#aec7e8\",\"#aec7e8\",\"#aec7e8\",\"#aec7e8\",\"#aec7e8\",\"#aec7e8\",\"#aec7e8\",\"#aec7e8\",\"#aec7e8\",\"#aec7e8\",\"#aec7e8\",\"#aec7e8\",\"#aec7e8\",\"#aec7e8\",\"#aec7e8\",\"#aec7e8\",\"#aec7e8\",\"#aec7e8\",\"#aec7e8\",\"#aec7e8\",\"#aec7e8\",\"#aec7e8\",\"#aec7e8\",\"#aec7e8\",\"#aec7e8\",\"#aec7e8\",\"#aec7e8\",\"#aec7e8\",\"#ff7f0e\",\"#aec7e8\",\"#aec7e8\",\"#aec7e8\",\"#aec7e8\",\"#aec7e8\",\"#aec7e8\",\"#aec7e8\",\"#aec7e8\",\"#aec7e8\",\"#aec7e8\",\"#aec7e8\",\"#aec7e8\",\"#aec7e8\",\"#aec7e8\",\"#aec7e8\",\"#aec7e8\",\"#aec7e8\",\"#aec7e8\",\"#aec7e8\",\"#aec7e8\",\"#aec7e8\",\"#aec7e8\",\"#aec7e8\",\"#aec7e8\",\"#aec7e8\",\"#aec7e8\",\"#aec7e8\",\"#aec7e8\",\"#aec7e8\",\"#aec7e8\",\"#aec7e8\",\"#ff7f0e\",\"#aec7e8\",\"#aec7e8\",\"#aec7e8\",\"#aec7e8\",\"#aec7e8\",\"#aec7e8\",\"#aec7e8\",\"#aec7e8\",\"#aec7e8\",\"#aec7e8\",\"#aec7e8\",\"#aec7e8\",\"#aec7e8\",\"#aec7e8\",\"#aec7e8\",\"#aec7e8\",\"#aec7e8\",\"#aec7e8\",\"#aec7e8\",\"#aec7e8\",\"#aec7e8\",\"#aec7e8\",\"#ff7f0e\",\"#aec7e8\",\"#aec7e8\",\"#aec7e8\",\"#aec7e8\",\"#aec7e8\",\"#aec7e8\",\"#aec7e8\",\"#aec7e8\",\"#aec7e8\",\"#aec7e8\",\"#aec7e8\",\"#aec7e8\",\"#aec7e8\",\"#aec7e8\",\"#aec7e8\",\"#aec7e8\",\"#aec7e8\",\"#aec7e8\",\"#aec7e8\",\"#aec7e8\",\"#aec7e8\",\"#aec7e8\",\"#aec7e8\",\"#aec7e8\",\"#aec7e8\",\"#aec7e8\",\"#aec7e8\",\"#aec7e8\",\"#aec7e8\",\"#aec7e8\",\"#aec7e8\",\"#ff7f0e\",\"#aec7e8\",\"#aec7e8\",\"#aec7e8\",\"#aec7e8\",\"#aec7e8\",\"#aec7e8\",\"#aec7e8\",\"#aec7e8\",\"#aec7e8\",\"#aec7e8\",\"#aec7e8\",\"#aec7e8\",\"#aec7e8\",\"#aec7e8\",\"#aec7e8\",\"#aec7e8\",\"#aec7e8\",\"#aec7e8\",\"#aec7e8\",\"#aec7e8\",\"#aec7e8\",\"#ff7f0e\",\"#aec7e8\",\"#aec7e8\",\"#aec7e8\",\"#aec7e8\",\"#ff7f0e\",\"#ff7f0e\",\"#aec7e8\",\"#aec7e8\",\"#aec7e8\",\"#aec7e8\",\"#ff7f0e\",\"#ff7f0e\",\"#aec7e8\",\"#aec7e8\",\"#aec7e8\",\"#aec7e8\",\"#ff7f0e\",\"#aec7e8\",\"#aec7e8\",\"#aec7e8\",\"#aec7e8\",\"#aec7e8\",\"#aec7e8\",\"#aec7e8\",\"#aec7e8\",\"#aec7e8\",\"#aec7e8\",\"#aec7e8\",\"#aec7e8\",\"#aec7e8\",\"#aec7e8\",\"#aec7e8\",\"#aec7e8\",\"#aec7e8\",\"#aec7e8\",\"#ffbb78\",\"#aec7e8\",\"#aec7e8\",\"#aec7e8\",\"#aec7e8\",\"#aec7e8\",\"#aec7e8\",\"#aec7e8\",\"#aec7e8\",\"#aec7e8\",\"#aec7e8\",\"#aec7e8\",\"#aec7e8\",\"#aec7e8\",\"#aec7e8\",\"#aec7e8\",\"#aec7e8\",\"#aec7e8\",\"#aec7e8\",\"#aec7e8\",\"#aec7e8\",\"#aec7e8\",\"#aec7e8\",\"#aec7e8\",\"#aec7e8\",\"#aec7e8\",\"#aec7e8\",\"#aec7e8\",\"#aec7e8\",\"#aec7e8\",\"#aec7e8\",\"#aec7e8\",\"#aec7e8\",\"#aec7e8\",\"#aec7e8\",\"#aec7e8\",\"#aec7e8\",\"#aec7e8\",\"#aec7e8\",\"#aec7e8\",\"#aec7e8\",\"#aec7e8\",\"#aec7e8\",\"#aec7e8\",\"#aec7e8\",\"#aec7e8\",\"#aec7e8\",\"#aec7e8\",\"#aec7e8\",\"#aec7e8\",\"#aec7e8\",\"#aec7e8\",\"#aec7e8\",\"#aec7e8\",\"#aec7e8\",\"#aec7e8\",\"#aec7e8\",\"#aec7e8\",\"#aec7e8\",\"#aec7e8\",\"#aec7e8\",\"#ff7f0e\",\"#aec7e8\",\"#aec7e8\",\"#aec7e8\",\"#aec7e8\",\"#aec7e8\",\"#aec7e8\",\"#aec7e8\",\"#aec7e8\",\"#aec7e8\",\"#aec7e8\",\"#aec7e8\",\"#aec7e8\",\"#aec7e8\",\"#aec7e8\",\"#aec7e8\",\"#aec7e8\",\"#aec7e8\",\"#aec7e8\",\"#ff7f0e\",\"#aec7e8\",\"#ff7f0e\",\"#aec7e8\",\"#aec7e8\",\"#aec7e8\",\"#aec7e8\",\"#aec7e8\",\"#aec7e8\",\"#aec7e8\",\"#aec7e8\",\"#aec7e8\",\"#aec7e8\",\"#aec7e8\",\"#aec7e8\",\"#aec7e8\",\"#aec7e8\",\"#aec7e8\",\"#aec7e8\",\"#aec7e8\",\"#aec7e8\",\"#aec7e8\",\"#aec7e8\",\"#aec7e8\",\"#aec7e8\",\"#aec7e8\",\"#aec7e8\",\"#aec7e8\",\"#aec7e8\",\"#aec7e8\",\"#aec7e8\",\"#aec7e8\",\"#aec7e8\",\"#aec7e8\",\"#aec7e8\",\"#aec7e8\",\"#aec7e8\",\"#aec7e8\",\"#aec7e8\",\"#aec7e8\",\"#aec7e8\",\"#aec7e8\",\"#aec7e8\",\"#aec7e8\",\"#aec7e8\",\"#aec7e8\",\"#aec7e8\",\"#aec7e8\",\"#aec7e8\",\"#aec7e8\",\"#aec7e8\",\"#aec7e8\",\"#aec7e8\",\"#aec7e8\",\"#aec7e8\",\"#aec7e8\",\"#ff7f0e\",\"#ff7f0e\",\"#aec7e8\",\"#aec7e8\",\"#aec7e8\",\"#aec7e8\",\"#aec7e8\",\"#aec7e8\",\"#aec7e8\",\"#aec7e8\",\"#aec7e8\",\"#aec7e8\",\"#aec7e8\",\"#aec7e8\",\"#aec7e8\",\"#aec7e8\",\"#aec7e8\",\"#aec7e8\",\"#aec7e8\",\"#aec7e8\",\"#aec7e8\",\"#aec7e8\",\"#aec7e8\",\"#aec7e8\",\"#aec7e8\",\"#aec7e8\",\"#aec7e8\",\"#aec7e8\",\"#aec7e8\",\"#aec7e8\",\"#aec7e8\",\"#aec7e8\",\"#aec7e8\",\"#aec7e8\",\"#aec7e8\",\"#aec7e8\",\"#aec7e8\",\"#aec7e8\",\"#aec7e8\",\"#aec7e8\",\"#aec7e8\",\"#aec7e8\",\"#aec7e8\",\"#aec7e8\",\"#aec7e8\",\"#aec7e8\",\"#aec7e8\",\"#aec7e8\",\"#aec7e8\",\"#aec7e8\",\"#aec7e8\",\"#aec7e8\",\"#aec7e8\",\"#aec7e8\",\"#aec7e8\",\"#aec7e8\",\"#aec7e8\",\"#aec7e8\",\"#aec7e8\",\"#aec7e8\",\"#aec7e8\",\"#aec7e8\",\"#aec7e8\",\"#aec7e8\",\"#aec7e8\",\"#aec7e8\",\"#aec7e8\",\"#aec7e8\",\"#aec7e8\",\"#aec7e8\",\"#aec7e8\",\"#aec7e8\",\"#aec7e8\",\"#aec7e8\",\"#aec7e8\",\"#aec7e8\",\"#aec7e8\",\"#aec7e8\",\"#aec7e8\",\"#aec7e8\",\"#aec7e8\",\"#aec7e8\",\"#aec7e8\",\"#aec7e8\",\"#aec7e8\",\"#aec7e8\",\"#aec7e8\",\"#aec7e8\",\"#aec7e8\",\"#aec7e8\",\"#aec7e8\",\"#aec7e8\",\"#aec7e8\",\"#aec7e8\",\"#aec7e8\",\"#aec7e8\",\"#aec7e8\",\"#aec7e8\",\"#aec7e8\",\"#aec7e8\",\"#aec7e8\",\"#ff7f0e\",\"#aec7e8\",\"#aec7e8\",\"#aec7e8\",\"#aec7e8\",\"#aec7e8\",\"#aec7e8\",\"#aec7e8\",\"#aec7e8\",\"#aec7e8\",\"#aec7e8\",\"#aec7e8\",\"#aec7e8\",\"#aec7e8\",\"#aec7e8\",\"#aec7e8\",\"#aec7e8\",\"#aec7e8\",\"#aec7e8\",\"#ff7f0e\",\"#aec7e8\",\"#ff7f0e\",\"#aec7e8\",\"#aec7e8\",\"#aec7e8\",\"#aec7e8\",\"#aec7e8\",\"#aec7e8\",\"#aec7e8\",\"#aec7e8\",\"#aec7e8\",\"#aec7e8\",\"#aec7e8\",\"#aec7e8\",\"#aec7e8\",\"#aec7e8\",\"#aec7e8\",\"#aec7e8\",\"#aec7e8\",\"#aec7e8\",\"#aec7e8\",\"#aec7e8\",\"#aec7e8\",\"#aec7e8\",\"#aec7e8\",\"#aec7e8\",\"#aec7e8\",\"#aec7e8\",\"#aec7e8\",\"#aec7e8\",\"#aec7e8\",\"#aec7e8\",\"#aec7e8\",\"#aec7e8\",\"#aec7e8\",\"#aec7e8\",\"#aec7e8\",\"#aec7e8\",\"#aec7e8\",\"#aec7e8\",\"#aec7e8\",\"#aec7e8\",\"#aec7e8\",\"#aec7e8\",\"#aec7e8\",\"#aec7e8\",\"#aec7e8\",\"#aec7e8\",\"#aec7e8\",\"#aec7e8\",\"#aec7e8\",\"#aec7e8\",\"#aec7e8\",\"#aec7e8\",\"#aec7e8\",\"#ff7f0e\",\"#ff7f0e\",\"#aec7e8\",\"#aec7e8\",\"#aec7e8\",\"#aec7e8\",\"#aec7e8\",\"#aec7e8\",\"#aec7e8\",\"#aec7e8\",\"#aec7e8\",\"#aec7e8\",\"#aec7e8\",\"#aec7e8\",\"#aec7e8\",\"#aec7e8\",\"#aec7e8\",\"#aec7e8\",\"#aec7e8\",\"#aec7e8\",\"#aec7e8\",\"#aec7e8\",\"#aec7e8\",\"#aec7e8\",\"#aec7e8\",\"#aec7e8\",\"#aec7e8\",\"#aec7e8\",\"#aec7e8\",\"#aec7e8\",\"#aec7e8\",\"#aec7e8\",\"#aec7e8\",\"#aec7e8\",\"#aec7e8\",\"#aec7e8\",\"#aec7e8\",\"#aec7e8\",\"#aec7e8\",\"#aec7e8\",\"#aec7e8\",\"#aec7e8\",\"#aec7e8\",\"#aec7e8\",\"#aec7e8\",\"#aec7e8\",\"#aec7e8\",\"#aec7e8\",\"#aec7e8\",\"#aec7e8\",\"#aec7e8\",\"#aec7e8\",\"#aec7e8\",\"#aec7e8\",\"#aec7e8\",\"#aec7e8\",\"#aec7e8\",\"#aec7e8\",\"#aec7e8\",\"#aec7e8\",\"#aec7e8\",\"#aec7e8\",\"#aec7e8\",\"#aec7e8\",\"#aec7e8\",\"#aec7e8\",\"#aec7e8\",\"#aec7e8\",\"#aec7e8\",\"#aec7e8\",\"#aec7e8\",\"#aec7e8\",\"#aec7e8\",\"#aec7e8\",\"#ff7f0e\",\"#aec7e8\",\"#aec7e8\",\"#aec7e8\",\"#aec7e8\",\"#aec7e8\",\"#aec7e8\",\"#aec7e8\",\"#aec7e8\",\"#ff7f0e\",\"#aec7e8\",\"#aec7e8\",\"#aec7e8\",\"#aec7e8\",\"#aec7e8\",\"#aec7e8\",\"#aec7e8\",\"#aec7e8\",\"#aec7e8\",\"#aec7e8\",\"#aec7e8\",\"#aec7e8\",\"#aec7e8\",\"#aec7e8\",\"#aec7e8\",\"#aec7e8\",\"#aec7e8\",\"#aec7e8\",\"#aec7e8\",\"#aec7e8\",\"#aec7e8\",\"#aec7e8\",\"#aec7e8\",\"#aec7e8\",\"#aec7e8\",\"#aec7e8\",\"#aec7e8\",\"#aec7e8\",\"#aec7e8\",\"#aec7e8\",\"#aec7e8\",\"#aec7e8\",\"#aec7e8\",\"#aec7e8\",\"#ff7f0e\",\"#aec7e8\",\"#aec7e8\",\"#aec7e8\",\"#aec7e8\",\"#aec7e8\",\"#ff7f0e\",\"#aec7e8\",\"#aec7e8\",\"#aec7e8\",\"#aec7e8\",\"#aec7e8\",\"#aec7e8\",\"#aec7e8\",\"#aec7e8\",\"#aec7e8\",\"#aec7e8\",\"#aec7e8\",\"#aec7e8\",\"#aec7e8\",\"#aec7e8\",\"#aec7e8\",\"#aec7e8\",\"#aec7e8\",\"#aec7e8\",\"#aec7e8\",\"#aec7e8\",\"#aec7e8\",\"#aec7e8\",\"#aec7e8\",\"#aec7e8\",\"#aec7e8\",\"#aec7e8\",\"#aec7e8\",\"#aec7e8\",\"#aec7e8\",\"#aec7e8\",\"#aec7e8\",\"#aec7e8\",\"#aec7e8\",\"#aec7e8\",\"#aec7e8\",\"#aec7e8\",\"#aec7e8\",\"#aec7e8\",\"#aec7e8\",\"#aec7e8\",\"#aec7e8\",\"#aec7e8\",\"#aec7e8\",\"#aec7e8\",\"#aec7e8\",\"#aec7e8\",\"#aec7e8\",\"#aec7e8\",\"#aec7e8\",\"#aec7e8\",\"#aec7e8\",\"#aec7e8\",\"#aec7e8\",\"#aec7e8\",\"#aec7e8\",\"#aec7e8\",\"#ff7f0e\",\"#aec7e8\",\"#aec7e8\",\"#aec7e8\",\"#aec7e8\",\"#aec7e8\",\"#aec7e8\",\"#aec7e8\",\"#aec7e8\",\"#aec7e8\",\"#aec7e8\",\"#aec7e8\",\"#aec7e8\",\"#aec7e8\",\"#aec7e8\",\"#aec7e8\",\"#aec7e8\",\"#aec7e8\",\"#aec7e8\",\"#aec7e8\",\"#aec7e8\",\"#aec7e8\",\"#aec7e8\",\"#aec7e8\",\"#aec7e8\",\"#aec7e8\",\"#aec7e8\",\"#aec7e8\",\"#aec7e8\",\"#aec7e8\",\"#aec7e8\",\"#aec7e8\",\"#aec7e8\",\"#aec7e8\",\"#aec7e8\",\"#aec7e8\",\"#ff7f0e\",\"#aec7e8\",\"#aec7e8\",\"#aec7e8\",\"#aec7e8\",\"#aec7e8\",\"#aec7e8\",\"#aec7e8\",\"#aec7e8\",\"#aec7e8\",\"#aec7e8\",\"#aec7e8\",\"#aec7e8\",\"#aec7e8\",\"#aec7e8\",\"#aec7e8\",\"#aec7e8\",\"#aec7e8\",\"#aec7e8\",\"#aec7e8\",\"#ff7f0e\",\"#aec7e8\",\"#aec7e8\",\"#aec7e8\",\"#aec7e8\",\"#aec7e8\",\"#aec7e8\",\"#aec7e8\",\"#aec7e8\",\"#ff7f0e\",\"#aec7e8\",\"#aec7e8\",\"#aec7e8\",\"#aec7e8\",\"#aec7e8\",\"#aec7e8\",\"#aec7e8\",\"#aec7e8\",\"#aec7e8\",\"#ff7f0e\",\"#ff7f0e\",\"#aec7e8\",\"#aec7e8\",\"#aec7e8\",\"#aec7e8\",\"#aec7e8\",\"#ff7f0e\",\"#aec7e8\",\"#aec7e8\",\"#aec7e8\",\"#aec7e8\",\"#aec7e8\",\"#aec7e8\",\"#aec7e8\",\"#aec7e8\",\"#aec7e8\",\"#aec7e8\",\"#aec7e8\",\"#aec7e8\",\"#aec7e8\",\"#aec7e8\",\"#aec7e8\",\"#ff7f0e\",\"#aec7e8\",\"#aec7e8\",\"#aec7e8\",\"#aec7e8\",\"#aec7e8\",\"#aec7e8\",\"#aec7e8\",\"#aec7e8\",\"#aec7e8\",\"#aec7e8\",\"#aec7e8\",\"#aec7e8\",\"#aec7e8\",\"#aec7e8\",\"#aec7e8\",\"#aec7e8\",\"#aec7e8\",\"#aec7e8\",\"#aec7e8\",\"#aec7e8\",\"#aec7e8\",\"#aec7e8\",\"#aec7e8\",\"#aec7e8\",\"#aec7e8\",\"#aec7e8\",\"#aec7e8\",\"#aec7e8\",\"#aec7e8\",\"#aec7e8\",\"#ff7f0e\",\"#aec7e8\",\"#aec7e8\",\"#aec7e8\",\"#aec7e8\",\"#aec7e8\",\"#aec7e8\",\"#aec7e8\",\"#aec7e8\",\"#ff7f0e\",\"#aec7e8\",\"#aec7e8\",\"#aec7e8\",\"#aec7e8\",\"#aec7e8\",\"#aec7e8\",\"#aec7e8\",\"#aec7e8\",\"#aec7e8\",\"#aec7e8\",\"#aec7e8\",\"#aec7e8\",\"#aec7e8\",\"#aec7e8\",\"#aec7e8\",\"#aec7e8\",\"#aec7e8\",\"#aec7e8\",\"#aec7e8\",\"#aec7e8\",\"#aec7e8\",\"#aec7e8\",\"#aec7e8\",\"#aec7e8\",\"#aec7e8\",\"#aec7e8\",\"#aec7e8\",\"#aec7e8\",\"#aec7e8\",\"#aec7e8\",\"#aec7e8\",\"#aec7e8\",\"#aec7e8\",\"#aec7e8\",\"#ff7f0e\",\"#aec7e8\",\"#aec7e8\",\"#aec7e8\",\"#aec7e8\",\"#aec7e8\",\"#ff7f0e\",\"#aec7e8\",\"#aec7e8\",\"#aec7e8\",\"#aec7e8\",\"#aec7e8\",\"#aec7e8\",\"#aec7e8\",\"#aec7e8\",\"#aec7e8\",\"#aec7e8\",\"#aec7e8\",\"#aec7e8\",\"#aec7e8\",\"#aec7e8\",\"#aec7e8\",\"#aec7e8\",\"#aec7e8\",\"#aec7e8\",\"#aec7e8\",\"#aec7e8\",\"#aec7e8\",\"#aec7e8\",\"#aec7e8\",\"#aec7e8\",\"#aec7e8\",\"#aec7e8\",\"#aec7e8\",\"#aec7e8\",\"#aec7e8\",\"#aec7e8\",\"#aec7e8\",\"#aec7e8\",\"#aec7e8\",\"#aec7e8\",\"#aec7e8\",\"#aec7e8\",\"#aec7e8\",\"#aec7e8\",\"#aec7e8\",\"#aec7e8\",\"#aec7e8\",\"#aec7e8\",\"#aec7e8\",\"#aec7e8\",\"#aec7e8\",\"#aec7e8\",\"#aec7e8\",\"#aec7e8\",\"#aec7e8\",\"#aec7e8\",\"#aec7e8\",\"#aec7e8\",\"#aec7e8\",\"#aec7e8\",\"#aec7e8\",\"#aec7e8\",\"#ff7f0e\",\"#aec7e8\",\"#aec7e8\",\"#aec7e8\",\"#aec7e8\",\"#aec7e8\",\"#aec7e8\",\"#aec7e8\",\"#aec7e8\",\"#aec7e8\",\"#aec7e8\",\"#aec7e8\",\"#aec7e8\",\"#aec7e8\",\"#aec7e8\",\"#aec7e8\",\"#aec7e8\",\"#aec7e8\",\"#aec7e8\",\"#aec7e8\",\"#aec7e8\",\"#aec7e8\",\"#aec7e8\",\"#aec7e8\",\"#aec7e8\",\"#aec7e8\",\"#aec7e8\",\"#aec7e8\",\"#aec7e8\",\"#aec7e8\",\"#aec7e8\",\"#aec7e8\",\"#aec7e8\",\"#aec7e8\",\"#aec7e8\",\"#aec7e8\",\"#ff7f0e\",\"#aec7e8\",\"#aec7e8\",\"#aec7e8\",\"#aec7e8\",\"#aec7e8\",\"#aec7e8\",\"#aec7e8\",\"#aec7e8\",\"#aec7e8\",\"#aec7e8\",\"#aec7e8\",\"#aec7e8\",\"#aec7e8\",\"#aec7e8\",\"#aec7e8\",\"#aec7e8\",\"#aec7e8\",\"#aec7e8\",\"#aec7e8\",\"#ff7f0e\",\"#aec7e8\",\"#aec7e8\",\"#aec7e8\",\"#aec7e8\",\"#aec7e8\",\"#aec7e8\",\"#aec7e8\",\"#aec7e8\",\"#ff7f0e\",\"#aec7e8\",\"#aec7e8\",\"#aec7e8\",\"#aec7e8\",\"#aec7e8\",\"#aec7e8\",\"#aec7e8\",\"#aec7e8\",\"#aec7e8\",\"#ff7f0e\",\"#ff7f0e\",\"#aec7e8\",\"#aec7e8\",\"#aec7e8\",\"#aec7e8\",\"#aec7e8\",\"#ff7f0e\",\"#aec7e8\",\"#aec7e8\",\"#aec7e8\",\"#aec7e8\",\"#aec7e8\",\"#aec7e8\",\"#aec7e8\",\"#aec7e8\",\"#aec7e8\",\"#aec7e8\",\"#aec7e8\",\"#aec7e8\",\"#aec7e8\",\"#aec7e8\",\"#aec7e8\",\"#ff7f0e\",\"#aec7e8\",\"#aec7e8\",\"#aec7e8\",\"#aec7e8\",\"#aec7e8\",\"#aec7e8\",\"#aec7e8\",\"#aec7e8\",\"#aec7e8\",\"#ff7f0e\",\"#ff7f0e\",\"#aec7e8\",\"#aec7e8\",\"#aec7e8\",\"#aec7e8\",\"#aec7e8\",\"#aec7e8\",\"#aec7e8\",\"#aec7e8\",\"#aec7e8\",\"#aec7e8\",\"#aec7e8\",\"#aec7e8\",\"#aec7e8\",\"#aec7e8\",\"#aec7e8\",\"#ffbb78\",\"#aec7e8\",\"#aec7e8\",\"#ff7f0e\",\"#aec7e8\",\"#ff7f0e\",\"#ff7f0e\",\"#ffbb78\",\"#ff7f0e\",\"#ffbb78\",\"#ffbb78\",\"#ffbb78\",\"#aec7e8\",\"#ff7f0e\",\"#ff7f0e\",\"#aec7e8\",\"#ff7f0e\",\"#aec7e8\",\"#ff7f0e\",\"#ff7f0e\",\"#ffbb78\",\"#aec7e8\",\"#aec7e8\",\"#aec7e8\",\"#ff7f0e\",\"#ffbb78\",\"#aec7e8\",\"#ffbb78\",\"#ff7f0e\",\"#aec7e8\",\"#aec7e8\",\"#aec7e8\",\"#ff7f0e\",\"#aec7e8\",\"#aec7e8\",\"#ffbb78\",\"#aec7e8\",\"#ffbb78\",\"#aec7e8\",\"#aec7e8\",\"#ffbb78\",\"#aec7e8\",\"#aec7e8\",\"#ffbb78\",\"#aec7e8\",\"#aec7e8\",\"#aec7e8\",\"#aec7e8\",\"#aec7e8\",\"#aec7e8\",\"#aec7e8\",\"#aec7e8\",\"#aec7e8\",\"#aec7e8\",\"#aec7e8\",\"#aec7e8\",\"#aec7e8\",\"#aec7e8\",\"#ffbb78\"],\"x\":{\"__ndarray__\":\"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\",\"dtype\":\"float64\",\"order\":\"little\",\"shape\":[4284]},\"y\":{\"__ndarray__\":\"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\",\"dtype\":\"float64\",\"order\":\"little\",\"shape\":[4284]}},\"selected\":{\"id\":\"7054\"},\"selection_policy\":{\"id\":\"7053\"}},\"id\":\"6783\",\"type\":\"ColumnDataSource\"},{\"attributes\":{},\"id\":\"6772\",\"type\":\"SaveTool\"},{\"attributes\":{\"active_multi\":null,\"tools\":[{\"id\":\"6769\"},{\"id\":\"6770\"},{\"id\":\"6771\"},{\"id\":\"6772\"},{\"id\":\"6773\"},{\"id\":\"6774\"}]},\"id\":\"6776\",\"type\":\"Toolbar\"},{\"attributes\":{},\"id\":\"7047\",\"type\":\"BasicTickFormatter\"},{\"attributes\":{},\"id\":\"7051\",\"type\":\"AllLabels\"},{\"attributes\":{},\"id\":\"7053\",\"type\":\"UnionRenderers\"},{\"attributes\":{},\"id\":\"7054\",\"type\":\"Selection\"},{\"attributes\":{\"source\":{\"id\":\"6783\"}},\"id\":\"6787\",\"type\":\"CDSView\"},{\"attributes\":{},\"id\":\"7050\",\"type\":\"BasicTickFormatter\"},{\"attributes\":{},\"id\":\"6773\",\"type\":\"ResetTool\"},{\"attributes\":{},\"id\":\"6753\",\"type\":\"DataRange1d\"},{\"attributes\":{\"axis\":{\"id\":\"6765\"},\"dimension\":1,\"ticker\":null},\"id\":\"6768\",\"type\":\"Grid\"},{\"attributes\":{},\"id\":\"6755\",\"type\":\"DataRange1d\"},{\"attributes\":{\"fill_alpha\":{\"value\":0.1},\"fill_color\":{\"field\":\"fill_color\"},\"line_alpha\":{\"value\":0.1},\"line_color\":{\"field\":\"line_color\"},\"size\":{\"value\":10},\"x\":{\"field\":\"x\"},\"y\":{\"field\":\"y\"}},\"id\":\"6785\",\"type\":\"Circle\"},{\"attributes\":{},\"id\":\"6766\",\"type\":\"BasicTicker\"},{\"attributes\":{\"formatter\":{\"id\":\"7047\"},\"major_label_policy\":{\"id\":\"7048\"},\"ticker\":{\"id\":\"6762\"}},\"id\":\"6761\",\"type\":\"LinearAxis\"},{\"attributes\":{},\"id\":\"7048\",\"type\":\"AllLabels\"},{\"attributes\":{},\"id\":\"6757\",\"type\":\"LinearScale\"},{\"attributes\":{\"text\":\"doc clustering\"},\"id\":\"6751\",\"type\":\"Title\"},{\"attributes\":{\"overlay\":{\"id\":\"6775\"}},\"id\":\"6771\",\"type\":\"BoxZoomTool\"}],\"root_ids\":[\"6750\"]},\"title\":\"Bokeh Application\",\"version\":\"2.3.3\"}};\n",
              "  var render_items = [{\"docid\":\"d10429d6-67e2-4773-9c4d-251d85845cfc\",\"root_ids\":[\"6750\"],\"roots\":{\"6750\":\"12b8c0da-8a5a-4ec5-bb2d-391e7cf34c4f\"}}];\n",
              "  root.Bokeh.embed.embed_items_notebook(docs_json, render_items);\n",
              "\n",
              "  }\n",
              "  if (root.Bokeh !== undefined) {\n",
              "    embed_document(root);\n",
              "  } else {\n",
              "    var attempts = 0;\n",
              "    var timer = setInterval(function(root) {\n",
              "      if (root.Bokeh !== undefined) {\n",
              "        clearInterval(timer);\n",
              "        embed_document(root);\n",
              "      } else {\n",
              "        attempts++;\n",
              "        if (attempts > 100) {\n",
              "          clearInterval(timer);\n",
              "          console.log(\"Bokeh: ERROR: Unable to run BokehJS code because BokehJS library is missing\");\n",
              "        }\n",
              "      }\n",
              "    }, 10, root)\n",
              "  }\n",
              "})(window);"
            ],
            "application/vnd.bokehjs_exec.v0+json": ""
          },
          "metadata": {
            "application/vnd.bokehjs_exec.v0+json": {
              "id": "6750"
            }
          }
        }
      ]
    },
    {
      "cell_type": "markdown",
      "source": [
        "### Plot by clustering"
      ],
      "metadata": {
        "id": "HVR_fl69j1N8"
      },
      "id": "HVR_fl69j1N8"
    },
    {
      "cell_type": "code",
      "source": [
        "from collections import defaultdict, Counter\n",
        "cdict = defaultdict(Counter)\n",
        "for k, v in zip(filter_df['cluster'], filter_df['tokenized']):\n",
        "    for word in v:\n",
        "        cdict[k][word] += 1\n",
        "for c in cdict:\n",
        "    print(cdict[c].most_common(20))\n",
        "    print(\"-\"*80)"
      ],
      "metadata": {
        "colab": {
          "base_uri": "https://localhost:8080/"
        },
        "id": "84eLDghMj-Tk",
        "outputId": "3fa6bfe8-f272-4828-b5e0-05d3fc67db8e"
      },
      "id": "84eLDghMj-Tk",
      "execution_count": null,
      "outputs": [
        {
          "output_type": "stream",
          "name": "stdout",
          "text": [
            "[('台湾', 582), ('香港', 84), ('会', 48), ('真的', 44), ('说', 38), ('一个', 33), ('台湾人', 31), ('节目', 30), ('\\r\\n', 30), ('没', 29), ('中国', 28), ('更', 27), ('运气', 27), ('总统', 26), ('没有', 24), ('加油', 24), ('不会', 24), ('讲', 22), ('US', 21), ('现在', 20)]\n",
            "--------------------------------------------------------------------------------\n",
            "[('说', 362), ('会', 328), ('真的', 266), ('没有', 258), ('没', 214), ('节目', 198), ('不要', 196), ('知道', 182), ('医师', 179), ('一个', 166), ('做', 163), ('一直', 143), ('黄', 137), ('觉得', 126), ('现在', 124), ('⋯', 119), ('讲', 119), ('应该', 117), ('女人', 117), ('想', 116)]\n",
            "--------------------------------------------------------------------------------\n",
            "[('中国', 275), ('香港', 92), ('台湾', 57), ('说', 49), ('会', 34), ('一个', 33), ('买', 32), ('做', 27), ('想', 27), ('国家', 24), ('\\xa0', 24), ('觉得', 23), ('美国', 21), ('知道', 20), ('现在', 20), ('很多', 19), ('爱', 19), ('问题', 18), ('自由', 18), ('媒体', 17)]\n",
            "--------------------------------------------------------------------------------\n",
            "[('香港', 734), ('加油', 66), ('现在', 63), ('没有', 61), ('问题', 46), ('大陆', 41), ('台湾', 39), ('一个', 39), ('住', 38), ('说', 37), ('警察', 37), ('没', 37), ('年轻人', 36), ('中国', 33), ('生活', 33), ('不要', 32), ('台湾人', 30), ('房子', 30), ('做', 30), ('政府', 29)]\n",
            "--------------------------------------------------------------------------------\n"
          ]
        }
      ]
    },
    {
      "cell_type": "code",
      "source": [
        "df1 = pd.DataFrame(list(cdict[0].most_common(5)), columns = ['word', 'n'])\n",
        "df1"
      ],
      "metadata": {
        "colab": {
          "base_uri": "https://localhost:8080/",
          "height": 206
        },
        "id": "Dw8HIen6lU_Z",
        "outputId": "aae12056-ffef-4c96-825f-b3f72c0e2f75"
      },
      "id": "Dw8HIen6lU_Z",
      "execution_count": null,
      "outputs": [
        {
          "output_type": "execute_result",
          "data": {
            "text/html": [
              "\n",
              "  <div id=\"df-2d0c7fbc-c86c-4983-a2db-e3f3da2c9874\">\n",
              "    <div class=\"colab-df-container\">\n",
              "      <div>\n",
              "<style scoped>\n",
              "    .dataframe tbody tr th:only-of-type {\n",
              "        vertical-align: middle;\n",
              "    }\n",
              "\n",
              "    .dataframe tbody tr th {\n",
              "        vertical-align: top;\n",
              "    }\n",
              "\n",
              "    .dataframe thead th {\n",
              "        text-align: right;\n",
              "    }\n",
              "</style>\n",
              "<table border=\"1\" class=\"dataframe\">\n",
              "  <thead>\n",
              "    <tr style=\"text-align: right;\">\n",
              "      <th></th>\n",
              "      <th>word</th>\n",
              "      <th>n</th>\n",
              "    </tr>\n",
              "  </thead>\n",
              "  <tbody>\n",
              "    <tr>\n",
              "      <th>0</th>\n",
              "      <td>香港</td>\n",
              "      <td>734</td>\n",
              "    </tr>\n",
              "    <tr>\n",
              "      <th>1</th>\n",
              "      <td>加油</td>\n",
              "      <td>66</td>\n",
              "    </tr>\n",
              "    <tr>\n",
              "      <th>2</th>\n",
              "      <td>现在</td>\n",
              "      <td>63</td>\n",
              "    </tr>\n",
              "    <tr>\n",
              "      <th>3</th>\n",
              "      <td>没有</td>\n",
              "      <td>61</td>\n",
              "    </tr>\n",
              "    <tr>\n",
              "      <th>4</th>\n",
              "      <td>问题</td>\n",
              "      <td>46</td>\n",
              "    </tr>\n",
              "  </tbody>\n",
              "</table>\n",
              "</div>\n",
              "      <button class=\"colab-df-convert\" onclick=\"convertToInteractive('df-2d0c7fbc-c86c-4983-a2db-e3f3da2c9874')\"\n",
              "              title=\"Convert this dataframe to an interactive table.\"\n",
              "              style=\"display:none;\">\n",
              "        \n",
              "  <svg xmlns=\"http://www.w3.org/2000/svg\" height=\"24px\"viewBox=\"0 0 24 24\"\n",
              "       width=\"24px\">\n",
              "    <path d=\"M0 0h24v24H0V0z\" fill=\"none\"/>\n",
              "    <path d=\"M18.56 5.44l.94 2.06.94-2.06 2.06-.94-2.06-.94-.94-2.06-.94 2.06-2.06.94zm-11 1L8.5 8.5l.94-2.06 2.06-.94-2.06-.94L8.5 2.5l-.94 2.06-2.06.94zm10 10l.94 2.06.94-2.06 2.06-.94-2.06-.94-.94-2.06-.94 2.06-2.06.94z\"/><path d=\"M17.41 7.96l-1.37-1.37c-.4-.4-.92-.59-1.43-.59-.52 0-1.04.2-1.43.59L10.3 9.45l-7.72 7.72c-.78.78-.78 2.05 0 2.83L4 21.41c.39.39.9.59 1.41.59.51 0 1.02-.2 1.41-.59l7.78-7.78 2.81-2.81c.8-.78.8-2.07 0-2.86zM5.41 20L4 18.59l7.72-7.72 1.47 1.35L5.41 20z\"/>\n",
              "  </svg>\n",
              "      </button>\n",
              "      \n",
              "  <style>\n",
              "    .colab-df-container {\n",
              "      display:flex;\n",
              "      flex-wrap:wrap;\n",
              "      gap: 12px;\n",
              "    }\n",
              "\n",
              "    .colab-df-convert {\n",
              "      background-color: #E8F0FE;\n",
              "      border: none;\n",
              "      border-radius: 50%;\n",
              "      cursor: pointer;\n",
              "      display: none;\n",
              "      fill: #1967D2;\n",
              "      height: 32px;\n",
              "      padding: 0 0 0 0;\n",
              "      width: 32px;\n",
              "    }\n",
              "\n",
              "    .colab-df-convert:hover {\n",
              "      background-color: #E2EBFA;\n",
              "      box-shadow: 0px 1px 2px rgba(60, 64, 67, 0.3), 0px 1px 3px 1px rgba(60, 64, 67, 0.15);\n",
              "      fill: #174EA6;\n",
              "    }\n",
              "\n",
              "    [theme=dark] .colab-df-convert {\n",
              "      background-color: #3B4455;\n",
              "      fill: #D2E3FC;\n",
              "    }\n",
              "\n",
              "    [theme=dark] .colab-df-convert:hover {\n",
              "      background-color: #434B5C;\n",
              "      box-shadow: 0px 1px 3px 1px rgba(0, 0, 0, 0.15);\n",
              "      filter: drop-shadow(0px 1px 2px rgba(0, 0, 0, 0.3));\n",
              "      fill: #FFFFFF;\n",
              "    }\n",
              "  </style>\n",
              "\n",
              "      <script>\n",
              "        const buttonEl =\n",
              "          document.querySelector('#df-2d0c7fbc-c86c-4983-a2db-e3f3da2c9874 button.colab-df-convert');\n",
              "        buttonEl.style.display =\n",
              "          google.colab.kernel.accessAllowed ? 'block' : 'none';\n",
              "\n",
              "        async function convertToInteractive(key) {\n",
              "          const element = document.querySelector('#df-2d0c7fbc-c86c-4983-a2db-e3f3da2c9874');\n",
              "          const dataTable =\n",
              "            await google.colab.kernel.invokeFunction('convertToInteractive',\n",
              "                                                     [key], {});\n",
              "          if (!dataTable) return;\n",
              "\n",
              "          const docLinkHtml = 'Like what you see? Visit the ' +\n",
              "            '<a target=\"_blank\" href=https://colab.research.google.com/notebooks/data_table.ipynb>data table notebook</a>'\n",
              "            + ' to learn more about interactive tables.';\n",
              "          element.innerHTML = '';\n",
              "          dataTable['output_type'] = 'display_data';\n",
              "          await google.colab.output.renderOutput(dataTable, element);\n",
              "          const docLink = document.createElement('div');\n",
              "          docLink.innerHTML = docLinkHtml;\n",
              "          element.appendChild(docLink);\n",
              "        }\n",
              "      </script>\n",
              "    </div>\n",
              "  </div>\n",
              "  "
            ],
            "text/plain": [
              "  word    n\n",
              "0   香港  734\n",
              "1   加油   66\n",
              "2   现在   63\n",
              "3   没有   61\n",
              "4   问题   46"
            ]
          },
          "metadata": {},
          "execution_count": 291
        }
      ]
    },
    {
      "cell_type": "code",
      "source": [
        "import seaborn as sns\n",
        "import matplotlib.pyplot as plt\n",
        "plt.rcParams['font.family'] = ['Heiti TC']"
      ],
      "metadata": {
        "id": "sIVSJxlPlZtS"
      },
      "id": "sIVSJxlPlZtS",
      "execution_count": null,
      "outputs": []
    },
    {
      "cell_type": "code",
      "source": [
        "for clu in range(true_k):\n",
        "    df1 = pd.DataFrame(list(cdict[clu].most_common(30)), columns = ['word', 'n'])\n",
        "    plt.figure(figsize=(6, 8), dpi=120) \n",
        "    print(df1)\n",
        "    df_data = df1.sort_values('n', ascending=False)\n",
        "    #print(df_data)\n",
        "    # sns.barplot(x='n', \n",
        "    #             y='word', \n",
        "    #             data=df_data, \n",
        "    #             label='word', \n",
        "    #             color='royalblue',\n",
        "    #            )"
      ],
      "metadata": {
        "colab": {
          "base_uri": "https://localhost:8080/",
          "height": 1000
        },
        "id": "dB7gh2luleb-",
        "outputId": "4ee3c4e0-2f24-4204-cb44-dae59b8eda44"
      },
      "id": "dB7gh2luleb-",
      "execution_count": null,
      "outputs": [
        {
          "output_type": "stream",
          "name": "stdout",
          "text": [
            "   word    n\n",
            "0    香港  734\n",
            "1    加油   66\n",
            "2    现在   63\n",
            "3    没有   61\n",
            "4    问题   46\n",
            "5    大陆   41\n",
            "6    台湾   39\n",
            "7    一个   39\n",
            "8     住   38\n",
            "9     说   37\n",
            "10   警察   37\n",
            "11    没   37\n",
            "12  年轻人   36\n",
            "13   中国   33\n",
            "14   生活   33\n",
            "15   不要   32\n",
            "16  台湾人   30\n",
            "17   房子   30\n",
            "18    做   30\n",
            "19   政府   29\n",
            "20   希望   27\n",
            "21   房价   27\n",
            "22   知道   26\n",
            "23    太   26\n",
            "24    会   25\n",
            "25   新闻   24\n",
            "26   真的   24\n",
            "27   中共   23\n",
            "28   喜欢   21\n",
            "29   不会   21\n",
            "   word    n\n",
            "0     说  362\n",
            "1     会  328\n",
            "2    真的  266\n",
            "3    没有  258\n",
            "4     没  214\n",
            "5    节目  198\n",
            "6    不要  196\n",
            "7    知道  182\n",
            "8    医师  179\n",
            "9    一个  166\n",
            "10    做  163\n",
            "11   一直  143\n",
            "12    黄  137\n",
            "13   觉得  126\n",
            "14   现在  124\n",
            "15    ⋯  119\n",
            "16    讲  119\n",
            "17   应该  117\n",
            "18   女人  117\n",
            "19    想  116\n",
            "20   这种  114\n",
            "21    妳  112\n",
            "22   不会  110\n",
            "23    太  106\n",
            "24   问题  101\n",
            "25   已经   99\n",
            "26   男人   99\n",
            "27   很多   96\n",
            "28   父母   96\n",
            "29   可能   94\n",
            "    word    n\n",
            "0     台湾  582\n",
            "1     香港   84\n",
            "2      会   48\n",
            "3     真的   44\n",
            "4      说   38\n",
            "5     一个   33\n",
            "6    台湾人   31\n",
            "7     节目   30\n",
            "8   \\r\\n   30\n",
            "9      没   29\n",
            "10    中国   28\n",
            "11     更   27\n",
            "12    运气   27\n",
            "13    总统   26\n",
            "14    没有   24\n",
            "15    加油   24\n",
            "16    不会   24\n",
            "17     讲   22\n",
            "18    US   21\n",
            "19    现在   20\n",
            "20     请   20\n",
            "21    很多   19\n",
            "22    人民   19\n",
            "23     黄   19\n",
            "24    日本   19\n",
            "25    其实   18\n",
            "26    媒体   18\n",
            "27   主持人   18\n",
            "28   ...   18\n",
            "29    大陆   17\n",
            "   word    n\n",
            "0    中国  275\n",
            "1    香港   92\n",
            "2    台湾   57\n",
            "3     说   49\n",
            "4     会   34\n",
            "5    一个   33\n",
            "6     买   32\n",
            "7     做   27\n",
            "8     想   27\n",
            "9    国家   24\n",
            "10        24\n",
            "11   觉得   23\n",
            "12   美国   21\n",
            "13   知道   20\n",
            "14   现在   20\n",
            "15   很多   19\n",
            "16    爱   19\n",
            "17   问题   18\n",
            "18   自由   18\n",
            "19   媒体   17\n",
            "20   没有   17\n",
            "21  台湾人   15\n",
            "22   榨菜   15\n",
            "23   封锁   15\n",
            "24   节目   14\n",
            "25   不会   14\n",
            "26    钱   14\n",
            "27    没   13\n",
            "28   经济   13\n",
            "29    中   13\n"
          ]
        },
        {
          "output_type": "display_data",
          "data": {
            "text/plain": [
              "<Figure size 720x960 with 0 Axes>"
            ]
          },
          "metadata": {}
        },
        {
          "output_type": "display_data",
          "data": {
            "text/plain": [
              "<Figure size 720x960 with 0 Axes>"
            ]
          },
          "metadata": {}
        },
        {
          "output_type": "display_data",
          "data": {
            "text/plain": [
              "<Figure size 720x960 with 0 Axes>"
            ]
          },
          "metadata": {}
        },
        {
          "output_type": "display_data",
          "data": {
            "text/plain": [
              "<Figure size 720x960 with 0 Axes>"
            ]
          },
          "metadata": {}
        }
      ]
    },
    {
      "cell_type": "markdown",
      "source": [
        "# Conclusion"
      ],
      "metadata": {
        "id": "ggOcdbl8unM4"
      },
      "id": "ggOcdbl8unM4"
    },
    {
      "cell_type": "markdown",
      "source": [
        "之前觀察到跑model5 k=5 分類出一些群集在乎節目 一些在乎醫療議題(？) 兩些在乎政治，嘗試跑model 6針對政治關鍵字，看看能不能區分出政治立場\n",
        "結果在k = 4時針的好像大概切出來了，\n",
        "可以由上述結果看出，\n",
        "\n",
        "\n",
        "*   第一群立場傾中\n",
        "*   第二群與政治無關\n",
        "*   第三群中立偏向支持香港\n",
        "*   第四群支持香港\n",
        "\n",
        "\n",
        "\n",
        "\n",
        "\n",
        "\n"
      ],
      "metadata": {
        "id": "vMMpoZGrtfud"
      },
      "id": "vMMpoZGrtfud"
    },
    {
      "cell_type": "code",
      "source": [
        "%%shell\n",
        "jupyter nbconvert --to html /content/AS09p_Clustering_Youtube_Comments.ipynb"
      ],
      "metadata": {
        "colab": {
          "base_uri": "https://localhost:8080/"
        },
        "id": "VzReJIiJ04lf",
        "outputId": "b6911672-497a-4d71-fb78-8eb57b44353d"
      },
      "id": "VzReJIiJ04lf",
      "execution_count": null,
      "outputs": [
        {
          "output_type": "stream",
          "name": "stdout",
          "text": [
            "[NbConvertApp] Converting notebook /content/AS09p_Clustering_Youtube_Comments.ipynb to html\n",
            "[NbConvertApp] Writing 764837 bytes to /content/AS09p_Clustering_Youtube_Comments.html\n"
          ]
        },
        {
          "output_type": "execute_result",
          "data": {
            "text/plain": [
              ""
            ]
          },
          "metadata": {},
          "execution_count": 297
        }
      ]
    }
  ],
  "metadata": {
    "kernelspec": {
      "display_name": "Python 3",
      "language": "python",
      "name": "python3"
    },
    "language_info": {
      "codemirror_mode": {
        "name": "ipython",
        "version": 3
      },
      "file_extension": ".py",
      "mimetype": "text/x-python",
      "name": "python",
      "nbconvert_exporter": "python",
      "pygments_lexer": "ipython3",
      "version": "3.7.6"
    },
    "colab": {
      "name": "Clustering-Youtube Comments.ipynb",
      "provenance": [],
      "include_colab_link": true
    }
  },
  "nbformat": 4,
  "nbformat_minor": 5
}